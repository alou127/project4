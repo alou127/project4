{
 "cells": [
  {
   "cell_type": "markdown",
   "metadata": {},
   "source": [
    "# Project 4"
   ]
  },
  {
   "cell_type": "code",
   "execution_count": 1,
   "metadata": {},
   "outputs": [],
   "source": [
    "import numpy as np\n",
    "import pandas as pd"
   ]
  },
  {
   "cell_type": "code",
   "execution_count": 2,
   "metadata": {},
   "outputs": [
    {
     "data": {
      "text/plain": [
       "['/Users/alexlou/anaconda3/envs/metis/lib/python3.6/site-packages/requests']"
      ]
     },
     "execution_count": 2,
     "metadata": {},
     "output_type": "execute_result"
    }
   ],
   "source": [
    "import requests\n",
    "requests.__path__"
   ]
  },
  {
   "cell_type": "code",
   "execution_count": 3,
   "metadata": {},
   "outputs": [],
   "source": [
    "url = 'https://www.macys.com/shop/makeup-and-perfume/perfume/Productsperpage/120?id=30087'\n",
    "\n",
    "response = requests.get(url)"
   ]
  },
  {
   "cell_type": "code",
   "execution_count": 4,
   "metadata": {},
   "outputs": [
    {
     "data": {
      "text/plain": [
       "302"
      ]
     },
     "execution_count": 4,
     "metadata": {},
     "output_type": "execute_result"
    }
   ],
   "source": [
    "response.status_code # status code = 200 => OK"
   ]
  },
  {
   "cell_type": "code",
   "execution_count": 5,
   "metadata": {},
   "outputs": [],
   "source": [
    "url_perfume_example = 'https://www.macys.com/shop/product/chanel-coco-mademoiselle-eau-de-parfum-intense-spray-3.4-oz.?ID=5712833&CategoryID=30087#fn=sp%3D1%26spc%3D1458%26ruleId%3D22%7CBOOST%20SAVED%20SET%7CBOOST%20ATTRIBUTE%26searchPass%3DmatchNone%26slotId%3D1'"
   ]
  },
  {
   "cell_type": "code",
   "execution_count": 6,
   "metadata": {},
   "outputs": [
    {
     "data": {
      "text/plain": [
       "302"
      ]
     },
     "execution_count": 6,
     "metadata": {},
     "output_type": "execute_result"
    }
   ],
   "source": [
    "response2 = requests.get(url)\n",
    "response2.status_code"
   ]
  },
  {
   "cell_type": "code",
   "execution_count": 7,
   "metadata": {},
   "outputs": [],
   "source": [
    "perfume_ls = []\n",
    "url_page1 = 'https://www.macys.com/shop/makeup-and-perfume/perfume/Productsperpage/120?id=30087'\n",
    "perfume_ls.append(url_page1)"
   ]
  },
  {
   "cell_type": "code",
   "execution_count": 8,
   "metadata": {},
   "outputs": [
    {
     "data": {
      "text/plain": [
       "['https://www.macys.com/shop/makeup-and-perfume/perfume/Productsperpage/120?id=30087']"
      ]
     },
     "execution_count": 8,
     "metadata": {},
     "output_type": "execute_result"
    }
   ],
   "source": [
    "perfume_ls"
   ]
  },
  {
   "cell_type": "code",
   "execution_count": 9,
   "metadata": {},
   "outputs": [],
   "source": [
    "for page_num in range(2,14):\n",
    "    url_page = 'https://www.macys.com/shop/makeup-and-perfume/perfume/Pageindex,Productsperpage/{},120?id=30087'.format(page_num)\n",
    "    perfume_ls.append(url_page)"
   ]
  },
  {
   "cell_type": "code",
   "execution_count": 10,
   "metadata": {},
   "outputs": [
    {
     "data": {
      "text/plain": [
       "['https://www.macys.com/shop/makeup-and-perfume/perfume/Productsperpage/120?id=30087',\n",
       " 'https://www.macys.com/shop/makeup-and-perfume/perfume/Pageindex,Productsperpage/2,120?id=30087',\n",
       " 'https://www.macys.com/shop/makeup-and-perfume/perfume/Pageindex,Productsperpage/3,120?id=30087',\n",
       " 'https://www.macys.com/shop/makeup-and-perfume/perfume/Pageindex,Productsperpage/4,120?id=30087',\n",
       " 'https://www.macys.com/shop/makeup-and-perfume/perfume/Pageindex,Productsperpage/5,120?id=30087',\n",
       " 'https://www.macys.com/shop/makeup-and-perfume/perfume/Pageindex,Productsperpage/6,120?id=30087',\n",
       " 'https://www.macys.com/shop/makeup-and-perfume/perfume/Pageindex,Productsperpage/7,120?id=30087',\n",
       " 'https://www.macys.com/shop/makeup-and-perfume/perfume/Pageindex,Productsperpage/8,120?id=30087',\n",
       " 'https://www.macys.com/shop/makeup-and-perfume/perfume/Pageindex,Productsperpage/9,120?id=30087',\n",
       " 'https://www.macys.com/shop/makeup-and-perfume/perfume/Pageindex,Productsperpage/10,120?id=30087',\n",
       " 'https://www.macys.com/shop/makeup-and-perfume/perfume/Pageindex,Productsperpage/11,120?id=30087',\n",
       " 'https://www.macys.com/shop/makeup-and-perfume/perfume/Pageindex,Productsperpage/12,120?id=30087',\n",
       " 'https://www.macys.com/shop/makeup-and-perfume/perfume/Pageindex,Productsperpage/13,120?id=30087']"
      ]
     },
     "execution_count": 10,
     "metadata": {},
     "output_type": "execute_result"
    }
   ],
   "source": [
    "perfume_ls"
   ]
  },
  {
   "cell_type": "code",
   "execution_count": 11,
   "metadata": {},
   "outputs": [],
   "source": [
    "cols = ['description','price','designer','frag_name']\n",
    "df_perfume = pd.DataFrame(columns=cols)"
   ]
  },
  {
   "cell_type": "code",
   "execution_count": 12,
   "metadata": {},
   "outputs": [
    {
     "data": {
      "text/html": [
       "<div>\n",
       "<style scoped>\n",
       "    .dataframe tbody tr th:only-of-type {\n",
       "        vertical-align: middle;\n",
       "    }\n",
       "\n",
       "    .dataframe tbody tr th {\n",
       "        vertical-align: top;\n",
       "    }\n",
       "\n",
       "    .dataframe thead th {\n",
       "        text-align: right;\n",
       "    }\n",
       "</style>\n",
       "<table border=\"1\" class=\"dataframe\">\n",
       "  <thead>\n",
       "    <tr style=\"text-align: right;\">\n",
       "      <th></th>\n",
       "      <th>description</th>\n",
       "      <th>price</th>\n",
       "      <th>designer</th>\n",
       "      <th>frag_name</th>\n",
       "    </tr>\n",
       "  </thead>\n",
       "  <tbody>\n",
       "  </tbody>\n",
       "</table>\n",
       "</div>"
      ],
      "text/plain": [
       "Empty DataFrame\n",
       "Columns: [description, price, designer, frag_name]\n",
       "Index: []"
      ]
     },
     "execution_count": 12,
     "metadata": {},
     "output_type": "execute_result"
    }
   ],
   "source": [
    "df_perfume"
   ]
  },
  {
   "cell_type": "code",
   "execution_count": 13,
   "metadata": {},
   "outputs": [],
   "source": [
    "url = 'https://www.macys.com/shop/makeup-and-perfume/perfume/Pageindex,Productsperpage/2,120?id=30087'"
   ]
  },
  {
   "cell_type": "code",
   "execution_count": 14,
   "metadata": {},
   "outputs": [],
   "source": [
    "from bs4 import BeautifulSoup"
   ]
  },
  {
   "cell_type": "code",
   "execution_count": 15,
   "metadata": {},
   "outputs": [],
   "source": [
    "response = requests.get(url)"
   ]
  },
  {
   "cell_type": "code",
   "execution_count": 16,
   "metadata": {
    "scrolled": true
   },
   "outputs": [
    {
     "name": "stdout",
     "output_type": "stream",
     "text": [
      "\r\n",
      "<HTML><HEAD>\r\n",
      "<TITLE>Access Denied</TITLE>\r\n",
      "</HEAD><BODY>\r\n",
      "<H1>Access Denied</H1>\r\n",
      "\r\n",
      "You don't have permission to access the requested URL on this server.\r\n",
      "<P>Reference: 18.5e2e2017.1565755708.71f0dcf</P>\r\n",
      "</BODY>\r\n",
      "</HTML>\n"
     ]
    }
   ],
   "source": [
    "print(response.text)"
   ]
  },
  {
   "cell_type": "markdown",
   "metadata": {},
   "source": [
    "### Need to use Selenium to get around the javascript. Nice try Macy's webdevs..\n",
    "\n",
    "---\n",
    "\n",
    "Let's get the perfume urls for 1 of the 13 pages first."
   ]
  },
  {
   "cell_type": "code",
   "execution_count": 17,
   "metadata": {},
   "outputs": [],
   "source": [
    "from selenium import webdriver\n",
    "from selenium.webdriver.common.keys import Keys\n",
    "import time\n",
    "import chromedriver_binary"
   ]
  },
  {
   "cell_type": "code",
   "execution_count": 18,
   "metadata": {},
   "outputs": [],
   "source": [
    "url = 'https://www.macys.com/shop/makeup-and-perfume/perfume/Pageindex,Productsperpage/2,120?id=30087'"
   ]
  },
  {
   "cell_type": "code",
   "execution_count": 19,
   "metadata": {
    "scrolled": false
   },
   "outputs": [],
   "source": [
    "#type(driver.find_elements_by_xpath('.//a'))"
   ]
  },
  {
   "cell_type": "code",
   "execution_count": 20,
   "metadata": {},
   "outputs": [],
   "source": [
    "z = 'https://www.macys.com/shop/product/'"
   ]
  },
  {
   "cell_type": "code",
   "execution_count": 21,
   "metadata": {},
   "outputs": [
    {
     "data": {
      "text/plain": [
       "'https://www.macys.com/shop/product/'"
      ]
     },
     "execution_count": 21,
     "metadata": {},
     "output_type": "execute_result"
    }
   ],
   "source": [
    "z[0:35]"
   ]
  },
  {
   "cell_type": "code",
   "execution_count": 22,
   "metadata": {},
   "outputs": [],
   "source": [
    "driver = webdriver.Chrome()\n",
    "driver.get(url)\n",
    "soup_selenium = BeautifulSoup(driver.page_source)\n",
    "\n",
    "massive_list=[]\n",
    "for a in driver.find_elements_by_xpath('.//a'):\n",
    "    massive_list.append(a.get_attribute('href'))"
   ]
  },
  {
   "cell_type": "code",
   "execution_count": 23,
   "metadata": {},
   "outputs": [
    {
     "data": {
      "text/plain": [
       "str"
      ]
     },
     "execution_count": 23,
     "metadata": {},
     "output_type": "execute_result"
    }
   ],
   "source": [
    "z = massive_list\n",
    "type(z[1])"
   ]
  },
  {
   "cell_type": "code",
   "execution_count": 24,
   "metadata": {},
   "outputs": [],
   "source": [
    "prada = z[-100]"
   ]
  },
  {
   "cell_type": "code",
   "execution_count": 25,
   "metadata": {},
   "outputs": [
    {
     "data": {
      "text/plain": [
       "'https://www.macys.com/shop/product/'"
      ]
     },
     "execution_count": 25,
     "metadata": {},
     "output_type": "execute_result"
    }
   ],
   "source": [
    "prada[0:35]"
   ]
  },
  {
   "cell_type": "code",
   "execution_count": 26,
   "metadata": {},
   "outputs": [
    {
     "name": "stdout",
     "output_type": "stream",
     "text": [
      "https://www.macys.com/shop/product/dolce-gabbana-light-blue-eau-de-toilette-spray-1.6-oz.?ID=77353&CategoryID=30087#fn=sp%3D2%26spc%3D1447%26ruleId%3D22%7CBOOST%20SAVED%20SET%7CBOOST%20ATTRIBUTE%26searchPass%3DmatchNone%26slotId%3D107\n"
     ]
    }
   ],
   "source": [
    "if prada[:35] == 'https://www.macys.com/shop/product/':\n",
    "    print(prada)"
   ]
  },
  {
   "cell_type": "code",
   "execution_count": 27,
   "metadata": {},
   "outputs": [],
   "source": [
    "test = 'https://www.macys.com/shop/product/'"
   ]
  },
  {
   "cell_type": "code",
   "execution_count": 28,
   "metadata": {
    "scrolled": true
   },
   "outputs": [
    {
     "data": {
      "text/plain": [
       "'https://www.macys.com/shop/prod'"
      ]
     },
     "execution_count": 28,
     "metadata": {},
     "output_type": "execute_result"
    }
   ],
   "source": [
    "test[:31]"
   ]
  },
  {
   "cell_type": "code",
   "execution_count": 29,
   "metadata": {},
   "outputs": [],
   "source": [
    "massive_list_strings = [str(i) for i in massive_list]"
   ]
  },
  {
   "cell_type": "code",
   "execution_count": 30,
   "metadata": {},
   "outputs": [
    {
     "data": {
      "text/plain": [
       "['https://www.macys.com/shop/product/mugler-3-pc.-alien-gift-set?ID=8312007&CategoryID=30087#fn=sp%3D2%26spc%3D1447%26ruleId%3D22%7CBOOST%20SAVED%20SET%7CBOOST%20ATTRIBUTE%26searchPass%3DmatchNone%26slotId%3D103',\n",
       " 'https://www.macys.com/shop/product/mugler-3-pc.-alien-gift-set?ID=8312007&CategoryID=30087#fn=sp%3D2%26spc%3D1447%26ruleId%3D22%7CBOOST%20SAVED%20SET%7CBOOST%20ATTRIBUTE%26searchPass%3DmatchNone%26slotId%3D103',\n",
       " 'https://www.macys.com/shop/similar-products/Pageindex,Productsperpage/2,120?productId=8312007&imageId=11710688&CategoryID=30087&modelId=pros&cm_sp=MLT_RESP-_-pros-_-11710688_8312007&lid=more_like_this-pros-11710688-8312007',\n",
       " 'https://www.macys.com/shop/product/ralph-lauren-blue-eau-de-toilette-spray-4.2-oz.?ID=104702&CategoryID=30087#fn=sp%3D2%26spc%3D1447%26ruleId%3D22%7CBOOST%20SAVED%20SET%7CBOOST%20ATTRIBUTE%26searchPass%3DmatchNone%26slotId%3D104',\n",
       " 'https://www.macys.com/shop/product/ralph-lauren-blue-eau-de-toilette-spray-4.2-oz.?ID=104702&CategoryID=30087#fn=sp%3D2%26spc%3D1447%26ruleId%3D22%7CBOOST%20SAVED%20SET%7CBOOST%20ATTRIBUTE%26searchPass%3DmatchNone%26slotId%3D104',\n",
       " 'https://www.macys.com/shop/similar-products/Pageindex,Productsperpage/2,120?productId=104702&imageId=9064675&CategoryID=30087&modelId=pros&cm_sp=MLT_RESP-_-pros-_-9064675_104702&lid=more_like_this-pros-9064675-104702',\n",
       " 'https://www.macys.com/shop/product/elizabeth-arden-red-door-eau-de-toilette-3.3-oz.?ID=211&CategoryID=30087#fn=sp%3D2%26spc%3D1447%26ruleId%3D22%7CBOOST%20SAVED%20SET%7CBOOST%20ATTRIBUTE%26searchPass%3DmatchNone%26slotId%3D105',\n",
       " 'https://www.macys.com/shop/product/elizabeth-arden-red-door-eau-de-toilette-3.3-oz.?ID=211&CategoryID=30087#fn=sp%3D2%26spc%3D1447%26ruleId%3D22%7CBOOST%20SAVED%20SET%7CBOOST%20ATTRIBUTE%26searchPass%3DmatchNone%26slotId%3D105',\n",
       " 'https://www.macys.com/shop/similar-products/Pageindex,Productsperpage/2,120?productId=211&imageId=10530387&CategoryID=30087&modelId=pros&cm_sp=MLT_RESP-_-pros-_-10530387_211&lid=more_like_this-pros-10530387-211',\n",
       " 'https://www.macys.com/shop/product/clinique-happy-heart-perfume-spray-3.4-fl-oz?ID=92350&CategoryID=30087#fn=sp%3D2%26spc%3D1447%26ruleId%3D22%7CBOOST%20SAVED%20SET%7CBOOST%20ATTRIBUTE%26searchPass%3DmatchNone%26slotId%3D106']"
      ]
     },
     "execution_count": 30,
     "metadata": {},
     "output_type": "execute_result"
    }
   ],
   "source": [
    "massive_list_strings[1500:1510]"
   ]
  },
  {
   "cell_type": "code",
   "execution_count": 31,
   "metadata": {
    "scrolled": true
   },
   "outputs": [
    {
     "name": "stdout",
     "output_type": "stream",
     "text": [
      "https://www.macys.com/shop/product/tory-burch-signature-eau-de-parfum-spray-3.4-oz?ID=1877012&CategoryID=30087#fn=sp%3D2%26spc%3D1447%26ruleId%3D22%7CBOOST%20SAVED%20SET%7CBOOST%20ATTRIBUTE%26searchPass%3DmatchNone%26slotId%3D1\n",
      "https://www.macys.com/shop/product/tory-burch-signature-eau-de-parfum-spray-3.4-oz?ID=1877012&CategoryID=30087#fn=sp%3D2%26spc%3D1447%26ruleId%3D22%7CBOOST%20SAVED%20SET%7CBOOST%20ATTRIBUTE%26searchPass%3DmatchNone%26slotId%3D1\n",
      "https://www.macys.com/shop/product/issey-miyake-leau-dissey-pure-eau-de-parfum-3-oz?ID=2823737&CategoryID=30087#fn=sp%3D2%26spc%3D1447%26ruleId%3D22%7CBOOST%20SAVED%20SET%7CBOOST%20ATTRIBUTE%26searchPass%3DmatchNone%26slotId%3D2\n",
      "https://www.macys.com/shop/product/issey-miyake-leau-dissey-pure-eau-de-parfum-3-oz?ID=2823737&CategoryID=30087#fn=sp%3D2%26spc%3D1447%26ruleId%3D22%7CBOOST%20SAVED%20SET%7CBOOST%20ATTRIBUTE%26searchPass%3DmatchNone%26slotId%3D2\n",
      "https://www.macys.com/shop/product/donna-karan-3-pc.-cashmere-mist-purse-spray-gift-set?ID=9381478&CategoryID=30087#fn=sp%3D2%26spc%3D1447%26ruleId%3D22%7CBOOST%20SAVED%20SET%7CBOOST%20ATTRIBUTE%26searchPass%3DmatchNone%26slotId%3D3\n",
      "https://www.macys.com/shop/product/donna-karan-3-pc.-cashmere-mist-purse-spray-gift-set?ID=9381478&CategoryID=30087#fn=sp%3D2%26spc%3D1447%26ruleId%3D22%7CBOOST%20SAVED%20SET%7CBOOST%20ATTRIBUTE%26searchPass%3DmatchNone%26slotId%3D3\n",
      "https://www.macys.com/shop/product/michael-kors-twilight-shimmer-limited-edition-eau-de-parfum-spray-3.4-oz.?ID=6465743&CategoryID=30087#fn=sp%3D2%26spc%3D1447%26ruleId%3D22%7CBOOST%20SAVED%20SET%7CBOOST%20ATTRIBUTE%26searchPass%3DmatchNone%26slotId%3D4\n",
      "https://www.macys.com/shop/product/michael-kors-twilight-shimmer-limited-edition-eau-de-parfum-spray-3.4-oz.?ID=6465743&CategoryID=30087#fn=sp%3D2%26spc%3D1447%26ruleId%3D22%7CBOOST%20SAVED%20SET%7CBOOST%20ATTRIBUTE%26searchPass%3DmatchNone%26slotId%3D4\n",
      "https://www.macys.com/shop/product/michael-kors-wonderlust-eau-de-parfum-spray-3.4-oz?ID=2894349&CategoryID=30087#fn=sp%3D2%26spc%3D1447%26ruleId%3D22%7CBOOST%20SAVED%20SET%7CBOOST%20ATTRIBUTE%26searchPass%3DmatchNone%26slotId%3D5\n",
      "https://www.macys.com/shop/product/michael-kors-wonderlust-eau-de-parfum-spray-3.4-oz?ID=2894349&CategoryID=30087#fn=sp%3D2%26spc%3D1447%26ruleId%3D22%7CBOOST%20SAVED%20SET%7CBOOST%20ATTRIBUTE%26searchPass%3DmatchNone%26slotId%3D5\n",
      "https://www.macys.com/shop/product/michael-kors-eau-de-parfum-spray-3.4-oz?ID=60550&CategoryID=30087#fn=sp%3D2%26spc%3D1447%26ruleId%3D22%7CBOOST%20SAVED%20SET%7CBOOST%20ATTRIBUTE%26searchPass%3DmatchNone%26slotId%3D6\n",
      "https://www.macys.com/shop/product/michael-kors-eau-de-parfum-spray-3.4-oz?ID=60550&CategoryID=30087#fn=sp%3D2%26spc%3D1447%26ruleId%3D22%7CBOOST%20SAVED%20SET%7CBOOST%20ATTRIBUTE%26searchPass%3DmatchNone%26slotId%3D6\n",
      "https://www.macys.com/shop/product/coach-floral-eau-de-parfum-spray-3-oz.?ID=5641588&CategoryID=30087#fn=sp%3D2%26spc%3D1447%26ruleId%3D22%7CBOOST%20SAVED%20SET%7CBOOST%20ATTRIBUTE%26searchPass%3DmatchNone%26slotId%3D7\n",
      "https://www.macys.com/shop/product/coach-floral-eau-de-parfum-spray-3-oz.?ID=5641588&CategoryID=30087#fn=sp%3D2%26spc%3D1447%26ruleId%3D22%7CBOOST%20SAVED%20SET%7CBOOST%20ATTRIBUTE%26searchPass%3DmatchNone%26slotId%3D7\n",
      "https://www.macys.com/shop/product/versace-2-pc.-bright-crystal-eau-de-toilette-gift-set?ID=9387070&CategoryID=30087#fn=sp%3D2%26spc%3D1447%26ruleId%3D22%7CBOOST%20SAVED%20SET%7CBOOST%20ATTRIBUTE%26searchPass%3DmatchNone%26slotId%3D8\n",
      "https://www.macys.com/shop/product/versace-2-pc.-bright-crystal-eau-de-toilette-gift-set?ID=9387070&CategoryID=30087#fn=sp%3D2%26spc%3D1447%26ruleId%3D22%7CBOOST%20SAVED%20SET%7CBOOST%20ATTRIBUTE%26searchPass%3DmatchNone%26slotId%3D8\n",
      "https://www.macys.com/shop/product/mac-shadescents-perfume-candy-yum-yum?ID=4375395&CategoryID=30087#fn=sp%3D2%26spc%3D1447%26ruleId%3D22%7CBOOST%20SAVED%20SET%7CBOOST%20ATTRIBUTE%26searchPass%3DmatchNone%26slotId%3D9\n",
      "https://www.macys.com/shop/product/mac-shadescents-perfume-candy-yum-yum?ID=4375395&CategoryID=30087#fn=sp%3D2%26spc%3D1447%26ruleId%3D22%7CBOOST%20SAVED%20SET%7CBOOST%20ATTRIBUTE%26searchPass%3DmatchNone%26slotId%3D9\n",
      "https://www.macys.com/shop/product/chanel-chance-eau-tendre-eau-de-toilette-1.7-oz?ID=458661&CategoryID=30087#fn=sp%3D2%26spc%3D1447%26ruleId%3D22%7CBOOST%20SAVED%20SET%7CBOOST%20ATTRIBUTE%26searchPass%3DmatchNone%26slotId%3D10\n",
      "https://www.macys.com/shop/product/chanel-chance-eau-tendre-eau-de-toilette-1.7-oz?ID=458661&CategoryID=30087#fn=sp%3D2%26spc%3D1447%26ruleId%3D22%7CBOOST%20SAVED%20SET%7CBOOST%20ATTRIBUTE%26searchPass%3DmatchNone%26slotId%3D10\n",
      "https://www.macys.com/shop/product/chanel-chance-eau-de-parfum-spray-3.4-oz?ID=185450&CategoryID=30087#fn=sp%3D2%26spc%3D1447%26ruleId%3D22%7CBOOST%20SAVED%20SET%7CBOOST%20ATTRIBUTE%26searchPass%3DmatchNone%26slotId%3D11\n",
      "https://www.macys.com/shop/product/chanel-chance-eau-de-parfum-spray-3.4-oz?ID=185450&CategoryID=30087#fn=sp%3D2%26spc%3D1447%26ruleId%3D22%7CBOOST%20SAVED%20SET%7CBOOST%20ATTRIBUTE%26searchPass%3DmatchNone%26slotId%3D11\n",
      "https://www.macys.com/shop/product/lancome-3-pc.-tresor-mothers-day-gift-set?ID=8763225&CategoryID=30087#fn=sp%3D2%26spc%3D1447%26ruleId%3D22%7CBOOST%20SAVED%20SET%7CBOOST%20ATTRIBUTE%26searchPass%3DmatchNone%26slotId%3D12\n",
      "https://www.macys.com/shop/product/lancome-3-pc.-tresor-mothers-day-gift-set?ID=8763225&CategoryID=30087#fn=sp%3D2%26spc%3D1447%26ruleId%3D22%7CBOOST%20SAVED%20SET%7CBOOST%20ATTRIBUTE%26searchPass%3DmatchNone%26slotId%3D12\n",
      "https://www.macys.com/shop/product/michael-kors-collection-midnight-shimmer-eau-de-parfum-3.4-oz?ID=2816860&CategoryID=30087#fn=sp%3D2%26spc%3D1447%26ruleId%3D22%7CBOOST%20SAVED%20SET%7CBOOST%20ATTRIBUTE%26searchPass%3DmatchNone%26slotId%3D13\n",
      "https://www.macys.com/shop/product/michael-kors-collection-midnight-shimmer-eau-de-parfum-3.4-oz?ID=2816860&CategoryID=30087#fn=sp%3D2%26spc%3D1447%26ruleId%3D22%7CBOOST%20SAVED%20SET%7CBOOST%20ATTRIBUTE%26searchPass%3DmatchNone%26slotId%3D13\n",
      "https://www.macys.com/shop/product/michael-kors-sexy-amber-eau-de-parfum-spray-3.4-oz?ID=886389&CategoryID=30087#fn=sp%3D2%26spc%3D1447%26ruleId%3D22%7CBOOST%20SAVED%20SET%7CBOOST%20ATTRIBUTE%26searchPass%3DmatchNone%26slotId%3D14\n",
      "https://www.macys.com/shop/product/michael-kors-sexy-amber-eau-de-parfum-spray-3.4-oz?ID=886389&CategoryID=30087#fn=sp%3D2%26spc%3D1447%26ruleId%3D22%7CBOOST%20SAVED%20SET%7CBOOST%20ATTRIBUTE%26searchPass%3DmatchNone%26slotId%3D14\n",
      "https://www.macys.com/shop/product/issey-miyake-3-pc.-leau-dissey-eau-de-toilette-gift-set?ID=8875563&CategoryID=30087#fn=sp%3D2%26spc%3D1447%26ruleId%3D22%7CBOOST%20SAVED%20SET%7CBOOST%20ATTRIBUTE%26searchPass%3DmatchNone%26slotId%3D15\n",
      "https://www.macys.com/shop/product/issey-miyake-3-pc.-leau-dissey-eau-de-toilette-gift-set?ID=8875563&CategoryID=30087#fn=sp%3D2%26spc%3D1447%26ruleId%3D22%7CBOOST%20SAVED%20SET%7CBOOST%20ATTRIBUTE%26searchPass%3DmatchNone%26slotId%3D15\n",
      "https://www.macys.com/shop/product/narciso-rodriguez-for-her-fleur-musc-eau-de-parfum-3-pc.-gift-set?ID=8483076&CategoryID=30087#fn=sp%3D2%26spc%3D1447%26ruleId%3D22%7CBOOST%20SAVED%20SET%7CBOOST%20ATTRIBUTE%26searchPass%3DmatchNone%26slotId%3D16\n",
      "https://www.macys.com/shop/product/narciso-rodriguez-for-her-fleur-musc-eau-de-parfum-3-pc.-gift-set?ID=8483076&CategoryID=30087#fn=sp%3D2%26spc%3D1447%26ruleId%3D22%7CBOOST%20SAVED%20SET%7CBOOST%20ATTRIBUTE%26searchPass%3DmatchNone%26slotId%3D16\n",
      "https://www.macys.com/shop/product/calvin-klein-3-pc.-endless-euphoria-for-women-eau-de-parfum-gift-set?ID=8286800&CategoryID=30087#fn=sp%3D2%26spc%3D1447%26ruleId%3D22%7CBOOST%20SAVED%20SET%7CBOOST%20ATTRIBUTE%26searchPass%3DmatchNone%26slotId%3D17\n",
      "https://www.macys.com/shop/product/calvin-klein-3-pc.-endless-euphoria-for-women-eau-de-parfum-gift-set?ID=8286800&CategoryID=30087#fn=sp%3D2%26spc%3D1447%26ruleId%3D22%7CBOOST%20SAVED%20SET%7CBOOST%20ATTRIBUTE%26searchPass%3DmatchNone%26slotId%3D17\n",
      "https://www.macys.com/shop/product/tom-ford-ombre-leather-eau-de-parfum-spray-3.4-oz.?ID=6545567&CategoryID=30087#fn=sp%3D2%26spc%3D1447%26ruleId%3D22%7CBOOST%20SAVED%20SET%7CBOOST%20ATTRIBUTE%26searchPass%3DmatchNone%26slotId%3D18\n",
      "https://www.macys.com/shop/product/tom-ford-ombre-leather-eau-de-parfum-spray-3.4-oz.?ID=6545567&CategoryID=30087#fn=sp%3D2%26spc%3D1447%26ruleId%3D22%7CBOOST%20SAVED%20SET%7CBOOST%20ATTRIBUTE%26searchPass%3DmatchNone%26slotId%3D18\n",
      "https://www.macys.com/shop/product/lancome-tresor-eau-de-parfum-3.4-oz?ID=7251&CategoryID=30087#fn=sp%3D2%26spc%3D1447%26ruleId%3D22%7CBOOST%20SAVED%20SET%7CBOOST%20ATTRIBUTE%26searchPass%3DmatchNone%26slotId%3D19\n",
      "https://www.macys.com/shop/product/lancome-tresor-eau-de-parfum-3.4-oz?ID=7251&CategoryID=30087#fn=sp%3D2%26spc%3D1447%26ruleId%3D22%7CBOOST%20SAVED%20SET%7CBOOST%20ATTRIBUTE%26searchPass%3DmatchNone%26slotId%3D19\n",
      "https://www.macys.com/shop/product/lancome-miracle-eau-de-parfum-3.4-fl-oz?ID=45281&CategoryID=30087#fn=sp%3D2%26spc%3D1447%26ruleId%3D22%7CBOOST%20SAVED%20SET%7CBOOST%20ATTRIBUTE%26searchPass%3DmatchNone%26slotId%3D20\n",
      "https://www.macys.com/shop/product/lancome-miracle-eau-de-parfum-3.4-fl-oz?ID=45281&CategoryID=30087#fn=sp%3D2%26spc%3D1447%26ruleId%3D22%7CBOOST%20SAVED%20SET%7CBOOST%20ATTRIBUTE%26searchPass%3DmatchNone%26slotId%3D20\n",
      "https://www.macys.com/shop/product/marc-jacobs-3-pc.-daisy-gift-set?ID=8157226&CategoryID=30087#fn=sp%3D2%26spc%3D1447%26ruleId%3D22%7CBOOST%20SAVED%20SET%7CBOOST%20ATTRIBUTE%26searchPass%3DmatchNone%26slotId%3D21\n",
      "https://www.macys.com/shop/product/marc-jacobs-3-pc.-daisy-gift-set?ID=8157226&CategoryID=30087#fn=sp%3D2%26spc%3D1447%26ruleId%3D22%7CBOOST%20SAVED%20SET%7CBOOST%20ATTRIBUTE%26searchPass%3DmatchNone%26slotId%3D21\n",
      "https://www.macys.com/shop/product/dolce-gabbana-light-blue-sun-pour-femme-eau-de-toilette-3.3-oz.?ID=8483092&CategoryID=30087#fn=sp%3D2%26spc%3D1447%26ruleId%3D22%7CBOOST%20SAVED%20SET%7CBOOST%20ATTRIBUTE%26searchPass%3DmatchNone%26slotId%3D22\n",
      "https://www.macys.com/shop/product/dolce-gabbana-light-blue-sun-pour-femme-eau-de-toilette-3.3-oz.?ID=8483092&CategoryID=30087#fn=sp%3D2%26spc%3D1447%26ruleId%3D22%7CBOOST%20SAVED%20SET%7CBOOST%20ATTRIBUTE%26searchPass%3DmatchNone%26slotId%3D22\n",
      "https://www.macys.com/shop/product/oscar-de-la-renta-bella-rosa-eau-de-parfum-1.7-oz.?ID=8074868&CategoryID=30087#fn=sp%3D2%26spc%3D1447%26ruleId%3D22%7CBOOST%20SAVED%20SET%7CBOOST%20ATTRIBUTE%26searchPass%3DmatchNone%26slotId%3D23\n",
      "https://www.macys.com/shop/product/oscar-de-la-renta-bella-rosa-eau-de-parfum-1.7-oz.?ID=8074868&CategoryID=30087#fn=sp%3D2%26spc%3D1447%26ruleId%3D22%7CBOOST%20SAVED%20SET%7CBOOST%20ATTRIBUTE%26searchPass%3DmatchNone%26slotId%3D23\n",
      "https://www.macys.com/shop/product/jo-malone-london-3-pc.-fresh-vibrant-gift-set?ID=9978816&CategoryID=30087#fn=sp%3D2%26spc%3D1447%26ruleId%3D22%7CBOOST%20SAVED%20SET%7CBOOST%20ATTRIBUTE%26searchPass%3DmatchNone%26slotId%3D24\n",
      "https://www.macys.com/shop/product/jo-malone-london-3-pc.-fresh-vibrant-gift-set?ID=9978816&CategoryID=30087#fn=sp%3D2%26spc%3D1447%26ruleId%3D22%7CBOOST%20SAVED%20SET%7CBOOST%20ATTRIBUTE%26searchPass%3DmatchNone%26slotId%3D24\n",
      "https://www.macys.com/shop/product/giorgio-armani-si-fiori-eau-de-parfum-spray-3.4-oz.?ID=8244865&CategoryID=30087#fn=sp%3D2%26spc%3D1447%26ruleId%3D22%7CBOOST%20SAVED%20SET%7CBOOST%20ATTRIBUTE%26searchPass%3DmatchNone%26slotId%3D25\n",
      "https://www.macys.com/shop/product/giorgio-armani-si-fiori-eau-de-parfum-spray-3.4-oz.?ID=8244865&CategoryID=30087#fn=sp%3D2%26spc%3D1447%26ruleId%3D22%7CBOOST%20SAVED%20SET%7CBOOST%20ATTRIBUTE%26searchPass%3DmatchNone%26slotId%3D25\n",
      "https://www.macys.com/shop/product/nanette-lepore-3-pc.-beautiful-times-gift-set?ID=8225981&CategoryID=30087#fn=sp%3D2%26spc%3D1447%26ruleId%3D22%7CBOOST%20SAVED%20SET%7CBOOST%20ATTRIBUTE%26searchPass%3DmatchNone%26slotId%3D26\n",
      "https://www.macys.com/shop/product/nanette-lepore-3-pc.-beautiful-times-gift-set?ID=8225981&CategoryID=30087#fn=sp%3D2%26spc%3D1447%26ruleId%3D22%7CBOOST%20SAVED%20SET%7CBOOST%20ATTRIBUTE%26searchPass%3DmatchNone%26slotId%3D26\n",
      "https://www.macys.com/shop/product/versace-3-pc.-dylan-blue-pour-femme-gift-set?ID=8074873&CategoryID=30087#fn=sp%3D2%26spc%3D1447%26ruleId%3D22%7CBOOST%20SAVED%20SET%7CBOOST%20ATTRIBUTE%26searchPass%3DmatchNone%26slotId%3D27\n",
      "https://www.macys.com/shop/product/versace-3-pc.-dylan-blue-pour-femme-gift-set?ID=8074873&CategoryID=30087#fn=sp%3D2%26spc%3D1447%26ruleId%3D22%7CBOOST%20SAVED%20SET%7CBOOST%20ATTRIBUTE%26searchPass%3DmatchNone%26slotId%3D27\n",
      "https://www.macys.com/shop/product/estee-lauder-3-pc.-beautiful-romantic-favorites-gift-set?ID=7268040&CategoryID=30087#fn=sp%3D2%26spc%3D1447%26ruleId%3D22%7CBOOST%20SAVED%20SET%7CBOOST%20ATTRIBUTE%26searchPass%3DmatchNone%26slotId%3D28\n",
      "https://www.macys.com/shop/product/estee-lauder-3-pc.-beautiful-romantic-favorites-gift-set?ID=7268040&CategoryID=30087#fn=sp%3D2%26spc%3D1447%26ruleId%3D22%7CBOOST%20SAVED%20SET%7CBOOST%20ATTRIBUTE%26searchPass%3DmatchNone%26slotId%3D28\n",
      "https://www.macys.com/shop/product/michael-kors-4-pc.-signature-gift-set?ID=9092459&CategoryID=30087#fn=sp%3D2%26spc%3D1447%26ruleId%3D22%7CBOOST%20SAVED%20SET%7CBOOST%20ATTRIBUTE%26searchPass%3DmatchNone%26slotId%3D29\n",
      "https://www.macys.com/shop/product/michael-kors-4-pc.-signature-gift-set?ID=9092459&CategoryID=30087#fn=sp%3D2%26spc%3D1447%26ruleId%3D22%7CBOOST%20SAVED%20SET%7CBOOST%20ATTRIBUTE%26searchPass%3DmatchNone%26slotId%3D29\n",
      "https://www.macys.com/shop/product/elizabeth-arden-white-tea-wild-rose-eau-de-toilette-spray-3.3-oz.?ID=8156528&CategoryID=30087#fn=sp%3D2%26spc%3D1447%26ruleId%3D22%7CBOOST%20SAVED%20SET%7CBOOST%20ATTRIBUTE%26searchPass%3DmatchNone%26slotId%3D30\n",
      "https://www.macys.com/shop/product/elizabeth-arden-white-tea-wild-rose-eau-de-toilette-spray-3.3-oz.?ID=8156528&CategoryID=30087#fn=sp%3D2%26spc%3D1447%26ruleId%3D22%7CBOOST%20SAVED%20SET%7CBOOST%20ATTRIBUTE%26searchPass%3DmatchNone%26slotId%3D30\n",
      "https://www.macys.com/shop/product/chanel-gabrielle-chanel-eau-de-parfum-spray-3.4-oz.?ID=4817008&CategoryID=30087#fn=sp%3D2%26spc%3D1447%26ruleId%3D22%7CBOOST%20SAVED%20SET%7CBOOST%20ATTRIBUTE%26searchPass%3DmatchNone%26slotId%3D31\n",
      "https://www.macys.com/shop/product/chanel-gabrielle-chanel-eau-de-parfum-spray-3.4-oz.?ID=4817008&CategoryID=30087#fn=sp%3D2%26spc%3D1447%26ruleId%3D22%7CBOOST%20SAVED%20SET%7CBOOST%20ATTRIBUTE%26searchPass%3DmatchNone%26slotId%3D31\n",
      "https://www.macys.com/shop/product/chanel-allure-parfum-.25-oz?ID=74668&CategoryID=30087#fn=sp%3D2%26spc%3D1447%26ruleId%3D22%7CBOOST%20SAVED%20SET%7CBOOST%20ATTRIBUTE%26searchPass%3DmatchNone%26slotId%3D32\n",
      "https://www.macys.com/shop/product/chanel-allure-parfum-.25-oz?ID=74668&CategoryID=30087#fn=sp%3D2%26spc%3D1447%26ruleId%3D22%7CBOOST%20SAVED%20SET%7CBOOST%20ATTRIBUTE%26searchPass%3DmatchNone%26slotId%3D32\n",
      "https://www.macys.com/shop/product/jimmy-choo-floral-eau-de-toilette-4-pc-gift-set?ID=8313428&CategoryID=30087#fn=sp%3D2%26spc%3D1447%26ruleId%3D22%7CBOOST%20SAVED%20SET%7CBOOST%20ATTRIBUTE%26searchPass%3DmatchNone%26slotId%3D33\n",
      "https://www.macys.com/shop/product/jimmy-choo-floral-eau-de-toilette-4-pc-gift-set?ID=8313428&CategoryID=30087#fn=sp%3D2%26spc%3D1447%26ruleId%3D22%7CBOOST%20SAVED%20SET%7CBOOST%20ATTRIBUTE%26searchPass%3DmatchNone%26slotId%3D33\n",
      "https://www.macys.com/shop/product/juicy-couture-viva-la-juicy-eau-de-parfum-3.4-oz?ID=338208&CategoryID=30087#fn=sp%3D2%26spc%3D1447%26ruleId%3D22%7CBOOST%20SAVED%20SET%7CBOOST%20ATTRIBUTE%26searchPass%3DmatchNone%26slotId%3D34\n",
      "https://www.macys.com/shop/product/juicy-couture-viva-la-juicy-eau-de-parfum-3.4-oz?ID=338208&CategoryID=30087#fn=sp%3D2%26spc%3D1447%26ruleId%3D22%7CBOOST%20SAVED%20SET%7CBOOST%20ATTRIBUTE%26searchPass%3DmatchNone%26slotId%3D34\n",
      "https://www.macys.com/shop/product/narciso-rodriguez-3-pc.-for-her-deluxe-mini-gift-set?ID=9434962&CategoryID=30087#fn=sp%3D2%26spc%3D1447%26ruleId%3D22%7CBOOST%20SAVED%20SET%7CBOOST%20ATTRIBUTE%26searchPass%3DmatchNone%26slotId%3D35\n",
      "https://www.macys.com/shop/product/narciso-rodriguez-3-pc.-for-her-deluxe-mini-gift-set?ID=9434962&CategoryID=30087#fn=sp%3D2%26spc%3D1447%26ruleId%3D22%7CBOOST%20SAVED%20SET%7CBOOST%20ATTRIBUTE%26searchPass%3DmatchNone%26slotId%3D35\n",
      "https://www.macys.com/shop/product/guerlain-mon-guerlain-bloom-of-rose-eau-de-toilette-3.3-oz.?ID=8423241&CategoryID=30087#fn=sp%3D2%26spc%3D1447%26ruleId%3D22%7CBOOST%20SAVED%20SET%7CBOOST%20ATTRIBUTE%26searchPass%3DmatchNone%26slotId%3D36\n",
      "https://www.macys.com/shop/product/guerlain-mon-guerlain-bloom-of-rose-eau-de-toilette-3.3-oz.?ID=8423241&CategoryID=30087#fn=sp%3D2%26spc%3D1447%26ruleId%3D22%7CBOOST%20SAVED%20SET%7CBOOST%20ATTRIBUTE%26searchPass%3DmatchNone%26slotId%3D36\n",
      "https://www.macys.com/shop/product/jimmy-choo-leau-4-pc-gift-set?ID=6640346&CategoryID=30087#fn=sp%3D2%26spc%3D1447%26ruleId%3D22%7CBOOST%20SAVED%20SET%7CBOOST%20ATTRIBUTE%26searchPass%3DmatchNone%26slotId%3D37\n",
      "https://www.macys.com/shop/product/jimmy-choo-leau-4-pc-gift-set?ID=6640346&CategoryID=30087#fn=sp%3D2%26spc%3D1447%26ruleId%3D22%7CBOOST%20SAVED%20SET%7CBOOST%20ATTRIBUTE%26searchPass%3DmatchNone%26slotId%3D37\n",
      "https://www.macys.com/shop/product/marc-jacobs-3-pc.-daisy-dream-gift-set?ID=8157228&CategoryID=30087#fn=sp%3D2%26spc%3D1447%26ruleId%3D22%7CBOOST%20SAVED%20SET%7CBOOST%20ATTRIBUTE%26searchPass%3DmatchNone%26slotId%3D38\n",
      "https://www.macys.com/shop/product/marc-jacobs-3-pc.-daisy-dream-gift-set?ID=8157228&CategoryID=30087#fn=sp%3D2%26spc%3D1447%26ruleId%3D22%7CBOOST%20SAVED%20SET%7CBOOST%20ATTRIBUTE%26searchPass%3DmatchNone%26slotId%3D38\n",
      "https://www.macys.com/shop/product/created-for-macys-5-pc.-the-scents-of-spring-fragrance-gift-set-for-her?ID=8470818&CategoryID=30087#fn=sp%3D2%26spc%3D1447%26ruleId%3D22%7CBOOST%20SAVED%20SET%7CBOOST%20ATTRIBUTE%26searchPass%3DmatchNone%26slotId%3D39\n",
      "https://www.macys.com/shop/product/created-for-macys-5-pc.-the-scents-of-spring-fragrance-gift-set-for-her?ID=8470818&CategoryID=30087#fn=sp%3D2%26spc%3D1447%26ruleId%3D22%7CBOOST%20SAVED%20SET%7CBOOST%20ATTRIBUTE%26searchPass%3DmatchNone%26slotId%3D39\n",
      "https://www.macys.com/shop/product/lancome-la-vie-est-belle-en-rose-eau-de-toilette-1.7-oz.-first-at-macys?ID=8432596&CategoryID=30087#fn=sp%3D2%26spc%3D1447%26ruleId%3D22%7CBOOST%20SAVED%20SET%7CBOOST%20ATTRIBUTE%26searchPass%3DmatchNone%26slotId%3D40\n",
      "https://www.macys.com/shop/product/lancome-la-vie-est-belle-en-rose-eau-de-toilette-1.7-oz.-first-at-macys?ID=8432596&CategoryID=30087#fn=sp%3D2%26spc%3D1447%26ruleId%3D22%7CBOOST%20SAVED%20SET%7CBOOST%20ATTRIBUTE%26searchPass%3DmatchNone%26slotId%3D40\n",
      "https://www.macys.com/shop/product/gucci-2-pc.-bloom-nettare-di-fiori-gift-set?ID=6989131&CategoryID=30087#fn=sp%3D2%26spc%3D1447%26ruleId%3D22%7CBOOST%20SAVED%20SET%7CBOOST%20ATTRIBUTE%26searchPass%3DmatchNone%26slotId%3D41\n",
      "https://www.macys.com/shop/product/gucci-2-pc.-bloom-nettare-di-fiori-gift-set?ID=6989131&CategoryID=30087#fn=sp%3D2%26spc%3D1447%26ruleId%3D22%7CBOOST%20SAVED%20SET%7CBOOST%20ATTRIBUTE%26searchPass%3DmatchNone%26slotId%3D41\n",
      "https://www.macys.com/shop/product/donna-karan-cashmere-mist-eau-de-parfum-spray-3.4-oz?ID=166324&CategoryID=30087#fn=sp%3D2%26spc%3D1447%26ruleId%3D22%7CBOOST%20SAVED%20SET%7CBOOST%20ATTRIBUTE%26searchPass%3DmatchNone%26slotId%3D42\n",
      "https://www.macys.com/shop/product/donna-karan-cashmere-mist-eau-de-parfum-spray-3.4-oz?ID=166324&CategoryID=30087#fn=sp%3D2%26spc%3D1447%26ruleId%3D22%7CBOOST%20SAVED%20SET%7CBOOST%20ATTRIBUTE%26searchPass%3DmatchNone%26slotId%3D42\n",
      "https://www.macys.com/shop/product/kilian-princess-eau-de-parfum-spray-3.4-oz.?ID=9381646&CategoryID=30087#fn=sp%3D2%26spc%3D1447%26ruleId%3D22%7CBOOST%20SAVED%20SET%7CBOOST%20ATTRIBUTE%26searchPass%3DmatchNone%26slotId%3D43\n",
      "https://www.macys.com/shop/product/kilian-princess-eau-de-parfum-spray-3.4-oz.?ID=9381646&CategoryID=30087#fn=sp%3D2%26spc%3D1447%26ruleId%3D22%7CBOOST%20SAVED%20SET%7CBOOST%20ATTRIBUTE%26searchPass%3DmatchNone%26slotId%3D43\n",
      "https://www.macys.com/shop/product/versace-bright-crystal-eau-de-toilette-spray-3-oz.?ID=346887&CategoryID=30087#fn=sp%3D2%26spc%3D1447%26ruleId%3D22%7CBOOST%20SAVED%20SET%7CBOOST%20ATTRIBUTE%26searchPass%3DmatchNone%26slotId%3D44\n",
      "https://www.macys.com/shop/product/versace-bright-crystal-eau-de-toilette-spray-3-oz.?ID=346887&CategoryID=30087#fn=sp%3D2%26spc%3D1447%26ruleId%3D22%7CBOOST%20SAVED%20SET%7CBOOST%20ATTRIBUTE%26searchPass%3DmatchNone%26slotId%3D44\n",
      "https://www.macys.com/shop/product/coach-floral-blush-eau-de-parfum-spray-3-oz.?ID=8425583&CategoryID=30087#fn=sp%3D2%26spc%3D1447%26ruleId%3D22%7CBOOST%20SAVED%20SET%7CBOOST%20ATTRIBUTE%26searchPass%3DmatchNone%26slotId%3D45\n",
      "https://www.macys.com/shop/product/coach-floral-blush-eau-de-parfum-spray-3-oz.?ID=8425583&CategoryID=30087#fn=sp%3D2%26spc%3D1447%26ruleId%3D22%7CBOOST%20SAVED%20SET%7CBOOST%20ATTRIBUTE%26searchPass%3DmatchNone%26slotId%3D45\n",
      "https://www.macys.com/shop/product/dolce-gabbana-3-pc.-light-blue-eau-de-toilette-gift-set?ID=6606565&CategoryID=30087#fn=sp%3D2%26spc%3D1447%26ruleId%3D22%7CBOOST%20SAVED%20SET%7CBOOST%20ATTRIBUTE%26searchPass%3DmatchNone%26slotId%3D46\n",
      "https://www.macys.com/shop/product/dolce-gabbana-3-pc.-light-blue-eau-de-toilette-gift-set?ID=6606565&CategoryID=30087#fn=sp%3D2%26spc%3D1447%26ruleId%3D22%7CBOOST%20SAVED%20SET%7CBOOST%20ATTRIBUTE%26searchPass%3DmatchNone%26slotId%3D46\n",
      "https://www.macys.com/shop/product/created-for-macys-5-pc.-the-scents-of-spring-fragrance-gift-set-for-her?ID=8470819&CategoryID=30087#fn=sp%3D2%26spc%3D1447%26ruleId%3D22%7CBOOST%20SAVED%20SET%7CBOOST%20ATTRIBUTE%26searchPass%3DmatchNone%26slotId%3D47\n",
      "https://www.macys.com/shop/product/created-for-macys-5-pc.-the-scents-of-spring-fragrance-gift-set-for-her?ID=8470819&CategoryID=30087#fn=sp%3D2%26spc%3D1447%26ruleId%3D22%7CBOOST%20SAVED%20SET%7CBOOST%20ATTRIBUTE%26searchPass%3DmatchNone%26slotId%3D47\n",
      "https://www.macys.com/shop/product/juicy-couture-viva-la-juicy-gold-couture-eau-de-parfum-spray-1-oz.?ID=6865925&CategoryID=30087#fn=sp%3D2%26spc%3D1447%26ruleId%3D22%7CBOOST%20SAVED%20SET%7CBOOST%20ATTRIBUTE%26searchPass%3DmatchNone%26slotId%3D48\n",
      "https://www.macys.com/shop/product/juicy-couture-viva-la-juicy-gold-couture-eau-de-parfum-spray-1-oz.?ID=6865925&CategoryID=30087#fn=sp%3D2%26spc%3D1447%26ruleId%3D22%7CBOOST%20SAVED%20SET%7CBOOST%20ATTRIBUTE%26searchPass%3DmatchNone%26slotId%3D48\n",
      "https://www.macys.com/shop/product/burberry-her-blossom-eau-de-toilette-3.3-oz.?ID=9559447&CategoryID=30087#fn=sp%3D2%26spc%3D1447%26ruleId%3D22%7CBOOST%20SAVED%20SET%7CBOOST%20ATTRIBUTE%26searchPass%3DmatchNone%26slotId%3D49\n",
      "https://www.macys.com/shop/product/burberry-her-blossom-eau-de-toilette-3.3-oz.?ID=9559447&CategoryID=30087#fn=sp%3D2%26spc%3D1447%26ruleId%3D22%7CBOOST%20SAVED%20SET%7CBOOST%20ATTRIBUTE%26searchPass%3DmatchNone%26slotId%3D49\n",
      "https://www.macys.com/shop/product/burberry-her-eau-de-parfum-spray-3.3-oz.?ID=6794728&CategoryID=30087#fn=sp%3D2%26spc%3D1447%26ruleId%3D22%7CBOOST%20SAVED%20SET%7CBOOST%20ATTRIBUTE%26searchPass%3DmatchNone%26slotId%3D50\n",
      "https://www.macys.com/shop/product/burberry-her-eau-de-parfum-spray-3.3-oz.?ID=6794728&CategoryID=30087#fn=sp%3D2%26spc%3D1447%26ruleId%3D22%7CBOOST%20SAVED%20SET%7CBOOST%20ATTRIBUTE%26searchPass%3DmatchNone%26slotId%3D50\n",
      "https://www.macys.com/shop/product/prada-candy-eau-de-parfum-spray-2.7-oz.?ID=724310&CategoryID=30087#fn=sp%3D2%26spc%3D1447%26ruleId%3D22%7CBOOST%20SAVED%20SET%7CBOOST%20ATTRIBUTE%26searchPass%3DmatchNone%26slotId%3D51\n",
      "https://www.macys.com/shop/product/prada-candy-eau-de-parfum-spray-2.7-oz.?ID=724310&CategoryID=30087#fn=sp%3D2%26spc%3D1447%26ruleId%3D22%7CBOOST%20SAVED%20SET%7CBOOST%20ATTRIBUTE%26searchPass%3DmatchNone%26slotId%3D51\n",
      "https://www.macys.com/shop/product/narciso-rodriguez-3-pc.-for-her-pure-musc-eau-de-parfum-gift-set?ID=8854748&CategoryID=30087#fn=sp%3D2%26spc%3D1447%26ruleId%3D22%7CBOOST%20SAVED%20SET%7CBOOST%20ATTRIBUTE%26searchPass%3DmatchNone%26slotId%3D52\n",
      "https://www.macys.com/shop/product/narciso-rodriguez-3-pc.-for-her-pure-musc-eau-de-parfum-gift-set?ID=8854748&CategoryID=30087#fn=sp%3D2%26spc%3D1447%26ruleId%3D22%7CBOOST%20SAVED%20SET%7CBOOST%20ATTRIBUTE%26searchPass%3DmatchNone%26slotId%3D52\n",
      "https://www.macys.com/shop/product/versace-3-pc.-dylan-blue-pour-femme-eau-de-parfum-gift-set?ID=9362242&CategoryID=30087#fn=sp%3D2%26spc%3D1447%26ruleId%3D22%7CBOOST%20SAVED%20SET%7CBOOST%20ATTRIBUTE%26searchPass%3DmatchNone%26slotId%3D53\n",
      "https://www.macys.com/shop/product/versace-3-pc.-dylan-blue-pour-femme-eau-de-parfum-gift-set?ID=9362242&CategoryID=30087#fn=sp%3D2%26spc%3D1447%26ruleId%3D22%7CBOOST%20SAVED%20SET%7CBOOST%20ATTRIBUTE%26searchPass%3DmatchNone%26slotId%3D53\n",
      "https://www.macys.com/shop/product/hugo-boss-boss-the-scent-for-her-eau-de-parfum-spray-3.3-oz.-created-for-macys?ID=6741347&CategoryID=30087#fn=sp%3D2%26spc%3D1447%26ruleId%3D22%7CBOOST%20SAVED%20SET%7CBOOST%20ATTRIBUTE%26searchPass%3DmatchNone%26slotId%3D54\n",
      "https://www.macys.com/shop/product/hugo-boss-boss-the-scent-for-her-eau-de-parfum-spray-3.3-oz.-created-for-macys?ID=6741347&CategoryID=30087#fn=sp%3D2%26spc%3D1447%26ruleId%3D22%7CBOOST%20SAVED%20SET%7CBOOST%20ATTRIBUTE%26searchPass%3DmatchNone%26slotId%3D54\n",
      "https://www.macys.com/shop/product/estee-lauder-3-pc.-modern-muse-gift-set?ID=8510664&CategoryID=30087#fn=sp%3D2%26spc%3D1447%26ruleId%3D22%7CBOOST%20SAVED%20SET%7CBOOST%20ATTRIBUTE%26searchPass%3DmatchNone%26slotId%3D55\n",
      "https://www.macys.com/shop/product/estee-lauder-3-pc.-modern-muse-gift-set?ID=8510664&CategoryID=30087#fn=sp%3D2%26spc%3D1447%26ruleId%3D22%7CBOOST%20SAVED%20SET%7CBOOST%20ATTRIBUTE%26searchPass%3DmatchNone%26slotId%3D55\n",
      "https://www.macys.com/shop/product/estee-lauder-white-linen-parfum-spray-3-oz.?ID=75114&CategoryID=30087#fn=sp%3D2%26spc%3D1447%26ruleId%3D22%7CBOOST%20SAVED%20SET%7CBOOST%20ATTRIBUTE%26searchPass%3DmatchNone%26slotId%3D56\n",
      "https://www.macys.com/shop/product/estee-lauder-white-linen-parfum-spray-3-oz.?ID=75114&CategoryID=30087#fn=sp%3D2%26spc%3D1447%26ruleId%3D22%7CBOOST%20SAVED%20SET%7CBOOST%20ATTRIBUTE%26searchPass%3DmatchNone%26slotId%3D56\n",
      "https://www.macys.com/shop/product/chanel-chance-eau-tendre-eau-de-parfum-spray-1.7-oz.?ID=8024913&CategoryID=30087#fn=sp%3D2%26spc%3D1447%26ruleId%3D22%7CBOOST%20SAVED%20SET%7CBOOST%20ATTRIBUTE%26searchPass%3DmatchNone%26slotId%3D57\n",
      "https://www.macys.com/shop/product/chanel-chance-eau-tendre-eau-de-parfum-spray-1.7-oz.?ID=8024913&CategoryID=30087#fn=sp%3D2%26spc%3D1447%26ruleId%3D22%7CBOOST%20SAVED%20SET%7CBOOST%20ATTRIBUTE%26searchPass%3DmatchNone%26slotId%3D57\n",
      "https://www.macys.com/shop/product/estee-lauder-beautiful-belle-refreshing-body-lotion-6.7-oz.?ID=6567854&CategoryID=30087#fn=sp%3D2%26spc%3D1447%26ruleId%3D22%7CBOOST%20SAVED%20SET%7CBOOST%20ATTRIBUTE%26searchPass%3DmatchNone%26slotId%3D58\n",
      "https://www.macys.com/shop/product/estee-lauder-beautiful-belle-refreshing-body-lotion-6.7-oz.?ID=6567854&CategoryID=30087#fn=sp%3D2%26spc%3D1447%26ruleId%3D22%7CBOOST%20SAVED%20SET%7CBOOST%20ATTRIBUTE%26searchPass%3DmatchNone%26slotId%3D58\n",
      "https://www.macys.com/shop/product/kenzo-world-eau-de-parfum-spray-2.5-oz.?ID=4465425&CategoryID=30087#fn=sp%3D2%26spc%3D1447%26ruleId%3D22%7CBOOST%20SAVED%20SET%7CBOOST%20ATTRIBUTE%26searchPass%3DmatchNone%26slotId%3D59\n",
      "https://www.macys.com/shop/product/kenzo-world-eau-de-parfum-spray-2.5-oz.?ID=4465425&CategoryID=30087#fn=sp%3D2%26spc%3D1447%26ruleId%3D22%7CBOOST%20SAVED%20SET%7CBOOST%20ATTRIBUTE%26searchPass%3DmatchNone%26slotId%3D59\n",
      "https://www.macys.com/shop/product/tom-ford-noir-pour-femme-eau-de-parfum-3.4-oz?ID=2284952&CategoryID=30087#fn=sp%3D2%26spc%3D1447%26ruleId%3D22%7CBOOST%20SAVED%20SET%7CBOOST%20ATTRIBUTE%26searchPass%3DmatchNone%26slotId%3D60\n",
      "https://www.macys.com/shop/product/tom-ford-noir-pour-femme-eau-de-parfum-3.4-oz?ID=2284952&CategoryID=30087#fn=sp%3D2%26spc%3D1447%26ruleId%3D22%7CBOOST%20SAVED%20SET%7CBOOST%20ATTRIBUTE%26searchPass%3DmatchNone%26slotId%3D60\n",
      "https://www.macys.com/shop/product/versace-eros-pour-femme-eau-de-toilette-3.4-oz?ID=2893479&CategoryID=30087#fn=sp%3D2%26spc%3D1447%26ruleId%3D22%7CBOOST%20SAVED%20SET%7CBOOST%20ATTRIBUTE%26searchPass%3DmatchNone%26slotId%3D61\n",
      "https://www.macys.com/shop/product/versace-eros-pour-femme-eau-de-toilette-3.4-oz?ID=2893479&CategoryID=30087#fn=sp%3D2%26spc%3D1447%26ruleId%3D22%7CBOOST%20SAVED%20SET%7CBOOST%20ATTRIBUTE%26searchPass%3DmatchNone%26slotId%3D61\n",
      "https://www.macys.com/shop/product/viktor-rolf-flowerbomb-nectar-eau-de-parfum-spray-1.7-oz.?ID=5712325&CategoryID=30087#fn=sp%3D2%26spc%3D1447%26ruleId%3D22%7CBOOST%20SAVED%20SET%7CBOOST%20ATTRIBUTE%26searchPass%3DmatchNone%26slotId%3D62\n",
      "https://www.macys.com/shop/product/viktor-rolf-flowerbomb-nectar-eau-de-parfum-spray-1.7-oz.?ID=5712325&CategoryID=30087#fn=sp%3D2%26spc%3D1447%26ruleId%3D22%7CBOOST%20SAVED%20SET%7CBOOST%20ATTRIBUTE%26searchPass%3DmatchNone%26slotId%3D62\n",
      "https://www.macys.com/shop/product/ralph-lauren-4-pc.-romance-gift-set?ID=8073557&CategoryID=30087#fn=sp%3D2%26spc%3D1447%26ruleId%3D22%7CBOOST%20SAVED%20SET%7CBOOST%20ATTRIBUTE%26searchPass%3DmatchNone%26slotId%3D63\n",
      "https://www.macys.com/shop/product/ralph-lauren-4-pc.-romance-gift-set?ID=8073557&CategoryID=30087#fn=sp%3D2%26spc%3D1447%26ruleId%3D22%7CBOOST%20SAVED%20SET%7CBOOST%20ATTRIBUTE%26searchPass%3DmatchNone%26slotId%3D63\n",
      "https://www.macys.com/shop/product/dior-jadore-eau-de-parfum-spray-3.4-oz?ID=20257&CategoryID=30087#fn=sp%3D2%26spc%3D1447%26ruleId%3D22%7CBOOST%20SAVED%20SET%7CBOOST%20ATTRIBUTE%26searchPass%3DmatchNone%26slotId%3D64\n",
      "https://www.macys.com/shop/product/dior-jadore-eau-de-parfum-spray-3.4-oz?ID=20257&CategoryID=30087#fn=sp%3D2%26spc%3D1447%26ruleId%3D22%7CBOOST%20SAVED%20SET%7CBOOST%20ATTRIBUTE%26searchPass%3DmatchNone%26slotId%3D64\n",
      "https://www.macys.com/shop/product/dior-miss-dior-eau-de-parfum-3-pc.-gift-set?ID=8690907&CategoryID=30087#fn=sp%3D2%26spc%3D1447%26ruleId%3D22%7CBOOST%20SAVED%20SET%7CBOOST%20ATTRIBUTE%26searchPass%3DmatchNone%26slotId%3D65\n",
      "https://www.macys.com/shop/product/dior-miss-dior-eau-de-parfum-3-pc.-gift-set?ID=8690907&CategoryID=30087#fn=sp%3D2%26spc%3D1447%26ruleId%3D22%7CBOOST%20SAVED%20SET%7CBOOST%20ATTRIBUTE%26searchPass%3DmatchNone%26slotId%3D65\n",
      "https://www.macys.com/shop/product/tory-burch-2-pc.-azur-rollerball-gift-set?ID=8057292&CategoryID=30087#fn=sp%3D2%26spc%3D1447%26ruleId%3D22%7CBOOST%20SAVED%20SET%7CBOOST%20ATTRIBUTE%26searchPass%3DmatchNone%26slotId%3D66\n",
      "https://www.macys.com/shop/product/tory-burch-2-pc.-azur-rollerball-gift-set?ID=8057292&CategoryID=30087#fn=sp%3D2%26spc%3D1447%26ruleId%3D22%7CBOOST%20SAVED%20SET%7CBOOST%20ATTRIBUTE%26searchPass%3DmatchNone%26slotId%3D66\n",
      "https://www.macys.com/shop/product/juicy-couture-3-pc.-viva-la-juicy-eau-de-parfum-gift-set-a-143-value?ID=8301947&CategoryID=30087#fn=sp%3D2%26spc%3D1447%26ruleId%3D22%7CBOOST%20SAVED%20SET%7CBOOST%20ATTRIBUTE%26searchPass%3DmatchNone%26slotId%3D67\n",
      "https://www.macys.com/shop/product/juicy-couture-3-pc.-viva-la-juicy-eau-de-parfum-gift-set-a-143-value?ID=8301947&CategoryID=30087#fn=sp%3D2%26spc%3D1447%26ruleId%3D22%7CBOOST%20SAVED%20SET%7CBOOST%20ATTRIBUTE%26searchPass%3DmatchNone%26slotId%3D67\n",
      "https://www.macys.com/shop/product/yves-saint-laurent-3-pc.-mon-paris-eau-de-parfum-gift-set-created-for-macys?ID=8774259&CategoryID=30087#fn=sp%3D2%26spc%3D1447%26ruleId%3D22%7CBOOST%20SAVED%20SET%7CBOOST%20ATTRIBUTE%26searchPass%3DmatchNone%26slotId%3D68\n",
      "https://www.macys.com/shop/product/yves-saint-laurent-3-pc.-mon-paris-eau-de-parfum-gift-set-created-for-macys?ID=8774259&CategoryID=30087#fn=sp%3D2%26spc%3D1447%26ruleId%3D22%7CBOOST%20SAVED%20SET%7CBOOST%20ATTRIBUTE%26searchPass%3DmatchNone%26slotId%3D68\n",
      "https://www.macys.com/shop/product/burberry-my-burberry-blush-eau-de-parfum-spray-3-oz.?ID=4814700&CategoryID=30087#fn=sp%3D2%26spc%3D1447%26ruleId%3D22%7CBOOST%20SAVED%20SET%7CBOOST%20ATTRIBUTE%26searchPass%3DmatchNone%26slotId%3D69\n",
      "https://www.macys.com/shop/product/burberry-my-burberry-blush-eau-de-parfum-spray-3-oz.?ID=4814700&CategoryID=30087#fn=sp%3D2%26spc%3D1447%26ruleId%3D22%7CBOOST%20SAVED%20SET%7CBOOST%20ATTRIBUTE%26searchPass%3DmatchNone%26slotId%3D69\n",
      "https://www.macys.com/shop/product/mugler-alien-luxury-4-pc.-gift-set?ID=8425461&CategoryID=30087#fn=sp%3D2%26spc%3D1447%26ruleId%3D22%7CBOOST%20SAVED%20SET%7CBOOST%20ATTRIBUTE%26searchPass%3DmatchNone%26slotId%3D70\n",
      "https://www.macys.com/shop/product/mugler-alien-luxury-4-pc.-gift-set?ID=8425461&CategoryID=30087#fn=sp%3D2%26spc%3D1447%26ruleId%3D22%7CBOOST%20SAVED%20SET%7CBOOST%20ATTRIBUTE%26searchPass%3DmatchNone%26slotId%3D70\n",
      "https://www.macys.com/shop/product/narciso-rodriguez-for-her-eau-de-toilette-rollerball-0.25-oz.?ID=2910484&CategoryID=30087#fn=sp%3D2%26spc%3D1447%26ruleId%3D22%7CBOOST%20SAVED%20SET%7CBOOST%20ATTRIBUTE%26searchPass%3DmatchNone%26slotId%3D71\n",
      "https://www.macys.com/shop/product/narciso-rodriguez-for-her-eau-de-toilette-rollerball-0.25-oz.?ID=2910484&CategoryID=30087#fn=sp%3D2%26spc%3D1447%26ruleId%3D22%7CBOOST%20SAVED%20SET%7CBOOST%20ATTRIBUTE%26searchPass%3DmatchNone%26slotId%3D71\n",
      "https://www.macys.com/shop/product/versace-bright-crystal-travel-spray-0.3-oz.?ID=7342873&CategoryID=30087#fn=sp%3D2%26spc%3D1447%26ruleId%3D22%7CBOOST%20SAVED%20SET%7CBOOST%20ATTRIBUTE%26searchPass%3DmatchNone%26slotId%3D72\n",
      "https://www.macys.com/shop/product/versace-bright-crystal-travel-spray-0.3-oz.?ID=7342873&CategoryID=30087#fn=sp%3D2%26spc%3D1447%26ruleId%3D22%7CBOOST%20SAVED%20SET%7CBOOST%20ATTRIBUTE%26searchPass%3DmatchNone%26slotId%3D72\n",
      "https://www.macys.com/shop/product/prada-candy-eau-de-parfum-3-pc.-gift-set?ID=7133290&CategoryID=30087#fn=sp%3D2%26spc%3D1447%26ruleId%3D22%7CBOOST%20SAVED%20SET%7CBOOST%20ATTRIBUTE%26searchPass%3DmatchNone%26slotId%3D73\n",
      "https://www.macys.com/shop/product/prada-candy-eau-de-parfum-3-pc.-gift-set?ID=7133290&CategoryID=30087#fn=sp%3D2%26spc%3D1447%26ruleId%3D22%7CBOOST%20SAVED%20SET%7CBOOST%20ATTRIBUTE%26searchPass%3DmatchNone%26slotId%3D73\n",
      "https://www.macys.com/shop/product/narciso-rodriguez-narciso-eau-de-parfum-rollerball-0.25-oz.?ID=2982515&CategoryID=30087#fn=sp%3D2%26spc%3D1447%26ruleId%3D22%7CBOOST%20SAVED%20SET%7CBOOST%20ATTRIBUTE%26searchPass%3DmatchNone%26slotId%3D74\n",
      "https://www.macys.com/shop/product/narciso-rodriguez-narciso-eau-de-parfum-rollerball-0.25-oz.?ID=2982515&CategoryID=30087#fn=sp%3D2%26spc%3D1447%26ruleId%3D22%7CBOOST%20SAVED%20SET%7CBOOST%20ATTRIBUTE%26searchPass%3DmatchNone%26slotId%3D74\n",
      "https://www.macys.com/shop/product/marc-jacobs-3-pc.-daisy-gift-set?ID=8267292&CategoryID=30087#fn=sp%3D2%26spc%3D1447%26ruleId%3D22%7CBOOST%20SAVED%20SET%7CBOOST%20ATTRIBUTE%26searchPass%3DmatchNone%26slotId%3D75\n",
      "https://www.macys.com/shop/product/marc-jacobs-3-pc.-daisy-gift-set?ID=8267292&CategoryID=30087#fn=sp%3D2%26spc%3D1447%26ruleId%3D22%7CBOOST%20SAVED%20SET%7CBOOST%20ATTRIBUTE%26searchPass%3DmatchNone%26slotId%3D75\n",
      "https://www.macys.com/shop/product/estee-lauder-youth-dew-eau-de-parfum-spray-2.25-oz?ID=75127&CategoryID=30087#fn=sp%3D2%26spc%3D1447%26ruleId%3D22%7CBOOST%20SAVED%20SET%7CBOOST%20ATTRIBUTE%26searchPass%3DmatchNone%26slotId%3D76\n",
      "https://www.macys.com/shop/product/estee-lauder-youth-dew-eau-de-parfum-spray-2.25-oz?ID=75127&CategoryID=30087#fn=sp%3D2%26spc%3D1447%26ruleId%3D22%7CBOOST%20SAVED%20SET%7CBOOST%20ATTRIBUTE%26searchPass%3DmatchNone%26slotId%3D76\n",
      "https://www.macys.com/shop/product/issey-miyake-leau-dissey-eau-de-toilette-rollerball-0.25-oz?ID=1008634&CategoryID=30087#fn=sp%3D2%26spc%3D1447%26ruleId%3D22%7CBOOST%20SAVED%20SET%7CBOOST%20ATTRIBUTE%26searchPass%3DmatchNone%26slotId%3D77\n",
      "https://www.macys.com/shop/product/issey-miyake-leau-dissey-eau-de-toilette-rollerball-0.25-oz?ID=1008634&CategoryID=30087#fn=sp%3D2%26spc%3D1447%26ruleId%3D22%7CBOOST%20SAVED%20SET%7CBOOST%20ATTRIBUTE%26searchPass%3DmatchNone%26slotId%3D77\n",
      "https://www.macys.com/shop/product/donna-karan-cashmere-mist-deodorant-1.7-oz?ID=92782&CategoryID=30087#fn=sp%3D2%26spc%3D1447%26ruleId%3D22%7CBOOST%20SAVED%20SET%7CBOOST%20ATTRIBUTE%26searchPass%3DmatchNone%26slotId%3D78\n",
      "https://www.macys.com/shop/product/donna-karan-cashmere-mist-deodorant-1.7-oz?ID=92782&CategoryID=30087#fn=sp%3D2%26spc%3D1447%26ruleId%3D22%7CBOOST%20SAVED%20SET%7CBOOST%20ATTRIBUTE%26searchPass%3DmatchNone%26slotId%3D78\n",
      "https://www.macys.com/shop/product/giorgio-armani-si-passione-eau-de-parfum-spray-3.4-oz.?ID=5712784&CategoryID=30087#fn=sp%3D2%26spc%3D1447%26ruleId%3D22%7CBOOST%20SAVED%20SET%7CBOOST%20ATTRIBUTE%26searchPass%3DmatchNone%26slotId%3D79\n",
      "https://www.macys.com/shop/product/giorgio-armani-si-passione-eau-de-parfum-spray-3.4-oz.?ID=5712784&CategoryID=30087#fn=sp%3D2%26spc%3D1447%26ruleId%3D22%7CBOOST%20SAVED%20SET%7CBOOST%20ATTRIBUTE%26searchPass%3DmatchNone%26slotId%3D79\n",
      "https://www.macys.com/shop/product/jennifer-aniston-eau-de-parfum-spray-2.9-oz.?ID=8930371&CategoryID=30087#fn=sp%3D2%26spc%3D1447%26ruleId%3D22%7CBOOST%20SAVED%20SET%7CBOOST%20ATTRIBUTE%26searchPass%3DmatchNone%26slotId%3D80\n",
      "https://www.macys.com/shop/product/jennifer-aniston-eau-de-parfum-spray-2.9-oz.?ID=8930371&CategoryID=30087#fn=sp%3D2%26spc%3D1447%26ruleId%3D22%7CBOOST%20SAVED%20SET%7CBOOST%20ATTRIBUTE%26searchPass%3DmatchNone%26slotId%3D80\n",
      "https://www.macys.com/shop/product/yves-saint-laurent-mon-paris-floral-eau-de-parfum-spray-3-oz.?ID=8456704&CategoryID=30087#fn=sp%3D2%26spc%3D1447%26ruleId%3D22%7CBOOST%20SAVED%20SET%7CBOOST%20ATTRIBUTE%26searchPass%3DmatchNone%26slotId%3D81\n",
      "https://www.macys.com/shop/product/yves-saint-laurent-mon-paris-floral-eau-de-parfum-spray-3-oz.?ID=8456704&CategoryID=30087#fn=sp%3D2%26spc%3D1447%26ruleId%3D22%7CBOOST%20SAVED%20SET%7CBOOST%20ATTRIBUTE%26searchPass%3DmatchNone%26slotId%3D81\n",
      "https://www.macys.com/shop/product/lancome-3-pc.-la-vie-est-belle-mothers-day-gift-set?ID=8763224&CategoryID=30087#fn=sp%3D2%26spc%3D1447%26ruleId%3D22%7CBOOST%20SAVED%20SET%7CBOOST%20ATTRIBUTE%26searchPass%3DmatchNone%26slotId%3D82\n",
      "https://www.macys.com/shop/product/lancome-3-pc.-la-vie-est-belle-mothers-day-gift-set?ID=8763224&CategoryID=30087#fn=sp%3D2%26spc%3D1447%26ruleId%3D22%7CBOOST%20SAVED%20SET%7CBOOST%20ATTRIBUTE%26searchPass%3DmatchNone%26slotId%3D82\n",
      "https://www.macys.com/shop/product/giorgio-armani-si-eau-de-parfum-spray-3.4-oz?ID=1495789&CategoryID=30087#fn=sp%3D2%26spc%3D1447%26ruleId%3D22%7CBOOST%20SAVED%20SET%7CBOOST%20ATTRIBUTE%26searchPass%3DmatchNone%26slotId%3D83\n",
      "https://www.macys.com/shop/product/giorgio-armani-si-eau-de-parfum-spray-3.4-oz?ID=1495789&CategoryID=30087#fn=sp%3D2%26spc%3D1447%26ruleId%3D22%7CBOOST%20SAVED%20SET%7CBOOST%20ATTRIBUTE%26searchPass%3DmatchNone%26slotId%3D83\n",
      "https://www.macys.com/shop/product/dior-addict-eau-de-parfum-3.4-oz.?ID=88928&CategoryID=30087#fn=sp%3D2%26spc%3D1447%26ruleId%3D22%7CBOOST%20SAVED%20SET%7CBOOST%20ATTRIBUTE%26searchPass%3DmatchNone%26slotId%3D84\n",
      "https://www.macys.com/shop/product/dior-addict-eau-de-parfum-3.4-oz.?ID=88928&CategoryID=30087#fn=sp%3D2%26spc%3D1447%26ruleId%3D22%7CBOOST%20SAVED%20SET%7CBOOST%20ATTRIBUTE%26searchPass%3DmatchNone%26slotId%3D84\n",
      "https://www.macys.com/shop/product/gucci-guilty-pour-femme-eau-de-parfum-3.3-oz.?ID=7996939&CategoryID=30087#fn=sp%3D2%26spc%3D1447%26ruleId%3D22%7CBOOST%20SAVED%20SET%7CBOOST%20ATTRIBUTE%26searchPass%3DmatchNone%26slotId%3D85\n",
      "https://www.macys.com/shop/product/gucci-guilty-pour-femme-eau-de-parfum-3.3-oz.?ID=7996939&CategoryID=30087#fn=sp%3D2%26spc%3D1447%26ruleId%3D22%7CBOOST%20SAVED%20SET%7CBOOST%20ATTRIBUTE%26searchPass%3DmatchNone%26slotId%3D85\n",
      "https://www.macys.com/shop/product/marc-jacobs-3-pc.-daisy-dream-gift-set?ID=8267293&CategoryID=30087#fn=sp%3D2%26spc%3D1447%26ruleId%3D22%7CBOOST%20SAVED%20SET%7CBOOST%20ATTRIBUTE%26searchPass%3DmatchNone%26slotId%3D86\n",
      "https://www.macys.com/shop/product/marc-jacobs-3-pc.-daisy-dream-gift-set?ID=8267293&CategoryID=30087#fn=sp%3D2%26spc%3D1447%26ruleId%3D22%7CBOOST%20SAVED%20SET%7CBOOST%20ATTRIBUTE%26searchPass%3DmatchNone%26slotId%3D86\n",
      "https://www.macys.com/shop/product/jason-wu-velvet-rouge-eau-de-parfum-3-oz.?ID=8279636&CategoryID=30087#fn=sp%3D2%26spc%3D1447%26ruleId%3D22%7CBOOST%20SAVED%20SET%7CBOOST%20ATTRIBUTE%26searchPass%3DmatchNone%26slotId%3D87\n",
      "https://www.macys.com/shop/product/jason-wu-velvet-rouge-eau-de-parfum-3-oz.?ID=8279636&CategoryID=30087#fn=sp%3D2%26spc%3D1447%26ruleId%3D22%7CBOOST%20SAVED%20SET%7CBOOST%20ATTRIBUTE%26searchPass%3DmatchNone%26slotId%3D87\n",
      "https://www.macys.com/shop/product/givenchy-linterdit-eau-de-parfum-80-ml?ID=8315801&CategoryID=30087#fn=sp%3D2%26spc%3D1447%26ruleId%3D22%7CBOOST%20SAVED%20SET%7CBOOST%20ATTRIBUTE%26searchPass%3DmatchNone%26slotId%3D88\n",
      "https://www.macys.com/shop/product/givenchy-linterdit-eau-de-parfum-80-ml?ID=8315801&CategoryID=30087#fn=sp%3D2%26spc%3D1447%26ruleId%3D22%7CBOOST%20SAVED%20SET%7CBOOST%20ATTRIBUTE%26searchPass%3DmatchNone%26slotId%3D88\n",
      "https://www.macys.com/shop/product/givenchy-2-pc.-very-irresistible-eau-de-parfum-gift-set?ID=7651669&CategoryID=30087#fn=sp%3D2%26spc%3D1447%26ruleId%3D22%7CBOOST%20SAVED%20SET%7CBOOST%20ATTRIBUTE%26searchPass%3DmatchNone%26slotId%3D89\n",
      "https://www.macys.com/shop/product/givenchy-2-pc.-very-irresistible-eau-de-parfum-gift-set?ID=7651669&CategoryID=30087#fn=sp%3D2%26spc%3D1447%26ruleId%3D22%7CBOOST%20SAVED%20SET%7CBOOST%20ATTRIBUTE%26searchPass%3DmatchNone%26slotId%3D89\n",
      "https://www.macys.com/shop/product/jean-paul-gaultier-classique-eau-de-toilette-natural-spray-3.3-oz.?ID=2210&CategoryID=30087#fn=sp%3D2%26spc%3D1447%26ruleId%3D22%7CBOOST%20SAVED%20SET%7CBOOST%20ATTRIBUTE%26searchPass%3DmatchNone%26slotId%3D90\n",
      "https://www.macys.com/shop/product/jean-paul-gaultier-classique-eau-de-toilette-natural-spray-3.3-oz.?ID=2210&CategoryID=30087#fn=sp%3D2%26spc%3D1447%26ruleId%3D22%7CBOOST%20SAVED%20SET%7CBOOST%20ATTRIBUTE%26searchPass%3DmatchNone%26slotId%3D90\n",
      "https://www.macys.com/shop/product/dolce-gabbana-dolce-peony-eau-de-parfum-2.5-oz.?ID=8298666&CategoryID=30087#fn=sp%3D2%26spc%3D1447%26ruleId%3D22%7CBOOST%20SAVED%20SET%7CBOOST%20ATTRIBUTE%26searchPass%3DmatchNone%26slotId%3D91\n",
      "https://www.macys.com/shop/product/dolce-gabbana-dolce-peony-eau-de-parfum-2.5-oz.?ID=8298666&CategoryID=30087#fn=sp%3D2%26spc%3D1447%26ruleId%3D22%7CBOOST%20SAVED%20SET%7CBOOST%20ATTRIBUTE%26searchPass%3DmatchNone%26slotId%3D91\n",
      "https://www.macys.com/shop/product/tory-burch-love-relentlessly-eau-de-parfum-spray-3.4-oz?ID=4358279&CategoryID=30087#fn=sp%3D2%26spc%3D1447%26ruleId%3D22%7CBOOST%20SAVED%20SET%7CBOOST%20ATTRIBUTE%26searchPass%3DmatchNone%26slotId%3D92\n",
      "https://www.macys.com/shop/product/tory-burch-love-relentlessly-eau-de-parfum-spray-3.4-oz?ID=4358279&CategoryID=30087#fn=sp%3D2%26spc%3D1447%26ruleId%3D22%7CBOOST%20SAVED%20SET%7CBOOST%20ATTRIBUTE%26searchPass%3DmatchNone%26slotId%3D92\n",
      "https://www.macys.com/shop/product/issey-miyake-leau-dissey-eau-de-toilette-1.7-oz?ID=2214&CategoryID=30087#fn=sp%3D2%26spc%3D1447%26ruleId%3D22%7CBOOST%20SAVED%20SET%7CBOOST%20ATTRIBUTE%26searchPass%3DmatchNone%26slotId%3D93\n",
      "https://www.macys.com/shop/product/issey-miyake-leau-dissey-eau-de-toilette-1.7-oz?ID=2214&CategoryID=30087#fn=sp%3D2%26spc%3D1447%26ruleId%3D22%7CBOOST%20SAVED%20SET%7CBOOST%20ATTRIBUTE%26searchPass%3DmatchNone%26slotId%3D93\n",
      "https://www.macys.com/shop/product/kensie-4-pc.-womens-collection-gift-set?ID=5724014&CategoryID=30087#fn=sp%3D2%26spc%3D1447%26ruleId%3D22%7CBOOST%20SAVED%20SET%7CBOOST%20ATTRIBUTE%26searchPass%3DmatchNone%26slotId%3D94\n",
      "https://www.macys.com/shop/product/kensie-4-pc.-womens-collection-gift-set?ID=5724014&CategoryID=30087#fn=sp%3D2%26spc%3D1447%26ruleId%3D22%7CBOOST%20SAVED%20SET%7CBOOST%20ATTRIBUTE%26searchPass%3DmatchNone%26slotId%3D94\n",
      "https://www.macys.com/shop/product/estee-lauder-beautiful-eau-de-parfum-spray-3.4-oz.?ID=384047&CategoryID=30087#fn=sp%3D2%26spc%3D1447%26ruleId%3D22%7CBOOST%20SAVED%20SET%7CBOOST%20ATTRIBUTE%26searchPass%3DmatchNone%26slotId%3D95\n",
      "https://www.macys.com/shop/product/estee-lauder-beautiful-eau-de-parfum-spray-3.4-oz.?ID=384047&CategoryID=30087#fn=sp%3D2%26spc%3D1447%26ruleId%3D22%7CBOOST%20SAVED%20SET%7CBOOST%20ATTRIBUTE%26searchPass%3DmatchNone%26slotId%3D95\n",
      "https://www.macys.com/shop/product/dolce-gabbana-the-one-eau-de-parfum-rollerball-.20-oz?ID=823992&CategoryID=30087#fn=sp%3D2%26spc%3D1447%26ruleId%3D22%7CBOOST%20SAVED%20SET%7CBOOST%20ATTRIBUTE%26searchPass%3DmatchNone%26slotId%3D96\n",
      "https://www.macys.com/shop/product/dolce-gabbana-the-one-eau-de-parfum-rollerball-.20-oz?ID=823992&CategoryID=30087#fn=sp%3D2%26spc%3D1447%26ruleId%3D22%7CBOOST%20SAVED%20SET%7CBOOST%20ATTRIBUTE%26searchPass%3DmatchNone%26slotId%3D96\n",
      "https://www.macys.com/shop/product/dolce-gabbana-light-blue-eau-de-toilette-rollerball-0.25-oz.?ID=2604432&CategoryID=30087#fn=sp%3D2%26spc%3D1447%26ruleId%3D22%7CBOOST%20SAVED%20SET%7CBOOST%20ATTRIBUTE%26searchPass%3DmatchNone%26slotId%3D97\n",
      "https://www.macys.com/shop/product/dolce-gabbana-light-blue-eau-de-toilette-rollerball-0.25-oz.?ID=2604432&CategoryID=30087#fn=sp%3D2%26spc%3D1447%26ruleId%3D22%7CBOOST%20SAVED%20SET%7CBOOST%20ATTRIBUTE%26searchPass%3DmatchNone%26slotId%3D97\n",
      "https://www.macys.com/shop/product/juicy-couture-oui-eau-de-parfum-spray-3.4-oz.?ID=6428439&CategoryID=30087#fn=sp%3D2%26spc%3D1447%26ruleId%3D22%7CBOOST%20SAVED%20SET%7CBOOST%20ATTRIBUTE%26searchPass%3DmatchNone%26slotId%3D98\n",
      "https://www.macys.com/shop/product/juicy-couture-oui-eau-de-parfum-spray-3.4-oz.?ID=6428439&CategoryID=30087#fn=sp%3D2%26spc%3D1447%26ruleId%3D22%7CBOOST%20SAVED%20SET%7CBOOST%20ATTRIBUTE%26searchPass%3DmatchNone%26slotId%3D98\n",
      "https://www.macys.com/shop/product/viktor-rolf-flowerbomb-purse-spray-0.25-oz.?ID=2496702&CategoryID=30087#fn=sp%3D2%26spc%3D1447%26ruleId%3D22%7CBOOST%20SAVED%20SET%7CBOOST%20ATTRIBUTE%26searchPass%3DmatchNone%26slotId%3D99\n",
      "https://www.macys.com/shop/product/viktor-rolf-flowerbomb-purse-spray-0.25-oz.?ID=2496702&CategoryID=30087#fn=sp%3D2%26spc%3D1447%26ruleId%3D22%7CBOOST%20SAVED%20SET%7CBOOST%20ATTRIBUTE%26searchPass%3DmatchNone%26slotId%3D99\n",
      "https://www.macys.com/shop/product/viktor-rolf-flowerbomb-midnight-eau-de-parfum-spray-3.4-oz.?ID=8349194&CategoryID=30087#fn=sp%3D2%26spc%3D1447%26ruleId%3D22%7CBOOST%20SAVED%20SET%7CBOOST%20ATTRIBUTE%26searchPass%3DmatchNone%26slotId%3D100\n",
      "https://www.macys.com/shop/product/viktor-rolf-flowerbomb-midnight-eau-de-parfum-spray-3.4-oz.?ID=8349194&CategoryID=30087#fn=sp%3D2%26spc%3D1447%26ruleId%3D22%7CBOOST%20SAVED%20SET%7CBOOST%20ATTRIBUTE%26searchPass%3DmatchNone%26slotId%3D100\n",
      "https://www.macys.com/shop/product/dolce-gabbana-the-only-one-3-pc.-gift-set?ID=8483087&CategoryID=30087#fn=sp%3D2%26spc%3D1447%26ruleId%3D22%7CBOOST%20SAVED%20SET%7CBOOST%20ATTRIBUTE%26searchPass%3DmatchNone%26slotId%3D101\n",
      "https://www.macys.com/shop/product/dolce-gabbana-the-only-one-3-pc.-gift-set?ID=8483087&CategoryID=30087#fn=sp%3D2%26spc%3D1447%26ruleId%3D22%7CBOOST%20SAVED%20SET%7CBOOST%20ATTRIBUTE%26searchPass%3DmatchNone%26slotId%3D101\n",
      "https://www.macys.com/shop/product/cartier-2-pc.-carat-discovery-set?ID=6857277&CategoryID=30087#fn=sp%3D2%26spc%3D1447%26ruleId%3D22%7CBOOST%20SAVED%20SET%7CBOOST%20ATTRIBUTE%26searchPass%3DmatchNone%26slotId%3D102\n",
      "https://www.macys.com/shop/product/cartier-2-pc.-carat-discovery-set?ID=6857277&CategoryID=30087#fn=sp%3D2%26spc%3D1447%26ruleId%3D22%7CBOOST%20SAVED%20SET%7CBOOST%20ATTRIBUTE%26searchPass%3DmatchNone%26slotId%3D102\n",
      "https://www.macys.com/shop/product/mugler-3-pc.-alien-gift-set?ID=8312007&CategoryID=30087#fn=sp%3D2%26spc%3D1447%26ruleId%3D22%7CBOOST%20SAVED%20SET%7CBOOST%20ATTRIBUTE%26searchPass%3DmatchNone%26slotId%3D103\n",
      "https://www.macys.com/shop/product/mugler-3-pc.-alien-gift-set?ID=8312007&CategoryID=30087#fn=sp%3D2%26spc%3D1447%26ruleId%3D22%7CBOOST%20SAVED%20SET%7CBOOST%20ATTRIBUTE%26searchPass%3DmatchNone%26slotId%3D103\n",
      "https://www.macys.com/shop/product/ralph-lauren-blue-eau-de-toilette-spray-4.2-oz.?ID=104702&CategoryID=30087#fn=sp%3D2%26spc%3D1447%26ruleId%3D22%7CBOOST%20SAVED%20SET%7CBOOST%20ATTRIBUTE%26searchPass%3DmatchNone%26slotId%3D104\n",
      "https://www.macys.com/shop/product/ralph-lauren-blue-eau-de-toilette-spray-4.2-oz.?ID=104702&CategoryID=30087#fn=sp%3D2%26spc%3D1447%26ruleId%3D22%7CBOOST%20SAVED%20SET%7CBOOST%20ATTRIBUTE%26searchPass%3DmatchNone%26slotId%3D104\n",
      "https://www.macys.com/shop/product/elizabeth-arden-red-door-eau-de-toilette-3.3-oz.?ID=211&CategoryID=30087#fn=sp%3D2%26spc%3D1447%26ruleId%3D22%7CBOOST%20SAVED%20SET%7CBOOST%20ATTRIBUTE%26searchPass%3DmatchNone%26slotId%3D105\n",
      "https://www.macys.com/shop/product/elizabeth-arden-red-door-eau-de-toilette-3.3-oz.?ID=211&CategoryID=30087#fn=sp%3D2%26spc%3D1447%26ruleId%3D22%7CBOOST%20SAVED%20SET%7CBOOST%20ATTRIBUTE%26searchPass%3DmatchNone%26slotId%3D105\n",
      "https://www.macys.com/shop/product/clinique-happy-heart-perfume-spray-3.4-fl-oz?ID=92350&CategoryID=30087#fn=sp%3D2%26spc%3D1447%26ruleId%3D22%7CBOOST%20SAVED%20SET%7CBOOST%20ATTRIBUTE%26searchPass%3DmatchNone%26slotId%3D106\n",
      "https://www.macys.com/shop/product/clinique-happy-heart-perfume-spray-3.4-fl-oz?ID=92350&CategoryID=30087#fn=sp%3D2%26spc%3D1447%26ruleId%3D22%7CBOOST%20SAVED%20SET%7CBOOST%20ATTRIBUTE%26searchPass%3DmatchNone%26slotId%3D106\n",
      "https://www.macys.com/shop/product/dolce-gabbana-light-blue-eau-de-toilette-spray-1.6-oz.?ID=77353&CategoryID=30087#fn=sp%3D2%26spc%3D1447%26ruleId%3D22%7CBOOST%20SAVED%20SET%7CBOOST%20ATTRIBUTE%26searchPass%3DmatchNone%26slotId%3D107\n",
      "https://www.macys.com/shop/product/dolce-gabbana-light-blue-eau-de-toilette-spray-1.6-oz.?ID=77353&CategoryID=30087#fn=sp%3D2%26spc%3D1447%26ruleId%3D22%7CBOOST%20SAVED%20SET%7CBOOST%20ATTRIBUTE%26searchPass%3DmatchNone%26slotId%3D107\n",
      "https://www.macys.com/shop/product/bottega-veneta-illusione-eau-de-parfum-1.6-oz.?ID=9559559&CategoryID=30087#fn=sp%3D2%26spc%3D1447%26ruleId%3D22%7CBOOST%20SAVED%20SET%7CBOOST%20ATTRIBUTE%26searchPass%3DmatchNone%26slotId%3D108\n",
      "https://www.macys.com/shop/product/bottega-veneta-illusione-eau-de-parfum-1.6-oz.?ID=9559559&CategoryID=30087#fn=sp%3D2%26spc%3D1447%26ruleId%3D22%7CBOOST%20SAVED%20SET%7CBOOST%20ATTRIBUTE%26searchPass%3DmatchNone%26slotId%3D108\n",
      "https://www.macys.com/shop/product/coach-eau-de-toilette-spray-3-oz.?ID=4801593&CategoryID=30087#fn=sp%3D2%26spc%3D1447%26ruleId%3D22%7CBOOST%20SAVED%20SET%7CBOOST%20ATTRIBUTE%26searchPass%3DmatchNone%26slotId%3D109\n",
      "https://www.macys.com/shop/product/coach-eau-de-toilette-spray-3-oz.?ID=4801593&CategoryID=30087#fn=sp%3D2%26spc%3D1447%26ruleId%3D22%7CBOOST%20SAVED%20SET%7CBOOST%20ATTRIBUTE%26searchPass%3DmatchNone%26slotId%3D109\n",
      "https://www.macys.com/shop/product/carolina-herrera-good-girl-eau-de-parfum-spray-1-oz.?ID=5809218&CategoryID=30087#fn=sp%3D2%26spc%3D1447%26ruleId%3D22%7CBOOST%20SAVED%20SET%7CBOOST%20ATTRIBUTE%26searchPass%3DmatchNone%26slotId%3D110\n",
      "https://www.macys.com/shop/product/carolina-herrera-good-girl-eau-de-parfum-spray-1-oz.?ID=5809218&CategoryID=30087#fn=sp%3D2%26spc%3D1447%26ruleId%3D22%7CBOOST%20SAVED%20SET%7CBOOST%20ATTRIBUTE%26searchPass%3DmatchNone%26slotId%3D110\n",
      "https://www.macys.com/shop/product/estee-lauder-2-pc.-beautiful-belle-gift-set?ID=6893775&CategoryID=30087#fn=sp%3D2%26spc%3D1447%26ruleId%3D22%7CBOOST%20SAVED%20SET%7CBOOST%20ATTRIBUTE%26searchPass%3DmatchNone%26slotId%3D111\n",
      "https://www.macys.com/shop/product/estee-lauder-2-pc.-beautiful-belle-gift-set?ID=6893775&CategoryID=30087#fn=sp%3D2%26spc%3D1447%26ruleId%3D22%7CBOOST%20SAVED%20SET%7CBOOST%20ATTRIBUTE%26searchPass%3DmatchNone%26slotId%3D111\n",
      "https://www.macys.com/shop/product/tiffany-co.-signature-eau-de-parfum-2-pc-gift-set?ID=8276993&CategoryID=30087#fn=sp%3D2%26spc%3D1447%26ruleId%3D22%7CBOOST%20SAVED%20SET%7CBOOST%20ATTRIBUTE%26searchPass%3DmatchNone%26slotId%3D112\n",
      "https://www.macys.com/shop/product/tiffany-co.-signature-eau-de-parfum-2-pc-gift-set?ID=8276993&CategoryID=30087#fn=sp%3D2%26spc%3D1447%26ruleId%3D22%7CBOOST%20SAVED%20SET%7CBOOST%20ATTRIBUTE%26searchPass%3DmatchNone%26slotId%3D112\n",
      "https://www.macys.com/shop/product/jimmy-choo-2-pc.-fever-eau-de-parfum-gift-set?ID=8425560&CategoryID=30087#fn=sp%3D2%26spc%3D1447%26ruleId%3D22%7CBOOST%20SAVED%20SET%7CBOOST%20ATTRIBUTE%26searchPass%3DmatchNone%26slotId%3D113\n",
      "https://www.macys.com/shop/product/jimmy-choo-2-pc.-fever-eau-de-parfum-gift-set?ID=8425560&CategoryID=30087#fn=sp%3D2%26spc%3D1447%26ruleId%3D22%7CBOOST%20SAVED%20SET%7CBOOST%20ATTRIBUTE%26searchPass%3DmatchNone%26slotId%3D113\n",
      "https://www.macys.com/shop/product/juicy-couture-viva-la-juicy-la-fleur-eau-de-toilette-spray-2.5-oz.?ID=5831945&CategoryID=30087#fn=sp%3D2%26spc%3D1447%26ruleId%3D22%7CBOOST%20SAVED%20SET%7CBOOST%20ATTRIBUTE%26searchPass%3DmatchNone%26slotId%3D114\n",
      "https://www.macys.com/shop/product/juicy-couture-viva-la-juicy-la-fleur-eau-de-toilette-spray-2.5-oz.?ID=5831945&CategoryID=30087#fn=sp%3D2%26spc%3D1447%26ruleId%3D22%7CBOOST%20SAVED%20SET%7CBOOST%20ATTRIBUTE%26searchPass%3DmatchNone%26slotId%3D114\n",
      "https://www.macys.com/shop/product/created-for-macys-11-pc.-the-scents-of-spring-fragrance-sampler-set-for-her?ID=8470820&CategoryID=30087#fn=sp%3D2%26spc%3D1447%26ruleId%3D22%7CBOOST%20SAVED%20SET%7CBOOST%20ATTRIBUTE%26searchPass%3DmatchNone%26slotId%3D115\n",
      "https://www.macys.com/shop/product/created-for-macys-11-pc.-the-scents-of-spring-fragrance-sampler-set-for-her?ID=8470820&CategoryID=30087#fn=sp%3D2%26spc%3D1447%26ruleId%3D22%7CBOOST%20SAVED%20SET%7CBOOST%20ATTRIBUTE%26searchPass%3DmatchNone%26slotId%3D115\n",
      "https://www.macys.com/shop/product/prada-candy-night-eau-de-parfum-spray-2.7-oz.?ID=8483852&CategoryID=30087#fn=sp%3D2%26spc%3D1447%26ruleId%3D22%7CBOOST%20SAVED%20SET%7CBOOST%20ATTRIBUTE%26searchPass%3DmatchNone%26slotId%3D116\n",
      "https://www.macys.com/shop/product/prada-candy-night-eau-de-parfum-spray-2.7-oz.?ID=8483852&CategoryID=30087#fn=sp%3D2%26spc%3D1447%26ruleId%3D22%7CBOOST%20SAVED%20SET%7CBOOST%20ATTRIBUTE%26searchPass%3DmatchNone%26slotId%3D116\n",
      "https://www.macys.com/shop/product/gucci-memoire-dune-odeur-eau-de-parfum-2-oz.?ID=9569335&CategoryID=30087#fn=sp%3D2%26spc%3D1447%26ruleId%3D22%7CBOOST%20SAVED%20SET%7CBOOST%20ATTRIBUTE%26searchPass%3DmatchNone%26slotId%3D117\n",
      "https://www.macys.com/shop/product/gucci-memoire-dune-odeur-eau-de-parfum-2-oz.?ID=9569335&CategoryID=30087#fn=sp%3D2%26spc%3D1447%26ruleId%3D22%7CBOOST%20SAVED%20SET%7CBOOST%20ATTRIBUTE%26searchPass%3DmatchNone%26slotId%3D117\n",
      "https://www.macys.com/shop/product/marc-jacobs-eau-de-parfum-3.4-oz?ID=78520&CategoryID=30087#fn=sp%3D2%26spc%3D1447%26ruleId%3D22%7CBOOST%20SAVED%20SET%7CBOOST%20ATTRIBUTE%26searchPass%3DmatchNone%26slotId%3D118\n",
      "https://www.macys.com/shop/product/marc-jacobs-eau-de-parfum-3.4-oz?ID=78520&CategoryID=30087#fn=sp%3D2%26spc%3D1447%26ruleId%3D22%7CBOOST%20SAVED%20SET%7CBOOST%20ATTRIBUTE%26searchPass%3DmatchNone%26slotId%3D118\n",
      "https://www.macys.com/shop/product/mugler-3-pc.-angel-gift-set?ID=6606388&CategoryID=30087#fn=sp%3D2%26spc%3D1447%26ruleId%3D22%7CBOOST%20SAVED%20SET%7CBOOST%20ATTRIBUTE%26searchPass%3DmatchNone%26slotId%3D119\n",
      "https://www.macys.com/shop/product/mugler-3-pc.-angel-gift-set?ID=6606388&CategoryID=30087#fn=sp%3D2%26spc%3D1447%26ruleId%3D22%7CBOOST%20SAVED%20SET%7CBOOST%20ATTRIBUTE%26searchPass%3DmatchNone%26slotId%3D119\n",
      "https://www.macys.com/shop/product/chanel-chance-eau-fraiche-eau-de-toilette-spray-5-oz?ID=780749&CategoryID=30087#fn=sp%3D2%26spc%3D1447%26ruleId%3D22%7CBOOST%20SAVED%20SET%7CBOOST%20ATTRIBUTE%26searchPass%3DmatchNone%26slotId%3D120\n",
      "https://www.macys.com/shop/product/chanel-chance-eau-fraiche-eau-de-toilette-spray-5-oz?ID=780749&CategoryID=30087#fn=sp%3D2%26spc%3D1447%26ruleId%3D22%7CBOOST%20SAVED%20SET%7CBOOST%20ATTRIBUTE%26searchPass%3DmatchNone%26slotId%3D120\n",
      "https://www.macys.com/shop/product/yves-saint-laurent-black-opium-eau-de-parfum-spray-3-oz?ID=2276263&CategoryID=30087#fn=sp%3D2%26spc%3D1447%26ruleId%3D22%7CBOOST%20SAVED%20SET%7CBOOST%20ATTRIBUTE%26searchPass%3DmatchNone%26slotId%3D121\n",
      "https://www.macys.com/shop/product/yves-saint-laurent-black-opium-eau-de-parfum-spray-3-oz?ID=2276263&CategoryID=30087#fn=sp%3D2%26spc%3D1447%26ruleId%3D22%7CBOOST%20SAVED%20SET%7CBOOST%20ATTRIBUTE%26searchPass%3DmatchNone%26slotId%3D121\n"
     ]
    }
   ],
   "source": [
    "#testing out the syntax to get the list of perfume urls\n",
    "for link in massive_list_strings:\n",
    "    if link[:31] == 'https://www.macys.com/shop/prod':\n",
    "        print(link)"
   ]
  },
  {
   "cell_type": "code",
   "execution_count": 32,
   "metadata": {
    "scrolled": true
   },
   "outputs": [],
   "source": [
    "perf_links_ls = []\n",
    "for link in massive_list_strings:\n",
    "    if link[0:31] == 'https://www.macys.com/shop/prod':\n",
    "        perf_links_ls.append(link)"
   ]
  },
  {
   "cell_type": "code",
   "execution_count": 33,
   "metadata": {
    "scrolled": true
   },
   "outputs": [
    {
     "data": {
      "text/plain": [
       "242"
      ]
     },
     "execution_count": 33,
     "metadata": {},
     "output_type": "execute_result"
    }
   ],
   "source": [
    "len(perf_links_ls)"
   ]
  },
  {
   "cell_type": "code",
   "execution_count": 34,
   "metadata": {},
   "outputs": [
    {
     "data": {
      "text/plain": [
       "121"
      ]
     },
     "execution_count": 34,
     "metadata": {},
     "output_type": "execute_result"
    }
   ],
   "source": [
    "s = set(perf_links_ls)\n",
    "len(s)"
   ]
  },
  {
   "cell_type": "code",
   "execution_count": 35,
   "metadata": {},
   "outputs": [],
   "source": [
    "s = list(s)"
   ]
  },
  {
   "cell_type": "code",
   "execution_count": 36,
   "metadata": {},
   "outputs": [],
   "source": [
    "#s"
   ]
  },
  {
   "cell_type": "code",
   "execution_count": 46,
   "metadata": {},
   "outputs": [],
   "source": [
    "def get_perfume_links(url):\n",
    "    \"\"\"\n",
    "    \n",
    "    \"\"\"\n",
    "    driver = webdriver.Chrome()\n",
    "    driver.get(url)\n",
    "    soup_selenium = BeautifulSoup(driver.page_source)\n",
    "    \n",
    "    all_links_ls = []\n",
    "    for a in driver.find_elements_by_xpath('.//a'):\n",
    "        all_links_ls.append(a.get_attribute('href'))\n",
    "    \n",
    "    #make sure all elements in the list are strings\n",
    "    all_links_ls = [str(i) for i in all_links_ls]\n",
    "    \n",
    "    #testing out the syntax to get the list of perfume urls\n",
    "    #global page_links\n",
    "    page_links = []\n",
    "    for link in all_links_ls:\n",
    "        if link[:31] == 'https://www.macys.com/shop/prod':\n",
    "            page_links.append(link)\n",
    "    \n",
    "    #remove dups\n",
    "    page_links = set(page_links)\n",
    "    page_links = list(page_links)\n",
    "\n",
    "    driver.quit()\n",
    "    \n",
    "    return page_links"
   ]
  },
  {
   "cell_type": "code",
   "execution_count": 38,
   "metadata": {},
   "outputs": [],
   "source": [
    "#z = get_perfume_links(url)"
   ]
  },
  {
   "cell_type": "code",
   "execution_count": 47,
   "metadata": {},
   "outputs": [
    {
     "ename": "NameError",
     "evalue": "name 'page_links' is not defined",
     "output_type": "error",
     "traceback": [
      "\u001b[0;31m---------------------------------------------------------------------------\u001b[0m",
      "\u001b[0;31mNameError\u001b[0m                                 Traceback (most recent call last)",
      "\u001b[0;32m<ipython-input-47-53ca5cbf75bb>\u001b[0m in \u001b[0;36m<module>\u001b[0;34m\u001b[0m\n\u001b[0;32m----> 1\u001b[0;31m \u001b[0mpage_links\u001b[0m\u001b[0;34m\u001b[0m\u001b[0;34m\u001b[0m\u001b[0m\n\u001b[0m",
      "\u001b[0;31mNameError\u001b[0m: name 'page_links' is not defined"
     ]
    }
   ],
   "source": [
    "#page_links"
   ]
  },
  {
   "cell_type": "code",
   "execution_count": 45,
   "metadata": {},
   "outputs": [
    {
     "data": {
      "text/plain": [
       "['https://www.macys.com/shop/makeup-and-perfume/perfume/Productsperpage/120?id=30087',\n",
       " 'https://www.macys.com/shop/makeup-and-perfume/perfume/Pageindex,Productsperpage/2,120?id=30087',\n",
       " 'https://www.macys.com/shop/makeup-and-perfume/perfume/Pageindex,Productsperpage/3,120?id=30087',\n",
       " 'https://www.macys.com/shop/makeup-and-perfume/perfume/Pageindex,Productsperpage/4,120?id=30087',\n",
       " 'https://www.macys.com/shop/makeup-and-perfume/perfume/Pageindex,Productsperpage/5,120?id=30087',\n",
       " 'https://www.macys.com/shop/makeup-and-perfume/perfume/Pageindex,Productsperpage/6,120?id=30087',\n",
       " 'https://www.macys.com/shop/makeup-and-perfume/perfume/Pageindex,Productsperpage/7,120?id=30087',\n",
       " 'https://www.macys.com/shop/makeup-and-perfume/perfume/Pageindex,Productsperpage/8,120?id=30087',\n",
       " 'https://www.macys.com/shop/makeup-and-perfume/perfume/Pageindex,Productsperpage/9,120?id=30087',\n",
       " 'https://www.macys.com/shop/makeup-and-perfume/perfume/Pageindex,Productsperpage/10,120?id=30087',\n",
       " 'https://www.macys.com/shop/makeup-and-perfume/perfume/Pageindex,Productsperpage/11,120?id=30087',\n",
       " 'https://www.macys.com/shop/makeup-and-perfume/perfume/Pageindex,Productsperpage/12,120?id=30087',\n",
       " 'https://www.macys.com/shop/makeup-and-perfume/perfume/Pageindex,Productsperpage/13,120?id=30087']"
      ]
     },
     "execution_count": 45,
     "metadata": {},
     "output_type": "execute_result"
    }
   ],
   "source": [
    "perfume_ls"
   ]
  },
  {
   "cell_type": "code",
   "execution_count": 48,
   "metadata": {},
   "outputs": [
    {
     "ename": "StaleElementReferenceException",
     "evalue": "Message: stale element reference: element is not attached to the page document\n  (Session info: chrome=76.0.3809.100)\n  (Driver info: chromedriver=2.38.552518 (183d19265345f54ce39cbb94cf81ba5f15905011),platform=Mac OS X 10.14.5 x86_64)\n",
     "output_type": "error",
     "traceback": [
      "\u001b[0;31m---------------------------------------------------------------------------\u001b[0m",
      "\u001b[0;31mStaleElementReferenceException\u001b[0m            Traceback (most recent call last)",
      "\u001b[0;32m<ipython-input-48-dd4f9eab2971>\u001b[0m in \u001b[0;36m<module>\u001b[0;34m\u001b[0m\n\u001b[1;32m      1\u001b[0m \u001b[0mcomplete_perfume_ls\u001b[0m \u001b[0;34m=\u001b[0m \u001b[0;34m[\u001b[0m\u001b[0;34m]\u001b[0m\u001b[0;34m\u001b[0m\u001b[0;34m\u001b[0m\u001b[0m\n\u001b[1;32m      2\u001b[0m \u001b[0;32mfor\u001b[0m \u001b[0murl\u001b[0m \u001b[0;32min\u001b[0m \u001b[0mperfume_ls\u001b[0m\u001b[0;34m:\u001b[0m\u001b[0;34m\u001b[0m\u001b[0;34m\u001b[0m\u001b[0m\n\u001b[0;32m----> 3\u001b[0;31m     \u001b[0meach_page\u001b[0m \u001b[0;34m=\u001b[0m \u001b[0mget_perfume_links\u001b[0m\u001b[0;34m(\u001b[0m\u001b[0murl\u001b[0m\u001b[0;34m)\u001b[0m\u001b[0;34m\u001b[0m\u001b[0;34m\u001b[0m\u001b[0m\n\u001b[0m\u001b[1;32m      4\u001b[0m \u001b[0;34m\u001b[0m\u001b[0m\n\u001b[1;32m      5\u001b[0m     \u001b[0;31m#Note: page_links is a global variable defined in get_perf func.\u001b[0m\u001b[0;34m\u001b[0m\u001b[0;34m\u001b[0m\u001b[0;34m\u001b[0m\u001b[0m\n",
      "\u001b[0;32m<ipython-input-46-8055ea0e4764>\u001b[0m in \u001b[0;36mget_perfume_links\u001b[0;34m(url)\u001b[0m\n\u001b[1;32m      9\u001b[0m     \u001b[0mall_links_ls\u001b[0m \u001b[0;34m=\u001b[0m \u001b[0;34m[\u001b[0m\u001b[0;34m]\u001b[0m\u001b[0;34m\u001b[0m\u001b[0;34m\u001b[0m\u001b[0m\n\u001b[1;32m     10\u001b[0m     \u001b[0;32mfor\u001b[0m \u001b[0ma\u001b[0m \u001b[0;32min\u001b[0m \u001b[0mdriver\u001b[0m\u001b[0;34m.\u001b[0m\u001b[0mfind_elements_by_xpath\u001b[0m\u001b[0;34m(\u001b[0m\u001b[0;34m'.//a'\u001b[0m\u001b[0;34m)\u001b[0m\u001b[0;34m:\u001b[0m\u001b[0;34m\u001b[0m\u001b[0;34m\u001b[0m\u001b[0m\n\u001b[0;32m---> 11\u001b[0;31m         \u001b[0mall_links_ls\u001b[0m\u001b[0;34m.\u001b[0m\u001b[0mappend\u001b[0m\u001b[0;34m(\u001b[0m\u001b[0ma\u001b[0m\u001b[0;34m.\u001b[0m\u001b[0mget_attribute\u001b[0m\u001b[0;34m(\u001b[0m\u001b[0;34m'href'\u001b[0m\u001b[0;34m)\u001b[0m\u001b[0;34m)\u001b[0m\u001b[0;34m\u001b[0m\u001b[0;34m\u001b[0m\u001b[0m\n\u001b[0m\u001b[1;32m     12\u001b[0m \u001b[0;34m\u001b[0m\u001b[0m\n\u001b[1;32m     13\u001b[0m     \u001b[0;31m#make sure all elements in the list are strings\u001b[0m\u001b[0;34m\u001b[0m\u001b[0;34m\u001b[0m\u001b[0;34m\u001b[0m\u001b[0m\n",
      "\u001b[0;32m~/anaconda3/envs/metis/lib/python3.6/site-packages/selenium/webdriver/remote/webelement.py\u001b[0m in \u001b[0;36mget_attribute\u001b[0;34m(self, name)\u001b[0m\n\u001b[1;32m    141\u001b[0m                 self, name)\n\u001b[1;32m    142\u001b[0m         \u001b[0;32melse\u001b[0m\u001b[0;34m:\u001b[0m\u001b[0;34m\u001b[0m\u001b[0;34m\u001b[0m\u001b[0m\n\u001b[0;32m--> 143\u001b[0;31m             \u001b[0mresp\u001b[0m \u001b[0;34m=\u001b[0m \u001b[0mself\u001b[0m\u001b[0;34m.\u001b[0m\u001b[0m_execute\u001b[0m\u001b[0;34m(\u001b[0m\u001b[0mCommand\u001b[0m\u001b[0;34m.\u001b[0m\u001b[0mGET_ELEMENT_ATTRIBUTE\u001b[0m\u001b[0;34m,\u001b[0m \u001b[0;34m{\u001b[0m\u001b[0;34m'name'\u001b[0m\u001b[0;34m:\u001b[0m \u001b[0mname\u001b[0m\u001b[0;34m}\u001b[0m\u001b[0;34m)\u001b[0m\u001b[0;34m\u001b[0m\u001b[0;34m\u001b[0m\u001b[0m\n\u001b[0m\u001b[1;32m    144\u001b[0m             \u001b[0mattributeValue\u001b[0m \u001b[0;34m=\u001b[0m \u001b[0mresp\u001b[0m\u001b[0;34m.\u001b[0m\u001b[0mget\u001b[0m\u001b[0;34m(\u001b[0m\u001b[0;34m'value'\u001b[0m\u001b[0;34m)\u001b[0m\u001b[0;34m\u001b[0m\u001b[0;34m\u001b[0m\u001b[0m\n\u001b[1;32m    145\u001b[0m             \u001b[0;32mif\u001b[0m \u001b[0mattributeValue\u001b[0m \u001b[0;32mis\u001b[0m \u001b[0;32mnot\u001b[0m \u001b[0;32mNone\u001b[0m\u001b[0;34m:\u001b[0m\u001b[0;34m\u001b[0m\u001b[0;34m\u001b[0m\u001b[0m\n",
      "\u001b[0;32m~/anaconda3/envs/metis/lib/python3.6/site-packages/selenium/webdriver/remote/webelement.py\u001b[0m in \u001b[0;36m_execute\u001b[0;34m(self, command, params)\u001b[0m\n\u001b[1;32m    631\u001b[0m             \u001b[0mparams\u001b[0m \u001b[0;34m=\u001b[0m \u001b[0;34m{\u001b[0m\u001b[0;34m}\u001b[0m\u001b[0;34m\u001b[0m\u001b[0;34m\u001b[0m\u001b[0m\n\u001b[1;32m    632\u001b[0m         \u001b[0mparams\u001b[0m\u001b[0;34m[\u001b[0m\u001b[0;34m'id'\u001b[0m\u001b[0;34m]\u001b[0m \u001b[0;34m=\u001b[0m \u001b[0mself\u001b[0m\u001b[0;34m.\u001b[0m\u001b[0m_id\u001b[0m\u001b[0;34m\u001b[0m\u001b[0;34m\u001b[0m\u001b[0m\n\u001b[0;32m--> 633\u001b[0;31m         \u001b[0;32mreturn\u001b[0m \u001b[0mself\u001b[0m\u001b[0;34m.\u001b[0m\u001b[0m_parent\u001b[0m\u001b[0;34m.\u001b[0m\u001b[0mexecute\u001b[0m\u001b[0;34m(\u001b[0m\u001b[0mcommand\u001b[0m\u001b[0;34m,\u001b[0m \u001b[0mparams\u001b[0m\u001b[0;34m)\u001b[0m\u001b[0;34m\u001b[0m\u001b[0;34m\u001b[0m\u001b[0m\n\u001b[0m\u001b[1;32m    634\u001b[0m \u001b[0;34m\u001b[0m\u001b[0m\n\u001b[1;32m    635\u001b[0m     \u001b[0;32mdef\u001b[0m \u001b[0mfind_element\u001b[0m\u001b[0;34m(\u001b[0m\u001b[0mself\u001b[0m\u001b[0;34m,\u001b[0m \u001b[0mby\u001b[0m\u001b[0;34m=\u001b[0m\u001b[0mBy\u001b[0m\u001b[0;34m.\u001b[0m\u001b[0mID\u001b[0m\u001b[0;34m,\u001b[0m \u001b[0mvalue\u001b[0m\u001b[0;34m=\u001b[0m\u001b[0;32mNone\u001b[0m\u001b[0;34m)\u001b[0m\u001b[0;34m:\u001b[0m\u001b[0;34m\u001b[0m\u001b[0;34m\u001b[0m\u001b[0m\n",
      "\u001b[0;32m~/anaconda3/envs/metis/lib/python3.6/site-packages/selenium/webdriver/remote/webdriver.py\u001b[0m in \u001b[0;36mexecute\u001b[0;34m(self, driver_command, params)\u001b[0m\n\u001b[1;32m    319\u001b[0m         \u001b[0mresponse\u001b[0m \u001b[0;34m=\u001b[0m \u001b[0mself\u001b[0m\u001b[0;34m.\u001b[0m\u001b[0mcommand_executor\u001b[0m\u001b[0;34m.\u001b[0m\u001b[0mexecute\u001b[0m\u001b[0;34m(\u001b[0m\u001b[0mdriver_command\u001b[0m\u001b[0;34m,\u001b[0m \u001b[0mparams\u001b[0m\u001b[0;34m)\u001b[0m\u001b[0;34m\u001b[0m\u001b[0;34m\u001b[0m\u001b[0m\n\u001b[1;32m    320\u001b[0m         \u001b[0;32mif\u001b[0m \u001b[0mresponse\u001b[0m\u001b[0;34m:\u001b[0m\u001b[0;34m\u001b[0m\u001b[0;34m\u001b[0m\u001b[0m\n\u001b[0;32m--> 321\u001b[0;31m             \u001b[0mself\u001b[0m\u001b[0;34m.\u001b[0m\u001b[0merror_handler\u001b[0m\u001b[0;34m.\u001b[0m\u001b[0mcheck_response\u001b[0m\u001b[0;34m(\u001b[0m\u001b[0mresponse\u001b[0m\u001b[0;34m)\u001b[0m\u001b[0;34m\u001b[0m\u001b[0;34m\u001b[0m\u001b[0m\n\u001b[0m\u001b[1;32m    322\u001b[0m             response['value'] = self._unwrap_value(\n\u001b[1;32m    323\u001b[0m                 response.get('value', None))\n",
      "\u001b[0;32m~/anaconda3/envs/metis/lib/python3.6/site-packages/selenium/webdriver/remote/errorhandler.py\u001b[0m in \u001b[0;36mcheck_response\u001b[0;34m(self, response)\u001b[0m\n\u001b[1;32m    240\u001b[0m                 \u001b[0malert_text\u001b[0m \u001b[0;34m=\u001b[0m \u001b[0mvalue\u001b[0m\u001b[0;34m[\u001b[0m\u001b[0;34m'alert'\u001b[0m\u001b[0;34m]\u001b[0m\u001b[0;34m.\u001b[0m\u001b[0mget\u001b[0m\u001b[0;34m(\u001b[0m\u001b[0;34m'text'\u001b[0m\u001b[0;34m)\u001b[0m\u001b[0;34m\u001b[0m\u001b[0;34m\u001b[0m\u001b[0m\n\u001b[1;32m    241\u001b[0m             \u001b[0;32mraise\u001b[0m \u001b[0mexception_class\u001b[0m\u001b[0;34m(\u001b[0m\u001b[0mmessage\u001b[0m\u001b[0;34m,\u001b[0m \u001b[0mscreen\u001b[0m\u001b[0;34m,\u001b[0m \u001b[0mstacktrace\u001b[0m\u001b[0;34m,\u001b[0m \u001b[0malert_text\u001b[0m\u001b[0;34m)\u001b[0m\u001b[0;34m\u001b[0m\u001b[0;34m\u001b[0m\u001b[0m\n\u001b[0;32m--> 242\u001b[0;31m         \u001b[0;32mraise\u001b[0m \u001b[0mexception_class\u001b[0m\u001b[0;34m(\u001b[0m\u001b[0mmessage\u001b[0m\u001b[0;34m,\u001b[0m \u001b[0mscreen\u001b[0m\u001b[0;34m,\u001b[0m \u001b[0mstacktrace\u001b[0m\u001b[0;34m)\u001b[0m\u001b[0;34m\u001b[0m\u001b[0;34m\u001b[0m\u001b[0m\n\u001b[0m\u001b[1;32m    243\u001b[0m \u001b[0;34m\u001b[0m\u001b[0m\n\u001b[1;32m    244\u001b[0m     \u001b[0;32mdef\u001b[0m \u001b[0m_value_or_default\u001b[0m\u001b[0;34m(\u001b[0m\u001b[0mself\u001b[0m\u001b[0;34m,\u001b[0m \u001b[0mobj\u001b[0m\u001b[0;34m,\u001b[0m \u001b[0mkey\u001b[0m\u001b[0;34m,\u001b[0m \u001b[0mdefault\u001b[0m\u001b[0;34m)\u001b[0m\u001b[0;34m:\u001b[0m\u001b[0;34m\u001b[0m\u001b[0;34m\u001b[0m\u001b[0m\n",
      "\u001b[0;31mStaleElementReferenceException\u001b[0m: Message: stale element reference: element is not attached to the page document\n  (Session info: chrome=76.0.3809.100)\n  (Driver info: chromedriver=2.38.552518 (183d19265345f54ce39cbb94cf81ba5f15905011),platform=Mac OS X 10.14.5 x86_64)\n"
     ]
    }
   ],
   "source": [
    "complete_perfume_ls = []\n",
    "for url in perfume_ls:\n",
    "    each_page = get_perfume_links(url)\n",
    "    \n",
    "    #Note: page_links is a global variable defined in get_perf func.\n",
    "    complete_perfume_ls.append(each_page)"
   ]
  },
  {
   "cell_type": "code",
   "execution_count": 43,
   "metadata": {},
   "outputs": [
    {
     "data": {
      "text/plain": [
       "0"
      ]
     },
     "execution_count": 43,
     "metadata": {},
     "output_type": "execute_result"
    }
   ],
   "source": [
    "#list of lists\n",
    "len(complete_perfume_ls)"
   ]
  },
  {
   "cell_type": "code",
   "execution_count": 44,
   "metadata": {
    "scrolled": true
   },
   "outputs": [
    {
     "ename": "IndexError",
     "evalue": "list index out of range",
     "output_type": "error",
     "traceback": [
      "\u001b[0;31m---------------------------------------------------------------------------\u001b[0m",
      "\u001b[0;31mIndexError\u001b[0m                                Traceback (most recent call last)",
      "\u001b[0;32m<ipython-input-44-474807fb92c4>\u001b[0m in \u001b[0;36m<module>\u001b[0;34m\u001b[0m\n\u001b[0;32m----> 1\u001b[0;31m \u001b[0mlen\u001b[0m\u001b[0;34m(\u001b[0m\u001b[0mcomplete_perfume_ls\u001b[0m\u001b[0;34m[\u001b[0m\u001b[0;36m5\u001b[0m\u001b[0;34m]\u001b[0m\u001b[0;34m)\u001b[0m\u001b[0;34m\u001b[0m\u001b[0;34m\u001b[0m\u001b[0m\n\u001b[0m",
      "\u001b[0;31mIndexError\u001b[0m: list index out of range"
     ]
    }
   ],
   "source": [
    "len(complete_perfume_ls[5])"
   ]
  },
  {
   "cell_type": "code",
   "execution_count": null,
   "metadata": {},
   "outputs": [],
   "source": [
    "complete_perfume_ls[1][0]"
   ]
  },
  {
   "cell_type": "code",
   "execution_count": null,
   "metadata": {},
   "outputs": [],
   "source": [
    "numbers = 0\n",
    "for i in range(13):\n",
    "    print(len(complete_perfume_ls[i]))"
   ]
  },
  {
   "cell_type": "code",
   "execution_count": null,
   "metadata": {},
   "outputs": [],
   "source": [
    "numbers"
   ]
  },
  {
   "cell_type": "code",
   "execution_count": null,
   "metadata": {},
   "outputs": [],
   "source": [
    "complete_perfume_ls[12]"
   ]
  },
  {
   "cell_type": "code",
   "execution_count": null,
   "metadata": {},
   "outputs": [],
   "source": [
    "response = requests.get('https://www.macys.com/shop/product/tiffany-co.-sheer-eau-de-toilette-1.7-oz.-first-at-macys?ID=8053723&CategoryID=30087#fn=sp%3D13%26spc%3D1450%26ruleId%3D22%7CBOOST%20SAVED%20SET%7CBOOST%20ATTRIBUTE%26searchPass%3DmatchNone%26slotId%3D4')"
   ]
  },
  {
   "cell_type": "code",
   "execution_count": null,
   "metadata": {},
   "outputs": [],
   "source": [
    "response.status_code # status code = 200 => OK"
   ]
  },
  {
   "cell_type": "code",
   "execution_count": null,
   "metadata": {},
   "outputs": [],
   "source": [
    "perfume_ls"
   ]
  },
  {
   "cell_type": "code",
   "execution_count": null,
   "metadata": {},
   "outputs": [],
   "source": [
    "perfume_flat_list = [item for sublist in complete_perfume_ls for item in sublist]"
   ]
  },
  {
   "cell_type": "code",
   "execution_count": null,
   "metadata": {},
   "outputs": [],
   "source": [
    "len(perfume_flat_list)"
   ]
  },
  {
   "cell_type": "code",
   "execution_count": null,
   "metadata": {},
   "outputs": [],
   "source": [
    "perfume_flat_list = set(perfume_flat_list)"
   ]
  },
  {
   "cell_type": "code",
   "execution_count": null,
   "metadata": {},
   "outputs": [],
   "source": [
    "perfume_flat_list = list(perfume_flat_list)"
   ]
  },
  {
   "cell_type": "code",
   "execution_count": null,
   "metadata": {},
   "outputs": [],
   "source": [
    "len(perfume_flat_list)"
   ]
  },
  {
   "cell_type": "code",
   "execution_count": null,
   "metadata": {},
   "outputs": [],
   "source": [
    "z = 'https://www.macys.com/shop/product/'\n",
    "z[0:35]"
   ]
  },
  {
   "cell_type": "code",
   "execution_count": null,
   "metadata": {},
   "outputs": [],
   "source": [
    "num = 0\n",
    "for link in perfume_flat_list:\n",
    "    if link[0:35] == 'https://www.macys.com/shop/product/':\n",
    "        num+=1\n",
    "print(num)"
   ]
  },
  {
   "cell_type": "code",
   "execution_count": 49,
   "metadata": {},
   "outputs": [],
   "source": [
    "import pickle"
   ]
  },
  {
   "cell_type": "code",
   "execution_count": 54,
   "metadata": {},
   "outputs": [
    {
     "name": "stdout",
     "output_type": "stream",
     "text": [
      "Project4_data.ipynb   perfume_flat.pkl\r\n",
      "README.md             perfume_flat_list.pkl\r\n"
     ]
    }
   ],
   "source": [
    "!ls"
   ]
  },
  {
   "cell_type": "code",
   "execution_count": null,
   "metadata": {},
   "outputs": [],
   "source": [
    "# with open('perfume_flat_list.pkl', 'wb') as f:\n",
    "#     pickle.dump(perfume_flat_list, f)"
   ]
  },
  {
   "cell_type": "code",
   "execution_count": 55,
   "metadata": {},
   "outputs": [],
   "source": [
    "with open('perfume_flat_list.pkl','rb') as read_file:\n",
    "    perfume_flat_list = pickle.load(read_file)"
   ]
  },
  {
   "cell_type": "code",
   "execution_count": 57,
   "metadata": {},
   "outputs": [
    {
     "data": {
      "text/plain": [
       "1486"
      ]
     },
     "execution_count": 57,
     "metadata": {},
     "output_type": "execute_result"
    }
   ],
   "source": [
    "len(perfume_flat_list)"
   ]
  },
  {
   "cell_type": "code",
   "execution_count": 58,
   "metadata": {},
   "outputs": [],
   "source": [
    "df_perfume = pd.DataFrame(columns=['description', 'designer', 'frag_name', 'price'])"
   ]
  },
  {
   "cell_type": "code",
   "execution_count": 59,
   "metadata": {},
   "outputs": [
    {
     "data": {
      "text/html": [
       "<div>\n",
       "<style scoped>\n",
       "    .dataframe tbody tr th:only-of-type {\n",
       "        vertical-align: middle;\n",
       "    }\n",
       "\n",
       "    .dataframe tbody tr th {\n",
       "        vertical-align: top;\n",
       "    }\n",
       "\n",
       "    .dataframe thead th {\n",
       "        text-align: right;\n",
       "    }\n",
       "</style>\n",
       "<table border=\"1\" class=\"dataframe\">\n",
       "  <thead>\n",
       "    <tr style=\"text-align: right;\">\n",
       "      <th></th>\n",
       "      <th>description</th>\n",
       "      <th>designer</th>\n",
       "      <th>frag_name</th>\n",
       "      <th>price</th>\n",
       "    </tr>\n",
       "  </thead>\n",
       "  <tbody>\n",
       "  </tbody>\n",
       "</table>\n",
       "</div>"
      ],
      "text/plain": [
       "Empty DataFrame\n",
       "Columns: [description, designer, frag_name, price]\n",
       "Index: []"
      ]
     },
     "execution_count": 59,
     "metadata": {},
     "output_type": "execute_result"
    }
   ],
   "source": [
    "df_perfume"
   ]
  },
  {
   "cell_type": "code",
   "execution_count": 60,
   "metadata": {},
   "outputs": [],
   "source": [
    "driver = webdriver.Chrome()\n",
    "driver.get(url)\n",
    "soup_selenium = BeautifulSoup(driver.page_source)"
   ]
  },
  {
   "cell_type": "code",
   "execution_count": null,
   "metadata": {},
   "outputs": [],
   "source": [
    "col = soup_selenium.find_all(attrs={'accordion-body'})\n",
    "col"
   ]
  },
  {
   "cell_type": "code",
   "execution_count": null,
   "metadata": {
    "scrolled": true
   },
   "outputs": [],
   "source": [
    "soup_selenium.find_all(attrs={'c-reverse-link'})[0].get_text().strip()"
   ]
  },
  {
   "cell_type": "code",
   "execution_count": null,
   "metadata": {
    "scrolled": true
   },
   "outputs": [],
   "source": [
    "soup_selenium.find_all(attrs={'p-name h3'})[0].get_text().strip()"
   ]
  },
  {
   "cell_type": "code",
   "execution_count": null,
   "metadata": {},
   "outputs": [],
   "source": [
    "float(soup_selenium.find_all(attrs={'price'})[0].get_text().strip()[1:])"
   ]
  },
  {
   "cell_type": "code",
   "execution_count": null,
   "metadata": {},
   "outputs": [],
   "source": [
    "col[0].find(attrs={'c-m-v-1'}).get_text().strip()"
   ]
  },
  {
   "cell_type": "code",
   "execution_count": null,
   "metadata": {},
   "outputs": [],
   "source": [
    "' '.join([i.get_text() for i in col[0].find_all('li')])"
   ]
  },
  {
   "cell_type": "code",
   "execution_count": null,
   "metadata": {
    "scrolled": true
   },
   "outputs": [],
   "source": [
    "col[0].get_text().split('\\n')"
   ]
  },
  {
   "cell_type": "code",
   "execution_count": null,
   "metadata": {},
   "outputs": [],
   "source": [
    "url2 = 'https://www.macys.com/shop/product/chanel-coco-mademoiselle-eau-de-parfum-intense-spray-6.8-oz.?ID=8387031&CategoryID=30087#fn=sp%3D4%26spc%3D1450%26ruleId%3D22%7CBOOST%20SAVED%20SET%7CBOOST%20ATTRIBUTE%26searchPass%3DmatchNone%26slotId%3D122'"
   ]
  },
  {
   "cell_type": "code",
   "execution_count": null,
   "metadata": {},
   "outputs": [],
   "source": [
    "driver = webdriver.Chrome()\n",
    "driver.get(url2)\n",
    "soup_selenium = BeautifulSoup(driver.page_source)"
   ]
  },
  {
   "cell_type": "code",
   "execution_count": null,
   "metadata": {},
   "outputs": [],
   "source": [
    "collection = soup_selenium.find_all(attrs={'accordion-body'})\n",
    "collection"
   ]
  },
  {
   "cell_type": "code",
   "execution_count": null,
   "metadata": {},
   "outputs": [],
   "source": [
    "price_perf = float(soup_selenium.find_all(attrs={'price'})[0].get_text().strip()[1:])\n",
    "price_perf"
   ]
  },
  {
   "cell_type": "code",
   "execution_count": null,
   "metadata": {},
   "outputs": [],
   "source": [
    "desc_scrape = collection[0].get_text().split('\\n')\n",
    "desc_scrape"
   ]
  },
  {
   "cell_type": "code",
   "execution_count": null,
   "metadata": {},
   "outputs": [],
   "source": [
    "#get rid of blank values\n",
    "desc_scrape = list(filter(None, desc_scrape))\n",
    "#get rid of white space\n",
    "desc_scrape = [val.strip() for val in desc_scrape]\n",
    "#get rid of product ID\n",
    "desc_scrape = desc_scrape[:-1]\n",
    "#convert list of strings into a single string\n",
    "desc_scrape = \" \".join(desc_scrape)"
   ]
  },
  {
   "cell_type": "code",
   "execution_count": null,
   "metadata": {
    "scrolled": true
   },
   "outputs": [],
   "source": [
    "desc_scrape"
   ]
  },
  {
   "cell_type": "code",
   "execution_count": null,
   "metadata": {},
   "outputs": [],
   "source": [
    "designer_perf = soup_selenium.find_all(attrs={'c-reverse-link'})[0].get_text().strip()\n",
    "designer_perf"
   ]
  },
  {
   "cell_type": "code",
   "execution_count": null,
   "metadata": {},
   "outputs": [],
   "source": [
    "#trial for coco\n",
    "perf_name = soup_selenium.find_all(attrs={'p-name'})[0].get_text().strip()\n",
    "perf_name"
   ]
  },
  {
   "cell_type": "code",
   "execution_count": null,
   "metadata": {},
   "outputs": [],
   "source": [
    "perf_name = soup_selenium.find_all(attrs={'p-name h3'})[0].get_text().strip()\n",
    "perf_name"
   ]
  },
  {
   "cell_type": "code",
   "execution_count": null,
   "metadata": {},
   "outputs": [],
   "source": [
    "df_perfume.columns"
   ]
  },
  {
   "cell_type": "code",
   "execution_count": null,
   "metadata": {},
   "outputs": [],
   "source": [
    "df_perfume = df_perfume.append({'description':desc_scrape, \n",
    "                                'designer':designer_perf, \n",
    "                                'frag_name':perf_name, \n",
    "                                'price':price_perf},\n",
    "                              ignore_index=True)"
   ]
  },
  {
   "cell_type": "code",
   "execution_count": null,
   "metadata": {},
   "outputs": [],
   "source": [
    "print(type(df_perfume.iloc[0][0]), df_perfume.iloc[0][0])"
   ]
  },
  {
   "cell_type": "markdown",
   "metadata": {},
   "source": [
    "## Got the 2 examples to work, now let's automate for the 1400+ perfumes"
   ]
  },
  {
   "cell_type": "code",
   "execution_count": null,
   "metadata": {
    "scrolled": true
   },
   "outputs": [],
   "source": [
    "url1 = 'https://www.macys.com/shop/product/carolina-herrera-good-girl-dot-drama-collector-eau-de-parfum-2.7-oz.?ID=8483717&CategoryID=30087#fn=sp%3D1%26spc%3D1450%26ruleId%3D22%7CBOOST%20SAVED%20SET%7CBOOST%20ATTRIBUTE%26searchPass%3DmatchNone%26slotId%3D29'"
   ]
  },
  {
   "cell_type": "code",
   "execution_count": null,
   "metadata": {
    "scrolled": true
   },
   "outputs": [],
   "source": [
    "url2"
   ]
  },
  {
   "cell_type": "code",
   "execution_count": null,
   "metadata": {},
   "outputs": [],
   "source": [
    "ls_two = [url1,url2]"
   ]
  },
  {
   "cell_type": "code",
   "execution_count": null,
   "metadata": {},
   "outputs": [],
   "source": [
    "for i in ls_two:\n",
    "    driver = webdriver.Chrome()\n",
    "    driver.get(i)\n",
    "    soup_selenium = BeautifulSoup(driver.page_source)\n",
    "    driver.close()\n"
   ]
  },
  {
   "cell_type": "code",
   "execution_count": 66,
   "metadata": {},
   "outputs": [],
   "source": [
    "df_perfume = pd.DataFrame(columns=['description', 'designer', 'frag_name', 'price'])"
   ]
  },
  {
   "cell_type": "code",
   "execution_count": 69,
   "metadata": {
    "scrolled": true
   },
   "outputs": [
    {
     "data": {
      "text/html": [
       "<div>\n",
       "<style scoped>\n",
       "    .dataframe tbody tr th:only-of-type {\n",
       "        vertical-align: middle;\n",
       "    }\n",
       "\n",
       "    .dataframe tbody tr th {\n",
       "        vertical-align: top;\n",
       "    }\n",
       "\n",
       "    .dataframe thead th {\n",
       "        text-align: right;\n",
       "    }\n",
       "</style>\n",
       "<table border=\"1\" class=\"dataframe\">\n",
       "  <thead>\n",
       "    <tr style=\"text-align: right;\">\n",
       "      <th></th>\n",
       "      <th>description</th>\n",
       "      <th>designer</th>\n",
       "      <th>frag_name</th>\n",
       "      <th>price</th>\n",
       "    </tr>\n",
       "  </thead>\n",
       "  <tbody>\n",
       "  </tbody>\n",
       "</table>\n",
       "</div>"
      ],
      "text/plain": [
       "Empty DataFrame\n",
       "Columns: [description, designer, frag_name, price]\n",
       "Index: []"
      ]
     },
     "execution_count": 69,
     "metadata": {},
     "output_type": "execute_result"
    }
   ],
   "source": [
    "df_perfume"
   ]
  },
  {
   "cell_type": "code",
   "execution_count": 68,
   "metadata": {},
   "outputs": [
    {
     "data": {
      "text/plain": [
       "1486"
      ]
     },
     "execution_count": 68,
     "metadata": {},
     "output_type": "execute_result"
    }
   ],
   "source": [
    "len(perfume_flat_list)"
   ]
  },
  {
   "cell_type": "code",
   "execution_count": 62,
   "metadata": {},
   "outputs": [
    {
     "data": {
      "text/plain": [
       "['https://www.macys.com/shop/product/pour-le-monde-empower-100-certified-natural-eau-de-parfum-1.7-oz?ID=2854150&CategoryID=30087#fn=sp%3D12%26spc%3D1450%26ruleId%3D22%7CBOOST%20SAVED%20SET%7CBOOST%20ATTRIBUTE%26searchPass%3DmatchNone%26slotId%3D76',\n",
       " 'https://www.macys.com/shop/product/clean-fragrance-endless-summer-limited-edition-eau-de-toilette-2-oz.?ID=9346217&CategoryID=30087#fn=sp%3D4%26spc%3D1450%26ruleId%3D22%7CBOOST%20SAVED%20SET%7CBOOST%20ATTRIBUTE%26searchPass%3DmatchNone%26slotId%3D97',\n",
       " 'https://www.macys.com/shop/product/chanel-coco-mademoiselle-eau-de-parfum-intense-spray-6.8-oz.?ID=8387031&CategoryID=30087#fn=sp%3D4%26spc%3D1450%26ruleId%3D22%7CBOOST%20SAVED%20SET%7CBOOST%20ATTRIBUTE%26searchPass%3DmatchNone%26slotId%3D122',\n",
       " 'https://www.macys.com/shop/product/gucci-bamboo-eau-de-parfum-rollerball-0.25-oz?ID=3060393&CategoryID=30087#fn=sp%3D10%26spc%3D1450%26ruleId%3D22%7CBOOST%20SAVED%20SET%7CBOOST%20ATTRIBUTE%26searchPass%3DmatchNone%26slotId%3D92',\n",
       " 'https://www.macys.com/shop/product/kilian-boys-eau-de-parfum-spray-1-oz.?ID=9381645&CategoryID=30087#fn=sp%3D6%26spc%3D1450%26ruleId%3D22%7CBOOST%20SAVED%20SET%7CBOOST%20ATTRIBUTE%26searchPass%3DmatchNone%26slotId%3D90']"
      ]
     },
     "execution_count": 62,
     "metadata": {},
     "output_type": "execute_result"
    }
   ],
   "source": [
    "perfume_flat_list[0:5]"
   ]
  },
  {
   "cell_type": "code",
   "execution_count": 112,
   "metadata": {
    "scrolled": false
   },
   "outputs": [],
   "source": [
    "#make sure to reset the dataframe\n",
    "\n",
    "for ea_url in perfume_flat_list[1270:]:\n",
    "\n",
    "    driver = webdriver.Chrome()\n",
    "    driver.get(ea_url)\n",
    "    soup_selenium = BeautifulSoup(driver.page_source)\n",
    "\n",
    "    #get all the HTML from ea_link\n",
    "    collection = soup_selenium.find_all(attrs={'accordion-body'})\n",
    "\n",
    "\n",
    "    #get perfume description / clean a bit\n",
    "    desc_scrape = collection[0].get_text().split('\\n')\n",
    "    #get rid of blank values\n",
    "    desc_scrape = list(filter(None, desc_scrape))\n",
    "    #get rid of white space\n",
    "    desc_scrape = [val.strip() for val in desc_scrape]\n",
    "    #get rid of product ID\n",
    "    desc_scrape = desc_scrape[:-1]\n",
    "    #convert list of strings into a single string\n",
    "    desc_scrape = \" \".join(desc_scrape)\n",
    "\n",
    "\n",
    "    #get designer name of perfume\n",
    "    designer_perf = soup_selenium.find_all(attrs={'c-reverse-link'})[0].get_text().strip()\n",
    "\n",
    "\n",
    "    #get name of perfume bottle\n",
    "    perf_name = soup_selenium.find_all(attrs={'p-name'})[0].get_text().strip()\n",
    "\n",
    "\n",
    "    #get perfume price\n",
    "    try:\n",
    "        price_perf = float(soup_selenium.find_all(attrs={'price'})[0].get_text().strip()[1:])\n",
    "    except:\n",
    "        price_perf = np.nan\n",
    "\n",
    "\n",
    "    #append the DF\n",
    "    df_perfume = df_perfume.append({'description':desc_scrape, \n",
    "                                    'designer':designer_perf, \n",
    "                                    'frag_name':perf_name, \n",
    "                                    'price':price_perf}, \n",
    "                                   ignore_index=True)\n",
    "\n",
    "    driver.close()\n"
   ]
  },
  {
   "cell_type": "markdown",
   "metadata": {},
   "source": [
    "Broken links: \n",
    "perf_flat_list[285]\n",
    "perf_flat_list[453] chanel 2pc set"
   ]
  },
  {
   "cell_type": "code",
   "execution_count": 113,
   "metadata": {},
   "outputs": [
    {
     "data": {
      "text/html": [
       "<div>\n",
       "<style scoped>\n",
       "    .dataframe tbody tr th:only-of-type {\n",
       "        vertical-align: middle;\n",
       "    }\n",
       "\n",
       "    .dataframe tbody tr th {\n",
       "        vertical-align: top;\n",
       "    }\n",
       "\n",
       "    .dataframe thead th {\n",
       "        text-align: right;\n",
       "    }\n",
       "</style>\n",
       "<table border=\"1\" class=\"dataframe\">\n",
       "  <thead>\n",
       "    <tr style=\"text-align: right;\">\n",
       "      <th></th>\n",
       "      <th>description</th>\n",
       "      <th>designer</th>\n",
       "      <th>frag_name</th>\n",
       "      <th>price</th>\n",
       "    </tr>\n",
       "  </thead>\n",
       "  <tbody>\n",
       "    <tr>\n",
       "      <th>0</th>\n",
       "      <td>Sporty. Invigorating. Refreshing. Men and wome...</td>\n",
       "      <td>Pour Le Monde</td>\n",
       "      <td>EMPOWER 100% Certified Natural Eau de Parfum, ...</td>\n",
       "      <td>82.0</td>\n",
       "    </tr>\n",
       "    <tr>\n",
       "      <th>1</th>\n",
       "      <td>This fragrance evokes both the joyful feeling ...</td>\n",
       "      <td>CLEAN Fragrance</td>\n",
       "      <td>Endless Summer Limited Edition Eau de Toilette...</td>\n",
       "      <td>68.0</td>\n",
       "    </tr>\n",
       "    <tr>\n",
       "      <th>2</th>\n",
       "      <td>An intense new facet of the COCO MADEMOISELLE ...</td>\n",
       "      <td>CHANEL</td>\n",
       "      <td>Eau de Parfum Intense Spray, 6.8-oz.</td>\n",
       "      <td>225.0</td>\n",
       "    </tr>\n",
       "    <tr>\n",
       "      <th>3</th>\n",
       "      <td>Gucci Bamboo emanates the Gucci woman's divers...</td>\n",
       "      <td>Gucci</td>\n",
       "      <td>Bamboo Eau de Parfum Rollerball, 0.25 oz</td>\n",
       "      <td>34.0</td>\n",
       "    </tr>\n",
       "    <tr>\n",
       "      <th>4</th>\n",
       "      <td>Bad Boys are no good but good Boys are no fun....</td>\n",
       "      <td>Kilian</td>\n",
       "      <td>Boys Eau de Parfum Spray, 1-oz.</td>\n",
       "      <td>75.0</td>\n",
       "    </tr>\n",
       "    <tr>\n",
       "      <th>5</th>\n",
       "      <td>Oud, one of the world's most precious oils, is...</td>\n",
       "      <td>Ralph Lauren</td>\n",
       "      <td>Oud Eau de Parfum Spray, 1.7-oz.</td>\n",
       "      <td>120.0</td>\n",
       "    </tr>\n",
       "    <tr>\n",
       "      <th>6</th>\n",
       "      <td>Created by Hubert de Givenchy as an homage to ...</td>\n",
       "      <td>Givenchy</td>\n",
       "      <td>Organza Indecence Eau de Parfum Spray, 3.3 oz</td>\n",
       "      <td>100.0</td>\n",
       "    </tr>\n",
       "    <tr>\n",
       "      <th>7</th>\n",
       "      <td>The brightness of Italian bergamot and Provenc...</td>\n",
       "      <td>CLEAN Fragrance</td>\n",
       "      <td>Classic Ultimate Fragrance Spray, 1-oz.</td>\n",
       "      <td>44.0</td>\n",
       "    </tr>\n",
       "    <tr>\n",
       "      <th>8</th>\n",
       "      <td>Dream. Dare. Laugh. Love. Experience the fragr...</td>\n",
       "      <td>Ralph Lauren</td>\n",
       "      <td>RALPH by Ralph Lauren Eau de Toilette Spray, 1...</td>\n",
       "      <td>62.0</td>\n",
       "    </tr>\n",
       "    <tr>\n",
       "      <th>9</th>\n",
       "      <td>For Valentine's Day, discover Prada Parfums' C...</td>\n",
       "      <td>Prada</td>\n",
       "      <td>Candy Eau de Parfum 3-Pc. Gift Set</td>\n",
       "      <td>124.0</td>\n",
       "    </tr>\n",
       "    <tr>\n",
       "      <th>10</th>\n",
       "      <td>COACH Eau de Parfum is inspired by the spontan...</td>\n",
       "      <td>COACH</td>\n",
       "      <td>Eau de Parfum Spray, 3 oz</td>\n",
       "      <td>100.0</td>\n",
       "    </tr>\n",
       "    <tr>\n",
       "      <th>11</th>\n",
       "      <td>Reveal the carats that shine within you. A bou...</td>\n",
       "      <td>Cartier</td>\n",
       "      <td>2-Pc. Carat Discovery Set</td>\n",
       "      <td>50.0</td>\n",
       "    </tr>\n",
       "    <tr>\n",
       "      <th>12</th>\n",
       "      <td>Vibrant. Sparkling. Transportive. To Tom Ford,...</td>\n",
       "      <td>Tom Ford</td>\n",
       "      <td>Neroli Portofino Eau de Parfum, 3.4 oz</td>\n",
       "      <td>325.0</td>\n",
       "    </tr>\n",
       "    <tr>\n",
       "      <th>13</th>\n",
       "      <td>From one drop to infinity, make J'adore yours....</td>\n",
       "      <td>Dior</td>\n",
       "      <td>J'adore Touch de Parfum, 0.7 oz.</td>\n",
       "      <td>100.0</td>\n",
       "    </tr>\n",
       "    <tr>\n",
       "      <th>14</th>\n",
       "      <td>An ode to purity, the simple and beautiful L'E...</td>\n",
       "      <td>Issey Miyake</td>\n",
       "      <td>L'Eau d'Issey Pure Eau de Parfum, 1.6 oz</td>\n",
       "      <td>90.0</td>\n",
       "    </tr>\n",
       "    <tr>\n",
       "      <th>15</th>\n",
       "      <td>Evoking thousands of kisses, the iconic lips r...</td>\n",
       "      <td>Prada</td>\n",
       "      <td>Candy Kiss Eau de Parfum Spray, 1.7 oz</td>\n",
       "      <td>94.0</td>\n",
       "    </tr>\n",
       "    <tr>\n",
       "      <th>16</th>\n",
       "      <td>A fresh and green unisex fragrance, inspired b...</td>\n",
       "      <td>ABBOTT</td>\n",
       "      <td>Voyageurs Eau de Parfum, 1.7-oz.</td>\n",
       "      <td>75.0</td>\n",
       "    </tr>\n",
       "    <tr>\n",
       "      <th>17</th>\n",
       "      <td>A crisp floral fragrance that captures the fee...</td>\n",
       "      <td>Clinique</td>\n",
       "      <td>Happy In Bloom Perfume Spray, 1.7-oz.</td>\n",
       "      <td>53.0</td>\n",
       "    </tr>\n",
       "    <tr>\n",
       "      <th>18</th>\n",
       "      <td>Aromatic. Distinguished. Wild. The unbridled n...</td>\n",
       "      <td>Tom Ford</td>\n",
       "      <td>Vert d'Encens Eau de Parfum, 1.7-oz.</td>\n",
       "      <td>240.0</td>\n",
       "    </tr>\n",
       "    <tr>\n",
       "      <th>19</th>\n",
       "      <td>Discover your fragrance with its moisturizing ...</td>\n",
       "      <td>Dior</td>\n",
       "      <td>Miss Dior Eau de Parfum 3-Pc. Gift Set</td>\n",
       "      <td>144.0</td>\n",
       "    </tr>\n",
       "    <tr>\n",
       "      <th>20</th>\n",
       "      <td>The delightful new spirit in fragrance. Fresh ...</td>\n",
       "      <td>Estée Lauder</td>\n",
       "      <td>Pleasures Jumbo Spray, 5 oz.</td>\n",
       "      <td>130.0</td>\n",
       "    </tr>\n",
       "    <tr>\n",
       "      <th>21</th>\n",
       "      <td>London's Covent Garden early morning market. S...</td>\n",
       "      <td>Jo Malone London</td>\n",
       "      <td>Nectarine Blossom &amp; Honey Cologne, 1-oz.</td>\n",
       "      <td>70.0</td>\n",
       "    </tr>\n",
       "    <tr>\n",
       "      <th>22</th>\n",
       "      <td>The wildness of honeysuckle, winding through t...</td>\n",
       "      <td>Jo Malone London</td>\n",
       "      <td>Honeysuckle &amp; Davana Cologne, 1-oz.</td>\n",
       "      <td>70.0</td>\n",
       "    </tr>\n",
       "    <tr>\n",
       "      <th>23</th>\n",
       "      <td>Lancôme reinvents the iconic La Vie Est Belle ...</td>\n",
       "      <td>Lancôme</td>\n",
       "      <td>La Vie Est Belle x Lady Pink, 1.7 fl. oz.</td>\n",
       "      <td>94.0</td>\n",
       "    </tr>\n",
       "    <tr>\n",
       "      <th>24</th>\n",
       "      <td>A radiant lush floral with sparkling fruits an...</td>\n",
       "      <td>Vince Camuto</td>\n",
       "      <td>2-Pc. Amore Gift Set</td>\n",
       "      <td>45.0</td>\n",
       "    </tr>\n",
       "    <tr>\n",
       "      <th>25</th>\n",
       "      <td>Before creating the House of Chanel, Coco was ...</td>\n",
       "      <td>CHANEL</td>\n",
       "      <td>Eau de Parfum Spray, 1.7-oz.</td>\n",
       "      <td>105.0</td>\n",
       "    </tr>\n",
       "    <tr>\n",
       "      <th>26</th>\n",
       "      <td>French Sophistication. Romance. Love. Live la ...</td>\n",
       "      <td>Michel Germain</td>\n",
       "      <td>Sexual Paris Eau de Parfum, 4.2 oz - A Macy's ...</td>\n",
       "      <td>102.0</td>\n",
       "    </tr>\n",
       "    <tr>\n",
       "      <th>27</th>\n",
       "      <td>Ancient Chinese tradition holds that where the...</td>\n",
       "      <td>Origins</td>\n",
       "      <td>Ginger Essence™ Sensuous skin scent 1.7 oz.</td>\n",
       "      <td>50.0</td>\n",
       "    </tr>\n",
       "    <tr>\n",
       "      <th>28</th>\n",
       "      <td>A tribute to a woman's body. Jean Paul Gaultie...</td>\n",
       "      <td>Jean Paul Gaultier</td>\n",
       "      <td>\"CLASSIQUE\" Eau de Toilette Natural Spray, 3.3...</td>\n",
       "      <td>106.0</td>\n",
       "    </tr>\n",
       "    <tr>\n",
       "      <th>29</th>\n",
       "      <td>Hints of dewy flower petals and warm musk crea...</td>\n",
       "      <td>CLEAN Fragrance</td>\n",
       "      <td>Classic Skin Fragrance Spray, 2-oz.</td>\n",
       "      <td>74.0</td>\n",
       "    </tr>\n",
       "    <tr>\n",
       "      <th>...</th>\n",
       "      <td>...</td>\n",
       "      <td>...</td>\n",
       "      <td>...</td>\n",
       "      <td>...</td>\n",
       "    </tr>\n",
       "    <tr>\n",
       "      <th>1454</th>\n",
       "      <td>Tempting Paradise captivates you from the firs...</td>\n",
       "      <td>Sofia Vergara</td>\n",
       "      <td>3-Pc. Tempting Paradise Gift Set</td>\n",
       "      <td>50.0</td>\n",
       "    </tr>\n",
       "    <tr>\n",
       "      <th>1455</th>\n",
       "      <td>A fresh and green fragrance created from the o...</td>\n",
       "      <td>Gucci</td>\n",
       "      <td>Bloom Acqua di Fiori Eau de Toilette Spray, 3....</td>\n",
       "      <td>112.0</td>\n",
       "    </tr>\n",
       "    <tr>\n",
       "      <th>1456</th>\n",
       "      <td>Reading is magic, words that evoke emotions fr...</td>\n",
       "      <td>Nobile 1942</td>\n",
       "      <td>1001 Eau de Parfum, 2.5-oz.</td>\n",
       "      <td>235.0</td>\n",
       "    </tr>\n",
       "    <tr>\n",
       "      <th>1457</th>\n",
       "      <td>The Only One captures the essence of sophistic...</td>\n",
       "      <td>Dolce &amp; Gabbana</td>\n",
       "      <td>DOLCE&amp;GABBANA The Only One Eau de Parfum, 1.6-oz.</td>\n",
       "      <td>94.0</td>\n",
       "    </tr>\n",
       "    <tr>\n",
       "      <th>1458</th>\n",
       "      <td>Exposing itself at first moment, black orchid ...</td>\n",
       "      <td>Tom Ford</td>\n",
       "      <td>Black Orchid Eau de Toilette Spray, 1.7 oz.</td>\n",
       "      <td>110.0</td>\n",
       "    </tr>\n",
       "    <tr>\n",
       "      <th>1459</th>\n",
       "      <td>Bella celebrates allure, passion and sensualit...</td>\n",
       "      <td>Vince Camuto</td>\n",
       "      <td>Bella Eau de Parfum Rollerball, 0.2 oz</td>\n",
       "      <td>25.0</td>\n",
       "    </tr>\n",
       "    <tr>\n",
       "      <th>1460</th>\n",
       "      <td>Laura Mercier Crème Brulee Eau de Toilettes is...</td>\n",
       "      <td>Laura Mercier</td>\n",
       "      <td>Crème Brulee Eau de Toilette, 1.7 oz.</td>\n",
       "      <td>60.0</td>\n",
       "    </tr>\n",
       "    <tr>\n",
       "      <th>1461</th>\n",
       "      <td>Gucci Guilty is about the feeling that you can...</td>\n",
       "      <td>Gucci</td>\n",
       "      <td>Guilty Eau de Toilette, 1.7 oz</td>\n",
       "      <td>78.0</td>\n",
       "    </tr>\n",
       "    <tr>\n",
       "      <th>1462</th>\n",
       "      <td>A natural perfume spray to create a unique aro...</td>\n",
       "      <td>RITUALS</td>\n",
       "      <td>Wild Fig Parfum d'Interieur, 16.9 fl. oz.</td>\n",
       "      <td>29.0</td>\n",
       "    </tr>\n",
       "    <tr>\n",
       "      <th>1463</th>\n",
       "      <td>Created by the world's best perfumers and insp...</td>\n",
       "      <td>RITUALS</td>\n",
       "      <td>Fleurs de l'Himalaya, 1.69 fl. oz.</td>\n",
       "      <td>49.0</td>\n",
       "    </tr>\n",
       "    <tr>\n",
       "      <th>1464</th>\n",
       "      <td>Vibrant. Sparkling. Transportive. NEROLI PORTO...</td>\n",
       "      <td>Tom Ford</td>\n",
       "      <td>NEROLI PORTOFINO ACQUA Eau de Toilette Spray, ...</td>\n",
       "      <td>180.0</td>\n",
       "    </tr>\n",
       "    <tr>\n",
       "      <th>1465</th>\n",
       "      <td>A clear gel with beautiful golden pearlescence...</td>\n",
       "      <td>Estée Lauder</td>\n",
       "      <td>Beautiful Belle Refreshing Shower Gel, 6.7-oz.</td>\n",
       "      <td>55.0</td>\n",
       "    </tr>\n",
       "    <tr>\n",
       "      <th>1466</th>\n",
       "      <td>Sexual Noir, The mysteriously playful cocktail...</td>\n",
       "      <td>Michel Germain</td>\n",
       "      <td>sexual noir Eau de Parfum, 2.5 oz - A Macy's E...</td>\n",
       "      <td>80.0</td>\n",
       "    </tr>\n",
       "    <tr>\n",
       "      <th>1467</th>\n",
       "      <td>A single-flower fragrance that's a poetic ode ...</td>\n",
       "      <td>HERMÈS</td>\n",
       "      <td>Eau de Toilette, 3.3-oz.</td>\n",
       "      <td>159.0</td>\n",
       "    </tr>\n",
       "    <tr>\n",
       "      <th>1468</th>\n",
       "      <td>Experience the opulent, sensual fragrance of L...</td>\n",
       "      <td>Paco Rabanne</td>\n",
       "      <td>Lady Million Eau de Parfum Spray, 1.7 oz.</td>\n",
       "      <td>84.0</td>\n",
       "    </tr>\n",
       "    <tr>\n",
       "      <th>1469</th>\n",
       "      <td>PRODUCT: A modern, fresh and vibrant embodimen...</td>\n",
       "      <td>CHANEL</td>\n",
       "      <td>Eau de Toilette Spray, 1.7 oz</td>\n",
       "      <td>105.0</td>\n",
       "    </tr>\n",
       "    <tr>\n",
       "      <th>1470</th>\n",
       "      <td>The perfect choice for any woman in your life:...</td>\n",
       "      <td>Hugo Boss BOSS</td>\n",
       "      <td>The Scent For Her Eau de Parfum 2-pc Gift Set</td>\n",
       "      <td>108.0</td>\n",
       "    </tr>\n",
       "    <tr>\n",
       "      <th>1471</th>\n",
       "      <td>One of the world's leading lifestyle brands, C...</td>\n",
       "      <td>Calvin Klein</td>\n",
       "      <td>euphoria Eau de Parfum Spray, 3.4 oz</td>\n",
       "      <td>96.0</td>\n",
       "    </tr>\n",
       "    <tr>\n",
       "      <th>1472</th>\n",
       "      <td>Discover Brit For Her, a sensual and addictive...</td>\n",
       "      <td>Burberry</td>\n",
       "      <td>Brit For Her Eau de Parfum 2-pc Gift Set</td>\n",
       "      <td>115.0</td>\n",
       "    </tr>\n",
       "    <tr>\n",
       "      <th>1473</th>\n",
       "      <td>The women's fragrance that evokes the timeless...</td>\n",
       "      <td>Ralph Lauren</td>\n",
       "      <td>Romance Eau de Parfum Spray, 1.7 oz.</td>\n",
       "      <td>78.0</td>\n",
       "    </tr>\n",
       "    <tr>\n",
       "      <th>1474</th>\n",
       "      <td>The exquisite Angel Eau de Toilette reveals a ...</td>\n",
       "      <td>Mugler</td>\n",
       "      <td>ANGEL Refillable Eau de Toilette, 2.7 oz.</td>\n",
       "      <td>98.0</td>\n",
       "    </tr>\n",
       "    <tr>\n",
       "      <th>1475</th>\n",
       "      <td>Discover Blooming Bouquet, the newest interpre...</td>\n",
       "      <td>Dior</td>\n",
       "      <td>Miss Dior Blooming Bouquet Eau de Toilette Spr...</td>\n",
       "      <td>80.0</td>\n",
       "    </tr>\n",
       "    <tr>\n",
       "      <th>1476</th>\n",
       "      <td>Attractive. Addictive. Magnetic. Tantalizing a...</td>\n",
       "      <td>Mugler</td>\n",
       "      <td>Angel Muse Eau de Parfum Spray, 1.7 oz</td>\n",
       "      <td>95.0</td>\n",
       "    </tr>\n",
       "    <tr>\n",
       "      <th>1477</th>\n",
       "      <td>Evoking thousands of kisses, the iconic lips r...</td>\n",
       "      <td>Prada</td>\n",
       "      <td>Candy Kiss Eau de Parfum Spray, 2.7 oz</td>\n",
       "      <td>124.0</td>\n",
       "    </tr>\n",
       "    <tr>\n",
       "      <th>1478</th>\n",
       "      <td>Narciso Rodriguez Fleur Musc. A sparkling and ...</td>\n",
       "      <td>Narciso Rodriguez</td>\n",
       "      <td>3-Pc. Fleur Musc Eau de Toilette Gift Set</td>\n",
       "      <td>124.0</td>\n",
       "    </tr>\n",
       "    <tr>\n",
       "      <th>1479</th>\n",
       "      <td>A blend of \"\"merveilles\"\", mouth-watering and ...</td>\n",
       "      <td>HERMÈS</td>\n",
       "      <td>Eau de Parfum, 3.3-oz.</td>\n",
       "      <td>166.0</td>\n",
       "    </tr>\n",
       "    <tr>\n",
       "      <th>1480</th>\n",
       "      <td>You see it in the sparkle of an eye, in the vi...</td>\n",
       "      <td>Lancôme</td>\n",
       "      <td>La vie est belle L'Éclat, 1.7-oz.</td>\n",
       "      <td>96.0</td>\n",
       "    </tr>\n",
       "    <tr>\n",
       "      <th>1481</th>\n",
       "      <td>Tantalizing. Delicious. Supremely feminine. Su...</td>\n",
       "      <td>Mugler</td>\n",
       "      <td>ANGEL Muse Eau de Parfum Refillable Spray, 3.4 oz</td>\n",
       "      <td>125.0</td>\n",
       "    </tr>\n",
       "    <tr>\n",
       "      <th>1482</th>\n",
       "      <td>She's irreverent and unconventional with an in...</td>\n",
       "      <td>Juicy Couture</td>\n",
       "      <td>I AM JUICY COUTURE Eau de Parfum, 1.7 oz</td>\n",
       "      <td>76.0</td>\n",
       "    </tr>\n",
       "    <tr>\n",
       "      <th>1483</th>\n",
       "      <td>Estée  Lauder pleasures is the delightful new ...</td>\n",
       "      <td>Estée Lauder</td>\n",
       "      <td>pleasures Body Lotion, 8.4 oz</td>\n",
       "      <td>55.0</td>\n",
       "    </tr>\n",
       "  </tbody>\n",
       "</table>\n",
       "<p>1484 rows × 4 columns</p>\n",
       "</div>"
      ],
      "text/plain": [
       "                                            description         designer  \\\n",
       "0     Sporty. Invigorating. Refreshing. Men and wome...    Pour Le Monde   \n",
       "1     This fragrance evokes both the joyful feeling ...  CLEAN Fragrance   \n",
       "2     An intense new facet of the COCO MADEMOISELLE ...           CHANEL   \n",
       "3     Gucci Bamboo emanates the Gucci woman's divers...            Gucci   \n",
       "4     Bad Boys are no good but good Boys are no fun....           Kilian   \n",
       "...                                                 ...              ...   \n",
       "1479  A blend of \"\"merveilles\"\", mouth-watering and ...           HERMÈS   \n",
       "1480  You see it in the sparkle of an eye, in the vi...          Lancôme   \n",
       "1481  Tantalizing. Delicious. Supremely feminine. Su...           Mugler   \n",
       "1482  She's irreverent and unconventional with an in...    Juicy Couture   \n",
       "1483  Estée  Lauder pleasures is the delightful new ...     Estée Lauder   \n",
       "\n",
       "                                              frag_name  price  \n",
       "0     EMPOWER 100% Certified Natural Eau de Parfum, ...   82.0  \n",
       "1     Endless Summer Limited Edition Eau de Toilette...   68.0  \n",
       "2                  Eau de Parfum Intense Spray, 6.8-oz.  225.0  \n",
       "3              Bamboo Eau de Parfum Rollerball, 0.25 oz   34.0  \n",
       "4                       Boys Eau de Parfum Spray, 1-oz.   75.0  \n",
       "...                                                 ...    ...  \n",
       "1479                             Eau de Parfum, 3.3-oz.  166.0  \n",
       "1480                  La vie est belle L'Éclat, 1.7-oz.   96.0  \n",
       "1481  ANGEL Muse Eau de Parfum Refillable Spray, 3.4 oz  125.0  \n",
       "1482           I AM JUICY COUTURE Eau de Parfum, 1.7 oz   76.0  \n",
       "1483                      pleasures Body Lotion, 8.4 oz   55.0  \n",
       "\n",
       "[1484 rows x 4 columns]"
      ]
     },
     "execution_count": 113,
     "metadata": {},
     "output_type": "execute_result"
    }
   ],
   "source": [
    "df_perfume"
   ]
  },
  {
   "cell_type": "code",
   "execution_count": 111,
   "metadata": {},
   "outputs": [
    {
     "data": {
      "text/plain": [
       "'https://www.macys.com/shop/product/english-laundry-3-pc.-womens-coffret-gift-set?ID=2849026&CategoryID=30087#fn=sp%3D10%26spc%3D1450%26ruleId%3D22%7CBOOST%20SAVED%20SET%7CBOOST%20ATTRIBUTE%26searchPass%3DmatchNone%26slotId%3D49'"
      ]
     },
     "execution_count": 111,
     "metadata": {},
     "output_type": "execute_result"
    }
   ],
   "source": [
    "perfume_flat_list[1270]"
   ]
  },
  {
   "cell_type": "code",
   "execution_count": 114,
   "metadata": {},
   "outputs": [],
   "source": [
    "with open('df_perfume.pkl', 'wb') as to_write:\n",
    "    pickle.dump(df_perfume, to_write)"
   ]
  },
  {
   "cell_type": "code",
   "execution_count": null,
   "metadata": {},
   "outputs": [],
   "source": []
  }
 ],
 "metadata": {
  "kernelspec": {
   "display_name": "metis",
   "language": "python",
   "name": "metis"
  },
  "language_info": {
   "codemirror_mode": {
    "name": "ipython",
    "version": 3
   },
   "file_extension": ".py",
   "mimetype": "text/x-python",
   "name": "python",
   "nbconvert_exporter": "python",
   "pygments_lexer": "ipython3",
   "version": "3.6.9"
  }
 },
 "nbformat": 4,
 "nbformat_minor": 2
}
