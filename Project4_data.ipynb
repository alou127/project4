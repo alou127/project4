{
 "cells": [
  {
   "cell_type": "markdown",
   "metadata": {},
   "source": [
    "# Project 4"
   ]
  },
  {
   "cell_type": "code",
   "execution_count": 1,
   "metadata": {},
   "outputs": [],
   "source": [
    "import numpy as np\n",
    "import pandas as pd"
   ]
  },
  {
   "cell_type": "code",
   "execution_count": 2,
   "metadata": {},
   "outputs": [
    {
     "data": {
      "text/plain": [
       "['/Users/alexlou/anaconda3/envs/metis/lib/python3.7/site-packages/requests']"
      ]
     },
     "execution_count": 2,
     "metadata": {},
     "output_type": "execute_result"
    }
   ],
   "source": [
    "import requests\n",
    "requests.__path__"
   ]
  },
  {
   "cell_type": "code",
   "execution_count": 11,
   "metadata": {},
   "outputs": [],
   "source": [
    "url = 'https://www.macys.com/shop/makeup-and-perfume/perfume/Productsperpage/120?id=30087'\n",
    "\n",
    "response = requests.get(url)"
   ]
  },
  {
   "cell_type": "code",
   "execution_count": 12,
   "metadata": {},
   "outputs": [
    {
     "data": {
      "text/plain": [
       "302"
      ]
     },
     "execution_count": 12,
     "metadata": {},
     "output_type": "execute_result"
    }
   ],
   "source": [
    "response.status_code # status code = 200 => OK"
   ]
  },
  {
   "cell_type": "code",
   "execution_count": 13,
   "metadata": {},
   "outputs": [],
   "source": [
    "url_perfume_example = 'https://www.macys.com/shop/product/chanel-coco-mademoiselle-eau-de-parfum-intense-spray-3.4-oz.?ID=5712833&CategoryID=30087#fn=sp%3D1%26spc%3D1458%26ruleId%3D22%7CBOOST%20SAVED%20SET%7CBOOST%20ATTRIBUTE%26searchPass%3DmatchNone%26slotId%3D1'"
   ]
  },
  {
   "cell_type": "code",
   "execution_count": 14,
   "metadata": {},
   "outputs": [
    {
     "data": {
      "text/plain": [
       "302"
      ]
     },
     "execution_count": 14,
     "metadata": {},
     "output_type": "execute_result"
    }
   ],
   "source": [
    "response2 = requests.get(url)\n",
    "response2.status_code"
   ]
  },
  {
   "cell_type": "code",
   "execution_count": 22,
   "metadata": {},
   "outputs": [],
   "source": [
    "perfume_ls = []\n",
    "url_page1 = 'https://www.macys.com/shop/makeup-and-perfume/perfume/Productsperpage/120?id=30087'\n",
    "perfume_ls.append(url_page1)"
   ]
  },
  {
   "cell_type": "code",
   "execution_count": 23,
   "metadata": {},
   "outputs": [
    {
     "data": {
      "text/plain": [
       "['https://www.macys.com/shop/makeup-and-perfume/perfume/Productsperpage/120?id=30087']"
      ]
     },
     "execution_count": 23,
     "metadata": {},
     "output_type": "execute_result"
    }
   ],
   "source": [
    "perfume_ls"
   ]
  },
  {
   "cell_type": "code",
   "execution_count": 24,
   "metadata": {},
   "outputs": [],
   "source": [
    "for page_num in range(2,14):\n",
    "    url_page = 'https://www.macys.com/shop/makeup-and-perfume/perfume/Pageindex,Productsperpage/{},120?id=30087'.format(page_num)\n",
    "    perfume_ls.append(url_page)"
   ]
  },
  {
   "cell_type": "code",
   "execution_count": 25,
   "metadata": {},
   "outputs": [
    {
     "data": {
      "text/plain": [
       "['https://www.macys.com/shop/makeup-and-perfume/perfume/Productsperpage/120?id=30087',\n",
       " 'https://www.macys.com/shop/makeup-and-perfume/perfume/Pageindex,Productsperpage/2,120?id=30087',\n",
       " 'https://www.macys.com/shop/makeup-and-perfume/perfume/Pageindex,Productsperpage/3,120?id=30087',\n",
       " 'https://www.macys.com/shop/makeup-and-perfume/perfume/Pageindex,Productsperpage/4,120?id=30087',\n",
       " 'https://www.macys.com/shop/makeup-and-perfume/perfume/Pageindex,Productsperpage/5,120?id=30087',\n",
       " 'https://www.macys.com/shop/makeup-and-perfume/perfume/Pageindex,Productsperpage/6,120?id=30087',\n",
       " 'https://www.macys.com/shop/makeup-and-perfume/perfume/Pageindex,Productsperpage/7,120?id=30087',\n",
       " 'https://www.macys.com/shop/makeup-and-perfume/perfume/Pageindex,Productsperpage/8,120?id=30087',\n",
       " 'https://www.macys.com/shop/makeup-and-perfume/perfume/Pageindex,Productsperpage/9,120?id=30087',\n",
       " 'https://www.macys.com/shop/makeup-and-perfume/perfume/Pageindex,Productsperpage/10,120?id=30087',\n",
       " 'https://www.macys.com/shop/makeup-and-perfume/perfume/Pageindex,Productsperpage/11,120?id=30087',\n",
       " 'https://www.macys.com/shop/makeup-and-perfume/perfume/Pageindex,Productsperpage/12,120?id=30087',\n",
       " 'https://www.macys.com/shop/makeup-and-perfume/perfume/Pageindex,Productsperpage/13,120?id=30087']"
      ]
     },
     "execution_count": 25,
     "metadata": {},
     "output_type": "execute_result"
    }
   ],
   "source": [
    "perfume_ls"
   ]
  },
  {
   "cell_type": "code",
   "execution_count": 26,
   "metadata": {},
   "outputs": [],
   "source": [
    "cols = ['description','price','designer','frag_name']\n",
    "df_perfume = pd.DataFrame(columns=cols)"
   ]
  },
  {
   "cell_type": "code",
   "execution_count": 27,
   "metadata": {},
   "outputs": [
    {
     "data": {
      "text/html": [
       "<div>\n",
       "<style scoped>\n",
       "    .dataframe tbody tr th:only-of-type {\n",
       "        vertical-align: middle;\n",
       "    }\n",
       "\n",
       "    .dataframe tbody tr th {\n",
       "        vertical-align: top;\n",
       "    }\n",
       "\n",
       "    .dataframe thead th {\n",
       "        text-align: right;\n",
       "    }\n",
       "</style>\n",
       "<table border=\"1\" class=\"dataframe\">\n",
       "  <thead>\n",
       "    <tr style=\"text-align: right;\">\n",
       "      <th></th>\n",
       "      <th>description</th>\n",
       "      <th>price</th>\n",
       "      <th>designer</th>\n",
       "      <th>frag_name</th>\n",
       "    </tr>\n",
       "  </thead>\n",
       "  <tbody>\n",
       "  </tbody>\n",
       "</table>\n",
       "</div>"
      ],
      "text/plain": [
       "Empty DataFrame\n",
       "Columns: [description, price, designer, frag_name]\n",
       "Index: []"
      ]
     },
     "execution_count": 27,
     "metadata": {},
     "output_type": "execute_result"
    }
   ],
   "source": [
    "df_perfume"
   ]
  },
  {
   "cell_type": "code",
   "execution_count": 29,
   "metadata": {},
   "outputs": [],
   "source": [
    "url = 'https://www.macys.com/shop/makeup-and-perfume/perfume/Pageindex,Productsperpage/2,120?id=30087'"
   ]
  },
  {
   "cell_type": "code",
   "execution_count": 30,
   "metadata": {},
   "outputs": [],
   "source": [
    "from bs4 import BeautifulSoup"
   ]
  },
  {
   "cell_type": "code",
   "execution_count": 31,
   "metadata": {},
   "outputs": [],
   "source": [
    "response = requests.get(url)"
   ]
  },
  {
   "cell_type": "code",
   "execution_count": 32,
   "metadata": {
    "scrolled": true
   },
   "outputs": [
    {
     "name": "stdout",
     "output_type": "stream",
     "text": [
      "\r\n",
      "<HTML><HEAD>\r\n",
      "<TITLE>Access Denied</TITLE>\r\n",
      "</HEAD><BODY>\r\n",
      "<H1>Access Denied</H1>\r\n",
      "\r\n",
      "You don't have permission to access the requested URL on this server.\r\n",
      "<P>Reference: 18.35912f17.1565391000.191e04e6</P>\r\n",
      "</BODY>\r\n",
      "</HTML>\n"
     ]
    }
   ],
   "source": [
    "print(response.text)"
   ]
  },
  {
   "cell_type": "markdown",
   "metadata": {},
   "source": [
    "### Need to use Selenium to get around the javascript. Nice try Macy's webdevs..\n",
    "\n",
    "---\n",
    "\n",
    "Let's get the perfume urls for 1 of the 13 pages first."
   ]
  },
  {
   "cell_type": "code",
   "execution_count": 33,
   "metadata": {},
   "outputs": [],
   "source": [
    "from selenium import webdriver\n",
    "from selenium.webdriver.common.keys import Keys\n",
    "import time\n",
    "import chromedriver_binary"
   ]
  },
  {
   "cell_type": "code",
   "execution_count": null,
   "metadata": {},
   "outputs": [],
   "source": [
    "url = 'https://www.macys.com/shop/makeup-and-perfume/perfume/Pageindex,Productsperpage/2,120?id=30087'"
   ]
  },
  {
   "cell_type": "code",
   "execution_count": 36,
   "metadata": {},
   "outputs": [
    {
     "data": {
      "text/plain": [
       "list"
      ]
     },
     "execution_count": 36,
     "metadata": {},
     "output_type": "execute_result"
    }
   ],
   "source": [
    "type(driver.find_elements_by_xpath('.//a'))"
   ]
  },
  {
   "cell_type": "code",
   "execution_count": 41,
   "metadata": {},
   "outputs": [],
   "source": [
    "z = 'https://www.macys.com/shop/product/'"
   ]
  },
  {
   "cell_type": "code",
   "execution_count": 45,
   "metadata": {},
   "outputs": [
    {
     "data": {
      "text/plain": [
       "'https://www.macys.com/shop/product/'"
      ]
     },
     "execution_count": 45,
     "metadata": {},
     "output_type": "execute_result"
    }
   ],
   "source": [
    "z[0:35]"
   ]
  },
  {
   "cell_type": "code",
   "execution_count": 49,
   "metadata": {},
   "outputs": [],
   "source": [
    "driver = webdriver.Chrome()\n",
    "driver.get(url)\n",
    "soup_selenium = BeautifulSoup(driver.page_source)\n",
    "\n",
    "massive_list=[]\n",
    "for a in driver.find_elements_by_xpath('.//a'):\n",
    "    massive_list.append(a.get_attribute('href'))"
   ]
  },
  {
   "cell_type": "code",
   "execution_count": 74,
   "metadata": {},
   "outputs": [
    {
     "data": {
      "text/plain": [
       "str"
      ]
     },
     "execution_count": 74,
     "metadata": {},
     "output_type": "execute_result"
    }
   ],
   "source": [
    "z = massive_list\n",
    "type(z[1])"
   ]
  },
  {
   "cell_type": "code",
   "execution_count": 93,
   "metadata": {},
   "outputs": [],
   "source": [
    "prada = z[-100]"
   ]
  },
  {
   "cell_type": "code",
   "execution_count": 84,
   "metadata": {},
   "outputs": [
    {
     "data": {
      "text/plain": [
       "'https://www.macys.com/shop/product/'"
      ]
     },
     "execution_count": 84,
     "metadata": {},
     "output_type": "execute_result"
    }
   ],
   "source": [
    "prada[0:35]"
   ]
  },
  {
   "cell_type": "code",
   "execution_count": 95,
   "metadata": {},
   "outputs": [
    {
     "name": "stdout",
     "output_type": "stream",
     "text": [
      "https://www.macys.com/shop/product/prada-candy-eau-de-parfum-3-pc.-gift-set?ID=7133290&CategoryID=30087#fn=sp%3D2%26spc%3D1457%26ruleId%3D22%7CBOOST%20SAVED%20SET%7CBOOST%20ATTRIBUTE%26searchPass%3DmatchNone%26slotId%3D109\n"
     ]
    }
   ],
   "source": [
    "if prada[:35] == 'https://www.macys.com/shop/product/':\n",
    "    print(prada)"
   ]
  },
  {
   "cell_type": "code",
   "execution_count": 98,
   "metadata": {},
   "outputs": [],
   "source": [
    "test = 'https://www.macys.com/shop/product/'"
   ]
  },
  {
   "cell_type": "code",
   "execution_count": 100,
   "metadata": {
    "scrolled": true
   },
   "outputs": [
    {
     "data": {
      "text/plain": [
       "'https://www.macys.com/shop/prod'"
      ]
     },
     "execution_count": 100,
     "metadata": {},
     "output_type": "execute_result"
    }
   ],
   "source": [
    "test[:31]"
   ]
  },
  {
   "cell_type": "code",
   "execution_count": 116,
   "metadata": {},
   "outputs": [],
   "source": [
    "massive_list_strings = [str(i) for i in massive_list]"
   ]
  },
  {
   "cell_type": "code",
   "execution_count": 132,
   "metadata": {},
   "outputs": [
    {
     "data": {
      "text/plain": [
       "['https://www.macys.com/shop/product/givenchy-linterdit-eau-de-parfum-80-ml?ID=8315801&CategoryID=30087#fn=sp%3D2%26spc%3D1457%26ruleId%3D22%7CBOOST%20SAVED%20SET%7CBOOST%20ATTRIBUTE%26searchPass%3DmatchNone%26slotId%3D104',\n",
       " 'https://www.macys.com/shop/product/givenchy-linterdit-eau-de-parfum-80-ml?ID=8315801&CategoryID=30087#fn=sp%3D2%26spc%3D1457%26ruleId%3D22%7CBOOST%20SAVED%20SET%7CBOOST%20ATTRIBUTE%26searchPass%3DmatchNone%26slotId%3D104',\n",
       " 'https://www.macys.com/shop/similar-products/Pageindex,Productsperpage/2,120?productId=8315801&imageId=11688959&CategoryID=30087&modelId=pros&cm_sp=MLT_RESP-_-pros-_-11688959_8315801&lid=more_like_this-pros-11688959-8315801',\n",
       " 'https://www.macys.com/shop/product/cartier-2-pc.-carat-discovery-set?ID=6857277&CategoryID=30087#fn=sp%3D2%26spc%3D1457%26ruleId%3D22%7CBOOST%20SAVED%20SET%7CBOOST%20ATTRIBUTE%26searchPass%3DmatchNone%26slotId%3D105',\n",
       " 'https://www.macys.com/shop/product/cartier-2-pc.-carat-discovery-set?ID=6857277&CategoryID=30087#fn=sp%3D2%26spc%3D1457%26ruleId%3D22%7CBOOST%20SAVED%20SET%7CBOOST%20ATTRIBUTE%26searchPass%3DmatchNone%26slotId%3D105',\n",
       " 'https://www.macys.com/shop/similar-products/Pageindex,Productsperpage/2,120?productId=6857277&imageId=10459658&CategoryID=30087&modelId=pros&cm_sp=MLT_RESP-_-pros-_-10459658_6857277&lid=more_like_this-pros-10459658-6857277',\n",
       " 'https://www.macys.com/shop/product/kensie-4-pc.-womens-collection-gift-set?ID=5724014&CategoryID=30087#fn=sp%3D2%26spc%3D1457%26ruleId%3D22%7CBOOST%20SAVED%20SET%7CBOOST%20ATTRIBUTE%26searchPass%3DmatchNone%26slotId%3D106',\n",
       " 'https://www.macys.com/shop/product/kensie-4-pc.-womens-collection-gift-set?ID=5724014&CategoryID=30087#fn=sp%3D2%26spc%3D1457%26ruleId%3D22%7CBOOST%20SAVED%20SET%7CBOOST%20ATTRIBUTE%26searchPass%3DmatchNone%26slotId%3D106',\n",
       " 'https://www.macys.com/shop/similar-products/Pageindex,Productsperpage/2,120?productId=5724014&imageId=9429959&CategoryID=30087&modelId=pros&cm_sp=MLT_RESP-_-pros-_-9429959_5724014&lid=more_like_this-pros-9429959-5724014',\n",
       " 'https://www.macys.com/shop/product/prada-candy-night-eau-de-parfum-spray-2.7-oz.?ID=8483852&CategoryID=30087#fn=sp%3D2%26spc%3D1457%26ruleId%3D22%7CBOOST%20SAVED%20SET%7CBOOST%20ATTRIBUTE%26searchPass%3DmatchNone%26slotId%3D107']"
      ]
     },
     "execution_count": 132,
     "metadata": {},
     "output_type": "execute_result"
    }
   ],
   "source": [
    "massive_list_strings[1500:1510]"
   ]
  },
  {
   "cell_type": "code",
   "execution_count": 123,
   "metadata": {
    "scrolled": true
   },
   "outputs": [
    {
     "name": "stdout",
     "output_type": "stream",
     "text": [
      "https://www.macys.com/shop/product/lancome-3-pc.-la-vie-est-belle-mothers-day-gift-set?ID=8763224&CategoryID=30087#fn=sp%3D2%26spc%3D1457%26ruleId%3D22%7CBOOST%20SAVED%20SET%7CBOOST%20ATTRIBUTE%26searchPass%3DmatchNone%26slotId%3D1\n",
      "https://www.macys.com/shop/product/lancome-3-pc.-la-vie-est-belle-mothers-day-gift-set?ID=8763224&CategoryID=30087#fn=sp%3D2%26spc%3D1457%26ruleId%3D22%7CBOOST%20SAVED%20SET%7CBOOST%20ATTRIBUTE%26searchPass%3DmatchNone%26slotId%3D1\n",
      "https://www.macys.com/shop/product/chanel-2-pc.-gabrielle-chanel-gift-set?ID=6604593&CategoryID=30087#fn=sp%3D2%26spc%3D1457%26ruleId%3D22%7CBOOST%20SAVED%20SET%7CBOOST%20ATTRIBUTE%26searchPass%3DmatchNone%26slotId%3D2\n",
      "https://www.macys.com/shop/product/chanel-2-pc.-gabrielle-chanel-gift-set?ID=6604593&CategoryID=30087#fn=sp%3D2%26spc%3D1457%26ruleId%3D22%7CBOOST%20SAVED%20SET%7CBOOST%20ATTRIBUTE%26searchPass%3DmatchNone%26slotId%3D2\n",
      "https://www.macys.com/shop/product/yves-saint-laurent-black-opium-eau-de-parfum-intense-spray-3-oz.?ID=8244826&CategoryID=30087#fn=sp%3D2%26spc%3D1457%26ruleId%3D22%7CBOOST%20SAVED%20SET%7CBOOST%20ATTRIBUTE%26searchPass%3DmatchNone%26slotId%3D3\n",
      "https://www.macys.com/shop/product/yves-saint-laurent-black-opium-eau-de-parfum-intense-spray-3-oz.?ID=8244826&CategoryID=30087#fn=sp%3D2%26spc%3D1457%26ruleId%3D22%7CBOOST%20SAVED%20SET%7CBOOST%20ATTRIBUTE%26searchPass%3DmatchNone%26slotId%3D3\n",
      "https://www.macys.com/shop/product/calvin-klein-euphoria-eau-de-parfum-spray-3.4-oz?ID=174724&CategoryID=30087#fn=sp%3D2%26spc%3D1457%26ruleId%3D22%7CBOOST%20SAVED%20SET%7CBOOST%20ATTRIBUTE%26searchPass%3DmatchNone%26slotId%3D4\n",
      "https://www.macys.com/shop/product/calvin-klein-euphoria-eau-de-parfum-spray-3.4-oz?ID=174724&CategoryID=30087#fn=sp%3D2%26spc%3D1457%26ruleId%3D22%7CBOOST%20SAVED%20SET%7CBOOST%20ATTRIBUTE%26searchPass%3DmatchNone%26slotId%3D4\n",
      "https://www.macys.com/shop/product/gucci-bamboo-eau-de-parfum-2.5-oz?ID=2279586&CategoryID=30087#fn=sp%3D2%26spc%3D1457%26ruleId%3D22%7CBOOST%20SAVED%20SET%7CBOOST%20ATTRIBUTE%26searchPass%3DmatchNone%26slotId%3D5\n",
      "https://www.macys.com/shop/product/gucci-bamboo-eau-de-parfum-2.5-oz?ID=2279586&CategoryID=30087#fn=sp%3D2%26spc%3D1457%26ruleId%3D22%7CBOOST%20SAVED%20SET%7CBOOST%20ATTRIBUTE%26searchPass%3DmatchNone%26slotId%3D5\n",
      "https://www.macys.com/shop/product/calvin-klein-women-eau-de-parfum-spray-3.4-oz.?ID=6572586&CategoryID=30087#fn=sp%3D2%26spc%3D1457%26ruleId%3D22%7CBOOST%20SAVED%20SET%7CBOOST%20ATTRIBUTE%26searchPass%3DmatchNone%26slotId%3D6\n",
      "https://www.macys.com/shop/product/calvin-klein-women-eau-de-parfum-spray-3.4-oz.?ID=6572586&CategoryID=30087#fn=sp%3D2%26spc%3D1457%26ruleId%3D22%7CBOOST%20SAVED%20SET%7CBOOST%20ATTRIBUTE%26searchPass%3DmatchNone%26slotId%3D6\n",
      "https://www.macys.com/shop/product/chanel-n5-eau-de-parfum-spray-0.25-oz?ID=74723&CategoryID=30087#fn=sp%3D2%26spc%3D1457%26ruleId%3D22%7CBOOST%20SAVED%20SET%7CBOOST%20ATTRIBUTE%26searchPass%3DmatchNone%26slotId%3D7\n",
      "https://www.macys.com/shop/product/chanel-n5-eau-de-parfum-spray-0.25-oz?ID=74723&CategoryID=30087#fn=sp%3D2%26spc%3D1457%26ruleId%3D22%7CBOOST%20SAVED%20SET%7CBOOST%20ATTRIBUTE%26searchPass%3DmatchNone%26slotId%3D7\n",
      "https://www.macys.com/shop/product/lancome-la-vie-est-belle-eau-de-parfum-1.7-oz?ID=712782&CategoryID=30087#fn=sp%3D2%26spc%3D1457%26ruleId%3D22%7CBOOST%20SAVED%20SET%7CBOOST%20ATTRIBUTE%26searchPass%3DmatchNone%26slotId%3D8\n",
      "https://www.macys.com/shop/product/lancome-la-vie-est-belle-eau-de-parfum-1.7-oz?ID=712782&CategoryID=30087#fn=sp%3D2%26spc%3D1457%26ruleId%3D22%7CBOOST%20SAVED%20SET%7CBOOST%20ATTRIBUTE%26searchPass%3DmatchNone%26slotId%3D8\n",
      "https://www.macys.com/shop/product/estee-lauder-pleasures-jumbo-spray-5-oz.?ID=4418348&CategoryID=30087#fn=sp%3D2%26spc%3D1457%26ruleId%3D22%7CBOOST%20SAVED%20SET%7CBOOST%20ATTRIBUTE%26searchPass%3DmatchNone%26slotId%3D9\n",
      "https://www.macys.com/shop/product/estee-lauder-pleasures-jumbo-spray-5-oz.?ID=4418348&CategoryID=30087#fn=sp%3D2%26spc%3D1457%26ruleId%3D22%7CBOOST%20SAVED%20SET%7CBOOST%20ATTRIBUTE%26searchPass%3DmatchNone%26slotId%3D9\n",
      "https://www.macys.com/shop/product/viktor-rolf-4-pc.-flowerbomb-twist-spray-gift-set?ID=5712323&CategoryID=30087#fn=sp%3D2%26spc%3D1457%26ruleId%3D22%7CBOOST%20SAVED%20SET%7CBOOST%20ATTRIBUTE%26searchPass%3DmatchNone%26slotId%3D10\n",
      "https://www.macys.com/shop/product/viktor-rolf-4-pc.-flowerbomb-twist-spray-gift-set?ID=5712323&CategoryID=30087#fn=sp%3D2%26spc%3D1457%26ruleId%3D22%7CBOOST%20SAVED%20SET%7CBOOST%20ATTRIBUTE%26searchPass%3DmatchNone%26slotId%3D10\n",
      "https://www.macys.com/shop/product/donna-karan-3-pc.-cashmere-mist-purse-spray-gift-set?ID=9381478&CategoryID=30087#fn=sp%3D2%26spc%3D1457%26ruleId%3D22%7CBOOST%20SAVED%20SET%7CBOOST%20ATTRIBUTE%26searchPass%3DmatchNone%26slotId%3D11\n",
      "https://www.macys.com/shop/product/donna-karan-3-pc.-cashmere-mist-purse-spray-gift-set?ID=9381478&CategoryID=30087#fn=sp%3D2%26spc%3D1457%26ruleId%3D22%7CBOOST%20SAVED%20SET%7CBOOST%20ATTRIBUTE%26searchPass%3DmatchNone%26slotId%3D11\n",
      "https://www.macys.com/shop/product/issey-miyake-leau-dissey-pure-eau-de-parfum-3-oz?ID=2823737&CategoryID=30087#fn=sp%3D2%26spc%3D1457%26ruleId%3D22%7CBOOST%20SAVED%20SET%7CBOOST%20ATTRIBUTE%26searchPass%3DmatchNone%26slotId%3D12\n",
      "https://www.macys.com/shop/product/issey-miyake-leau-dissey-pure-eau-de-parfum-3-oz?ID=2823737&CategoryID=30087#fn=sp%3D2%26spc%3D1457%26ruleId%3D22%7CBOOST%20SAVED%20SET%7CBOOST%20ATTRIBUTE%26searchPass%3DmatchNone%26slotId%3D12\n",
      "https://www.macys.com/shop/product/calvin-klein-2-pc.-women-gift-set-a-170-value?ID=8276664&CategoryID=30087#fn=sp%3D2%26spc%3D1457%26ruleId%3D22%7CBOOST%20SAVED%20SET%7CBOOST%20ATTRIBUTE%26searchPass%3DmatchNone%26slotId%3D13\n",
      "https://www.macys.com/shop/product/calvin-klein-2-pc.-women-gift-set-a-170-value?ID=8276664&CategoryID=30087#fn=sp%3D2%26spc%3D1457%26ruleId%3D22%7CBOOST%20SAVED%20SET%7CBOOST%20ATTRIBUTE%26searchPass%3DmatchNone%26slotId%3D13\n",
      "https://www.macys.com/shop/product/viktor-rolf-flowerbomb-eau-de-parfum-spray-1.7-oz.?ID=447085&CategoryID=30087#fn=sp%3D2%26spc%3D1457%26ruleId%3D22%7CBOOST%20SAVED%20SET%7CBOOST%20ATTRIBUTE%26searchPass%3DmatchNone%26slotId%3D14\n",
      "https://www.macys.com/shop/product/viktor-rolf-flowerbomb-eau-de-parfum-spray-1.7-oz.?ID=447085&CategoryID=30087#fn=sp%3D2%26spc%3D1457%26ruleId%3D22%7CBOOST%20SAVED%20SET%7CBOOST%20ATTRIBUTE%26searchPass%3DmatchNone%26slotId%3D14\n",
      "https://www.macys.com/shop/product/coach-floral-eau-de-parfum-spray-3-oz.?ID=5641588&CategoryID=30087#fn=sp%3D2%26spc%3D1457%26ruleId%3D22%7CBOOST%20SAVED%20SET%7CBOOST%20ATTRIBUTE%26searchPass%3DmatchNone%26slotId%3D15\n",
      "https://www.macys.com/shop/product/coach-floral-eau-de-parfum-spray-3-oz.?ID=5641588&CategoryID=30087#fn=sp%3D2%26spc%3D1457%26ruleId%3D22%7CBOOST%20SAVED%20SET%7CBOOST%20ATTRIBUTE%26searchPass%3DmatchNone%26slotId%3D15\n",
      "https://www.macys.com/shop/product/michael-kors-eau-de-parfum-spray-3.4-oz?ID=60550&CategoryID=30087#fn=sp%3D2%26spc%3D1457%26ruleId%3D22%7CBOOST%20SAVED%20SET%7CBOOST%20ATTRIBUTE%26searchPass%3DmatchNone%26slotId%3D16\n",
      "https://www.macys.com/shop/product/michael-kors-eau-de-parfum-spray-3.4-oz?ID=60550&CategoryID=30087#fn=sp%3D2%26spc%3D1457%26ruleId%3D22%7CBOOST%20SAVED%20SET%7CBOOST%20ATTRIBUTE%26searchPass%3DmatchNone%26slotId%3D16\n",
      "https://www.macys.com/shop/product/chanel-chance-eau-tendre-eau-de-toilette-5-oz?ID=780750&CategoryID=30087#fn=sp%3D2%26spc%3D1457%26ruleId%3D22%7CBOOST%20SAVED%20SET%7CBOOST%20ATTRIBUTE%26searchPass%3DmatchNone%26slotId%3D17\n",
      "https://www.macys.com/shop/product/chanel-chance-eau-tendre-eau-de-toilette-5-oz?ID=780750&CategoryID=30087#fn=sp%3D2%26spc%3D1457%26ruleId%3D22%7CBOOST%20SAVED%20SET%7CBOOST%20ATTRIBUTE%26searchPass%3DmatchNone%26slotId%3D17\n",
      "https://www.macys.com/shop/product/juicy-couture-viva-la-juicy-gold-couture-eau-de-parfum-spray-1-oz.?ID=6865925&CategoryID=30087#fn=sp%3D2%26spc%3D1457%26ruleId%3D22%7CBOOST%20SAVED%20SET%7CBOOST%20ATTRIBUTE%26searchPass%3DmatchNone%26slotId%3D18\n",
      "https://www.macys.com/shop/product/juicy-couture-viva-la-juicy-gold-couture-eau-de-parfum-spray-1-oz.?ID=6865925&CategoryID=30087#fn=sp%3D2%26spc%3D1457%26ruleId%3D22%7CBOOST%20SAVED%20SET%7CBOOST%20ATTRIBUTE%26searchPass%3DmatchNone%26slotId%3D18\n",
      "https://www.macys.com/shop/product/calvin-klein-3-pc.-endless-euphoria-for-women-eau-de-parfum-gift-set?ID=8286800&CategoryID=30087#fn=sp%3D2%26spc%3D1457%26ruleId%3D22%7CBOOST%20SAVED%20SET%7CBOOST%20ATTRIBUTE%26searchPass%3DmatchNone%26slotId%3D19\n",
      "https://www.macys.com/shop/product/calvin-klein-3-pc.-endless-euphoria-for-women-eau-de-parfum-gift-set?ID=8286800&CategoryID=30087#fn=sp%3D2%26spc%3D1457%26ruleId%3D22%7CBOOST%20SAVED%20SET%7CBOOST%20ATTRIBUTE%26searchPass%3DmatchNone%26slotId%3D19\n",
      "https://www.macys.com/shop/product/tory-burch-signature-eau-de-parfum-spray-3.4-oz?ID=1877012&CategoryID=30087#fn=sp%3D2%26spc%3D1457%26ruleId%3D22%7CBOOST%20SAVED%20SET%7CBOOST%20ATTRIBUTE%26searchPass%3DmatchNone%26slotId%3D20\n",
      "https://www.macys.com/shop/product/tory-burch-signature-eau-de-parfum-spray-3.4-oz?ID=1877012&CategoryID=30087#fn=sp%3D2%26spc%3D1457%26ruleId%3D22%7CBOOST%20SAVED%20SET%7CBOOST%20ATTRIBUTE%26searchPass%3DmatchNone%26slotId%3D20\n",
      "https://www.macys.com/shop/product/chanel-n5-eau-de-parfum-spray-3.4-oz?ID=74731&CategoryID=30087#fn=sp%3D2%26spc%3D1457%26ruleId%3D22%7CBOOST%20SAVED%20SET%7CBOOST%20ATTRIBUTE%26searchPass%3DmatchNone%26slotId%3D21\n",
      "https://www.macys.com/shop/product/chanel-n5-eau-de-parfum-spray-3.4-oz?ID=74731&CategoryID=30087#fn=sp%3D2%26spc%3D1457%26ruleId%3D22%7CBOOST%20SAVED%20SET%7CBOOST%20ATTRIBUTE%26searchPass%3DmatchNone%26slotId%3D21\n",
      "https://www.macys.com/shop/product/chanel-chance-eau-tendre-eau-de-toilette-1.7-oz?ID=458661&CategoryID=30087#fn=sp%3D2%26spc%3D1457%26ruleId%3D22%7CBOOST%20SAVED%20SET%7CBOOST%20ATTRIBUTE%26searchPass%3DmatchNone%26slotId%3D22\n",
      "https://www.macys.com/shop/product/chanel-chance-eau-tendre-eau-de-toilette-1.7-oz?ID=458661&CategoryID=30087#fn=sp%3D2%26spc%3D1457%26ruleId%3D22%7CBOOST%20SAVED%20SET%7CBOOST%20ATTRIBUTE%26searchPass%3DmatchNone%26slotId%3D22\n",
      "https://www.macys.com/shop/product/michael-kors-twilight-shimmer-limited-edition-eau-de-parfum-spray-3.4-oz.?ID=6465743&CategoryID=30087#fn=sp%3D2%26spc%3D1457%26ruleId%3D22%7CBOOST%20SAVED%20SET%7CBOOST%20ATTRIBUTE%26searchPass%3DmatchNone%26slotId%3D23\n",
      "https://www.macys.com/shop/product/michael-kors-twilight-shimmer-limited-edition-eau-de-parfum-spray-3.4-oz.?ID=6465743&CategoryID=30087#fn=sp%3D2%26spc%3D1457%26ruleId%3D22%7CBOOST%20SAVED%20SET%7CBOOST%20ATTRIBUTE%26searchPass%3DmatchNone%26slotId%3D23\n",
      "https://www.macys.com/shop/product/dolce-gabbana-3-pc.-light-blue-eau-de-toilette-gift-set?ID=6606565&CategoryID=30087#fn=sp%3D2%26spc%3D1457%26ruleId%3D22%7CBOOST%20SAVED%20SET%7CBOOST%20ATTRIBUTE%26searchPass%3DmatchNone%26slotId%3D24\n",
      "https://www.macys.com/shop/product/dolce-gabbana-3-pc.-light-blue-eau-de-toilette-gift-set?ID=6606565&CategoryID=30087#fn=sp%3D2%26spc%3D1457%26ruleId%3D22%7CBOOST%20SAVED%20SET%7CBOOST%20ATTRIBUTE%26searchPass%3DmatchNone%26slotId%3D24\n",
      "https://www.macys.com/shop/product/lancome-tresor-eau-de-parfum-3.4-oz?ID=7251&CategoryID=30087#fn=sp%3D2%26spc%3D1457%26ruleId%3D22%7CBOOST%20SAVED%20SET%7CBOOST%20ATTRIBUTE%26searchPass%3DmatchNone%26slotId%3D25\n",
      "https://www.macys.com/shop/product/lancome-tresor-eau-de-parfum-3.4-oz?ID=7251&CategoryID=30087#fn=sp%3D2%26spc%3D1457%26ruleId%3D22%7CBOOST%20SAVED%20SET%7CBOOST%20ATTRIBUTE%26searchPass%3DmatchNone%26slotId%3D25\n",
      "https://www.macys.com/shop/product/michael-kors-collection-midnight-shimmer-eau-de-parfum-3.4-oz?ID=2816860&CategoryID=30087#fn=sp%3D2%26spc%3D1457%26ruleId%3D22%7CBOOST%20SAVED%20SET%7CBOOST%20ATTRIBUTE%26searchPass%3DmatchNone%26slotId%3D26\n",
      "https://www.macys.com/shop/product/michael-kors-collection-midnight-shimmer-eau-de-parfum-3.4-oz?ID=2816860&CategoryID=30087#fn=sp%3D2%26spc%3D1457%26ruleId%3D22%7CBOOST%20SAVED%20SET%7CBOOST%20ATTRIBUTE%26searchPass%3DmatchNone%26slotId%3D26\n",
      "https://www.macys.com/shop/product/estee-lauder-3-pc.-beautiful-romantic-favorites-gift-set?ID=7268040&CategoryID=30087#fn=sp%3D2%26spc%3D1457%26ruleId%3D22%7CBOOST%20SAVED%20SET%7CBOOST%20ATTRIBUTE%26searchPass%3DmatchNone%26slotId%3D27\n",
      "https://www.macys.com/shop/product/estee-lauder-3-pc.-beautiful-romantic-favorites-gift-set?ID=7268040&CategoryID=30087#fn=sp%3D2%26spc%3D1457%26ruleId%3D22%7CBOOST%20SAVED%20SET%7CBOOST%20ATTRIBUTE%26searchPass%3DmatchNone%26slotId%3D27\n",
      "https://www.macys.com/shop/product/marc-jacobs-3-pc.-daisy-dream-gift-set?ID=8157228&CategoryID=30087#fn=sp%3D2%26spc%3D1457%26ruleId%3D22%7CBOOST%20SAVED%20SET%7CBOOST%20ATTRIBUTE%26searchPass%3DmatchNone%26slotId%3D28\n",
      "https://www.macys.com/shop/product/marc-jacobs-3-pc.-daisy-dream-gift-set?ID=8157228&CategoryID=30087#fn=sp%3D2%26spc%3D1457%26ruleId%3D22%7CBOOST%20SAVED%20SET%7CBOOST%20ATTRIBUTE%26searchPass%3DmatchNone%26slotId%3D28\n",
      "https://www.macys.com/shop/product/michael-kors-sexy-amber-eau-de-parfum-spray-3.4-oz?ID=886389&CategoryID=30087#fn=sp%3D2%26spc%3D1457%26ruleId%3D22%7CBOOST%20SAVED%20SET%7CBOOST%20ATTRIBUTE%26searchPass%3DmatchNone%26slotId%3D29\n",
      "https://www.macys.com/shop/product/michael-kors-sexy-amber-eau-de-parfum-spray-3.4-oz?ID=886389&CategoryID=30087#fn=sp%3D2%26spc%3D1457%26ruleId%3D22%7CBOOST%20SAVED%20SET%7CBOOST%20ATTRIBUTE%26searchPass%3DmatchNone%26slotId%3D29\n",
      "https://www.macys.com/shop/product/marc-jacobs-3-pc.-daisy-gift-set?ID=8157226&CategoryID=30087#fn=sp%3D2%26spc%3D1457%26ruleId%3D22%7CBOOST%20SAVED%20SET%7CBOOST%20ATTRIBUTE%26searchPass%3DmatchNone%26slotId%3D30\n",
      "https://www.macys.com/shop/product/marc-jacobs-3-pc.-daisy-gift-set?ID=8157226&CategoryID=30087#fn=sp%3D2%26spc%3D1457%26ruleId%3D22%7CBOOST%20SAVED%20SET%7CBOOST%20ATTRIBUTE%26searchPass%3DmatchNone%26slotId%3D30\n",
      "https://www.macys.com/shop/product/chanel-chance-eau-de-parfum-spray-3.4-oz?ID=185450&CategoryID=30087#fn=sp%3D2%26spc%3D1457%26ruleId%3D22%7CBOOST%20SAVED%20SET%7CBOOST%20ATTRIBUTE%26searchPass%3DmatchNone%26slotId%3D31\n",
      "https://www.macys.com/shop/product/chanel-chance-eau-de-parfum-spray-3.4-oz?ID=185450&CategoryID=30087#fn=sp%3D2%26spc%3D1457%26ruleId%3D22%7CBOOST%20SAVED%20SET%7CBOOST%20ATTRIBUTE%26searchPass%3DmatchNone%26slotId%3D31\n",
      "https://www.macys.com/shop/product/marc-jacobs-3-pc.-daisy-gift-set?ID=8267292&CategoryID=30087#fn=sp%3D2%26spc%3D1457%26ruleId%3D22%7CBOOST%20SAVED%20SET%7CBOOST%20ATTRIBUTE%26searchPass%3DmatchNone%26slotId%3D32\n",
      "https://www.macys.com/shop/product/marc-jacobs-3-pc.-daisy-gift-set?ID=8267292&CategoryID=30087#fn=sp%3D2%26spc%3D1457%26ruleId%3D22%7CBOOST%20SAVED%20SET%7CBOOST%20ATTRIBUTE%26searchPass%3DmatchNone%26slotId%3D32\n",
      "https://www.macys.com/shop/product/dolce-gabbana-light-blue-sun-pour-femme-eau-de-toilette-3.3-oz.?ID=8483092&CategoryID=30087#fn=sp%3D2%26spc%3D1457%26ruleId%3D22%7CBOOST%20SAVED%20SET%7CBOOST%20ATTRIBUTE%26searchPass%3DmatchNone%26slotId%3D33\n",
      "https://www.macys.com/shop/product/dolce-gabbana-light-blue-sun-pour-femme-eau-de-toilette-3.3-oz.?ID=8483092&CategoryID=30087#fn=sp%3D2%26spc%3D1457%26ruleId%3D22%7CBOOST%20SAVED%20SET%7CBOOST%20ATTRIBUTE%26searchPass%3DmatchNone%26slotId%3D33\n",
      "https://www.macys.com/shop/product/lancome-miracle-eau-de-parfum-3.4-fl-oz?ID=45281&CategoryID=30087#fn=sp%3D2%26spc%3D1457%26ruleId%3D22%7CBOOST%20SAVED%20SET%7CBOOST%20ATTRIBUTE%26searchPass%3DmatchNone%26slotId%3D34\n",
      "https://www.macys.com/shop/product/lancome-miracle-eau-de-parfum-3.4-fl-oz?ID=45281&CategoryID=30087#fn=sp%3D2%26spc%3D1457%26ruleId%3D22%7CBOOST%20SAVED%20SET%7CBOOST%20ATTRIBUTE%26searchPass%3DmatchNone%26slotId%3D34\n",
      "https://www.macys.com/shop/product/narciso-rodriguez-for-her-fleur-musc-eau-de-parfum-3-pc.-gift-set?ID=8483076&CategoryID=30087#fn=sp%3D2%26spc%3D1457%26ruleId%3D22%7CBOOST%20SAVED%20SET%7CBOOST%20ATTRIBUTE%26searchPass%3DmatchNone%26slotId%3D35\n",
      "https://www.macys.com/shop/product/narciso-rodriguez-for-her-fleur-musc-eau-de-parfum-3-pc.-gift-set?ID=8483076&CategoryID=30087#fn=sp%3D2%26spc%3D1457%26ruleId%3D22%7CBOOST%20SAVED%20SET%7CBOOST%20ATTRIBUTE%26searchPass%3DmatchNone%26slotId%3D35\n",
      "https://www.macys.com/shop/product/flowerbomb-eau-de-parfum-spray-5-oz.?ID=1722146&CategoryID=30087#fn=sp%3D2%26spc%3D1457%26ruleId%3D22%7CBOOST%20SAVED%20SET%7CBOOST%20ATTRIBUTE%26searchPass%3DmatchNone%26slotId%3D36\n",
      "https://www.macys.com/shop/product/flowerbomb-eau-de-parfum-spray-5-oz.?ID=1722146&CategoryID=30087#fn=sp%3D2%26spc%3D1457%26ruleId%3D22%7CBOOST%20SAVED%20SET%7CBOOST%20ATTRIBUTE%26searchPass%3DmatchNone%26slotId%3D36\n",
      "https://www.macys.com/shop/product/estee-lauder-beautiful-belle-eau-de-parfum-spray-1.7-oz.?ID=6567852&CategoryID=30087#fn=sp%3D2%26spc%3D1457%26ruleId%3D22%7CBOOST%20SAVED%20SET%7CBOOST%20ATTRIBUTE%26searchPass%3DmatchNone%26slotId%3D37\n",
      "https://www.macys.com/shop/product/estee-lauder-beautiful-belle-eau-de-parfum-spray-1.7-oz.?ID=6567852&CategoryID=30087#fn=sp%3D2%26spc%3D1457%26ruleId%3D22%7CBOOST%20SAVED%20SET%7CBOOST%20ATTRIBUTE%26searchPass%3DmatchNone%26slotId%3D37\n",
      "https://www.macys.com/shop/product/jimmy-choo-floral-eau-de-toilette-4-pc-gift-set?ID=8313428&CategoryID=30087#fn=sp%3D2%26spc%3D1457%26ruleId%3D22%7CBOOST%20SAVED%20SET%7CBOOST%20ATTRIBUTE%26searchPass%3DmatchNone%26slotId%3D38\n",
      "https://www.macys.com/shop/product/jimmy-choo-floral-eau-de-toilette-4-pc-gift-set?ID=8313428&CategoryID=30087#fn=sp%3D2%26spc%3D1457%26ruleId%3D22%7CBOOST%20SAVED%20SET%7CBOOST%20ATTRIBUTE%26searchPass%3DmatchNone%26slotId%3D38\n",
      "https://www.macys.com/shop/product/jimmy-choo-leau-4-pc-gift-set?ID=6640346&CategoryID=30087#fn=sp%3D2%26spc%3D1457%26ruleId%3D22%7CBOOST%20SAVED%20SET%7CBOOST%20ATTRIBUTE%26searchPass%3DmatchNone%26slotId%3D39\n",
      "https://www.macys.com/shop/product/jimmy-choo-leau-4-pc-gift-set?ID=6640346&CategoryID=30087#fn=sp%3D2%26spc%3D1457%26ruleId%3D22%7CBOOST%20SAVED%20SET%7CBOOST%20ATTRIBUTE%26searchPass%3DmatchNone%26slotId%3D39\n",
      "https://www.macys.com/shop/product/michael-kors-4-pc.-signature-gift-set?ID=9092459&CategoryID=30087#fn=sp%3D2%26spc%3D1457%26ruleId%3D22%7CBOOST%20SAVED%20SET%7CBOOST%20ATTRIBUTE%26searchPass%3DmatchNone%26slotId%3D40\n",
      "https://www.macys.com/shop/product/michael-kors-4-pc.-signature-gift-set?ID=9092459&CategoryID=30087#fn=sp%3D2%26spc%3D1457%26ruleId%3D22%7CBOOST%20SAVED%20SET%7CBOOST%20ATTRIBUTE%26searchPass%3DmatchNone%26slotId%3D40\n",
      "https://www.macys.com/shop/product/michael-kors-starlight-shimmer-eau-de-parfum-3.4-oz.?ID=9092108&CategoryID=30087#fn=sp%3D2%26spc%3D1457%26ruleId%3D22%7CBOOST%20SAVED%20SET%7CBOOST%20ATTRIBUTE%26searchPass%3DmatchNone%26slotId%3D41\n",
      "https://www.macys.com/shop/product/michael-kors-starlight-shimmer-eau-de-parfum-3.4-oz.?ID=9092108&CategoryID=30087#fn=sp%3D2%26spc%3D1457%26ruleId%3D22%7CBOOST%20SAVED%20SET%7CBOOST%20ATTRIBUTE%26searchPass%3DmatchNone%26slotId%3D41\n",
      "https://www.macys.com/shop/product/nanette-lepore-3-pc.-beautiful-times-gift-set?ID=8225981&CategoryID=30087#fn=sp%3D2%26spc%3D1457%26ruleId%3D22%7CBOOST%20SAVED%20SET%7CBOOST%20ATTRIBUTE%26searchPass%3DmatchNone%26slotId%3D42\n",
      "https://www.macys.com/shop/product/nanette-lepore-3-pc.-beautiful-times-gift-set?ID=8225981&CategoryID=30087#fn=sp%3D2%26spc%3D1457%26ruleId%3D22%7CBOOST%20SAVED%20SET%7CBOOST%20ATTRIBUTE%26searchPass%3DmatchNone%26slotId%3D42\n",
      "https://www.macys.com/shop/product/giorgio-armani-si-fiori-eau-de-parfum-spray-3.4-oz.?ID=8244865&CategoryID=30087#fn=sp%3D2%26spc%3D1457%26ruleId%3D22%7CBOOST%20SAVED%20SET%7CBOOST%20ATTRIBUTE%26searchPass%3DmatchNone%26slotId%3D43\n",
      "https://www.macys.com/shop/product/giorgio-armani-si-fiori-eau-de-parfum-spray-3.4-oz.?ID=8244865&CategoryID=30087#fn=sp%3D2%26spc%3D1457%26ruleId%3D22%7CBOOST%20SAVED%20SET%7CBOOST%20ATTRIBUTE%26searchPass%3DmatchNone%26slotId%3D43\n",
      "https://www.macys.com/shop/product/coach-floral-blush-eau-de-parfum-spray-3-oz.?ID=8425583&CategoryID=30087#fn=sp%3D2%26spc%3D1457%26ruleId%3D22%7CBOOST%20SAVED%20SET%7CBOOST%20ATTRIBUTE%26searchPass%3DmatchNone%26slotId%3D44\n",
      "https://www.macys.com/shop/product/coach-floral-blush-eau-de-parfum-spray-3-oz.?ID=8425583&CategoryID=30087#fn=sp%3D2%26spc%3D1457%26ruleId%3D22%7CBOOST%20SAVED%20SET%7CBOOST%20ATTRIBUTE%26searchPass%3DmatchNone%26slotId%3D44\n",
      "https://www.macys.com/shop/product/narciso-rodriguez-3-pc.-for-her-deluxe-mini-gift-set?ID=9434962&CategoryID=30087#fn=sp%3D2%26spc%3D1457%26ruleId%3D22%7CBOOST%20SAVED%20SET%7CBOOST%20ATTRIBUTE%26searchPass%3DmatchNone%26slotId%3D45\n",
      "https://www.macys.com/shop/product/narciso-rodriguez-3-pc.-for-her-deluxe-mini-gift-set?ID=9434962&CategoryID=30087#fn=sp%3D2%26spc%3D1457%26ruleId%3D22%7CBOOST%20SAVED%20SET%7CBOOST%20ATTRIBUTE%26searchPass%3DmatchNone%26slotId%3D45\n",
      "https://www.macys.com/shop/product/ralph-lauren-4-pc.-romance-gift-set?ID=8073557&CategoryID=30087#fn=sp%3D2%26spc%3D1457%26ruleId%3D22%7CBOOST%20SAVED%20SET%7CBOOST%20ATTRIBUTE%26searchPass%3DmatchNone%26slotId%3D46\n",
      "https://www.macys.com/shop/product/ralph-lauren-4-pc.-romance-gift-set?ID=8073557&CategoryID=30087#fn=sp%3D2%26spc%3D1457%26ruleId%3D22%7CBOOST%20SAVED%20SET%7CBOOST%20ATTRIBUTE%26searchPass%3DmatchNone%26slotId%3D46\n",
      "https://www.macys.com/shop/product/versace-3-pc.-dylan-blue-pour-femme-gift-set?ID=8074873&CategoryID=30087#fn=sp%3D2%26spc%3D1457%26ruleId%3D22%7CBOOST%20SAVED%20SET%7CBOOST%20ATTRIBUTE%26searchPass%3DmatchNone%26slotId%3D47\n",
      "https://www.macys.com/shop/product/versace-3-pc.-dylan-blue-pour-femme-gift-set?ID=8074873&CategoryID=30087#fn=sp%3D2%26spc%3D1457%26ruleId%3D22%7CBOOST%20SAVED%20SET%7CBOOST%20ATTRIBUTE%26searchPass%3DmatchNone%26slotId%3D47\n",
      "https://www.macys.com/shop/product/versace-bright-crystal-eau-de-toilette-spray-3-oz.?ID=346887&CategoryID=30087#fn=sp%3D2%26spc%3D1457%26ruleId%3D22%7CBOOST%20SAVED%20SET%7CBOOST%20ATTRIBUTE%26searchPass%3DmatchNone%26slotId%3D48\n",
      "https://www.macys.com/shop/product/versace-bright-crystal-eau-de-toilette-spray-3-oz.?ID=346887&CategoryID=30087#fn=sp%3D2%26spc%3D1457%26ruleId%3D22%7CBOOST%20SAVED%20SET%7CBOOST%20ATTRIBUTE%26searchPass%3DmatchNone%26slotId%3D48\n",
      "https://www.macys.com/shop/product/estee-lauder-pleasures-eau-de-parfum-spray-1.7-oz?ID=75099&CategoryID=30087#fn=sp%3D2%26spc%3D1457%26ruleId%3D22%7CBOOST%20SAVED%20SET%7CBOOST%20ATTRIBUTE%26searchPass%3DmatchNone%26slotId%3D49\n",
      "https://www.macys.com/shop/product/estee-lauder-pleasures-eau-de-parfum-spray-1.7-oz?ID=75099&CategoryID=30087#fn=sp%3D2%26spc%3D1457%26ruleId%3D22%7CBOOST%20SAVED%20SET%7CBOOST%20ATTRIBUTE%26searchPass%3DmatchNone%26slotId%3D49\n",
      "https://www.macys.com/shop/product/tom-ford-metallique-eau-de-parfum-spray-3.4-oz.?ID=9888169&CategoryID=30087#fn=sp%3D2%26spc%3D1457%26ruleId%3D22%7CBOOST%20SAVED%20SET%7CBOOST%20ATTRIBUTE%26searchPass%3DmatchNone%26slotId%3D50\n",
      "https://www.macys.com/shop/product/tom-ford-metallique-eau-de-parfum-spray-3.4-oz.?ID=9888169&CategoryID=30087#fn=sp%3D2%26spc%3D1457%26ruleId%3D22%7CBOOST%20SAVED%20SET%7CBOOST%20ATTRIBUTE%26searchPass%3DmatchNone%26slotId%3D50\n",
      "https://www.macys.com/shop/product/dior-jadore-eau-de-parfum-spray-3.4-oz?ID=20257&CategoryID=30087#fn=sp%3D2%26spc%3D1457%26ruleId%3D22%7CBOOST%20SAVED%20SET%7CBOOST%20ATTRIBUTE%26searchPass%3DmatchNone%26slotId%3D51\n",
      "https://www.macys.com/shop/product/dior-jadore-eau-de-parfum-spray-3.4-oz?ID=20257&CategoryID=30087#fn=sp%3D2%26spc%3D1457%26ruleId%3D22%7CBOOST%20SAVED%20SET%7CBOOST%20ATTRIBUTE%26searchPass%3DmatchNone%26slotId%3D51\n",
      "https://www.macys.com/shop/product/michael-kors-wonderlust-eau-de-parfum-spray-3.4-oz?ID=2894349&CategoryID=30087#fn=sp%3D2%26spc%3D1457%26ruleId%3D22%7CBOOST%20SAVED%20SET%7CBOOST%20ATTRIBUTE%26searchPass%3DmatchNone%26slotId%3D52\n",
      "https://www.macys.com/shop/product/michael-kors-wonderlust-eau-de-parfum-spray-3.4-oz?ID=2894349&CategoryID=30087#fn=sp%3D2%26spc%3D1457%26ruleId%3D22%7CBOOST%20SAVED%20SET%7CBOOST%20ATTRIBUTE%26searchPass%3DmatchNone%26slotId%3D52\n",
      "https://www.macys.com/shop/product/mugler-3-pc.-alien-gift-set?ID=8312007&CategoryID=30087#fn=sp%3D2%26spc%3D1457%26ruleId%3D22%7CBOOST%20SAVED%20SET%7CBOOST%20ATTRIBUTE%26searchPass%3DmatchNone%26slotId%3D53\n",
      "https://www.macys.com/shop/product/mugler-3-pc.-alien-gift-set?ID=8312007&CategoryID=30087#fn=sp%3D2%26spc%3D1457%26ruleId%3D22%7CBOOST%20SAVED%20SET%7CBOOST%20ATTRIBUTE%26searchPass%3DmatchNone%26slotId%3D53\n",
      "https://www.macys.com/shop/product/juicy-couture-3-pc.-viva-la-juicy-eau-de-parfum-gift-set-a-143-value?ID=8301947&CategoryID=30087#fn=sp%3D2%26spc%3D1457%26ruleId%3D22%7CBOOST%20SAVED%20SET%7CBOOST%20ATTRIBUTE%26searchPass%3DmatchNone%26slotId%3D54\n",
      "https://www.macys.com/shop/product/juicy-couture-3-pc.-viva-la-juicy-eau-de-parfum-gift-set-a-143-value?ID=8301947&CategoryID=30087#fn=sp%3D2%26spc%3D1457%26ruleId%3D22%7CBOOST%20SAVED%20SET%7CBOOST%20ATTRIBUTE%26searchPass%3DmatchNone%26slotId%3D54\n",
      "https://www.macys.com/shop/product/burberry-her-eau-de-parfum-spray-3.3-oz.?ID=6794728&CategoryID=30087#fn=sp%3D2%26spc%3D1457%26ruleId%3D22%7CBOOST%20SAVED%20SET%7CBOOST%20ATTRIBUTE%26searchPass%3DmatchNone%26slotId%3D55\n",
      "https://www.macys.com/shop/product/burberry-her-eau-de-parfum-spray-3.3-oz.?ID=6794728&CategoryID=30087#fn=sp%3D2%26spc%3D1457%26ruleId%3D22%7CBOOST%20SAVED%20SET%7CBOOST%20ATTRIBUTE%26searchPass%3DmatchNone%26slotId%3D55\n",
      "https://www.macys.com/shop/product/lancome-la-vie-est-belle-en-rose-eau-de-toilette-1.7-oz.-first-at-macys?ID=8432596&CategoryID=30087#fn=sp%3D2%26spc%3D1457%26ruleId%3D22%7CBOOST%20SAVED%20SET%7CBOOST%20ATTRIBUTE%26searchPass%3DmatchNone%26slotId%3D56\n",
      "https://www.macys.com/shop/product/lancome-la-vie-est-belle-en-rose-eau-de-toilette-1.7-oz.-first-at-macys?ID=8432596&CategoryID=30087#fn=sp%3D2%26spc%3D1457%26ruleId%3D22%7CBOOST%20SAVED%20SET%7CBOOST%20ATTRIBUTE%26searchPass%3DmatchNone%26slotId%3D56\n",
      "https://www.macys.com/shop/product/hugo-boss-boss-the-scent-for-her-eau-de-parfum-spray-3.3-oz.-created-for-macys?ID=6741347&CategoryID=30087#fn=sp%3D2%26spc%3D1457%26ruleId%3D22%7CBOOST%20SAVED%20SET%7CBOOST%20ATTRIBUTE%26searchPass%3DmatchNone%26slotId%3D57\n",
      "https://www.macys.com/shop/product/hugo-boss-boss-the-scent-for-her-eau-de-parfum-spray-3.3-oz.-created-for-macys?ID=6741347&CategoryID=30087#fn=sp%3D2%26spc%3D1457%26ruleId%3D22%7CBOOST%20SAVED%20SET%7CBOOST%20ATTRIBUTE%26searchPass%3DmatchNone%26slotId%3D57\n",
      "https://www.macys.com/shop/product/tory-burch-2-pc.-azur-rollerball-gift-set?ID=8057292&CategoryID=30087#fn=sp%3D2%26spc%3D1457%26ruleId%3D22%7CBOOST%20SAVED%20SET%7CBOOST%20ATTRIBUTE%26searchPass%3DmatchNone%26slotId%3D58\n",
      "https://www.macys.com/shop/product/tory-burch-2-pc.-azur-rollerball-gift-set?ID=8057292&CategoryID=30087#fn=sp%3D2%26spc%3D1457%26ruleId%3D22%7CBOOST%20SAVED%20SET%7CBOOST%20ATTRIBUTE%26searchPass%3DmatchNone%26slotId%3D58\n",
      "https://www.macys.com/shop/product/yves-saint-laurent-3-pc.-mon-paris-eau-de-parfum-gift-set-created-for-macys?ID=8774259&CategoryID=30087#fn=sp%3D2%26spc%3D1457%26ruleId%3D22%7CBOOST%20SAVED%20SET%7CBOOST%20ATTRIBUTE%26searchPass%3DmatchNone%26slotId%3D59\n",
      "https://www.macys.com/shop/product/yves-saint-laurent-3-pc.-mon-paris-eau-de-parfum-gift-set-created-for-macys?ID=8774259&CategoryID=30087#fn=sp%3D2%26spc%3D1457%26ruleId%3D22%7CBOOST%20SAVED%20SET%7CBOOST%20ATTRIBUTE%26searchPass%3DmatchNone%26slotId%3D59\n",
      "https://www.macys.com/shop/product/chanel-allure-parfum-.25-oz?ID=74668&CategoryID=30087#fn=sp%3D2%26spc%3D1457%26ruleId%3D22%7CBOOST%20SAVED%20SET%7CBOOST%20ATTRIBUTE%26searchPass%3DmatchNone%26slotId%3D60\n",
      "https://www.macys.com/shop/product/chanel-allure-parfum-.25-oz?ID=74668&CategoryID=30087#fn=sp%3D2%26spc%3D1457%26ruleId%3D22%7CBOOST%20SAVED%20SET%7CBOOST%20ATTRIBUTE%26searchPass%3DmatchNone%26slotId%3D60\n",
      "https://www.macys.com/shop/product/carolina-herrera-good-girl-eau-de-parfum-spray-1-oz.?ID=5809218&CategoryID=30087#fn=sp%3D2%26spc%3D1457%26ruleId%3D22%7CBOOST%20SAVED%20SET%7CBOOST%20ATTRIBUTE%26searchPass%3DmatchNone%26slotId%3D61\n",
      "https://www.macys.com/shop/product/carolina-herrera-good-girl-eau-de-parfum-spray-1-oz.?ID=5809218&CategoryID=30087#fn=sp%3D2%26spc%3D1457%26ruleId%3D22%7CBOOST%20SAVED%20SET%7CBOOST%20ATTRIBUTE%26searchPass%3DmatchNone%26slotId%3D61\n",
      "https://www.macys.com/shop/product/chanel-gabrielle-chanel-eau-de-parfum-spray-3.4-oz.?ID=4817008&CategoryID=30087#fn=sp%3D2%26spc%3D1457%26ruleId%3D22%7CBOOST%20SAVED%20SET%7CBOOST%20ATTRIBUTE%26searchPass%3DmatchNone%26slotId%3D62\n",
      "https://www.macys.com/shop/product/chanel-gabrielle-chanel-eau-de-parfum-spray-3.4-oz.?ID=4817008&CategoryID=30087#fn=sp%3D2%26spc%3D1457%26ruleId%3D22%7CBOOST%20SAVED%20SET%7CBOOST%20ATTRIBUTE%26searchPass%3DmatchNone%26slotId%3D62\n",
      "https://www.macys.com/shop/product/juicy-couture-viva-la-juicy-eau-de-parfum-3.4-oz?ID=338208&CategoryID=30087#fn=sp%3D2%26spc%3D1457%26ruleId%3D22%7CBOOST%20SAVED%20SET%7CBOOST%20ATTRIBUTE%26searchPass%3DmatchNone%26slotId%3D63\n",
      "https://www.macys.com/shop/product/juicy-couture-viva-la-juicy-eau-de-parfum-3.4-oz?ID=338208&CategoryID=30087#fn=sp%3D2%26spc%3D1457%26ruleId%3D22%7CBOOST%20SAVED%20SET%7CBOOST%20ATTRIBUTE%26searchPass%3DmatchNone%26slotId%3D63\n",
      "https://www.macys.com/shop/product/estee-lauder-3-pc.-modern-muse-gift-set?ID=8510664&CategoryID=30087#fn=sp%3D2%26spc%3D1457%26ruleId%3D22%7CBOOST%20SAVED%20SET%7CBOOST%20ATTRIBUTE%26searchPass%3DmatchNone%26slotId%3D64\n",
      "https://www.macys.com/shop/product/estee-lauder-3-pc.-modern-muse-gift-set?ID=8510664&CategoryID=30087#fn=sp%3D2%26spc%3D1457%26ruleId%3D22%7CBOOST%20SAVED%20SET%7CBOOST%20ATTRIBUTE%26searchPass%3DmatchNone%26slotId%3D64\n",
      "https://www.macys.com/shop/product/issey-miyake-leau-dissey-eau-de-toilette-1.7-oz?ID=2214&CategoryID=30087#fn=sp%3D2%26spc%3D1457%26ruleId%3D22%7CBOOST%20SAVED%20SET%7CBOOST%20ATTRIBUTE%26searchPass%3DmatchNone%26slotId%3D65\n",
      "https://www.macys.com/shop/product/issey-miyake-leau-dissey-eau-de-toilette-1.7-oz?ID=2214&CategoryID=30087#fn=sp%3D2%26spc%3D1457%26ruleId%3D22%7CBOOST%20SAVED%20SET%7CBOOST%20ATTRIBUTE%26searchPass%3DmatchNone%26slotId%3D65\n",
      "https://www.macys.com/shop/product/tom-ford-ombre-leather-eau-de-parfum-spray-3.4-oz.?ID=6545567&CategoryID=30087#fn=sp%3D2%26spc%3D1457%26ruleId%3D22%7CBOOST%20SAVED%20SET%7CBOOST%20ATTRIBUTE%26searchPass%3DmatchNone%26slotId%3D66\n",
      "https://www.macys.com/shop/product/tom-ford-ombre-leather-eau-de-parfum-spray-3.4-oz.?ID=6545567&CategoryID=30087#fn=sp%3D2%26spc%3D1457%26ruleId%3D22%7CBOOST%20SAVED%20SET%7CBOOST%20ATTRIBUTE%26searchPass%3DmatchNone%26slotId%3D66\n",
      "https://www.macys.com/shop/product/estee-lauder-white-linen-parfum-spray-3-oz.?ID=75114&CategoryID=30087#fn=sp%3D2%26spc%3D1457%26ruleId%3D22%7CBOOST%20SAVED%20SET%7CBOOST%20ATTRIBUTE%26searchPass%3DmatchNone%26slotId%3D67\n",
      "https://www.macys.com/shop/product/estee-lauder-white-linen-parfum-spray-3-oz.?ID=75114&CategoryID=30087#fn=sp%3D2%26spc%3D1457%26ruleId%3D22%7CBOOST%20SAVED%20SET%7CBOOST%20ATTRIBUTE%26searchPass%3DmatchNone%26slotId%3D67\n",
      "https://www.macys.com/shop/product/jo-malone-london-3-pc.-fresh-vibrant-gift-set?ID=9978816&CategoryID=30087#fn=sp%3D2%26spc%3D1457%26ruleId%3D22%7CBOOST%20SAVED%20SET%7CBOOST%20ATTRIBUTE%26searchPass%3DmatchNone%26slotId%3D68\n",
      "https://www.macys.com/shop/product/jo-malone-london-3-pc.-fresh-vibrant-gift-set?ID=9978816&CategoryID=30087#fn=sp%3D2%26spc%3D1457%26ruleId%3D22%7CBOOST%20SAVED%20SET%7CBOOST%20ATTRIBUTE%26searchPass%3DmatchNone%26slotId%3D68\n",
      "https://www.macys.com/shop/product/mac-turquatic-50-ml?ID=594994&CategoryID=30087#fn=sp%3D2%26spc%3D1457%26ruleId%3D22%7CBOOST%20SAVED%20SET%7CBOOST%20ATTRIBUTE%26searchPass%3DmatchNone%26slotId%3D69\n",
      "https://www.macys.com/shop/product/mac-turquatic-50-ml?ID=594994&CategoryID=30087#fn=sp%3D2%26spc%3D1457%26ruleId%3D22%7CBOOST%20SAVED%20SET%7CBOOST%20ATTRIBUTE%26searchPass%3DmatchNone%26slotId%3D69\n",
      "https://www.macys.com/shop/product/estee-lauder-youth-dew-eau-de-parfum-spray-2.25-oz?ID=75127&CategoryID=30087#fn=sp%3D2%26spc%3D1457%26ruleId%3D22%7CBOOST%20SAVED%20SET%7CBOOST%20ATTRIBUTE%26searchPass%3DmatchNone%26slotId%3D70\n",
      "https://www.macys.com/shop/product/estee-lauder-youth-dew-eau-de-parfum-spray-2.25-oz?ID=75127&CategoryID=30087#fn=sp%3D2%26spc%3D1457%26ruleId%3D22%7CBOOST%20SAVED%20SET%7CBOOST%20ATTRIBUTE%26searchPass%3DmatchNone%26slotId%3D70\n",
      "https://www.macys.com/shop/product/narciso-rodriguez-3-pc.-for-her-pure-musc-eau-de-parfum-gift-set?ID=8854748&CategoryID=30087#fn=sp%3D2%26spc%3D1457%26ruleId%3D22%7CBOOST%20SAVED%20SET%7CBOOST%20ATTRIBUTE%26searchPass%3DmatchNone%26slotId%3D71\n",
      "https://www.macys.com/shop/product/narciso-rodriguez-3-pc.-for-her-pure-musc-eau-de-parfum-gift-set?ID=8854748&CategoryID=30087#fn=sp%3D2%26spc%3D1457%26ruleId%3D22%7CBOOST%20SAVED%20SET%7CBOOST%20ATTRIBUTE%26searchPass%3DmatchNone%26slotId%3D71\n",
      "https://www.macys.com/shop/product/bottega-veneta-illusione-eau-de-parfum-2.5-oz.?ID=9559555&CategoryID=30087#fn=sp%3D2%26spc%3D1457%26ruleId%3D22%7CBOOST%20SAVED%20SET%7CBOOST%20ATTRIBUTE%26searchPass%3DmatchNone%26slotId%3D72\n",
      "https://www.macys.com/shop/product/bottega-veneta-illusione-eau-de-parfum-2.5-oz.?ID=9559555&CategoryID=30087#fn=sp%3D2%26spc%3D1457%26ruleId%3D22%7CBOOST%20SAVED%20SET%7CBOOST%20ATTRIBUTE%26searchPass%3DmatchNone%26slotId%3D72\n",
      "https://www.macys.com/shop/product/guerlain-mon-guerlain-bloom-of-rose-eau-de-toilette-3.3-oz.?ID=8423241&CategoryID=30087#fn=sp%3D2%26spc%3D1457%26ruleId%3D22%7CBOOST%20SAVED%20SET%7CBOOST%20ATTRIBUTE%26searchPass%3DmatchNone%26slotId%3D73\n",
      "https://www.macys.com/shop/product/guerlain-mon-guerlain-bloom-of-rose-eau-de-toilette-3.3-oz.?ID=8423241&CategoryID=30087#fn=sp%3D2%26spc%3D1457%26ruleId%3D22%7CBOOST%20SAVED%20SET%7CBOOST%20ATTRIBUTE%26searchPass%3DmatchNone%26slotId%3D73\n",
      "https://www.macys.com/shop/product/dolce-gabbana-the-only-one-3-pc.-gift-set?ID=8483087&CategoryID=30087#fn=sp%3D2%26spc%3D1457%26ruleId%3D22%7CBOOST%20SAVED%20SET%7CBOOST%20ATTRIBUTE%26searchPass%3DmatchNone%26slotId%3D74\n",
      "https://www.macys.com/shop/product/dolce-gabbana-the-only-one-3-pc.-gift-set?ID=8483087&CategoryID=30087#fn=sp%3D2%26spc%3D1457%26ruleId%3D22%7CBOOST%20SAVED%20SET%7CBOOST%20ATTRIBUTE%26searchPass%3DmatchNone%26slotId%3D74\n",
      "https://www.macys.com/shop/product/elizabeth-arden-red-door-eau-de-toilette-3.3-oz.?ID=211&CategoryID=30087#fn=sp%3D2%26spc%3D1457%26ruleId%3D22%7CBOOST%20SAVED%20SET%7CBOOST%20ATTRIBUTE%26searchPass%3DmatchNone%26slotId%3D75\n",
      "https://www.macys.com/shop/product/elizabeth-arden-red-door-eau-de-toilette-3.3-oz.?ID=211&CategoryID=30087#fn=sp%3D2%26spc%3D1457%26ruleId%3D22%7CBOOST%20SAVED%20SET%7CBOOST%20ATTRIBUTE%26searchPass%3DmatchNone%26slotId%3D75\n",
      "https://www.macys.com/shop/product/estee-lauder-2-pc.-beautiful-belle-gift-set?ID=6893775&CategoryID=30087#fn=sp%3D2%26spc%3D1457%26ruleId%3D22%7CBOOST%20SAVED%20SET%7CBOOST%20ATTRIBUTE%26searchPass%3DmatchNone%26slotId%3D76\n",
      "https://www.macys.com/shop/product/estee-lauder-2-pc.-beautiful-belle-gift-set?ID=6893775&CategoryID=30087#fn=sp%3D2%26spc%3D1457%26ruleId%3D22%7CBOOST%20SAVED%20SET%7CBOOST%20ATTRIBUTE%26searchPass%3DmatchNone%26slotId%3D76\n",
      "https://www.macys.com/shop/product/clinique-happy-heart-perfume-spray-3.4-fl-oz?ID=92350&CategoryID=30087#fn=sp%3D2%26spc%3D1457%26ruleId%3D22%7CBOOST%20SAVED%20SET%7CBOOST%20ATTRIBUTE%26searchPass%3DmatchNone%26slotId%3D77\n",
      "https://www.macys.com/shop/product/clinique-happy-heart-perfume-spray-3.4-fl-oz?ID=92350&CategoryID=30087#fn=sp%3D2%26spc%3D1457%26ruleId%3D22%7CBOOST%20SAVED%20SET%7CBOOST%20ATTRIBUTE%26searchPass%3DmatchNone%26slotId%3D77\n",
      "https://www.macys.com/shop/product/chanel-chance-eau-tendre-eau-de-parfum-spray-1.7-oz.?ID=8024913&CategoryID=30087#fn=sp%3D2%26spc%3D1457%26ruleId%3D22%7CBOOST%20SAVED%20SET%7CBOOST%20ATTRIBUTE%26searchPass%3DmatchNone%26slotId%3D78\n",
      "https://www.macys.com/shop/product/chanel-chance-eau-tendre-eau-de-parfum-spray-1.7-oz.?ID=8024913&CategoryID=30087#fn=sp%3D2%26spc%3D1457%26ruleId%3D22%7CBOOST%20SAVED%20SET%7CBOOST%20ATTRIBUTE%26searchPass%3DmatchNone%26slotId%3D78\n",
      "https://www.macys.com/shop/product/michael-kors-wonderlust-sublime-eau-de-parfum-3.4-oz.?ID=9012124&CategoryID=30087#fn=sp%3D2%26spc%3D1457%26ruleId%3D22%7CBOOST%20SAVED%20SET%7CBOOST%20ATTRIBUTE%26searchPass%3DmatchNone%26slotId%3D79\n",
      "https://www.macys.com/shop/product/michael-kors-wonderlust-sublime-eau-de-parfum-3.4-oz.?ID=9012124&CategoryID=30087#fn=sp%3D2%26spc%3D1457%26ruleId%3D22%7CBOOST%20SAVED%20SET%7CBOOST%20ATTRIBUTE%26searchPass%3DmatchNone%26slotId%3D79\n",
      "https://www.macys.com/shop/product/mugler-alien-luxury-4-pc.-gift-set?ID=8425461&CategoryID=30087#fn=sp%3D2%26spc%3D1457%26ruleId%3D22%7CBOOST%20SAVED%20SET%7CBOOST%20ATTRIBUTE%26searchPass%3DmatchNone%26slotId%3D80\n",
      "https://www.macys.com/shop/product/mugler-alien-luxury-4-pc.-gift-set?ID=8425461&CategoryID=30087#fn=sp%3D2%26spc%3D1457%26ruleId%3D22%7CBOOST%20SAVED%20SET%7CBOOST%20ATTRIBUTE%26searchPass%3DmatchNone%26slotId%3D80\n",
      "https://www.macys.com/shop/product/donna-karan-cashmere-mist-eau-de-toilette-spray-1-oz?ID=92773&CategoryID=30087#fn=sp%3D2%26spc%3D1457%26ruleId%3D22%7CBOOST%20SAVED%20SET%7CBOOST%20ATTRIBUTE%26searchPass%3DmatchNone%26slotId%3D81\n",
      "https://www.macys.com/shop/product/donna-karan-cashmere-mist-eau-de-toilette-spray-1-oz?ID=92773&CategoryID=30087#fn=sp%3D2%26spc%3D1457%26ruleId%3D22%7CBOOST%20SAVED%20SET%7CBOOST%20ATTRIBUTE%26searchPass%3DmatchNone%26slotId%3D81\n",
      "https://www.macys.com/shop/product/versace-3-pc.-dylan-blue-pour-femme-eau-de-parfum-gift-set?ID=9362242&CategoryID=30087#fn=sp%3D2%26spc%3D1457%26ruleId%3D22%7CBOOST%20SAVED%20SET%7CBOOST%20ATTRIBUTE%26searchPass%3DmatchNone%26slotId%3D82\n",
      "https://www.macys.com/shop/product/versace-3-pc.-dylan-blue-pour-femme-eau-de-parfum-gift-set?ID=9362242&CategoryID=30087#fn=sp%3D2%26spc%3D1457%26ruleId%3D22%7CBOOST%20SAVED%20SET%7CBOOST%20ATTRIBUTE%26searchPass%3DmatchNone%26slotId%3D82\n",
      "https://www.macys.com/shop/product/dolce-gabbana-light-blue-eau-de-toilette-spray-1.6-oz.?ID=77353&CategoryID=30087#fn=sp%3D2%26spc%3D1457%26ruleId%3D22%7CBOOST%20SAVED%20SET%7CBOOST%20ATTRIBUTE%26searchPass%3DmatchNone%26slotId%3D83\n",
      "https://www.macys.com/shop/product/dolce-gabbana-light-blue-eau-de-toilette-spray-1.6-oz.?ID=77353&CategoryID=30087#fn=sp%3D2%26spc%3D1457%26ruleId%3D22%7CBOOST%20SAVED%20SET%7CBOOST%20ATTRIBUTE%26searchPass%3DmatchNone%26slotId%3D83\n",
      "https://www.macys.com/shop/product/gucci-2-pc.-bloom-nettare-di-fiori-gift-set?ID=6989131&CategoryID=30087#fn=sp%3D2%26spc%3D1457%26ruleId%3D22%7CBOOST%20SAVED%20SET%7CBOOST%20ATTRIBUTE%26searchPass%3DmatchNone%26slotId%3D84\n",
      "https://www.macys.com/shop/product/gucci-2-pc.-bloom-nettare-di-fiori-gift-set?ID=6989131&CategoryID=30087#fn=sp%3D2%26spc%3D1457%26ruleId%3D22%7CBOOST%20SAVED%20SET%7CBOOST%20ATTRIBUTE%26searchPass%3DmatchNone%26slotId%3D84\n",
      "https://www.macys.com/shop/product/marc-jacobs-3-pc.-daisy-dream-gift-set?ID=8267293&CategoryID=30087#fn=sp%3D2%26spc%3D1457%26ruleId%3D22%7CBOOST%20SAVED%20SET%7CBOOST%20ATTRIBUTE%26searchPass%3DmatchNone%26slotId%3D85\n",
      "https://www.macys.com/shop/product/marc-jacobs-3-pc.-daisy-dream-gift-set?ID=8267293&CategoryID=30087#fn=sp%3D2%26spc%3D1457%26ruleId%3D22%7CBOOST%20SAVED%20SET%7CBOOST%20ATTRIBUTE%26searchPass%3DmatchNone%26slotId%3D85\n",
      "https://www.macys.com/shop/product/kenzo-world-eau-de-parfum-spray-2.5-oz.?ID=4465425&CategoryID=30087#fn=sp%3D2%26spc%3D1457%26ruleId%3D22%7CBOOST%20SAVED%20SET%7CBOOST%20ATTRIBUTE%26searchPass%3DmatchNone%26slotId%3D86\n",
      "https://www.macys.com/shop/product/kenzo-world-eau-de-parfum-spray-2.5-oz.?ID=4465425&CategoryID=30087#fn=sp%3D2%26spc%3D1457%26ruleId%3D22%7CBOOST%20SAVED%20SET%7CBOOST%20ATTRIBUTE%26searchPass%3DmatchNone%26slotId%3D86\n",
      "https://www.macys.com/shop/product/donna-karan-cashmere-mist-eau-de-parfum-spray-3.4-oz?ID=166324&CategoryID=30087#fn=sp%3D2%26spc%3D1457%26ruleId%3D22%7CBOOST%20SAVED%20SET%7CBOOST%20ATTRIBUTE%26searchPass%3DmatchNone%26slotId%3D87\n",
      "https://www.macys.com/shop/product/donna-karan-cashmere-mist-eau-de-parfum-spray-3.4-oz?ID=166324&CategoryID=30087#fn=sp%3D2%26spc%3D1457%26ruleId%3D22%7CBOOST%20SAVED%20SET%7CBOOST%20ATTRIBUTE%26searchPass%3DmatchNone%26slotId%3D87\n",
      "https://www.macys.com/shop/product/prada-candy-eau-de-parfum-spray-2.7-oz.?ID=724310&CategoryID=30087#fn=sp%3D2%26spc%3D1457%26ruleId%3D22%7CBOOST%20SAVED%20SET%7CBOOST%20ATTRIBUTE%26searchPass%3DmatchNone%26slotId%3D88\n",
      "https://www.macys.com/shop/product/prada-candy-eau-de-parfum-spray-2.7-oz.?ID=724310&CategoryID=30087#fn=sp%3D2%26spc%3D1457%26ruleId%3D22%7CBOOST%20SAVED%20SET%7CBOOST%20ATTRIBUTE%26searchPass%3DmatchNone%26slotId%3D88\n",
      "https://www.macys.com/shop/product/dior-miss-dior-eau-de-toilette-spray-1.7-oz.?ID=904726&CategoryID=30087#fn=sp%3D2%26spc%3D1457%26ruleId%3D22%7CBOOST%20SAVED%20SET%7CBOOST%20ATTRIBUTE%26searchPass%3DmatchNone%26slotId%3D89\n",
      "https://www.macys.com/shop/product/dior-miss-dior-eau-de-toilette-spray-1.7-oz.?ID=904726&CategoryID=30087#fn=sp%3D2%26spc%3D1457%26ruleId%3D22%7CBOOST%20SAVED%20SET%7CBOOST%20ATTRIBUTE%26searchPass%3DmatchNone%26slotId%3D89\n",
      "https://www.macys.com/shop/product/calvin-klein-obsession-for-her-eau-de-parfum-1.7-oz?ID=3562&CategoryID=30087#fn=sp%3D2%26spc%3D1457%26ruleId%3D22%7CBOOST%20SAVED%20SET%7CBOOST%20ATTRIBUTE%26searchPass%3DmatchNone%26slotId%3D90\n",
      "https://www.macys.com/shop/product/calvin-klein-obsession-for-her-eau-de-parfum-1.7-oz?ID=3562&CategoryID=30087#fn=sp%3D2%26spc%3D1457%26ruleId%3D22%7CBOOST%20SAVED%20SET%7CBOOST%20ATTRIBUTE%26searchPass%3DmatchNone%26slotId%3D90\n",
      "https://www.macys.com/shop/product/lancome-magie-noire-eau-de-toilette-natural-spray-2.5-fl.-oz.?ID=242133&CategoryID=30087#fn=sp%3D2%26spc%3D1457%26ruleId%3D22%7CBOOST%20SAVED%20SET%7CBOOST%20ATTRIBUTE%26searchPass%3DmatchNone%26slotId%3D91\n",
      "https://www.macys.com/shop/product/lancome-magie-noire-eau-de-toilette-natural-spray-2.5-fl.-oz.?ID=242133&CategoryID=30087#fn=sp%3D2%26spc%3D1457%26ruleId%3D22%7CBOOST%20SAVED%20SET%7CBOOST%20ATTRIBUTE%26searchPass%3DmatchNone%26slotId%3D91\n",
      "https://www.macys.com/shop/product/viktor-rolf-flowerbomb-nectar-eau-de-parfum-spray-1.7-oz.?ID=5712325&CategoryID=30087#fn=sp%3D2%26spc%3D1457%26ruleId%3D22%7CBOOST%20SAVED%20SET%7CBOOST%20ATTRIBUTE%26searchPass%3DmatchNone%26slotId%3D92\n",
      "https://www.macys.com/shop/product/viktor-rolf-flowerbomb-nectar-eau-de-parfum-spray-1.7-oz.?ID=5712325&CategoryID=30087#fn=sp%3D2%26spc%3D1457%26ruleId%3D22%7CBOOST%20SAVED%20SET%7CBOOST%20ATTRIBUTE%26searchPass%3DmatchNone%26slotId%3D92\n",
      "https://www.macys.com/shop/product/dior-addict-eau-de-parfum-3.4-oz.?ID=88928&CategoryID=30087#fn=sp%3D2%26spc%3D1457%26ruleId%3D22%7CBOOST%20SAVED%20SET%7CBOOST%20ATTRIBUTE%26searchPass%3DmatchNone%26slotId%3D93\n",
      "https://www.macys.com/shop/product/dior-addict-eau-de-parfum-3.4-oz.?ID=88928&CategoryID=30087#fn=sp%3D2%26spc%3D1457%26ruleId%3D22%7CBOOST%20SAVED%20SET%7CBOOST%20ATTRIBUTE%26searchPass%3DmatchNone%26slotId%3D93\n",
      "https://www.macys.com/shop/product/dior-miss-dior-eau-de-parfum-3-pc.-gift-set?ID=8690907&CategoryID=30087#fn=sp%3D2%26spc%3D1457%26ruleId%3D22%7CBOOST%20SAVED%20SET%7CBOOST%20ATTRIBUTE%26searchPass%3DmatchNone%26slotId%3D94\n",
      "https://www.macys.com/shop/product/dior-miss-dior-eau-de-parfum-3-pc.-gift-set?ID=8690907&CategoryID=30087#fn=sp%3D2%26spc%3D1457%26ruleId%3D22%7CBOOST%20SAVED%20SET%7CBOOST%20ATTRIBUTE%26searchPass%3DmatchNone%26slotId%3D94\n",
      "https://www.macys.com/shop/product/giorgio-armani-4-pc.-acqua-di-gioia-limited-edition-gift-set?ID=8689787&CategoryID=30087#fn=sp%3D2%26spc%3D1457%26ruleId%3D22%7CBOOST%20SAVED%20SET%7CBOOST%20ATTRIBUTE%26searchPass%3DmatchNone%26slotId%3D95\n",
      "https://www.macys.com/shop/product/giorgio-armani-4-pc.-acqua-di-gioia-limited-edition-gift-set?ID=8689787&CategoryID=30087#fn=sp%3D2%26spc%3D1457%26ruleId%3D22%7CBOOST%20SAVED%20SET%7CBOOST%20ATTRIBUTE%26searchPass%3DmatchNone%26slotId%3D95\n",
      "https://www.macys.com/shop/product/givenchy-live-irresistible-blossom-crush-eau-de-toilette-3-pc.-gift-set?ID=8510657&CategoryID=30087#fn=sp%3D2%26spc%3D1457%26ruleId%3D22%7CBOOST%20SAVED%20SET%7CBOOST%20ATTRIBUTE%26searchPass%3DmatchNone%26slotId%3D96\n",
      "https://www.macys.com/shop/product/givenchy-live-irresistible-blossom-crush-eau-de-toilette-3-pc.-gift-set?ID=8510657&CategoryID=30087#fn=sp%3D2%26spc%3D1457%26ruleId%3D22%7CBOOST%20SAVED%20SET%7CBOOST%20ATTRIBUTE%26searchPass%3DmatchNone%26slotId%3D96\n",
      "https://www.macys.com/shop/product/estee-lauder-beautiful-perfumed-body-powder-with-puff-3.5-oz?ID=75095&CategoryID=30087#fn=sp%3D2%26spc%3D1457%26ruleId%3D22%7CBOOST%20SAVED%20SET%7CBOOST%20ATTRIBUTE%26searchPass%3DmatchNone%26slotId%3D97\n",
      "https://www.macys.com/shop/product/estee-lauder-beautiful-perfumed-body-powder-with-puff-3.5-oz?ID=75095&CategoryID=30087#fn=sp%3D2%26spc%3D1457%26ruleId%3D22%7CBOOST%20SAVED%20SET%7CBOOST%20ATTRIBUTE%26searchPass%3DmatchNone%26slotId%3D97\n",
      "https://www.macys.com/shop/product/burberry-my-burberry-blush-eau-de-parfum-spray-3-oz.?ID=4814700&CategoryID=30087#fn=sp%3D2%26spc%3D1457%26ruleId%3D22%7CBOOST%20SAVED%20SET%7CBOOST%20ATTRIBUTE%26searchPass%3DmatchNone%26slotId%3D98\n",
      "https://www.macys.com/shop/product/burberry-my-burberry-blush-eau-de-parfum-spray-3-oz.?ID=4814700&CategoryID=30087#fn=sp%3D2%26spc%3D1457%26ruleId%3D22%7CBOOST%20SAVED%20SET%7CBOOST%20ATTRIBUTE%26searchPass%3DmatchNone%26slotId%3D98\n",
      "https://www.macys.com/shop/product/versace-3-pc.-eros-pour-femme-gift-set?ID=8074874&CategoryID=30087#fn=sp%3D2%26spc%3D1457%26ruleId%3D22%7CBOOST%20SAVED%20SET%7CBOOST%20ATTRIBUTE%26searchPass%3DmatchNone%26slotId%3D99\n",
      "https://www.macys.com/shop/product/versace-3-pc.-eros-pour-femme-gift-set?ID=8074874&CategoryID=30087#fn=sp%3D2%26spc%3D1457%26ruleId%3D22%7CBOOST%20SAVED%20SET%7CBOOST%20ATTRIBUTE%26searchPass%3DmatchNone%26slotId%3D99\n",
      "https://www.macys.com/shop/product/dolce-gabbana-dolce-peony-eau-de-parfum-2.5-oz.?ID=8298666&CategoryID=30087#fn=sp%3D2%26spc%3D1457%26ruleId%3D22%7CBOOST%20SAVED%20SET%7CBOOST%20ATTRIBUTE%26searchPass%3DmatchNone%26slotId%3D100\n",
      "https://www.macys.com/shop/product/dolce-gabbana-dolce-peony-eau-de-parfum-2.5-oz.?ID=8298666&CategoryID=30087#fn=sp%3D2%26spc%3D1457%26ruleId%3D22%7CBOOST%20SAVED%20SET%7CBOOST%20ATTRIBUTE%26searchPass%3DmatchNone%26slotId%3D100\n",
      "https://www.macys.com/shop/product/jean-paul-gaultier-classique-eau-de-toilette-natural-spray-3.3-oz.?ID=2210&CategoryID=30087#fn=sp%3D2%26spc%3D1457%26ruleId%3D22%7CBOOST%20SAVED%20SET%7CBOOST%20ATTRIBUTE%26searchPass%3DmatchNone%26slotId%3D101\n",
      "https://www.macys.com/shop/product/jean-paul-gaultier-classique-eau-de-toilette-natural-spray-3.3-oz.?ID=2210&CategoryID=30087#fn=sp%3D2%26spc%3D1457%26ruleId%3D22%7CBOOST%20SAVED%20SET%7CBOOST%20ATTRIBUTE%26searchPass%3DmatchNone%26slotId%3D101\n",
      "https://www.macys.com/shop/product/versace-eros-pour-femme-eau-de-toilette-3.4-oz?ID=2893479&CategoryID=30087#fn=sp%3D2%26spc%3D1457%26ruleId%3D22%7CBOOST%20SAVED%20SET%7CBOOST%20ATTRIBUTE%26searchPass%3DmatchNone%26slotId%3D102\n",
      "https://www.macys.com/shop/product/versace-eros-pour-femme-eau-de-toilette-3.4-oz?ID=2893479&CategoryID=30087#fn=sp%3D2%26spc%3D1457%26ruleId%3D22%7CBOOST%20SAVED%20SET%7CBOOST%20ATTRIBUTE%26searchPass%3DmatchNone%26slotId%3D102\n",
      "https://www.macys.com/shop/product/coach-eau-de-toilette-spray-3-oz.?ID=4801593&CategoryID=30087#fn=sp%3D2%26spc%3D1457%26ruleId%3D22%7CBOOST%20SAVED%20SET%7CBOOST%20ATTRIBUTE%26searchPass%3DmatchNone%26slotId%3D103\n",
      "https://www.macys.com/shop/product/coach-eau-de-toilette-spray-3-oz.?ID=4801593&CategoryID=30087#fn=sp%3D2%26spc%3D1457%26ruleId%3D22%7CBOOST%20SAVED%20SET%7CBOOST%20ATTRIBUTE%26searchPass%3DmatchNone%26slotId%3D103\n",
      "https://www.macys.com/shop/product/givenchy-linterdit-eau-de-parfum-80-ml?ID=8315801&CategoryID=30087#fn=sp%3D2%26spc%3D1457%26ruleId%3D22%7CBOOST%20SAVED%20SET%7CBOOST%20ATTRIBUTE%26searchPass%3DmatchNone%26slotId%3D104\n",
      "https://www.macys.com/shop/product/givenchy-linterdit-eau-de-parfum-80-ml?ID=8315801&CategoryID=30087#fn=sp%3D2%26spc%3D1457%26ruleId%3D22%7CBOOST%20SAVED%20SET%7CBOOST%20ATTRIBUTE%26searchPass%3DmatchNone%26slotId%3D104\n",
      "https://www.macys.com/shop/product/cartier-2-pc.-carat-discovery-set?ID=6857277&CategoryID=30087#fn=sp%3D2%26spc%3D1457%26ruleId%3D22%7CBOOST%20SAVED%20SET%7CBOOST%20ATTRIBUTE%26searchPass%3DmatchNone%26slotId%3D105\n",
      "https://www.macys.com/shop/product/cartier-2-pc.-carat-discovery-set?ID=6857277&CategoryID=30087#fn=sp%3D2%26spc%3D1457%26ruleId%3D22%7CBOOST%20SAVED%20SET%7CBOOST%20ATTRIBUTE%26searchPass%3DmatchNone%26slotId%3D105\n",
      "https://www.macys.com/shop/product/kensie-4-pc.-womens-collection-gift-set?ID=5724014&CategoryID=30087#fn=sp%3D2%26spc%3D1457%26ruleId%3D22%7CBOOST%20SAVED%20SET%7CBOOST%20ATTRIBUTE%26searchPass%3DmatchNone%26slotId%3D106\n",
      "https://www.macys.com/shop/product/kensie-4-pc.-womens-collection-gift-set?ID=5724014&CategoryID=30087#fn=sp%3D2%26spc%3D1457%26ruleId%3D22%7CBOOST%20SAVED%20SET%7CBOOST%20ATTRIBUTE%26searchPass%3DmatchNone%26slotId%3D106\n",
      "https://www.macys.com/shop/product/prada-candy-night-eau-de-parfum-spray-2.7-oz.?ID=8483852&CategoryID=30087#fn=sp%3D2%26spc%3D1457%26ruleId%3D22%7CBOOST%20SAVED%20SET%7CBOOST%20ATTRIBUTE%26searchPass%3DmatchNone%26slotId%3D107\n",
      "https://www.macys.com/shop/product/prada-candy-night-eau-de-parfum-spray-2.7-oz.?ID=8483852&CategoryID=30087#fn=sp%3D2%26spc%3D1457%26ruleId%3D22%7CBOOST%20SAVED%20SET%7CBOOST%20ATTRIBUTE%26searchPass%3DmatchNone%26slotId%3D107\n",
      "https://www.macys.com/shop/product/gucci-bloom-eau-de-pafum-1-oz.?ID=9509087&CategoryID=30087#fn=sp%3D2%26spc%3D1457%26ruleId%3D22%7CBOOST%20SAVED%20SET%7CBOOST%20ATTRIBUTE%26searchPass%3DmatchNone%26slotId%3D108\n",
      "https://www.macys.com/shop/product/gucci-bloom-eau-de-pafum-1-oz.?ID=9509087&CategoryID=30087#fn=sp%3D2%26spc%3D1457%26ruleId%3D22%7CBOOST%20SAVED%20SET%7CBOOST%20ATTRIBUTE%26searchPass%3DmatchNone%26slotId%3D108\n",
      "https://www.macys.com/shop/product/prada-candy-eau-de-parfum-3-pc.-gift-set?ID=7133290&CategoryID=30087#fn=sp%3D2%26spc%3D1457%26ruleId%3D22%7CBOOST%20SAVED%20SET%7CBOOST%20ATTRIBUTE%26searchPass%3DmatchNone%26slotId%3D109\n",
      "https://www.macys.com/shop/product/prada-candy-eau-de-parfum-3-pc.-gift-set?ID=7133290&CategoryID=30087#fn=sp%3D2%26spc%3D1457%26ruleId%3D22%7CBOOST%20SAVED%20SET%7CBOOST%20ATTRIBUTE%26searchPass%3DmatchNone%26slotId%3D109\n",
      "https://www.macys.com/shop/product/bvlgari-omnia-pink-sapphire-eau-de-toilette-spray-2.2-oz.?ID=5870933&CategoryID=30087#fn=sp%3D2%26spc%3D1457%26ruleId%3D22%7CBOOST%20SAVED%20SET%7CBOOST%20ATTRIBUTE%26searchPass%3DmatchNone%26slotId%3D110\n",
      "https://www.macys.com/shop/product/bvlgari-omnia-pink-sapphire-eau-de-toilette-spray-2.2-oz.?ID=5870933&CategoryID=30087#fn=sp%3D2%26spc%3D1457%26ruleId%3D22%7CBOOST%20SAVED%20SET%7CBOOST%20ATTRIBUTE%26searchPass%3DmatchNone%26slotId%3D110\n",
      "https://www.macys.com/shop/product/giorgio-armani-si-eau-de-parfum-spray-3.4-oz?ID=1495789&CategoryID=30087#fn=sp%3D2%26spc%3D1457%26ruleId%3D22%7CBOOST%20SAVED%20SET%7CBOOST%20ATTRIBUTE%26searchPass%3DmatchNone%26slotId%3D111\n",
      "https://www.macys.com/shop/product/giorgio-armani-si-eau-de-parfum-spray-3.4-oz?ID=1495789&CategoryID=30087#fn=sp%3D2%26spc%3D1457%26ruleId%3D22%7CBOOST%20SAVED%20SET%7CBOOST%20ATTRIBUTE%26searchPass%3DmatchNone%26slotId%3D111\n",
      "https://www.macys.com/shop/product/yves-saint-laurent-mon-paris-floral-eau-de-parfum-spray-3-oz.?ID=8456704&CategoryID=30087#fn=sp%3D2%26spc%3D1457%26ruleId%3D22%7CBOOST%20SAVED%20SET%7CBOOST%20ATTRIBUTE%26searchPass%3DmatchNone%26slotId%3D112\n",
      "https://www.macys.com/shop/product/yves-saint-laurent-mon-paris-floral-eau-de-parfum-spray-3-oz.?ID=8456704&CategoryID=30087#fn=sp%3D2%26spc%3D1457%26ruleId%3D22%7CBOOST%20SAVED%20SET%7CBOOST%20ATTRIBUTE%26searchPass%3DmatchNone%26slotId%3D112\n",
      "https://www.macys.com/shop/product/elizabeth-arden-3-pc.-my-fifth-avenue-gift-set?ID=8156526&CategoryID=30087#fn=sp%3D2%26spc%3D1457%26ruleId%3D22%7CBOOST%20SAVED%20SET%7CBOOST%20ATTRIBUTE%26searchPass%3DmatchNone%26slotId%3D113\n",
      "https://www.macys.com/shop/product/elizabeth-arden-3-pc.-my-fifth-avenue-gift-set?ID=8156526&CategoryID=30087#fn=sp%3D2%26spc%3D1457%26ruleId%3D22%7CBOOST%20SAVED%20SET%7CBOOST%20ATTRIBUTE%26searchPass%3DmatchNone%26slotId%3D113\n",
      "https://www.macys.com/shop/product/gucci-guilty-pour-femme-eau-de-parfum-3.3-oz.?ID=7996939&CategoryID=30087#fn=sp%3D2%26spc%3D1457%26ruleId%3D22%7CBOOST%20SAVED%20SET%7CBOOST%20ATTRIBUTE%26searchPass%3DmatchNone%26slotId%3D114\n",
      "https://www.macys.com/shop/product/gucci-guilty-pour-femme-eau-de-parfum-3.3-oz.?ID=7996939&CategoryID=30087#fn=sp%3D2%26spc%3D1457%26ruleId%3D22%7CBOOST%20SAVED%20SET%7CBOOST%20ATTRIBUTE%26searchPass%3DmatchNone%26slotId%3D114\n",
      "https://www.macys.com/shop/product/estee-lauder-knowing-eau-de-parfum-spray-2.5-oz?ID=75084&CategoryID=30087#fn=sp%3D2%26spc%3D1457%26ruleId%3D22%7CBOOST%20SAVED%20SET%7CBOOST%20ATTRIBUTE%26searchPass%3DmatchNone%26slotId%3D115\n",
      "https://www.macys.com/shop/product/estee-lauder-knowing-eau-de-parfum-spray-2.5-oz?ID=75084&CategoryID=30087#fn=sp%3D2%26spc%3D1457%26ruleId%3D22%7CBOOST%20SAVED%20SET%7CBOOST%20ATTRIBUTE%26searchPass%3DmatchNone%26slotId%3D115\n",
      "https://www.macys.com/shop/product/tom-ford-noir-pour-femme-eau-de-parfum-3.4-oz?ID=2284952&CategoryID=30087#fn=sp%3D2%26spc%3D1457%26ruleId%3D22%7CBOOST%20SAVED%20SET%7CBOOST%20ATTRIBUTE%26searchPass%3DmatchNone%26slotId%3D116\n",
      "https://www.macys.com/shop/product/tom-ford-noir-pour-femme-eau-de-parfum-3.4-oz?ID=2284952&CategoryID=30087#fn=sp%3D2%26spc%3D1457%26ruleId%3D22%7CBOOST%20SAVED%20SET%7CBOOST%20ATTRIBUTE%26searchPass%3DmatchNone%26slotId%3D116\n",
      "https://www.macys.com/shop/product/tory-burch-love-relentlessly-eau-de-parfum-spray-3.4-oz?ID=4358279&CategoryID=30087#fn=sp%3D2%26spc%3D1457%26ruleId%3D22%7CBOOST%20SAVED%20SET%7CBOOST%20ATTRIBUTE%26searchPass%3DmatchNone%26slotId%3D117\n",
      "https://www.macys.com/shop/product/tory-burch-love-relentlessly-eau-de-parfum-spray-3.4-oz?ID=4358279&CategoryID=30087#fn=sp%3D2%26spc%3D1457%26ruleId%3D22%7CBOOST%20SAVED%20SET%7CBOOST%20ATTRIBUTE%26searchPass%3DmatchNone%26slotId%3D117\n",
      "https://www.macys.com/shop/product/jason-wu-velvet-rouge-eau-de-parfum-3-oz.?ID=8279636&CategoryID=30087#fn=sp%3D2%26spc%3D1457%26ruleId%3D22%7CBOOST%20SAVED%20SET%7CBOOST%20ATTRIBUTE%26searchPass%3DmatchNone%26slotId%3D118\n",
      "https://www.macys.com/shop/product/jason-wu-velvet-rouge-eau-de-parfum-3-oz.?ID=8279636&CategoryID=30087#fn=sp%3D2%26spc%3D1457%26ruleId%3D22%7CBOOST%20SAVED%20SET%7CBOOST%20ATTRIBUTE%26searchPass%3DmatchNone%26slotId%3D118\n",
      "https://www.macys.com/shop/product/juicy-couture-oui-eau-de-parfum-spray-3.4-oz.?ID=6428439&CategoryID=30087#fn=sp%3D2%26spc%3D1457%26ruleId%3D22%7CBOOST%20SAVED%20SET%7CBOOST%20ATTRIBUTE%26searchPass%3DmatchNone%26slotId%3D119\n",
      "https://www.macys.com/shop/product/juicy-couture-oui-eau-de-parfum-spray-3.4-oz.?ID=6428439&CategoryID=30087#fn=sp%3D2%26spc%3D1457%26ruleId%3D22%7CBOOST%20SAVED%20SET%7CBOOST%20ATTRIBUTE%26searchPass%3DmatchNone%26slotId%3D119\n",
      "https://www.macys.com/shop/product/jimmy-choo-2-pc.-fever-eau-de-parfum-gift-set?ID=8425560&CategoryID=30087#fn=sp%3D2%26spc%3D1457%26ruleId%3D22%7CBOOST%20SAVED%20SET%7CBOOST%20ATTRIBUTE%26searchPass%3DmatchNone%26slotId%3D120\n",
      "https://www.macys.com/shop/product/jimmy-choo-2-pc.-fever-eau-de-parfum-gift-set?ID=8425560&CategoryID=30087#fn=sp%3D2%26spc%3D1457%26ruleId%3D22%7CBOOST%20SAVED%20SET%7CBOOST%20ATTRIBUTE%26searchPass%3DmatchNone%26slotId%3D120\n",
      "https://www.macys.com/shop/product/tiffany-co.-signature-eau-de-parfum-2-pc-gift-set?ID=8276993&CategoryID=30087#fn=sp%3D2%26spc%3D1457%26ruleId%3D22%7CBOOST%20SAVED%20SET%7CBOOST%20ATTRIBUTE%26searchPass%3DmatchNone%26slotId%3D121\n",
      "https://www.macys.com/shop/product/tiffany-co.-signature-eau-de-parfum-2-pc-gift-set?ID=8276993&CategoryID=30087#fn=sp%3D2%26spc%3D1457%26ruleId%3D22%7CBOOST%20SAVED%20SET%7CBOOST%20ATTRIBUTE%26searchPass%3DmatchNone%26slotId%3D121\n",
      "https://www.macys.com/shop/product/gucci-bloom-gocce-di-fiori-eau-de-toilette-3.3-oz.?ID=8286975&CategoryID=30087#fn=sp%3D2%26spc%3D1457%26ruleId%3D22%7CBOOST%20SAVED%20SET%7CBOOST%20ATTRIBUTE%26searchPass%3DmatchNone%26slotId%3D122\n",
      "https://www.macys.com/shop/product/gucci-bloom-gocce-di-fiori-eau-de-toilette-3.3-oz.?ID=8286975&CategoryID=30087#fn=sp%3D2%26spc%3D1457%26ruleId%3D22%7CBOOST%20SAVED%20SET%7CBOOST%20ATTRIBUTE%26searchPass%3DmatchNone%26slotId%3D122\n",
      "https://www.macys.com/shop/product/kilian-princess-eau-de-parfum-spray-3.4-oz.?ID=9381646&CategoryID=30087#fn=sp%3D2%26spc%3D1457%26ruleId%3D22%7CBOOST%20SAVED%20SET%7CBOOST%20ATTRIBUTE%26searchPass%3DmatchNone%26slotId%3D123\n",
      "https://www.macys.com/shop/product/kilian-princess-eau-de-parfum-spray-3.4-oz.?ID=9381646&CategoryID=30087#fn=sp%3D2%26spc%3D1457%26ruleId%3D22%7CBOOST%20SAVED%20SET%7CBOOST%20ATTRIBUTE%26searchPass%3DmatchNone%26slotId%3D123\n"
     ]
    }
   ],
   "source": [
    "#testing out the syntax to get the list of perfume urls\n",
    "for link in massive_list_strings:\n",
    "    if link[:31] == 'https://www.macys.com/shop/prod':\n",
    "        print(link)"
   ]
  },
  {
   "cell_type": "code",
   "execution_count": 126,
   "metadata": {
    "scrolled": true
   },
   "outputs": [],
   "source": [
    "perf_links_ls = []\n",
    "for link in massive_list_strings:\n",
    "    if link[0:31] == 'https://www.macys.com/shop/prod':\n",
    "        perf_links_ls.append(link)"
   ]
  },
  {
   "cell_type": "code",
   "execution_count": 129,
   "metadata": {
    "scrolled": true
   },
   "outputs": [
    {
     "data": {
      "text/plain": [
       "246"
      ]
     },
     "execution_count": 129,
     "metadata": {},
     "output_type": "execute_result"
    }
   ],
   "source": [
    "len(perf_links_ls)"
   ]
  },
  {
   "cell_type": "code",
   "execution_count": 131,
   "metadata": {},
   "outputs": [
    {
     "data": {
      "text/plain": [
       "123"
      ]
     },
     "execution_count": 131,
     "metadata": {},
     "output_type": "execute_result"
    }
   ],
   "source": [
    "s = set(perf_links_ls)\n",
    "len(s)"
   ]
  },
  {
   "cell_type": "code",
   "execution_count": 133,
   "metadata": {},
   "outputs": [],
   "source": [
    "s = list(s)"
   ]
  },
  {
   "cell_type": "code",
   "execution_count": 134,
   "metadata": {},
   "outputs": [
    {
     "data": {
      "text/plain": [
       "['https://www.macys.com/shop/product/jimmy-choo-2-pc.-fever-eau-de-parfum-gift-set?ID=8425560&CategoryID=30087#fn=sp%3D2%26spc%3D1457%26ruleId%3D22%7CBOOST%20SAVED%20SET%7CBOOST%20ATTRIBUTE%26searchPass%3DmatchNone%26slotId%3D120',\n",
       " 'https://www.macys.com/shop/product/tory-burch-2-pc.-azur-rollerball-gift-set?ID=8057292&CategoryID=30087#fn=sp%3D2%26spc%3D1457%26ruleId%3D22%7CBOOST%20SAVED%20SET%7CBOOST%20ATTRIBUTE%26searchPass%3DmatchNone%26slotId%3D58',\n",
       " 'https://www.macys.com/shop/product/cartier-2-pc.-carat-discovery-set?ID=6857277&CategoryID=30087#fn=sp%3D2%26spc%3D1457%26ruleId%3D22%7CBOOST%20SAVED%20SET%7CBOOST%20ATTRIBUTE%26searchPass%3DmatchNone%26slotId%3D105',\n",
       " 'https://www.macys.com/shop/product/chanel-gabrielle-chanel-eau-de-parfum-spray-3.4-oz.?ID=4817008&CategoryID=30087#fn=sp%3D2%26spc%3D1457%26ruleId%3D22%7CBOOST%20SAVED%20SET%7CBOOST%20ATTRIBUTE%26searchPass%3DmatchNone%26slotId%3D62',\n",
       " 'https://www.macys.com/shop/product/donna-karan-cashmere-mist-eau-de-parfum-spray-3.4-oz?ID=166324&CategoryID=30087#fn=sp%3D2%26spc%3D1457%26ruleId%3D22%7CBOOST%20SAVED%20SET%7CBOOST%20ATTRIBUTE%26searchPass%3DmatchNone%26slotId%3D87',\n",
       " 'https://www.macys.com/shop/product/estee-lauder-beautiful-perfumed-body-powder-with-puff-3.5-oz?ID=75095&CategoryID=30087#fn=sp%3D2%26spc%3D1457%26ruleId%3D22%7CBOOST%20SAVED%20SET%7CBOOST%20ATTRIBUTE%26searchPass%3DmatchNone%26slotId%3D97',\n",
       " 'https://www.macys.com/shop/product/burberry-my-burberry-blush-eau-de-parfum-spray-3-oz.?ID=4814700&CategoryID=30087#fn=sp%3D2%26spc%3D1457%26ruleId%3D22%7CBOOST%20SAVED%20SET%7CBOOST%20ATTRIBUTE%26searchPass%3DmatchNone%26slotId%3D98',\n",
       " 'https://www.macys.com/shop/product/narciso-rodriguez-3-pc.-for-her-deluxe-mini-gift-set?ID=9434962&CategoryID=30087#fn=sp%3D2%26spc%3D1457%26ruleId%3D22%7CBOOST%20SAVED%20SET%7CBOOST%20ATTRIBUTE%26searchPass%3DmatchNone%26slotId%3D45',\n",
       " 'https://www.macys.com/shop/product/chanel-n5-eau-de-parfum-spray-3.4-oz?ID=74731&CategoryID=30087#fn=sp%3D2%26spc%3D1457%26ruleId%3D22%7CBOOST%20SAVED%20SET%7CBOOST%20ATTRIBUTE%26searchPass%3DmatchNone%26slotId%3D21',\n",
       " 'https://www.macys.com/shop/product/versace-3-pc.-dylan-blue-pour-femme-eau-de-parfum-gift-set?ID=9362242&CategoryID=30087#fn=sp%3D2%26spc%3D1457%26ruleId%3D22%7CBOOST%20SAVED%20SET%7CBOOST%20ATTRIBUTE%26searchPass%3DmatchNone%26slotId%3D82',\n",
       " 'https://www.macys.com/shop/product/jean-paul-gaultier-classique-eau-de-toilette-natural-spray-3.3-oz.?ID=2210&CategoryID=30087#fn=sp%3D2%26spc%3D1457%26ruleId%3D22%7CBOOST%20SAVED%20SET%7CBOOST%20ATTRIBUTE%26searchPass%3DmatchNone%26slotId%3D101',\n",
       " 'https://www.macys.com/shop/product/dolce-gabbana-3-pc.-light-blue-eau-de-toilette-gift-set?ID=6606565&CategoryID=30087#fn=sp%3D2%26spc%3D1457%26ruleId%3D22%7CBOOST%20SAVED%20SET%7CBOOST%20ATTRIBUTE%26searchPass%3DmatchNone%26slotId%3D24',\n",
       " 'https://www.macys.com/shop/product/kensie-4-pc.-womens-collection-gift-set?ID=5724014&CategoryID=30087#fn=sp%3D2%26spc%3D1457%26ruleId%3D22%7CBOOST%20SAVED%20SET%7CBOOST%20ATTRIBUTE%26searchPass%3DmatchNone%26slotId%3D106',\n",
       " 'https://www.macys.com/shop/product/estee-lauder-2-pc.-beautiful-belle-gift-set?ID=6893775&CategoryID=30087#fn=sp%3D2%26spc%3D1457%26ruleId%3D22%7CBOOST%20SAVED%20SET%7CBOOST%20ATTRIBUTE%26searchPass%3DmatchNone%26slotId%3D76',\n",
       " 'https://www.macys.com/shop/product/dior-miss-dior-eau-de-parfum-3-pc.-gift-set?ID=8690907&CategoryID=30087#fn=sp%3D2%26spc%3D1457%26ruleId%3D22%7CBOOST%20SAVED%20SET%7CBOOST%20ATTRIBUTE%26searchPass%3DmatchNone%26slotId%3D94',\n",
       " 'https://www.macys.com/shop/product/versace-eros-pour-femme-eau-de-toilette-3.4-oz?ID=2893479&CategoryID=30087#fn=sp%3D2%26spc%3D1457%26ruleId%3D22%7CBOOST%20SAVED%20SET%7CBOOST%20ATTRIBUTE%26searchPass%3DmatchNone%26slotId%3D102',\n",
       " 'https://www.macys.com/shop/product/chanel-2-pc.-gabrielle-chanel-gift-set?ID=6604593&CategoryID=30087#fn=sp%3D2%26spc%3D1457%26ruleId%3D22%7CBOOST%20SAVED%20SET%7CBOOST%20ATTRIBUTE%26searchPass%3DmatchNone%26slotId%3D2',\n",
       " 'https://www.macys.com/shop/product/michael-kors-starlight-shimmer-eau-de-parfum-3.4-oz.?ID=9092108&CategoryID=30087#fn=sp%3D2%26spc%3D1457%26ruleId%3D22%7CBOOST%20SAVED%20SET%7CBOOST%20ATTRIBUTE%26searchPass%3DmatchNone%26slotId%3D41',\n",
       " 'https://www.macys.com/shop/product/dolce-gabbana-the-only-one-3-pc.-gift-set?ID=8483087&CategoryID=30087#fn=sp%3D2%26spc%3D1457%26ruleId%3D22%7CBOOST%20SAVED%20SET%7CBOOST%20ATTRIBUTE%26searchPass%3DmatchNone%26slotId%3D74',\n",
       " 'https://www.macys.com/shop/product/lancome-la-vie-est-belle-en-rose-eau-de-toilette-1.7-oz.-first-at-macys?ID=8432596&CategoryID=30087#fn=sp%3D2%26spc%3D1457%26ruleId%3D22%7CBOOST%20SAVED%20SET%7CBOOST%20ATTRIBUTE%26searchPass%3DmatchNone%26slotId%3D56',\n",
       " 'https://www.macys.com/shop/product/michael-kors-wonderlust-sublime-eau-de-parfum-3.4-oz.?ID=9012124&CategoryID=30087#fn=sp%3D2%26spc%3D1457%26ruleId%3D22%7CBOOST%20SAVED%20SET%7CBOOST%20ATTRIBUTE%26searchPass%3DmatchNone%26slotId%3D79',\n",
       " 'https://www.macys.com/shop/product/calvin-klein-women-eau-de-parfum-spray-3.4-oz.?ID=6572586&CategoryID=30087#fn=sp%3D2%26spc%3D1457%26ruleId%3D22%7CBOOST%20SAVED%20SET%7CBOOST%20ATTRIBUTE%26searchPass%3DmatchNone%26slotId%3D6',\n",
       " 'https://www.macys.com/shop/product/carolina-herrera-good-girl-eau-de-parfum-spray-1-oz.?ID=5809218&CategoryID=30087#fn=sp%3D2%26spc%3D1457%26ruleId%3D22%7CBOOST%20SAVED%20SET%7CBOOST%20ATTRIBUTE%26searchPass%3DmatchNone%26slotId%3D61',\n",
       " 'https://www.macys.com/shop/product/dolce-gabbana-light-blue-eau-de-toilette-spray-1.6-oz.?ID=77353&CategoryID=30087#fn=sp%3D2%26spc%3D1457%26ruleId%3D22%7CBOOST%20SAVED%20SET%7CBOOST%20ATTRIBUTE%26searchPass%3DmatchNone%26slotId%3D83',\n",
       " 'https://www.macys.com/shop/product/dolce-gabbana-dolce-peony-eau-de-parfum-2.5-oz.?ID=8298666&CategoryID=30087#fn=sp%3D2%26spc%3D1457%26ruleId%3D22%7CBOOST%20SAVED%20SET%7CBOOST%20ATTRIBUTE%26searchPass%3DmatchNone%26slotId%3D100',\n",
       " 'https://www.macys.com/shop/product/michael-kors-wonderlust-eau-de-parfum-spray-3.4-oz?ID=2894349&CategoryID=30087#fn=sp%3D2%26spc%3D1457%26ruleId%3D22%7CBOOST%20SAVED%20SET%7CBOOST%20ATTRIBUTE%26searchPass%3DmatchNone%26slotId%3D52',\n",
       " 'https://www.macys.com/shop/product/michael-kors-eau-de-parfum-spray-3.4-oz?ID=60550&CategoryID=30087#fn=sp%3D2%26spc%3D1457%26ruleId%3D22%7CBOOST%20SAVED%20SET%7CBOOST%20ATTRIBUTE%26searchPass%3DmatchNone%26slotId%3D16',\n",
       " 'https://www.macys.com/shop/product/issey-miyake-leau-dissey-pure-eau-de-parfum-3-oz?ID=2823737&CategoryID=30087#fn=sp%3D2%26spc%3D1457%26ruleId%3D22%7CBOOST%20SAVED%20SET%7CBOOST%20ATTRIBUTE%26searchPass%3DmatchNone%26slotId%3D12',\n",
       " 'https://www.macys.com/shop/product/dior-jadore-eau-de-parfum-spray-3.4-oz?ID=20257&CategoryID=30087#fn=sp%3D2%26spc%3D1457%26ruleId%3D22%7CBOOST%20SAVED%20SET%7CBOOST%20ATTRIBUTE%26searchPass%3DmatchNone%26slotId%3D51',\n",
       " 'https://www.macys.com/shop/product/donna-karan-3-pc.-cashmere-mist-purse-spray-gift-set?ID=9381478&CategoryID=30087#fn=sp%3D2%26spc%3D1457%26ruleId%3D22%7CBOOST%20SAVED%20SET%7CBOOST%20ATTRIBUTE%26searchPass%3DmatchNone%26slotId%3D11',\n",
       " 'https://www.macys.com/shop/product/juicy-couture-viva-la-juicy-gold-couture-eau-de-parfum-spray-1-oz.?ID=6865925&CategoryID=30087#fn=sp%3D2%26spc%3D1457%26ruleId%3D22%7CBOOST%20SAVED%20SET%7CBOOST%20ATTRIBUTE%26searchPass%3DmatchNone%26slotId%3D18',\n",
       " 'https://www.macys.com/shop/product/giorgio-armani-si-fiori-eau-de-parfum-spray-3.4-oz.?ID=8244865&CategoryID=30087#fn=sp%3D2%26spc%3D1457%26ruleId%3D22%7CBOOST%20SAVED%20SET%7CBOOST%20ATTRIBUTE%26searchPass%3DmatchNone%26slotId%3D43',\n",
       " 'https://www.macys.com/shop/product/tom-ford-noir-pour-femme-eau-de-parfum-3.4-oz?ID=2284952&CategoryID=30087#fn=sp%3D2%26spc%3D1457%26ruleId%3D22%7CBOOST%20SAVED%20SET%7CBOOST%20ATTRIBUTE%26searchPass%3DmatchNone%26slotId%3D116',\n",
       " 'https://www.macys.com/shop/product/michael-kors-twilight-shimmer-limited-edition-eau-de-parfum-spray-3.4-oz.?ID=6465743&CategoryID=30087#fn=sp%3D2%26spc%3D1457%26ruleId%3D22%7CBOOST%20SAVED%20SET%7CBOOST%20ATTRIBUTE%26searchPass%3DmatchNone%26slotId%3D23',\n",
       " 'https://www.macys.com/shop/product/ralph-lauren-4-pc.-romance-gift-set?ID=8073557&CategoryID=30087#fn=sp%3D2%26spc%3D1457%26ruleId%3D22%7CBOOST%20SAVED%20SET%7CBOOST%20ATTRIBUTE%26searchPass%3DmatchNone%26slotId%3D46',\n",
       " 'https://www.macys.com/shop/product/estee-lauder-pleasures-jumbo-spray-5-oz.?ID=4418348&CategoryID=30087#fn=sp%3D2%26spc%3D1457%26ruleId%3D22%7CBOOST%20SAVED%20SET%7CBOOST%20ATTRIBUTE%26searchPass%3DmatchNone%26slotId%3D9',\n",
       " 'https://www.macys.com/shop/product/kenzo-world-eau-de-parfum-spray-2.5-oz.?ID=4465425&CategoryID=30087#fn=sp%3D2%26spc%3D1457%26ruleId%3D22%7CBOOST%20SAVED%20SET%7CBOOST%20ATTRIBUTE%26searchPass%3DmatchNone%26slotId%3D86',\n",
       " 'https://www.macys.com/shop/product/giorgio-armani-si-eau-de-parfum-spray-3.4-oz?ID=1495789&CategoryID=30087#fn=sp%3D2%26spc%3D1457%26ruleId%3D22%7CBOOST%20SAVED%20SET%7CBOOST%20ATTRIBUTE%26searchPass%3DmatchNone%26slotId%3D111',\n",
       " 'https://www.macys.com/shop/product/versace-3-pc.-eros-pour-femme-gift-set?ID=8074874&CategoryID=30087#fn=sp%3D2%26spc%3D1457%26ruleId%3D22%7CBOOST%20SAVED%20SET%7CBOOST%20ATTRIBUTE%26searchPass%3DmatchNone%26slotId%3D99',\n",
       " 'https://www.macys.com/shop/product/viktor-rolf-4-pc.-flowerbomb-twist-spray-gift-set?ID=5712323&CategoryID=30087#fn=sp%3D2%26spc%3D1457%26ruleId%3D22%7CBOOST%20SAVED%20SET%7CBOOST%20ATTRIBUTE%26searchPass%3DmatchNone%26slotId%3D10',\n",
       " 'https://www.macys.com/shop/product/yves-saint-laurent-mon-paris-floral-eau-de-parfum-spray-3-oz.?ID=8456704&CategoryID=30087#fn=sp%3D2%26spc%3D1457%26ruleId%3D22%7CBOOST%20SAVED%20SET%7CBOOST%20ATTRIBUTE%26searchPass%3DmatchNone%26slotId%3D112',\n",
       " 'https://www.macys.com/shop/product/jimmy-choo-floral-eau-de-toilette-4-pc-gift-set?ID=8313428&CategoryID=30087#fn=sp%3D2%26spc%3D1457%26ruleId%3D22%7CBOOST%20SAVED%20SET%7CBOOST%20ATTRIBUTE%26searchPass%3DmatchNone%26slotId%3D38',\n",
       " 'https://www.macys.com/shop/product/givenchy-live-irresistible-blossom-crush-eau-de-toilette-3-pc.-gift-set?ID=8510657&CategoryID=30087#fn=sp%3D2%26spc%3D1457%26ruleId%3D22%7CBOOST%20SAVED%20SET%7CBOOST%20ATTRIBUTE%26searchPass%3DmatchNone%26slotId%3D96',\n",
       " 'https://www.macys.com/shop/product/prada-candy-eau-de-parfum-3-pc.-gift-set?ID=7133290&CategoryID=30087#fn=sp%3D2%26spc%3D1457%26ruleId%3D22%7CBOOST%20SAVED%20SET%7CBOOST%20ATTRIBUTE%26searchPass%3DmatchNone%26slotId%3D109',\n",
       " 'https://www.macys.com/shop/product/michael-kors-sexy-amber-eau-de-parfum-spray-3.4-oz?ID=886389&CategoryID=30087#fn=sp%3D2%26spc%3D1457%26ruleId%3D22%7CBOOST%20SAVED%20SET%7CBOOST%20ATTRIBUTE%26searchPass%3DmatchNone%26slotId%3D29',\n",
       " 'https://www.macys.com/shop/product/dior-addict-eau-de-parfum-3.4-oz.?ID=88928&CategoryID=30087#fn=sp%3D2%26spc%3D1457%26ruleId%3D22%7CBOOST%20SAVED%20SET%7CBOOST%20ATTRIBUTE%26searchPass%3DmatchNone%26slotId%3D93',\n",
       " 'https://www.macys.com/shop/product/yves-saint-laurent-black-opium-eau-de-parfum-intense-spray-3-oz.?ID=8244826&CategoryID=30087#fn=sp%3D2%26spc%3D1457%26ruleId%3D22%7CBOOST%20SAVED%20SET%7CBOOST%20ATTRIBUTE%26searchPass%3DmatchNone%26slotId%3D3',\n",
       " 'https://www.macys.com/shop/product/calvin-klein-2-pc.-women-gift-set-a-170-value?ID=8276664&CategoryID=30087#fn=sp%3D2%26spc%3D1457%26ruleId%3D22%7CBOOST%20SAVED%20SET%7CBOOST%20ATTRIBUTE%26searchPass%3DmatchNone%26slotId%3D13',\n",
       " 'https://www.macys.com/shop/product/estee-lauder-white-linen-parfum-spray-3-oz.?ID=75114&CategoryID=30087#fn=sp%3D2%26spc%3D1457%26ruleId%3D22%7CBOOST%20SAVED%20SET%7CBOOST%20ATTRIBUTE%26searchPass%3DmatchNone%26slotId%3D67',\n",
       " 'https://www.macys.com/shop/product/clinique-happy-heart-perfume-spray-3.4-fl-oz?ID=92350&CategoryID=30087#fn=sp%3D2%26spc%3D1457%26ruleId%3D22%7CBOOST%20SAVED%20SET%7CBOOST%20ATTRIBUTE%26searchPass%3DmatchNone%26slotId%3D77',\n",
       " 'https://www.macys.com/shop/product/coach-floral-eau-de-parfum-spray-3-oz.?ID=5641588&CategoryID=30087#fn=sp%3D2%26spc%3D1457%26ruleId%3D22%7CBOOST%20SAVED%20SET%7CBOOST%20ATTRIBUTE%26searchPass%3DmatchNone%26slotId%3D15',\n",
       " 'https://www.macys.com/shop/product/coach-floral-blush-eau-de-parfum-spray-3-oz.?ID=8425583&CategoryID=30087#fn=sp%3D2%26spc%3D1457%26ruleId%3D22%7CBOOST%20SAVED%20SET%7CBOOST%20ATTRIBUTE%26searchPass%3DmatchNone%26slotId%3D44',\n",
       " 'https://www.macys.com/shop/product/gucci-2-pc.-bloom-nettare-di-fiori-gift-set?ID=6989131&CategoryID=30087#fn=sp%3D2%26spc%3D1457%26ruleId%3D22%7CBOOST%20SAVED%20SET%7CBOOST%20ATTRIBUTE%26searchPass%3DmatchNone%26slotId%3D84',\n",
       " 'https://www.macys.com/shop/product/lancome-miracle-eau-de-parfum-3.4-fl-oz?ID=45281&CategoryID=30087#fn=sp%3D2%26spc%3D1457%26ruleId%3D22%7CBOOST%20SAVED%20SET%7CBOOST%20ATTRIBUTE%26searchPass%3DmatchNone%26slotId%3D34',\n",
       " 'https://www.macys.com/shop/product/estee-lauder-3-pc.-beautiful-romantic-favorites-gift-set?ID=7268040&CategoryID=30087#fn=sp%3D2%26spc%3D1457%26ruleId%3D22%7CBOOST%20SAVED%20SET%7CBOOST%20ATTRIBUTE%26searchPass%3DmatchNone%26slotId%3D27',\n",
       " 'https://www.macys.com/shop/product/viktor-rolf-flowerbomb-eau-de-parfum-spray-1.7-oz.?ID=447085&CategoryID=30087#fn=sp%3D2%26spc%3D1457%26ruleId%3D22%7CBOOST%20SAVED%20SET%7CBOOST%20ATTRIBUTE%26searchPass%3DmatchNone%26slotId%3D14',\n",
       " 'https://www.macys.com/shop/product/burberry-her-eau-de-parfum-spray-3.3-oz.?ID=6794728&CategoryID=30087#fn=sp%3D2%26spc%3D1457%26ruleId%3D22%7CBOOST%20SAVED%20SET%7CBOOST%20ATTRIBUTE%26searchPass%3DmatchNone%26slotId%3D55',\n",
       " 'https://www.macys.com/shop/product/mugler-3-pc.-alien-gift-set?ID=8312007&CategoryID=30087#fn=sp%3D2%26spc%3D1457%26ruleId%3D22%7CBOOST%20SAVED%20SET%7CBOOST%20ATTRIBUTE%26searchPass%3DmatchNone%26slotId%3D53',\n",
       " 'https://www.macys.com/shop/product/coach-eau-de-toilette-spray-3-oz.?ID=4801593&CategoryID=30087#fn=sp%3D2%26spc%3D1457%26ruleId%3D22%7CBOOST%20SAVED%20SET%7CBOOST%20ATTRIBUTE%26searchPass%3DmatchNone%26slotId%3D103',\n",
       " 'https://www.macys.com/shop/product/tory-burch-love-relentlessly-eau-de-parfum-spray-3.4-oz?ID=4358279&CategoryID=30087#fn=sp%3D2%26spc%3D1457%26ruleId%3D22%7CBOOST%20SAVED%20SET%7CBOOST%20ATTRIBUTE%26searchPass%3DmatchNone%26slotId%3D117',\n",
       " 'https://www.macys.com/shop/product/versace-bright-crystal-eau-de-toilette-spray-3-oz.?ID=346887&CategoryID=30087#fn=sp%3D2%26spc%3D1457%26ruleId%3D22%7CBOOST%20SAVED%20SET%7CBOOST%20ATTRIBUTE%26searchPass%3DmatchNone%26slotId%3D48',\n",
       " 'https://www.macys.com/shop/product/lancome-magie-noire-eau-de-toilette-natural-spray-2.5-fl.-oz.?ID=242133&CategoryID=30087#fn=sp%3D2%26spc%3D1457%26ruleId%3D22%7CBOOST%20SAVED%20SET%7CBOOST%20ATTRIBUTE%26searchPass%3DmatchNone%26slotId%3D91',\n",
       " 'https://www.macys.com/shop/product/issey-miyake-leau-dissey-eau-de-toilette-1.7-oz?ID=2214&CategoryID=30087#fn=sp%3D2%26spc%3D1457%26ruleId%3D22%7CBOOST%20SAVED%20SET%7CBOOST%20ATTRIBUTE%26searchPass%3DmatchNone%26slotId%3D65',\n",
       " 'https://www.macys.com/shop/product/prada-candy-night-eau-de-parfum-spray-2.7-oz.?ID=8483852&CategoryID=30087#fn=sp%3D2%26spc%3D1457%26ruleId%3D22%7CBOOST%20SAVED%20SET%7CBOOST%20ATTRIBUTE%26searchPass%3DmatchNone%26slotId%3D107',\n",
       " 'https://www.macys.com/shop/product/donna-karan-cashmere-mist-eau-de-toilette-spray-1-oz?ID=92773&CategoryID=30087#fn=sp%3D2%26spc%3D1457%26ruleId%3D22%7CBOOST%20SAVED%20SET%7CBOOST%20ATTRIBUTE%26searchPass%3DmatchNone%26slotId%3D81',\n",
       " 'https://www.macys.com/shop/product/jason-wu-velvet-rouge-eau-de-parfum-3-oz.?ID=8279636&CategoryID=30087#fn=sp%3D2%26spc%3D1457%26ruleId%3D22%7CBOOST%20SAVED%20SET%7CBOOST%20ATTRIBUTE%26searchPass%3DmatchNone%26slotId%3D118',\n",
       " 'https://www.macys.com/shop/product/viktor-rolf-flowerbomb-nectar-eau-de-parfum-spray-1.7-oz.?ID=5712325&CategoryID=30087#fn=sp%3D2%26spc%3D1457%26ruleId%3D22%7CBOOST%20SAVED%20SET%7CBOOST%20ATTRIBUTE%26searchPass%3DmatchNone%26slotId%3D92',\n",
       " 'https://www.macys.com/shop/product/bottega-veneta-illusione-eau-de-parfum-2.5-oz.?ID=9559555&CategoryID=30087#fn=sp%3D2%26spc%3D1457%26ruleId%3D22%7CBOOST%20SAVED%20SET%7CBOOST%20ATTRIBUTE%26searchPass%3DmatchNone%26slotId%3D72',\n",
       " 'https://www.macys.com/shop/product/michael-kors-collection-midnight-shimmer-eau-de-parfum-3.4-oz?ID=2816860&CategoryID=30087#fn=sp%3D2%26spc%3D1457%26ruleId%3D22%7CBOOST%20SAVED%20SET%7CBOOST%20ATTRIBUTE%26searchPass%3DmatchNone%26slotId%3D26',\n",
       " 'https://www.macys.com/shop/product/mac-turquatic-50-ml?ID=594994&CategoryID=30087#fn=sp%3D2%26spc%3D1457%26ruleId%3D22%7CBOOST%20SAVED%20SET%7CBOOST%20ATTRIBUTE%26searchPass%3DmatchNone%26slotId%3D69',\n",
       " 'https://www.macys.com/shop/product/chanel-n5-eau-de-parfum-spray-0.25-oz?ID=74723&CategoryID=30087#fn=sp%3D2%26spc%3D1457%26ruleId%3D22%7CBOOST%20SAVED%20SET%7CBOOST%20ATTRIBUTE%26searchPass%3DmatchNone%26slotId%3D7',\n",
       " 'https://www.macys.com/shop/product/tiffany-co.-signature-eau-de-parfum-2-pc-gift-set?ID=8276993&CategoryID=30087#fn=sp%3D2%26spc%3D1457%26ruleId%3D22%7CBOOST%20SAVED%20SET%7CBOOST%20ATTRIBUTE%26searchPass%3DmatchNone%26slotId%3D121',\n",
       " 'https://www.macys.com/shop/product/chanel-chance-eau-de-parfum-spray-3.4-oz?ID=185450&CategoryID=30087#fn=sp%3D2%26spc%3D1457%26ruleId%3D22%7CBOOST%20SAVED%20SET%7CBOOST%20ATTRIBUTE%26searchPass%3DmatchNone%26slotId%3D31',\n",
       " 'https://www.macys.com/shop/product/gucci-bloom-eau-de-pafum-1-oz.?ID=9509087&CategoryID=30087#fn=sp%3D2%26spc%3D1457%26ruleId%3D22%7CBOOST%20SAVED%20SET%7CBOOST%20ATTRIBUTE%26searchPass%3DmatchNone%26slotId%3D108',\n",
       " 'https://www.macys.com/shop/product/dolce-gabbana-light-blue-sun-pour-femme-eau-de-toilette-3.3-oz.?ID=8483092&CategoryID=30087#fn=sp%3D2%26spc%3D1457%26ruleId%3D22%7CBOOST%20SAVED%20SET%7CBOOST%20ATTRIBUTE%26searchPass%3DmatchNone%26slotId%3D33',\n",
       " 'https://www.macys.com/shop/product/elizabeth-arden-3-pc.-my-fifth-avenue-gift-set?ID=8156526&CategoryID=30087#fn=sp%3D2%26spc%3D1457%26ruleId%3D22%7CBOOST%20SAVED%20SET%7CBOOST%20ATTRIBUTE%26searchPass%3DmatchNone%26slotId%3D113',\n",
       " 'https://www.macys.com/shop/product/prada-candy-eau-de-parfum-spray-2.7-oz.?ID=724310&CategoryID=30087#fn=sp%3D2%26spc%3D1457%26ruleId%3D22%7CBOOST%20SAVED%20SET%7CBOOST%20ATTRIBUTE%26searchPass%3DmatchNone%26slotId%3D88',\n",
       " 'https://www.macys.com/shop/product/chanel-chance-eau-tendre-eau-de-parfum-spray-1.7-oz.?ID=8024913&CategoryID=30087#fn=sp%3D2%26spc%3D1457%26ruleId%3D22%7CBOOST%20SAVED%20SET%7CBOOST%20ATTRIBUTE%26searchPass%3DmatchNone%26slotId%3D78',\n",
       " 'https://www.macys.com/shop/product/tory-burch-signature-eau-de-parfum-spray-3.4-oz?ID=1877012&CategoryID=30087#fn=sp%3D2%26spc%3D1457%26ruleId%3D22%7CBOOST%20SAVED%20SET%7CBOOST%20ATTRIBUTE%26searchPass%3DmatchNone%26slotId%3D20',\n",
       " 'https://www.macys.com/shop/product/marc-jacobs-3-pc.-daisy-dream-gift-set?ID=8267293&CategoryID=30087#fn=sp%3D2%26spc%3D1457%26ruleId%3D22%7CBOOST%20SAVED%20SET%7CBOOST%20ATTRIBUTE%26searchPass%3DmatchNone%26slotId%3D85',\n",
       " 'https://www.macys.com/shop/product/estee-lauder-beautiful-belle-eau-de-parfum-spray-1.7-oz.?ID=6567852&CategoryID=30087#fn=sp%3D2%26spc%3D1457%26ruleId%3D22%7CBOOST%20SAVED%20SET%7CBOOST%20ATTRIBUTE%26searchPass%3DmatchNone%26slotId%3D37',\n",
       " 'https://www.macys.com/shop/product/juicy-couture-3-pc.-viva-la-juicy-eau-de-parfum-gift-set-a-143-value?ID=8301947&CategoryID=30087#fn=sp%3D2%26spc%3D1457%26ruleId%3D22%7CBOOST%20SAVED%20SET%7CBOOST%20ATTRIBUTE%26searchPass%3DmatchNone%26slotId%3D54',\n",
       " 'https://www.macys.com/shop/product/estee-lauder-pleasures-eau-de-parfum-spray-1.7-oz?ID=75099&CategoryID=30087#fn=sp%3D2%26spc%3D1457%26ruleId%3D22%7CBOOST%20SAVED%20SET%7CBOOST%20ATTRIBUTE%26searchPass%3DmatchNone%26slotId%3D49',\n",
       " 'https://www.macys.com/shop/product/juicy-couture-viva-la-juicy-eau-de-parfum-3.4-oz?ID=338208&CategoryID=30087#fn=sp%3D2%26spc%3D1457%26ruleId%3D22%7CBOOST%20SAVED%20SET%7CBOOST%20ATTRIBUTE%26searchPass%3DmatchNone%26slotId%3D63',\n",
       " 'https://www.macys.com/shop/product/bvlgari-omnia-pink-sapphire-eau-de-toilette-spray-2.2-oz.?ID=5870933&CategoryID=30087#fn=sp%3D2%26spc%3D1457%26ruleId%3D22%7CBOOST%20SAVED%20SET%7CBOOST%20ATTRIBUTE%26searchPass%3DmatchNone%26slotId%3D110',\n",
       " 'https://www.macys.com/shop/product/guerlain-mon-guerlain-bloom-of-rose-eau-de-toilette-3.3-oz.?ID=8423241&CategoryID=30087#fn=sp%3D2%26spc%3D1457%26ruleId%3D22%7CBOOST%20SAVED%20SET%7CBOOST%20ATTRIBUTE%26searchPass%3DmatchNone%26slotId%3D73',\n",
       " 'https://www.macys.com/shop/product/chanel-chance-eau-tendre-eau-de-toilette-5-oz?ID=780750&CategoryID=30087#fn=sp%3D2%26spc%3D1457%26ruleId%3D22%7CBOOST%20SAVED%20SET%7CBOOST%20ATTRIBUTE%26searchPass%3DmatchNone%26slotId%3D17',\n",
       " 'https://www.macys.com/shop/product/calvin-klein-obsession-for-her-eau-de-parfum-1.7-oz?ID=3562&CategoryID=30087#fn=sp%3D2%26spc%3D1457%26ruleId%3D22%7CBOOST%20SAVED%20SET%7CBOOST%20ATTRIBUTE%26searchPass%3DmatchNone%26slotId%3D90',\n",
       " 'https://www.macys.com/shop/product/calvin-klein-3-pc.-endless-euphoria-for-women-eau-de-parfum-gift-set?ID=8286800&CategoryID=30087#fn=sp%3D2%26spc%3D1457%26ruleId%3D22%7CBOOST%20SAVED%20SET%7CBOOST%20ATTRIBUTE%26searchPass%3DmatchNone%26slotId%3D19',\n",
       " 'https://www.macys.com/shop/product/flowerbomb-eau-de-parfum-spray-5-oz.?ID=1722146&CategoryID=30087#fn=sp%3D2%26spc%3D1457%26ruleId%3D22%7CBOOST%20SAVED%20SET%7CBOOST%20ATTRIBUTE%26searchPass%3DmatchNone%26slotId%3D36',\n",
       " 'https://www.macys.com/shop/product/hugo-boss-boss-the-scent-for-her-eau-de-parfum-spray-3.3-oz.-created-for-macys?ID=6741347&CategoryID=30087#fn=sp%3D2%26spc%3D1457%26ruleId%3D22%7CBOOST%20SAVED%20SET%7CBOOST%20ATTRIBUTE%26searchPass%3DmatchNone%26slotId%3D57',\n",
       " 'https://www.macys.com/shop/product/jo-malone-london-3-pc.-fresh-vibrant-gift-set?ID=9978816&CategoryID=30087#fn=sp%3D2%26spc%3D1457%26ruleId%3D22%7CBOOST%20SAVED%20SET%7CBOOST%20ATTRIBUTE%26searchPass%3DmatchNone%26slotId%3D68',\n",
       " 'https://www.macys.com/shop/product/givenchy-linterdit-eau-de-parfum-80-ml?ID=8315801&CategoryID=30087#fn=sp%3D2%26spc%3D1457%26ruleId%3D22%7CBOOST%20SAVED%20SET%7CBOOST%20ATTRIBUTE%26searchPass%3DmatchNone%26slotId%3D104',\n",
       " 'https://www.macys.com/shop/product/marc-jacobs-3-pc.-daisy-gift-set?ID=8157226&CategoryID=30087#fn=sp%3D2%26spc%3D1457%26ruleId%3D22%7CBOOST%20SAVED%20SET%7CBOOST%20ATTRIBUTE%26searchPass%3DmatchNone%26slotId%3D30',\n",
       " 'https://www.macys.com/shop/product/kilian-princess-eau-de-parfum-spray-3.4-oz.?ID=9381646&CategoryID=30087#fn=sp%3D2%26spc%3D1457%26ruleId%3D22%7CBOOST%20SAVED%20SET%7CBOOST%20ATTRIBUTE%26searchPass%3DmatchNone%26slotId%3D123',\n",
       " 'https://www.macys.com/shop/product/narciso-rodriguez-3-pc.-for-her-pure-musc-eau-de-parfum-gift-set?ID=8854748&CategoryID=30087#fn=sp%3D2%26spc%3D1457%26ruleId%3D22%7CBOOST%20SAVED%20SET%7CBOOST%20ATTRIBUTE%26searchPass%3DmatchNone%26slotId%3D71',\n",
       " 'https://www.macys.com/shop/product/versace-3-pc.-dylan-blue-pour-femme-gift-set?ID=8074873&CategoryID=30087#fn=sp%3D2%26spc%3D1457%26ruleId%3D22%7CBOOST%20SAVED%20SET%7CBOOST%20ATTRIBUTE%26searchPass%3DmatchNone%26slotId%3D47',\n",
       " 'https://www.macys.com/shop/product/giorgio-armani-4-pc.-acqua-di-gioia-limited-edition-gift-set?ID=8689787&CategoryID=30087#fn=sp%3D2%26spc%3D1457%26ruleId%3D22%7CBOOST%20SAVED%20SET%7CBOOST%20ATTRIBUTE%26searchPass%3DmatchNone%26slotId%3D95',\n",
       " 'https://www.macys.com/shop/product/marc-jacobs-3-pc.-daisy-gift-set?ID=8267292&CategoryID=30087#fn=sp%3D2%26spc%3D1457%26ruleId%3D22%7CBOOST%20SAVED%20SET%7CBOOST%20ATTRIBUTE%26searchPass%3DmatchNone%26slotId%3D32',\n",
       " 'https://www.macys.com/shop/product/tom-ford-ombre-leather-eau-de-parfum-spray-3.4-oz.?ID=6545567&CategoryID=30087#fn=sp%3D2%26spc%3D1457%26ruleId%3D22%7CBOOST%20SAVED%20SET%7CBOOST%20ATTRIBUTE%26searchPass%3DmatchNone%26slotId%3D66',\n",
       " 'https://www.macys.com/shop/product/michael-kors-4-pc.-signature-gift-set?ID=9092459&CategoryID=30087#fn=sp%3D2%26spc%3D1457%26ruleId%3D22%7CBOOST%20SAVED%20SET%7CBOOST%20ATTRIBUTE%26searchPass%3DmatchNone%26slotId%3D40',\n",
       " 'https://www.macys.com/shop/product/tom-ford-metallique-eau-de-parfum-spray-3.4-oz.?ID=9888169&CategoryID=30087#fn=sp%3D2%26spc%3D1457%26ruleId%3D22%7CBOOST%20SAVED%20SET%7CBOOST%20ATTRIBUTE%26searchPass%3DmatchNone%26slotId%3D50',\n",
       " 'https://www.macys.com/shop/product/nanette-lepore-3-pc.-beautiful-times-gift-set?ID=8225981&CategoryID=30087#fn=sp%3D2%26spc%3D1457%26ruleId%3D22%7CBOOST%20SAVED%20SET%7CBOOST%20ATTRIBUTE%26searchPass%3DmatchNone%26slotId%3D42',\n",
       " 'https://www.macys.com/shop/product/lancome-tresor-eau-de-parfum-3.4-oz?ID=7251&CategoryID=30087#fn=sp%3D2%26spc%3D1457%26ruleId%3D22%7CBOOST%20SAVED%20SET%7CBOOST%20ATTRIBUTE%26searchPass%3DmatchNone%26slotId%3D25',\n",
       " 'https://www.macys.com/shop/product/chanel-allure-parfum-.25-oz?ID=74668&CategoryID=30087#fn=sp%3D2%26spc%3D1457%26ruleId%3D22%7CBOOST%20SAVED%20SET%7CBOOST%20ATTRIBUTE%26searchPass%3DmatchNone%26slotId%3D60',\n",
       " 'https://www.macys.com/shop/product/lancome-3-pc.-la-vie-est-belle-mothers-day-gift-set?ID=8763224&CategoryID=30087#fn=sp%3D2%26spc%3D1457%26ruleId%3D22%7CBOOST%20SAVED%20SET%7CBOOST%20ATTRIBUTE%26searchPass%3DmatchNone%26slotId%3D1',\n",
       " 'https://www.macys.com/shop/product/marc-jacobs-3-pc.-daisy-dream-gift-set?ID=8157228&CategoryID=30087#fn=sp%3D2%26spc%3D1457%26ruleId%3D22%7CBOOST%20SAVED%20SET%7CBOOST%20ATTRIBUTE%26searchPass%3DmatchNone%26slotId%3D28',\n",
       " 'https://www.macys.com/shop/product/calvin-klein-euphoria-eau-de-parfum-spray-3.4-oz?ID=174724&CategoryID=30087#fn=sp%3D2%26spc%3D1457%26ruleId%3D22%7CBOOST%20SAVED%20SET%7CBOOST%20ATTRIBUTE%26searchPass%3DmatchNone%26slotId%3D4',\n",
       " 'https://www.macys.com/shop/product/gucci-guilty-pour-femme-eau-de-parfum-3.3-oz.?ID=7996939&CategoryID=30087#fn=sp%3D2%26spc%3D1457%26ruleId%3D22%7CBOOST%20SAVED%20SET%7CBOOST%20ATTRIBUTE%26searchPass%3DmatchNone%26slotId%3D114',\n",
       " 'https://www.macys.com/shop/product/gucci-bamboo-eau-de-parfum-2.5-oz?ID=2279586&CategoryID=30087#fn=sp%3D2%26spc%3D1457%26ruleId%3D22%7CBOOST%20SAVED%20SET%7CBOOST%20ATTRIBUTE%26searchPass%3DmatchNone%26slotId%3D5',\n",
       " 'https://www.macys.com/shop/product/yves-saint-laurent-3-pc.-mon-paris-eau-de-parfum-gift-set-created-for-macys?ID=8774259&CategoryID=30087#fn=sp%3D2%26spc%3D1457%26ruleId%3D22%7CBOOST%20SAVED%20SET%7CBOOST%20ATTRIBUTE%26searchPass%3DmatchNone%26slotId%3D59',\n",
       " 'https://www.macys.com/shop/product/estee-lauder-3-pc.-modern-muse-gift-set?ID=8510664&CategoryID=30087#fn=sp%3D2%26spc%3D1457%26ruleId%3D22%7CBOOST%20SAVED%20SET%7CBOOST%20ATTRIBUTE%26searchPass%3DmatchNone%26slotId%3D64',\n",
       " 'https://www.macys.com/shop/product/elizabeth-arden-red-door-eau-de-toilette-3.3-oz.?ID=211&CategoryID=30087#fn=sp%3D2%26spc%3D1457%26ruleId%3D22%7CBOOST%20SAVED%20SET%7CBOOST%20ATTRIBUTE%26searchPass%3DmatchNone%26slotId%3D75',\n",
       " 'https://www.macys.com/shop/product/lancome-la-vie-est-belle-eau-de-parfum-1.7-oz?ID=712782&CategoryID=30087#fn=sp%3D2%26spc%3D1457%26ruleId%3D22%7CBOOST%20SAVED%20SET%7CBOOST%20ATTRIBUTE%26searchPass%3DmatchNone%26slotId%3D8',\n",
       " 'https://www.macys.com/shop/product/dior-miss-dior-eau-de-toilette-spray-1.7-oz.?ID=904726&CategoryID=30087#fn=sp%3D2%26spc%3D1457%26ruleId%3D22%7CBOOST%20SAVED%20SET%7CBOOST%20ATTRIBUTE%26searchPass%3DmatchNone%26slotId%3D89',\n",
       " 'https://www.macys.com/shop/product/jimmy-choo-leau-4-pc-gift-set?ID=6640346&CategoryID=30087#fn=sp%3D2%26spc%3D1457%26ruleId%3D22%7CBOOST%20SAVED%20SET%7CBOOST%20ATTRIBUTE%26searchPass%3DmatchNone%26slotId%3D39',\n",
       " 'https://www.macys.com/shop/product/estee-lauder-knowing-eau-de-parfum-spray-2.5-oz?ID=75084&CategoryID=30087#fn=sp%3D2%26spc%3D1457%26ruleId%3D22%7CBOOST%20SAVED%20SET%7CBOOST%20ATTRIBUTE%26searchPass%3DmatchNone%26slotId%3D115',\n",
       " 'https://www.macys.com/shop/product/chanel-chance-eau-tendre-eau-de-toilette-1.7-oz?ID=458661&CategoryID=30087#fn=sp%3D2%26spc%3D1457%26ruleId%3D22%7CBOOST%20SAVED%20SET%7CBOOST%20ATTRIBUTE%26searchPass%3DmatchNone%26slotId%3D22',\n",
       " 'https://www.macys.com/shop/product/gucci-bloom-gocce-di-fiori-eau-de-toilette-3.3-oz.?ID=8286975&CategoryID=30087#fn=sp%3D2%26spc%3D1457%26ruleId%3D22%7CBOOST%20SAVED%20SET%7CBOOST%20ATTRIBUTE%26searchPass%3DmatchNone%26slotId%3D122',\n",
       " 'https://www.macys.com/shop/product/mugler-alien-luxury-4-pc.-gift-set?ID=8425461&CategoryID=30087#fn=sp%3D2%26spc%3D1457%26ruleId%3D22%7CBOOST%20SAVED%20SET%7CBOOST%20ATTRIBUTE%26searchPass%3DmatchNone%26slotId%3D80',\n",
       " 'https://www.macys.com/shop/product/juicy-couture-oui-eau-de-parfum-spray-3.4-oz.?ID=6428439&CategoryID=30087#fn=sp%3D2%26spc%3D1457%26ruleId%3D22%7CBOOST%20SAVED%20SET%7CBOOST%20ATTRIBUTE%26searchPass%3DmatchNone%26slotId%3D119',\n",
       " 'https://www.macys.com/shop/product/narciso-rodriguez-for-her-fleur-musc-eau-de-parfum-3-pc.-gift-set?ID=8483076&CategoryID=30087#fn=sp%3D2%26spc%3D1457%26ruleId%3D22%7CBOOST%20SAVED%20SET%7CBOOST%20ATTRIBUTE%26searchPass%3DmatchNone%26slotId%3D35',\n",
       " 'https://www.macys.com/shop/product/estee-lauder-youth-dew-eau-de-parfum-spray-2.25-oz?ID=75127&CategoryID=30087#fn=sp%3D2%26spc%3D1457%26ruleId%3D22%7CBOOST%20SAVED%20SET%7CBOOST%20ATTRIBUTE%26searchPass%3DmatchNone%26slotId%3D70']"
      ]
     },
     "execution_count": 134,
     "metadata": {},
     "output_type": "execute_result"
    }
   ],
   "source": [
    "s"
   ]
  },
  {
   "cell_type": "code",
   "execution_count": 213,
   "metadata": {},
   "outputs": [],
   "source": [
    "def get_perfume_links(url):\n",
    "    \"\"\"\n",
    "    \n",
    "    \"\"\"\n",
    "    driver = webdriver.Chrome()\n",
    "    driver.get(url)\n",
    "    soup_selenium = BeautifulSoup(driver.page_source)\n",
    "    \n",
    "    all_links_ls = []\n",
    "    for a in driver.find_elements_by_xpath('.//a'):\n",
    "        all_links_ls.append(a.get_attribute('href'))\n",
    "    \n",
    "    #make sure all elements in the list are strings\n",
    "    all_links_ls = [str(i) for i in all_links_ls]\n",
    "    \n",
    "    #testing out the syntax to get the list of perfume urls\n",
    "    #global page_links\n",
    "    page_links = []\n",
    "    for link in all_links_ls:\n",
    "        if link[:31] == 'https://www.macys.com/shop/prod':\n",
    "            page_links.append(link)\n",
    "    \n",
    "    #remove dups\n",
    "    page_links = set(page_links)\n",
    "    page_links = list(page_links)\n",
    "\n",
    "    driver.quit()\n",
    "    \n",
    "    return page_links"
   ]
  },
  {
   "cell_type": "code",
   "execution_count": 214,
   "metadata": {},
   "outputs": [],
   "source": [
    "#z = get_perfume_links(url)"
   ]
  },
  {
   "cell_type": "code",
   "execution_count": 184,
   "metadata": {},
   "outputs": [
    {
     "data": {
      "text/plain": [
       "['https://www.macys.com/shop/product/versace-bright-crystal-travel-spray-0.3-oz.?ID=7342873&CategoryID=30087#fn=sp%3D2%26spc%3D1451%26ruleId%3D22%7CBOOST%20SAVED%20SET%7CBOOST%20ATTRIBUTE%26searchPass%3DmatchNone%26slotId%3D73',\n",
       " 'https://www.macys.com/shop/product/michael-kors-4-pc.-signature-gift-set?ID=9092459&CategoryID=30087#fn=sp%3D2%26spc%3D1451%26ruleId%3D22%7CBOOST%20SAVED%20SET%7CBOOST%20ATTRIBUTE%26searchPass%3DmatchNone%26slotId%3D30',\n",
       " 'https://www.macys.com/shop/product/donna-karan-cashmere-mist-eau-de-parfum-spray-3.4-oz?ID=166324&CategoryID=30087#fn=sp%3D2%26spc%3D1451%26ruleId%3D22%7CBOOST%20SAVED%20SET%7CBOOST%20ATTRIBUTE%26searchPass%3DmatchNone%26slotId%3D43',\n",
       " 'https://www.macys.com/shop/product/gucci-memoire-dune-odeur-eau-de-parfum-2-oz.?ID=9569335&CategoryID=30087#fn=sp%3D2%26spc%3D1451%26ruleId%3D22%7CBOOST%20SAVED%20SET%7CBOOST%20ATTRIBUTE%26searchPass%3DmatchNone%26slotId%3D118',\n",
       " 'https://www.macys.com/shop/product/dior-miss-dior-eau-de-parfum-3-pc.-gift-set?ID=8690907&CategoryID=30087#fn=sp%3D2%26spc%3D1451%26ruleId%3D22%7CBOOST%20SAVED%20SET%7CBOOST%20ATTRIBUTE%26searchPass%3DmatchNone%26slotId%3D66',\n",
       " 'https://www.macys.com/shop/product/viktor-rolf-flowerbomb-purse-spray-0.25-oz.?ID=2496702&CategoryID=30087#fn=sp%3D2%26spc%3D1451%26ruleId%3D22%7CBOOST%20SAVED%20SET%7CBOOST%20ATTRIBUTE%26searchPass%3DmatchNone%26slotId%3D100',\n",
       " 'https://www.macys.com/shop/product/ralph-lauren-4-pc.-romance-gift-set?ID=8073557&CategoryID=30087#fn=sp%3D2%26spc%3D1451%26ruleId%3D22%7CBOOST%20SAVED%20SET%7CBOOST%20ATTRIBUTE%26searchPass%3DmatchNone%26slotId%3D64',\n",
       " 'https://www.macys.com/shop/product/mac-shadescents-perfume-candy-yum-yum?ID=4375395&CategoryID=30087#fn=sp%3D2%26spc%3D1451%26ruleId%3D22%7CBOOST%20SAVED%20SET%7CBOOST%20ATTRIBUTE%26searchPass%3DmatchNone%26slotId%3D10',\n",
       " 'https://www.macys.com/shop/product/burberry-her-blossom-eau-de-toilette-3.3-oz.?ID=9559447&CategoryID=30087#fn=sp%3D2%26spc%3D1451%26ruleId%3D22%7CBOOST%20SAVED%20SET%7CBOOST%20ATTRIBUTE%26searchPass%3DmatchNone%26slotId%3D50',\n",
       " 'https://www.macys.com/shop/product/chanel-allure-parfum-.25-oz?ID=74668&CategoryID=30087#fn=sp%3D2%26spc%3D1451%26ruleId%3D22%7CBOOST%20SAVED%20SET%7CBOOST%20ATTRIBUTE%26searchPass%3DmatchNone%26slotId%3D33',\n",
       " 'https://www.macys.com/shop/product/kilian-princess-eau-de-parfum-spray-3.4-oz.?ID=9381646&CategoryID=30087#fn=sp%3D2%26spc%3D1451%26ruleId%3D22%7CBOOST%20SAVED%20SET%7CBOOST%20ATTRIBUTE%26searchPass%3DmatchNone%26slotId%3D44',\n",
       " 'https://www.macys.com/shop/product/versace-3-pc.-dylan-blue-pour-femme-eau-de-parfum-gift-set?ID=9362242&CategoryID=30087#fn=sp%3D2%26spc%3D1451%26ruleId%3D22%7CBOOST%20SAVED%20SET%7CBOOST%20ATTRIBUTE%26searchPass%3DmatchNone%26slotId%3D54',\n",
       " 'https://www.macys.com/shop/product/prada-candy-night-eau-de-parfum-spray-2.7-oz.?ID=8483852&CategoryID=30087#fn=sp%3D2%26spc%3D1451%26ruleId%3D22%7CBOOST%20SAVED%20SET%7CBOOST%20ATTRIBUTE%26searchPass%3DmatchNone%26slotId%3D117',\n",
       " 'https://www.macys.com/shop/product/marc-jacobs-3-pc.-daisy-dream-gift-set?ID=8157228&CategoryID=30087#fn=sp%3D2%26spc%3D1451%26ruleId%3D22%7CBOOST%20SAVED%20SET%7CBOOST%20ATTRIBUTE%26searchPass%3DmatchNone%26slotId%3D39',\n",
       " 'https://www.macys.com/shop/product/narciso-rodriguez-for-her-fleur-musc-eau-de-parfum-3-pc.-gift-set?ID=8483076&CategoryID=30087#fn=sp%3D2%26spc%3D1451%26ruleId%3D22%7CBOOST%20SAVED%20SET%7CBOOST%20ATTRIBUTE%26searchPass%3DmatchNone%26slotId%3D17',\n",
       " 'https://www.macys.com/shop/product/chanel-chance-eau-tendre-eau-de-parfum-spray-1.7-oz.?ID=8024913&CategoryID=30087#fn=sp%3D2%26spc%3D1451%26ruleId%3D22%7CBOOST%20SAVED%20SET%7CBOOST%20ATTRIBUTE%26searchPass%3DmatchNone%26slotId%3D58',\n",
       " 'https://www.macys.com/shop/product/dolce-gabbana-the-only-one-3-pc.-gift-set?ID=8483087&CategoryID=30087#fn=sp%3D2%26spc%3D1451%26ruleId%3D22%7CBOOST%20SAVED%20SET%7CBOOST%20ATTRIBUTE%26searchPass%3DmatchNone%26slotId%3D102',\n",
       " 'https://www.macys.com/shop/product/versace-bright-crystal-eau-de-toilette-spray-3-oz.?ID=346887&CategoryID=30087#fn=sp%3D2%26spc%3D1451%26ruleId%3D22%7CBOOST%20SAVED%20SET%7CBOOST%20ATTRIBUTE%26searchPass%3DmatchNone%26slotId%3D45',\n",
       " 'https://www.macys.com/shop/product/marc-jacobs-eau-de-parfum-3.4-oz?ID=78520&CategoryID=30087#fn=sp%3D2%26spc%3D1451%26ruleId%3D22%7CBOOST%20SAVED%20SET%7CBOOST%20ATTRIBUTE%26searchPass%3DmatchNone%26slotId%3D119',\n",
       " 'https://www.macys.com/shop/product/jason-wu-velvet-rouge-eau-de-parfum-3-oz.?ID=8279636&CategoryID=30087#fn=sp%3D2%26spc%3D1451%26ruleId%3D22%7CBOOST%20SAVED%20SET%7CBOOST%20ATTRIBUTE%26searchPass%3DmatchNone%26slotId%3D88',\n",
       " 'https://www.macys.com/shop/product/mugler-3-pc.-alien-gift-set?ID=8312007&CategoryID=30087#fn=sp%3D2%26spc%3D1451%26ruleId%3D22%7CBOOST%20SAVED%20SET%7CBOOST%20ATTRIBUTE%26searchPass%3DmatchNone%26slotId%3D104',\n",
       " 'https://www.macys.com/shop/product/michael-kors-eau-de-parfum-spray-3.4-oz?ID=60550&CategoryID=30087#fn=sp%3D2%26spc%3D1451%26ruleId%3D22%7CBOOST%20SAVED%20SET%7CBOOST%20ATTRIBUTE%26searchPass%3DmatchNone%26slotId%3D6',\n",
       " 'https://www.macys.com/shop/product/prada-candy-eau-de-parfum-spray-2.7-oz.?ID=724310&CategoryID=30087#fn=sp%3D2%26spc%3D1451%26ruleId%3D22%7CBOOST%20SAVED%20SET%7CBOOST%20ATTRIBUTE%26searchPass%3DmatchNone%26slotId%3D52',\n",
       " 'https://www.macys.com/shop/product/estee-lauder-beautiful-eau-de-parfum-spray-3.4-oz.?ID=384047&CategoryID=30087#fn=sp%3D2%26spc%3D1451%26ruleId%3D22%7CBOOST%20SAVED%20SET%7CBOOST%20ATTRIBUTE%26searchPass%3DmatchNone%26slotId%3D96',\n",
       " 'https://www.macys.com/shop/product/lancome-miracle-eau-de-parfum-3.4-fl-oz?ID=45281&CategoryID=30087#fn=sp%3D2%26spc%3D1451%26ruleId%3D22%7CBOOST%20SAVED%20SET%7CBOOST%20ATTRIBUTE%26searchPass%3DmatchNone%26slotId%3D21',\n",
       " 'https://www.macys.com/shop/product/juicy-couture-viva-la-juicy-gold-couture-eau-de-parfum-spray-1-oz.?ID=6865925&CategoryID=30087#fn=sp%3D2%26spc%3D1451%26ruleId%3D22%7CBOOST%20SAVED%20SET%7CBOOST%20ATTRIBUTE%26searchPass%3DmatchNone%26slotId%3D49',\n",
       " 'https://www.macys.com/shop/product/juicy-couture-oui-eau-de-parfum-spray-3.4-oz.?ID=6428439&CategoryID=30087#fn=sp%3D2%26spc%3D1451%26ruleId%3D22%7CBOOST%20SAVED%20SET%7CBOOST%20ATTRIBUTE%26searchPass%3DmatchNone%26slotId%3D99',\n",
       " 'https://www.macys.com/shop/product/yves-saint-laurent-mon-paris-floral-eau-de-parfum-spray-3-oz.?ID=8456704&CategoryID=30087#fn=sp%3D2%26spc%3D1451%26ruleId%3D22%7CBOOST%20SAVED%20SET%7CBOOST%20ATTRIBUTE%26searchPass%3DmatchNone%26slotId%3D82',\n",
       " 'https://www.macys.com/shop/product/versace-3-pc.-dylan-blue-pour-femme-gift-set?ID=8074873&CategoryID=30087#fn=sp%3D2%26spc%3D1451%26ruleId%3D22%7CBOOST%20SAVED%20SET%7CBOOST%20ATTRIBUTE%26searchPass%3DmatchNone%26slotId%3D28',\n",
       " 'https://www.macys.com/shop/product/dolce-gabbana-light-blue-sun-pour-femme-eau-de-toilette-3.3-oz.?ID=8483092&CategoryID=30087#fn=sp%3D2%26spc%3D1451%26ruleId%3D22%7CBOOST%20SAVED%20SET%7CBOOST%20ATTRIBUTE%26searchPass%3DmatchNone%26slotId%3D23',\n",
       " 'https://www.macys.com/shop/product/elizabeth-arden-red-door-eau-de-toilette-3.3-oz.?ID=211&CategoryID=30087#fn=sp%3D2%26spc%3D1451%26ruleId%3D22%7CBOOST%20SAVED%20SET%7CBOOST%20ATTRIBUTE%26searchPass%3DmatchNone%26slotId%3D106',\n",
       " 'https://www.macys.com/shop/product/chanel-gabrielle-chanel-eau-de-parfum-spray-3.4-oz.?ID=4817008&CategoryID=30087#fn=sp%3D2%26spc%3D1451%26ruleId%3D22%7CBOOST%20SAVED%20SET%7CBOOST%20ATTRIBUTE%26searchPass%3DmatchNone%26slotId%3D32',\n",
       " 'https://www.macys.com/shop/product/juicy-couture-3-pc.-viva-la-juicy-eau-de-parfum-gift-set-a-143-value?ID=8301947&CategoryID=30087#fn=sp%3D2%26spc%3D1451%26ruleId%3D22%7CBOOST%20SAVED%20SET%7CBOOST%20ATTRIBUTE%26searchPass%3DmatchNone%26slotId%3D68',\n",
       " 'https://www.macys.com/shop/product/dolce-gabbana-dolce-peony-eau-de-parfum-2.5-oz.?ID=8298666&CategoryID=30087#fn=sp%3D2%26spc%3D1451%26ruleId%3D22%7CBOOST%20SAVED%20SET%7CBOOST%20ATTRIBUTE%26searchPass%3DmatchNone%26slotId%3D92',\n",
       " 'https://www.macys.com/shop/product/kensie-4-pc.-womens-collection-gift-set?ID=5724014&CategoryID=30087#fn=sp%3D2%26spc%3D1451%26ruleId%3D22%7CBOOST%20SAVED%20SET%7CBOOST%20ATTRIBUTE%26searchPass%3DmatchNone%26slotId%3D95',\n",
       " 'https://www.macys.com/shop/product/burberry-her-eau-de-parfum-spray-3.3-oz.?ID=6794728&CategoryID=30087#fn=sp%3D2%26spc%3D1451%26ruleId%3D22%7CBOOST%20SAVED%20SET%7CBOOST%20ATTRIBUTE%26searchPass%3DmatchNone%26slotId%3D51',\n",
       " 'https://www.macys.com/shop/product/jean-paul-gaultier-classique-eau-de-toilette-natural-spray-3.3-oz.?ID=2210&CategoryID=30087#fn=sp%3D2%26spc%3D1451%26ruleId%3D22%7CBOOST%20SAVED%20SET%7CBOOST%20ATTRIBUTE%26searchPass%3DmatchNone%26slotId%3D91',\n",
       " 'https://www.macys.com/shop/product/narciso-rodriguez-3-pc.-for-her-pure-musc-eau-de-parfum-gift-set?ID=8854748&CategoryID=30087#fn=sp%3D2%26spc%3D1451%26ruleId%3D22%7CBOOST%20SAVED%20SET%7CBOOST%20ATTRIBUTE%26searchPass%3DmatchNone%26slotId%3D53',\n",
       " 'https://www.macys.com/shop/product/created-for-macys-5-pc.-the-scents-of-spring-fragrance-gift-set-for-her?ID=8470818&CategoryID=30087#fn=sp%3D2%26spc%3D1451%26ruleId%3D22%7CBOOST%20SAVED%20SET%7CBOOST%20ATTRIBUTE%26searchPass%3DmatchNone%26slotId%3D40',\n",
       " 'https://www.macys.com/shop/product/yves-saint-laurent-3-pc.-mon-paris-eau-de-parfum-gift-set-created-for-macys?ID=8774259&CategoryID=30087#fn=sp%3D2%26spc%3D1451%26ruleId%3D22%7CBOOST%20SAVED%20SET%7CBOOST%20ATTRIBUTE%26searchPass%3DmatchNone%26slotId%3D69',\n",
       " 'https://www.macys.com/shop/product/nanette-lepore-3-pc.-beautiful-times-gift-set?ID=8225981&CategoryID=30087#fn=sp%3D2%26spc%3D1451%26ruleId%3D22%7CBOOST%20SAVED%20SET%7CBOOST%20ATTRIBUTE%26searchPass%3DmatchNone%26slotId%3D27',\n",
       " 'https://www.macys.com/shop/product/tory-burch-love-relentlessly-eau-de-parfum-spray-3.4-oz?ID=4358279&CategoryID=30087#fn=sp%3D2%26spc%3D1451%26ruleId%3D22%7CBOOST%20SAVED%20SET%7CBOOST%20ATTRIBUTE%26searchPass%3DmatchNone%26slotId%3D93',\n",
       " 'https://www.macys.com/shop/product/issey-miyake-leau-dissey-pure-eau-de-parfum-3-oz?ID=2823737&CategoryID=30087#fn=sp%3D2%26spc%3D1451%26ruleId%3D22%7CBOOST%20SAVED%20SET%7CBOOST%20ATTRIBUTE%26searchPass%3DmatchNone%26slotId%3D3',\n",
       " 'https://www.macys.com/shop/product/oscar-de-la-renta-bella-rosa-eau-de-parfum-1.7-oz.?ID=8074868&CategoryID=30087#fn=sp%3D2%26spc%3D1451%26ruleId%3D22%7CBOOST%20SAVED%20SET%7CBOOST%20ATTRIBUTE%26searchPass%3DmatchNone%26slotId%3D24',\n",
       " 'https://www.macys.com/shop/product/jimmy-choo-2-pc.-fever-eau-de-parfum-gift-set?ID=8425560&CategoryID=30087#fn=sp%3D2%26spc%3D1451%26ruleId%3D22%7CBOOST%20SAVED%20SET%7CBOOST%20ATTRIBUTE%26searchPass%3DmatchNone%26slotId%3D114',\n",
       " 'https://www.macys.com/shop/product/michael-kors-collection-midnight-shimmer-eau-de-parfum-3.4-oz?ID=2816860&CategoryID=30087#fn=sp%3D2%26spc%3D1451%26ruleId%3D22%7CBOOST%20SAVED%20SET%7CBOOST%20ATTRIBUTE%26searchPass%3DmatchNone%26slotId%3D14',\n",
       " 'https://www.macys.com/shop/product/jo-malone-london-3-pc.-fresh-vibrant-gift-set?ID=9978816&CategoryID=30087#fn=sp%3D2%26spc%3D1451%26ruleId%3D22%7CBOOST%20SAVED%20SET%7CBOOST%20ATTRIBUTE%26searchPass%3DmatchNone%26slotId%3D25',\n",
       " 'https://www.macys.com/shop/product/tory-burch-2-pc.-azur-rollerball-gift-set?ID=8057292&CategoryID=30087#fn=sp%3D2%26spc%3D1451%26ruleId%3D22%7CBOOST%20SAVED%20SET%7CBOOST%20ATTRIBUTE%26searchPass%3DmatchNone%26slotId%3D67',\n",
       " 'https://www.macys.com/shop/product/estee-lauder-2-pc.-beautiful-belle-gift-set?ID=6893775&CategoryID=30087#fn=sp%3D2%26spc%3D1451%26ruleId%3D22%7CBOOST%20SAVED%20SET%7CBOOST%20ATTRIBUTE%26searchPass%3DmatchNone%26slotId%3D112',\n",
       " 'https://www.macys.com/shop/product/estee-lauder-beautiful-belle-refreshing-body-lotion-6.7-oz.?ID=6567854&CategoryID=30087#fn=sp%3D2%26spc%3D1451%26ruleId%3D22%7CBOOST%20SAVED%20SET%7CBOOST%20ATTRIBUTE%26searchPass%3DmatchNone%26slotId%3D59',\n",
       " 'https://www.macys.com/shop/product/narciso-rodriguez-3-pc.-for-her-deluxe-mini-gift-set?ID=9434962&CategoryID=30087#fn=sp%3D2%26spc%3D1451%26ruleId%3D22%7CBOOST%20SAVED%20SET%7CBOOST%20ATTRIBUTE%26searchPass%3DmatchNone%26slotId%3D36',\n",
       " 'https://www.macys.com/shop/product/dolce-gabbana-light-blue-eau-de-toilette-rollerball-0.25-oz.?ID=2604432&CategoryID=30087#fn=sp%3D2%26spc%3D1451%26ruleId%3D22%7CBOOST%20SAVED%20SET%7CBOOST%20ATTRIBUTE%26searchPass%3DmatchNone%26slotId%3D98',\n",
       " 'https://www.macys.com/shop/product/chanel-chance-eau-fraiche-eau-de-toilette-spray-5-oz?ID=780749&CategoryID=30087#fn=sp%3D2%26spc%3D1451%26ruleId%3D22%7CBOOST%20SAVED%20SET%7CBOOST%20ATTRIBUTE%26searchPass%3DmatchNone%26slotId%3D121',\n",
       " 'https://www.macys.com/shop/product/dior-jadore-eau-de-parfum-spray-3.4-oz?ID=20257&CategoryID=30087#fn=sp%3D2%26spc%3D1451%26ruleId%3D22%7CBOOST%20SAVED%20SET%7CBOOST%20ATTRIBUTE%26searchPass%3DmatchNone%26slotId%3D65',\n",
       " 'https://www.macys.com/shop/product/givenchy-2-pc.-very-irresistible-eau-de-parfum-gift-set?ID=7651669&CategoryID=30087#fn=sp%3D2%26spc%3D1451%26ruleId%3D22%7CBOOST%20SAVED%20SET%7CBOOST%20ATTRIBUTE%26searchPass%3DmatchNone%26slotId%3D90',\n",
       " 'https://www.macys.com/shop/product/donna-karan-3-pc.-cashmere-mist-purse-spray-gift-set?ID=9381478&CategoryID=30087#fn=sp%3D2%26spc%3D1451%26ruleId%3D22%7CBOOST%20SAVED%20SET%7CBOOST%20ATTRIBUTE%26searchPass%3DmatchNone%26slotId%3D7',\n",
       " 'https://www.macys.com/shop/product/tory-burch-signature-eau-de-parfum-spray-3.4-oz?ID=1877012&CategoryID=30087#fn=sp%3D2%26spc%3D1451%26ruleId%3D22%7CBOOST%20SAVED%20SET%7CBOOST%20ATTRIBUTE%26searchPass%3DmatchNone%26slotId%3D2',\n",
       " 'https://www.macys.com/shop/product/michael-kors-sexy-amber-eau-de-parfum-spray-3.4-oz?ID=886389&CategoryID=30087#fn=sp%3D2%26spc%3D1451%26ruleId%3D22%7CBOOST%20SAVED%20SET%7CBOOST%20ATTRIBUTE%26searchPass%3DmatchNone%26slotId%3D15',\n",
       " 'https://www.macys.com/shop/product/giorgio-armani-si-passione-eau-de-parfum-spray-3.4-oz.?ID=5712784&CategoryID=30087#fn=sp%3D2%26spc%3D1451%26ruleId%3D22%7CBOOST%20SAVED%20SET%7CBOOST%20ATTRIBUTE%26searchPass%3DmatchNone%26slotId%3D80',\n",
       " 'https://www.macys.com/shop/product/lancome-3-pc.-la-vie-est-belle-mothers-day-gift-set?ID=8763224&CategoryID=30087#fn=sp%3D2%26spc%3D1451%26ruleId%3D22%7CBOOST%20SAVED%20SET%7CBOOST%20ATTRIBUTE%26searchPass%3DmatchNone%26slotId%3D83',\n",
       " 'https://www.macys.com/shop/product/viktor-rolf-flowerbomb-nectar-eau-de-parfum-spray-1.7-oz.?ID=5712325&CategoryID=30087#fn=sp%3D2%26spc%3D1451%26ruleId%3D22%7CBOOST%20SAVED%20SET%7CBOOST%20ATTRIBUTE%26searchPass%3DmatchNone%26slotId%3D63',\n",
       " 'https://www.macys.com/shop/product/chanel-chance-eau-tendre-eau-de-toilette-1.7-oz?ID=458661&CategoryID=30087#fn=sp%3D2%26spc%3D1451%26ruleId%3D22%7CBOOST%20SAVED%20SET%7CBOOST%20ATTRIBUTE%26searchPass%3DmatchNone%26slotId%3D11',\n",
       " 'https://www.macys.com/shop/product/coach-eau-de-toilette-spray-3-oz.?ID=4801593&CategoryID=30087#fn=sp%3D2%26spc%3D1451%26ruleId%3D22%7CBOOST%20SAVED%20SET%7CBOOST%20ATTRIBUTE%26searchPass%3DmatchNone%26slotId%3D110',\n",
       " 'https://www.macys.com/shop/product/dolce-gabbana-the-one-eau-de-parfum-rollerball-.20-oz?ID=823992&CategoryID=30087#fn=sp%3D2%26spc%3D1451%26ruleId%3D22%7CBOOST%20SAVED%20SET%7CBOOST%20ATTRIBUTE%26searchPass%3DmatchNone%26slotId%3D97',\n",
       " 'https://www.macys.com/shop/product/created-for-macys-11-pc.-the-scents-of-spring-fragrance-sampler-set-for-her?ID=8470820&CategoryID=30087#fn=sp%3D2%26spc%3D1451%26ruleId%3D22%7CBOOST%20SAVED%20SET%7CBOOST%20ATTRIBUTE%26searchPass%3DmatchNone%26slotId%3D116',\n",
       " 'https://www.macys.com/shop/product/tom-ford-noir-pour-femme-eau-de-parfum-3.4-oz?ID=2284952&CategoryID=30087#fn=sp%3D2%26spc%3D1451%26ruleId%3D22%7CBOOST%20SAVED%20SET%7CBOOST%20ATTRIBUTE%26searchPass%3DmatchNone%26slotId%3D61',\n",
       " 'https://www.macys.com/shop/product/burberry-my-burberry-blush-eau-de-parfum-spray-3-oz.?ID=4814700&CategoryID=30087#fn=sp%3D2%26spc%3D1451%26ruleId%3D22%7CBOOST%20SAVED%20SET%7CBOOST%20ATTRIBUTE%26searchPass%3DmatchNone%26slotId%3D70',\n",
       " 'https://www.macys.com/shop/product/giorgio-armani-si-eau-de-parfum-spray-3.4-oz?ID=1495789&CategoryID=30087#fn=sp%3D2%26spc%3D1451%26ruleId%3D22%7CBOOST%20SAVED%20SET%7CBOOST%20ATTRIBUTE%26searchPass%3DmatchNone%26slotId%3D84',\n",
       " 'https://www.macys.com/shop/product/cartier-2-pc.-carat-discovery-set?ID=6857277&CategoryID=30087#fn=sp%3D2%26spc%3D1451%26ruleId%3D22%7CBOOST%20SAVED%20SET%7CBOOST%20ATTRIBUTE%26searchPass%3DmatchNone%26slotId%3D103',\n",
       " 'https://www.macys.com/shop/product/estee-lauder-3-pc.-beautiful-romantic-favorites-gift-set?ID=7268040&CategoryID=30087#fn=sp%3D2%26spc%3D1451%26ruleId%3D22%7CBOOST%20SAVED%20SET%7CBOOST%20ATTRIBUTE%26searchPass%3DmatchNone%26slotId%3D29',\n",
       " 'https://www.macys.com/shop/product/giorgio-armani-si-fiori-eau-de-parfum-spray-3.4-oz.?ID=8244865&CategoryID=30087#fn=sp%3D2%26spc%3D1451%26ruleId%3D22%7CBOOST%20SAVED%20SET%7CBOOST%20ATTRIBUTE%26searchPass%3DmatchNone%26slotId%3D26',\n",
       " 'https://www.macys.com/shop/product/mugler-3-pc.-angel-gift-set?ID=6606388&CategoryID=30087#fn=sp%3D2%26spc%3D1451%26ruleId%3D22%7CBOOST%20SAVED%20SET%7CBOOST%20ATTRIBUTE%26searchPass%3DmatchNone%26slotId%3D120',\n",
       " 'https://www.macys.com/shop/product/gucci-2-pc.-bloom-nettare-di-fiori-gift-set?ID=6989131&CategoryID=30087#fn=sp%3D2%26spc%3D1451%26ruleId%3D22%7CBOOST%20SAVED%20SET%7CBOOST%20ATTRIBUTE%26searchPass%3DmatchNone%26slotId%3D42',\n",
       " 'https://www.macys.com/shop/product/clinique-happy-heart-perfume-spray-3.4-fl-oz?ID=92350&CategoryID=30087#fn=sp%3D2%26spc%3D1451%26ruleId%3D22%7CBOOST%20SAVED%20SET%7CBOOST%20ATTRIBUTE%26searchPass%3DmatchNone%26slotId%3D107',\n",
       " 'https://www.macys.com/shop/product/narciso-rodriguez-narciso-eau-de-parfum-rollerball-0.25-oz.?ID=2982515&CategoryID=30087#fn=sp%3D2%26spc%3D1451%26ruleId%3D22%7CBOOST%20SAVED%20SET%7CBOOST%20ATTRIBUTE%26searchPass%3DmatchNone%26slotId%3D75',\n",
       " 'https://www.macys.com/shop/product/coach-floral-blush-eau-de-parfum-spray-3-oz.?ID=8425583&CategoryID=30087#fn=sp%3D2%26spc%3D1451%26ruleId%3D22%7CBOOST%20SAVED%20SET%7CBOOST%20ATTRIBUTE%26searchPass%3DmatchNone%26slotId%3D46',\n",
       " 'https://www.macys.com/shop/product/tiffany-co.-signature-eau-de-parfum-2-pc-gift-set?ID=8276993&CategoryID=30087#fn=sp%3D2%26spc%3D1451%26ruleId%3D22%7CBOOST%20SAVED%20SET%7CBOOST%20ATTRIBUTE%26searchPass%3DmatchNone%26slotId%3D113',\n",
       " 'https://www.macys.com/shop/product/versace-eros-pour-femme-eau-de-toilette-3.4-oz?ID=2893479&CategoryID=30087#fn=sp%3D2%26spc%3D1451%26ruleId%3D22%7CBOOST%20SAVED%20SET%7CBOOST%20ATTRIBUTE%26searchPass%3DmatchNone%26slotId%3D62',\n",
       " 'https://www.macys.com/shop/product/gucci-guilty-pour-femme-eau-de-parfum-3.3-oz.?ID=7996939&CategoryID=30087#fn=sp%3D2%26spc%3D1451%26ruleId%3D22%7CBOOST%20SAVED%20SET%7CBOOST%20ATTRIBUTE%26searchPass%3DmatchNone%26slotId%3D86',\n",
       " 'https://www.macys.com/shop/product/coach-floral-eau-de-parfum-spray-3-oz.?ID=5641588&CategoryID=30087#fn=sp%3D2%26spc%3D1451%26ruleId%3D22%7CBOOST%20SAVED%20SET%7CBOOST%20ATTRIBUTE%26searchPass%3DmatchNone%26slotId%3D8',\n",
       " 'https://www.macys.com/shop/product/carolina-herrera-good-girl-eau-de-parfum-spray-1-oz.?ID=5809218&CategoryID=30087#fn=sp%3D2%26spc%3D1451%26ruleId%3D22%7CBOOST%20SAVED%20SET%7CBOOST%20ATTRIBUTE%26searchPass%3DmatchNone%26slotId%3D111',\n",
       " 'https://www.macys.com/shop/product/michael-kors-twilight-shimmer-limited-edition-eau-de-parfum-spray-3.4-oz.?ID=6465743&CategoryID=30087#fn=sp%3D2%26spc%3D1451%26ruleId%3D22%7CBOOST%20SAVED%20SET%7CBOOST%20ATTRIBUTE%26searchPass%3DmatchNone%26slotId%3D4',\n",
       " 'https://www.macys.com/shop/product/estee-lauder-youth-dew-eau-de-parfum-spray-2.25-oz?ID=75127&CategoryID=30087#fn=sp%3D2%26spc%3D1451%26ruleId%3D22%7CBOOST%20SAVED%20SET%7CBOOST%20ATTRIBUTE%26searchPass%3DmatchNone%26slotId%3D77',\n",
       " 'https://www.macys.com/shop/product/givenchy-linterdit-eau-de-parfum-80-ml?ID=8315801&CategoryID=30087#fn=sp%3D2%26spc%3D1451%26ruleId%3D22%7CBOOST%20SAVED%20SET%7CBOOST%20ATTRIBUTE%26searchPass%3DmatchNone%26slotId%3D89',\n",
       " 'https://www.macys.com/shop/product/narciso-rodriguez-for-her-eau-de-toilette-rollerball-0.25-oz.?ID=2910484&CategoryID=30087#fn=sp%3D2%26spc%3D1451%26ruleId%3D22%7CBOOST%20SAVED%20SET%7CBOOST%20ATTRIBUTE%26searchPass%3DmatchNone%26slotId%3D72',\n",
       " 'https://www.macys.com/shop/product/tom-ford-ombre-leather-eau-de-parfum-spray-3.4-oz.?ID=6545567&CategoryID=30087#fn=sp%3D2%26spc%3D1451%26ruleId%3D22%7CBOOST%20SAVED%20SET%7CBOOST%20ATTRIBUTE%26searchPass%3DmatchNone%26slotId%3D19',\n",
       " 'https://www.macys.com/shop/product/hugo-boss-boss-the-scent-for-her-eau-de-parfum-spray-3.3-oz.-created-for-macys?ID=6741347&CategoryID=30087#fn=sp%3D2%26spc%3D1451%26ruleId%3D22%7CBOOST%20SAVED%20SET%7CBOOST%20ATTRIBUTE%26searchPass%3DmatchNone%26slotId%3D55',\n",
       " 'https://www.macys.com/shop/product/jennifer-aniston-eau-de-parfum-spray-2.9-oz.?ID=8930371&CategoryID=30087#fn=sp%3D2%26spc%3D1451%26ruleId%3D22%7CBOOST%20SAVED%20SET%7CBOOST%20ATTRIBUTE%26searchPass%3DmatchNone%26slotId%3D81',\n",
       " 'https://www.macys.com/shop/product/estee-lauder-3-pc.-modern-muse-gift-set?ID=8510664&CategoryID=30087#fn=sp%3D2%26spc%3D1451%26ruleId%3D22%7CBOOST%20SAVED%20SET%7CBOOST%20ATTRIBUTE%26searchPass%3DmatchNone%26slotId%3D56',\n",
       " 'https://www.macys.com/shop/product/bottega-veneta-illusione-eau-de-parfum-1.6-oz.?ID=9559559&CategoryID=30087#fn=sp%3D2%26spc%3D1451%26ruleId%3D22%7CBOOST%20SAVED%20SET%7CBOOST%20ATTRIBUTE%26searchPass%3DmatchNone%26slotId%3D109',\n",
       " 'https://www.macys.com/shop/product/dior-addict-eau-de-parfum-3.4-oz.?ID=88928&CategoryID=30087#fn=sp%3D2%26spc%3D1451%26ruleId%3D22%7CBOOST%20SAVED%20SET%7CBOOST%20ATTRIBUTE%26searchPass%3DmatchNone%26slotId%3D85',\n",
       " 'https://www.macys.com/shop/product/kenzo-world-eau-de-parfum-spray-2.5-oz.?ID=4465425&CategoryID=30087#fn=sp%3D2%26spc%3D1451%26ruleId%3D22%7CBOOST%20SAVED%20SET%7CBOOST%20ATTRIBUTE%26searchPass%3DmatchNone%26slotId%3D60',\n",
       " 'https://www.macys.com/shop/product/michael-kors-wonderlust-eau-de-parfum-spray-3.4-oz?ID=2894349&CategoryID=30087#fn=sp%3D2%26spc%3D1451%26ruleId%3D22%7CBOOST%20SAVED%20SET%7CBOOST%20ATTRIBUTE%26searchPass%3DmatchNone%26slotId%3D5',\n",
       " 'https://www.macys.com/shop/product/juicy-couture-viva-la-juicy-eau-de-parfum-3.4-oz?ID=338208&CategoryID=30087#fn=sp%3D2%26spc%3D1451%26ruleId%3D22%7CBOOST%20SAVED%20SET%7CBOOST%20ATTRIBUTE%26searchPass%3DmatchNone%26slotId%3D35',\n",
       " 'https://www.macys.com/shop/product/guerlain-mon-guerlain-bloom-of-rose-eau-de-toilette-3.3-oz.?ID=8423241&CategoryID=30087#fn=sp%3D2%26spc%3D1451%26ruleId%3D22%7CBOOST%20SAVED%20SET%7CBOOST%20ATTRIBUTE%26searchPass%3DmatchNone%26slotId%3D37',\n",
       " 'https://www.macys.com/shop/product/issey-miyake-3-pc.-leau-dissey-eau-de-toilette-gift-set?ID=8875563&CategoryID=30087#fn=sp%3D2%26spc%3D1451%26ruleId%3D22%7CBOOST%20SAVED%20SET%7CBOOST%20ATTRIBUTE%26searchPass%3DmatchNone%26slotId%3D16',\n",
       " 'https://www.macys.com/shop/product/jimmy-choo-floral-eau-de-toilette-4-pc-gift-set?ID=8313428&CategoryID=30087#fn=sp%3D2%26spc%3D1451%26ruleId%3D22%7CBOOST%20SAVED%20SET%7CBOOST%20ATTRIBUTE%26searchPass%3DmatchNone%26slotId%3D34',\n",
       " 'https://www.macys.com/shop/product/elizabeth-arden-white-tea-wild-rose-eau-de-toilette-spray-3.3-oz.?ID=8156528&CategoryID=30087#fn=sp%3D2%26spc%3D1451%26ruleId%3D22%7CBOOST%20SAVED%20SET%7CBOOST%20ATTRIBUTE%26searchPass%3DmatchNone%26slotId%3D31',\n",
       " 'https://www.macys.com/shop/product/marc-jacobs-3-pc.-daisy-dream-gift-set?ID=8267293&CategoryID=30087#fn=sp%3D2%26spc%3D1451%26ruleId%3D22%7CBOOST%20SAVED%20SET%7CBOOST%20ATTRIBUTE%26searchPass%3DmatchNone%26slotId%3D87',\n",
       " 'https://www.macys.com/shop/product/ralph-lauren-blue-eau-de-toilette-spray-4.2-oz.?ID=104702&CategoryID=30087#fn=sp%3D2%26spc%3D1451%26ruleId%3D22%7CBOOST%20SAVED%20SET%7CBOOST%20ATTRIBUTE%26searchPass%3DmatchNone%26slotId%3D105',\n",
       " 'https://www.macys.com/shop/product/created-for-macys-5-pc.-the-scents-of-spring-fragrance-gift-set-for-her?ID=8470819&CategoryID=30087#fn=sp%3D2%26spc%3D1451%26ruleId%3D22%7CBOOST%20SAVED%20SET%7CBOOST%20ATTRIBUTE%26searchPass%3DmatchNone%26slotId%3D48',\n",
       " 'https://www.macys.com/shop/product/lancome-la-vie-est-belle-eau-de-parfum-1.7-oz?ID=712782&CategoryID=30087#fn=sp%3D2%26spc%3D1451%26ruleId%3D22%7CBOOST%20SAVED%20SET%7CBOOST%20ATTRIBUTE%26searchPass%3DmatchNone%26slotId%3D1',\n",
       " 'https://www.macys.com/shop/product/lancome-tresor-eau-de-parfum-3.4-oz?ID=7251&CategoryID=30087#fn=sp%3D2%26spc%3D1451%26ruleId%3D22%7CBOOST%20SAVED%20SET%7CBOOST%20ATTRIBUTE%26searchPass%3DmatchNone%26slotId%3D20',\n",
       " 'https://www.macys.com/shop/product/estee-lauder-white-linen-parfum-spray-3-oz.?ID=75114&CategoryID=30087#fn=sp%3D2%26spc%3D1451%26ruleId%3D22%7CBOOST%20SAVED%20SET%7CBOOST%20ATTRIBUTE%26searchPass%3DmatchNone%26slotId%3D57',\n",
       " 'https://www.macys.com/shop/product/donna-karan-cashmere-mist-deodorant-1.7-oz?ID=92782&CategoryID=30087#fn=sp%3D2%26spc%3D1451%26ruleId%3D22%7CBOOST%20SAVED%20SET%7CBOOST%20ATTRIBUTE%26searchPass%3DmatchNone%26slotId%3D79',\n",
       " 'https://www.macys.com/shop/product/issey-miyake-leau-dissey-eau-de-toilette-1.7-oz?ID=2214&CategoryID=30087#fn=sp%3D2%26spc%3D1451%26ruleId%3D22%7CBOOST%20SAVED%20SET%7CBOOST%20ATTRIBUTE%26searchPass%3DmatchNone%26slotId%3D94',\n",
       " 'https://www.macys.com/shop/product/dolce-gabbana-3-pc.-light-blue-eau-de-toilette-gift-set?ID=6606565&CategoryID=30087#fn=sp%3D2%26spc%3D1451%26ruleId%3D22%7CBOOST%20SAVED%20SET%7CBOOST%20ATTRIBUTE%26searchPass%3DmatchNone%26slotId%3D47',\n",
       " 'https://www.macys.com/shop/product/prada-candy-eau-de-parfum-3-pc.-gift-set?ID=7133290&CategoryID=30087#fn=sp%3D2%26spc%3D1451%26ruleId%3D22%7CBOOST%20SAVED%20SET%7CBOOST%20ATTRIBUTE%26searchPass%3DmatchNone%26slotId%3D74',\n",
       " 'https://www.macys.com/shop/product/marc-jacobs-3-pc.-daisy-gift-set?ID=8157226&CategoryID=30087#fn=sp%3D2%26spc%3D1451%26ruleId%3D22%7CBOOST%20SAVED%20SET%7CBOOST%20ATTRIBUTE%26searchPass%3DmatchNone%26slotId%3D22',\n",
       " 'https://www.macys.com/shop/product/dolce-gabbana-light-blue-eau-de-toilette-spray-1.6-oz.?ID=77353&CategoryID=30087#fn=sp%3D2%26spc%3D1451%26ruleId%3D22%7CBOOST%20SAVED%20SET%7CBOOST%20ATTRIBUTE%26searchPass%3DmatchNone%26slotId%3D108',\n",
       " 'https://www.macys.com/shop/product/lancome-3-pc.-tresor-mothers-day-gift-set?ID=8763225&CategoryID=30087#fn=sp%3D2%26spc%3D1451%26ruleId%3D22%7CBOOST%20SAVED%20SET%7CBOOST%20ATTRIBUTE%26searchPass%3DmatchNone%26slotId%3D13',\n",
       " 'https://www.macys.com/shop/product/marc-jacobs-3-pc.-daisy-gift-set?ID=8267292&CategoryID=30087#fn=sp%3D2%26spc%3D1451%26ruleId%3D22%7CBOOST%20SAVED%20SET%7CBOOST%20ATTRIBUTE%26searchPass%3DmatchNone%26slotId%3D76',\n",
       " 'https://www.macys.com/shop/product/viktor-rolf-flowerbomb-midnight-eau-de-parfum-spray-3.4-oz.?ID=8349194&CategoryID=30087#fn=sp%3D2%26spc%3D1451%26ruleId%3D22%7CBOOST%20SAVED%20SET%7CBOOST%20ATTRIBUTE%26searchPass%3DmatchNone%26slotId%3D101',\n",
       " 'https://www.macys.com/shop/product/lancome-la-vie-est-belle-en-rose-eau-de-toilette-1.7-oz.-first-at-macys?ID=8432596&CategoryID=30087#fn=sp%3D2%26spc%3D1451%26ruleId%3D22%7CBOOST%20SAVED%20SET%7CBOOST%20ATTRIBUTE%26searchPass%3DmatchNone%26slotId%3D41',\n",
       " 'https://www.macys.com/shop/product/juicy-couture-viva-la-juicy-la-fleur-eau-de-toilette-spray-2.5-oz.?ID=5831945&CategoryID=30087#fn=sp%3D2%26spc%3D1451%26ruleId%3D22%7CBOOST%20SAVED%20SET%7CBOOST%20ATTRIBUTE%26searchPass%3DmatchNone%26slotId%3D115',\n",
       " 'https://www.macys.com/shop/product/issey-miyake-leau-dissey-eau-de-toilette-rollerball-0.25-oz?ID=1008634&CategoryID=30087#fn=sp%3D2%26spc%3D1451%26ruleId%3D22%7CBOOST%20SAVED%20SET%7CBOOST%20ATTRIBUTE%26searchPass%3DmatchNone%26slotId%3D78',\n",
       " 'https://www.macys.com/shop/product/versace-2-pc.-bright-crystal-eau-de-toilette-gift-set?ID=9387070&CategoryID=30087#fn=sp%3D2%26spc%3D1451%26ruleId%3D22%7CBOOST%20SAVED%20SET%7CBOOST%20ATTRIBUTE%26searchPass%3DmatchNone%26slotId%3D9',\n",
       " 'https://www.macys.com/shop/product/calvin-klein-3-pc.-endless-euphoria-for-women-eau-de-parfum-gift-set?ID=8286800&CategoryID=30087#fn=sp%3D2%26spc%3D1451%26ruleId%3D22%7CBOOST%20SAVED%20SET%7CBOOST%20ATTRIBUTE%26searchPass%3DmatchNone%26slotId%3D18',\n",
       " 'https://www.macys.com/shop/product/mugler-alien-luxury-4-pc.-gift-set?ID=8425461&CategoryID=30087#fn=sp%3D2%26spc%3D1451%26ruleId%3D22%7CBOOST%20SAVED%20SET%7CBOOST%20ATTRIBUTE%26searchPass%3DmatchNone%26slotId%3D71',\n",
       " 'https://www.macys.com/shop/product/chanel-chance-eau-de-parfum-spray-3.4-oz?ID=185450&CategoryID=30087#fn=sp%3D2%26spc%3D1451%26ruleId%3D22%7CBOOST%20SAVED%20SET%7CBOOST%20ATTRIBUTE%26searchPass%3DmatchNone%26slotId%3D12',\n",
       " 'https://www.macys.com/shop/product/jimmy-choo-leau-4-pc-gift-set?ID=6640346&CategoryID=30087#fn=sp%3D2%26spc%3D1451%26ruleId%3D22%7CBOOST%20SAVED%20SET%7CBOOST%20ATTRIBUTE%26searchPass%3DmatchNone%26slotId%3D38']"
      ]
     },
     "execution_count": 184,
     "metadata": {},
     "output_type": "execute_result"
    }
   ],
   "source": [
    "page_links"
   ]
  },
  {
   "cell_type": "code",
   "execution_count": 186,
   "metadata": {},
   "outputs": [
    {
     "data": {
      "text/plain": [
       "121"
      ]
     },
     "execution_count": 186,
     "metadata": {},
     "output_type": "execute_result"
    }
   ],
   "source": [
    "len(page_links)"
   ]
  },
  {
   "cell_type": "code",
   "execution_count": 215,
   "metadata": {},
   "outputs": [],
   "source": [
    "complete_perfume_ls = []\n",
    "for url in perfume_ls[:2]:\n",
    "    each_page = get_perfume_links(url)\n",
    "    \n",
    "    #Note: page_links is a global variable defined in get_perf func.\n",
    "    complete_perfume_ls.append(each_page)"
   ]
  },
  {
   "cell_type": "code",
   "execution_count": 216,
   "metadata": {},
   "outputs": [
    {
     "data": {
      "text/plain": [
       "2"
      ]
     },
     "execution_count": 216,
     "metadata": {},
     "output_type": "execute_result"
    }
   ],
   "source": [
    "len(complete_perfume_ls)"
   ]
  },
  {
   "cell_type": "code",
   "execution_count": 217,
   "metadata": {
    "scrolled": true
   },
   "outputs": [
    {
     "data": {
      "text/plain": [
       "'https://www.macys.com/shop/product/estee-lauder-beautiful-belle-eau-de-parfum-spray-1-oz.?ID=6567851&CategoryID=30087#fn=sp%3D1%26spc%3D1451%26ruleId%3D22%7CBOOST%20SAVED%20SET%7CBOOST%20ATTRIBUTE%26searchPass%3DmatchNone%26slotId%3D91'"
      ]
     },
     "execution_count": 217,
     "metadata": {},
     "output_type": "execute_result"
    }
   ],
   "source": [
    "complete_perfume_ls[0][0]"
   ]
  },
  {
   "cell_type": "code",
   "execution_count": 218,
   "metadata": {},
   "outputs": [
    {
     "data": {
      "text/plain": [
       "'https://www.macys.com/shop/product/lancome-miracle-eau-de-parfum-3.4-fl-oz?ID=45281&CategoryID=30087#fn=sp%3D2%26spc%3D1451%26ruleId%3D22%7CBOOST%20SAVED%20SET%7CBOOST%20ATTRIBUTE%26searchPass%3DmatchNone%26slotId%3D23'"
      ]
     },
     "execution_count": 218,
     "metadata": {},
     "output_type": "execute_result"
    }
   ],
   "source": [
    "complete_perfume_ls[1][0]"
   ]
  },
  {
   "cell_type": "code",
   "execution_count": 210,
   "metadata": {},
   "outputs": [
    {
     "data": {
      "text/plain": [
       "['https://www.macys.com/shop/makeup-and-perfume/perfume/Productsperpage/120?id=30087',\n",
       " 'https://www.macys.com/shop/makeup-and-perfume/perfume/Pageindex,Productsperpage/2,120?id=30087']"
      ]
     },
     "execution_count": 210,
     "metadata": {},
     "output_type": "execute_result"
    }
   ],
   "source": [
    "perfume_ls[:2]"
   ]
  },
  {
   "cell_type": "code",
   "execution_count": null,
   "metadata": {},
   "outputs": [],
   "source": []
  }
 ],
 "metadata": {
  "kernelspec": {
   "display_name": "metis",
   "language": "python",
   "name": "metis"
  },
  "language_info": {
   "codemirror_mode": {
    "name": "ipython",
    "version": 3
   },
   "file_extension": ".py",
   "mimetype": "text/x-python",
   "name": "python",
   "nbconvert_exporter": "python",
   "pygments_lexer": "ipython3",
   "version": "3.7.3"
  }
 },
 "nbformat": 4,
 "nbformat_minor": 2
}
