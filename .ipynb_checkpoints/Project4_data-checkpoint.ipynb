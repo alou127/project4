{
 "cells": [
  {
   "cell_type": "markdown",
   "metadata": {},
   "source": [
    "# Project 4"
   ]
  },
  {
   "cell_type": "code",
   "execution_count": 22,
   "metadata": {},
   "outputs": [],
   "source": [
    "import numpy as np\n",
    "import pandas as pd"
   ]
  },
  {
   "cell_type": "code",
   "execution_count": 23,
   "metadata": {},
   "outputs": [
    {
     "data": {
      "text/plain": [
       "['/Users/alexlou/anaconda3/envs/metis/lib/python3.6/site-packages/requests']"
      ]
     },
     "execution_count": 23,
     "metadata": {},
     "output_type": "execute_result"
    }
   ],
   "source": [
    "import requests\n",
    "requests.__path__"
   ]
  },
  {
   "cell_type": "code",
   "execution_count": 24,
   "metadata": {},
   "outputs": [],
   "source": [
    "url = 'https://www.macys.com/shop/makeup-and-perfume/perfume/Productsperpage/120?id=30087'\n",
    "\n",
    "response = requests.get(url)"
   ]
  },
  {
   "cell_type": "code",
   "execution_count": 25,
   "metadata": {},
   "outputs": [
    {
     "data": {
      "text/plain": [
       "302"
      ]
     },
     "execution_count": 25,
     "metadata": {},
     "output_type": "execute_result"
    }
   ],
   "source": [
    "response.status_code # status code = 200 => OK"
   ]
  },
  {
   "cell_type": "code",
   "execution_count": 26,
   "metadata": {},
   "outputs": [],
   "source": [
    "url_perfume_example = 'https://www.macys.com/shop/product/chanel-coco-mademoiselle-eau-de-parfum-intense-spray-3.4-oz.?ID=5712833&CategoryID=30087#fn=sp%3D1%26spc%3D1458%26ruleId%3D22%7CBOOST%20SAVED%20SET%7CBOOST%20ATTRIBUTE%26searchPass%3DmatchNone%26slotId%3D1'"
   ]
  },
  {
   "cell_type": "code",
   "execution_count": 27,
   "metadata": {},
   "outputs": [
    {
     "data": {
      "text/plain": [
       "302"
      ]
     },
     "execution_count": 27,
     "metadata": {},
     "output_type": "execute_result"
    }
   ],
   "source": [
    "response2 = requests.get(url)\n",
    "response2.status_code"
   ]
  },
  {
   "cell_type": "code",
   "execution_count": 28,
   "metadata": {},
   "outputs": [],
   "source": [
    "perfume_ls = []\n",
    "url_page1 = 'https://www.macys.com/shop/makeup-and-perfume/perfume/Productsperpage/120?id=30087'\n",
    "perfume_ls.append(url_page1)"
   ]
  },
  {
   "cell_type": "code",
   "execution_count": 29,
   "metadata": {},
   "outputs": [
    {
     "data": {
      "text/plain": [
       "['https://www.macys.com/shop/makeup-and-perfume/perfume/Productsperpage/120?id=30087']"
      ]
     },
     "execution_count": 29,
     "metadata": {},
     "output_type": "execute_result"
    }
   ],
   "source": [
    "perfume_ls"
   ]
  },
  {
   "cell_type": "code",
   "execution_count": 30,
   "metadata": {},
   "outputs": [],
   "source": [
    "for page_num in range(2,14):\n",
    "    url_page = 'https://www.macys.com/shop/makeup-and-perfume/perfume/Pageindex,Productsperpage/{},120?id=30087'.format(page_num)\n",
    "    perfume_ls.append(url_page)"
   ]
  },
  {
   "cell_type": "code",
   "execution_count": 31,
   "metadata": {},
   "outputs": [
    {
     "data": {
      "text/plain": [
       "['https://www.macys.com/shop/makeup-and-perfume/perfume/Productsperpage/120?id=30087',\n",
       " 'https://www.macys.com/shop/makeup-and-perfume/perfume/Pageindex,Productsperpage/2,120?id=30087',\n",
       " 'https://www.macys.com/shop/makeup-and-perfume/perfume/Pageindex,Productsperpage/3,120?id=30087',\n",
       " 'https://www.macys.com/shop/makeup-and-perfume/perfume/Pageindex,Productsperpage/4,120?id=30087',\n",
       " 'https://www.macys.com/shop/makeup-and-perfume/perfume/Pageindex,Productsperpage/5,120?id=30087',\n",
       " 'https://www.macys.com/shop/makeup-and-perfume/perfume/Pageindex,Productsperpage/6,120?id=30087',\n",
       " 'https://www.macys.com/shop/makeup-and-perfume/perfume/Pageindex,Productsperpage/7,120?id=30087',\n",
       " 'https://www.macys.com/shop/makeup-and-perfume/perfume/Pageindex,Productsperpage/8,120?id=30087',\n",
       " 'https://www.macys.com/shop/makeup-and-perfume/perfume/Pageindex,Productsperpage/9,120?id=30087',\n",
       " 'https://www.macys.com/shop/makeup-and-perfume/perfume/Pageindex,Productsperpage/10,120?id=30087',\n",
       " 'https://www.macys.com/shop/makeup-and-perfume/perfume/Pageindex,Productsperpage/11,120?id=30087',\n",
       " 'https://www.macys.com/shop/makeup-and-perfume/perfume/Pageindex,Productsperpage/12,120?id=30087',\n",
       " 'https://www.macys.com/shop/makeup-and-perfume/perfume/Pageindex,Productsperpage/13,120?id=30087']"
      ]
     },
     "execution_count": 31,
     "metadata": {},
     "output_type": "execute_result"
    }
   ],
   "source": [
    "perfume_ls"
   ]
  },
  {
   "cell_type": "code",
   "execution_count": 32,
   "metadata": {},
   "outputs": [],
   "source": [
    "cols = ['description','price','designer','frag_name']\n",
    "df_perfume = pd.DataFrame(columns=cols)"
   ]
  },
  {
   "cell_type": "code",
   "execution_count": 33,
   "metadata": {},
   "outputs": [
    {
     "data": {
      "text/html": [
       "<div>\n",
       "<style scoped>\n",
       "    .dataframe tbody tr th:only-of-type {\n",
       "        vertical-align: middle;\n",
       "    }\n",
       "\n",
       "    .dataframe tbody tr th {\n",
       "        vertical-align: top;\n",
       "    }\n",
       "\n",
       "    .dataframe thead th {\n",
       "        text-align: right;\n",
       "    }\n",
       "</style>\n",
       "<table border=\"1\" class=\"dataframe\">\n",
       "  <thead>\n",
       "    <tr style=\"text-align: right;\">\n",
       "      <th></th>\n",
       "      <th>description</th>\n",
       "      <th>price</th>\n",
       "      <th>designer</th>\n",
       "      <th>frag_name</th>\n",
       "    </tr>\n",
       "  </thead>\n",
       "  <tbody>\n",
       "  </tbody>\n",
       "</table>\n",
       "</div>"
      ],
      "text/plain": [
       "Empty DataFrame\n",
       "Columns: [description, price, designer, frag_name]\n",
       "Index: []"
      ]
     },
     "execution_count": 33,
     "metadata": {},
     "output_type": "execute_result"
    }
   ],
   "source": [
    "df_perfume"
   ]
  },
  {
   "cell_type": "code",
   "execution_count": 34,
   "metadata": {},
   "outputs": [],
   "source": [
    "url = 'https://www.macys.com/shop/makeup-and-perfume/perfume/Pageindex,Productsperpage/2,120?id=30087'"
   ]
  },
  {
   "cell_type": "code",
   "execution_count": 35,
   "metadata": {},
   "outputs": [],
   "source": [
    "from bs4 import BeautifulSoup"
   ]
  },
  {
   "cell_type": "code",
   "execution_count": 36,
   "metadata": {},
   "outputs": [],
   "source": [
    "response = requests.get(url)"
   ]
  },
  {
   "cell_type": "code",
   "execution_count": 37,
   "metadata": {
    "scrolled": true
   },
   "outputs": [
    {
     "name": "stdout",
     "output_type": "stream",
     "text": [
      "\r\n",
      "<HTML><HEAD>\r\n",
      "<TITLE>Access Denied</TITLE>\r\n",
      "</HEAD><BODY>\r\n",
      "<H1>Access Denied</H1>\r\n",
      "\r\n",
      "You don't have permission to access the requested URL on this server.\r\n",
      "<P>Reference: 18.bc123617.1565727018.9da8d57</P>\r\n",
      "</BODY>\r\n",
      "</HTML>\n"
     ]
    }
   ],
   "source": [
    "print(response.text)"
   ]
  },
  {
   "cell_type": "markdown",
   "metadata": {},
   "source": [
    "### Need to use Selenium to get around the javascript. Nice try Macy's webdevs..\n",
    "\n",
    "---\n",
    "\n",
    "Let's get the perfume urls for 1 of the 13 pages first."
   ]
  },
  {
   "cell_type": "code",
   "execution_count": 38,
   "metadata": {},
   "outputs": [],
   "source": [
    "from selenium import webdriver\n",
    "from selenium.webdriver.common.keys import Keys\n",
    "import time\n",
    "import chromedriver_binary"
   ]
  },
  {
   "cell_type": "code",
   "execution_count": 39,
   "metadata": {},
   "outputs": [],
   "source": [
    "url = 'https://www.macys.com/shop/makeup-and-perfume/perfume/Pageindex,Productsperpage/2,120?id=30087'"
   ]
  },
  {
   "cell_type": "code",
   "execution_count": 40,
   "metadata": {
    "scrolled": false
   },
   "outputs": [],
   "source": [
    "#type(driver.find_elements_by_xpath('.//a'))"
   ]
  },
  {
   "cell_type": "code",
   "execution_count": 41,
   "metadata": {},
   "outputs": [],
   "source": [
    "z = 'https://www.macys.com/shop/product/'"
   ]
  },
  {
   "cell_type": "code",
   "execution_count": 42,
   "metadata": {},
   "outputs": [
    {
     "data": {
      "text/plain": [
       "'https://www.macys.com/shop/product/'"
      ]
     },
     "execution_count": 42,
     "metadata": {},
     "output_type": "execute_result"
    }
   ],
   "source": [
    "z[0:35]"
   ]
  },
  {
   "cell_type": "code",
   "execution_count": 43,
   "metadata": {},
   "outputs": [],
   "source": [
    "driver = webdriver.Chrome()\n",
    "driver.get(url)\n",
    "soup_selenium = BeautifulSoup(driver.page_source)\n",
    "\n",
    "massive_list=[]\n",
    "for a in driver.find_elements_by_xpath('.//a'):\n",
    "    massive_list.append(a.get_attribute('href'))"
   ]
  },
  {
   "cell_type": "code",
   "execution_count": 44,
   "metadata": {},
   "outputs": [
    {
     "data": {
      "text/plain": [
       "str"
      ]
     },
     "execution_count": 44,
     "metadata": {},
     "output_type": "execute_result"
    }
   ],
   "source": [
    "z = massive_list\n",
    "type(z[1])"
   ]
  },
  {
   "cell_type": "code",
   "execution_count": 45,
   "metadata": {},
   "outputs": [],
   "source": [
    "prada = z[-100]"
   ]
  },
  {
   "cell_type": "code",
   "execution_count": 46,
   "metadata": {},
   "outputs": [
    {
     "data": {
      "text/plain": [
       "'https://www.macys.com/shop/product/'"
      ]
     },
     "execution_count": 46,
     "metadata": {},
     "output_type": "execute_result"
    }
   ],
   "source": [
    "prada[0:35]"
   ]
  },
  {
   "cell_type": "code",
   "execution_count": 47,
   "metadata": {},
   "outputs": [
    {
     "name": "stdout",
     "output_type": "stream",
     "text": [
      "https://www.macys.com/shop/product/clinique-happy-heart-perfume-spray-3.4-fl-oz?ID=92350&CategoryID=30087#fn=sp%3D2%26spc%3D1450%26ruleId%3D22%7CBOOST%20SAVED%20SET%7CBOOST%20ATTRIBUTE%26searchPass%3DmatchNone%26slotId%3D109\n"
     ]
    }
   ],
   "source": [
    "if prada[:35] == 'https://www.macys.com/shop/product/':\n",
    "    print(prada)"
   ]
  },
  {
   "cell_type": "code",
   "execution_count": 48,
   "metadata": {},
   "outputs": [],
   "source": [
    "test = 'https://www.macys.com/shop/product/'"
   ]
  },
  {
   "cell_type": "code",
   "execution_count": 49,
   "metadata": {
    "scrolled": true
   },
   "outputs": [
    {
     "data": {
      "text/plain": [
       "'https://www.macys.com/shop/prod'"
      ]
     },
     "execution_count": 49,
     "metadata": {},
     "output_type": "execute_result"
    }
   ],
   "source": [
    "test[:31]"
   ]
  },
  {
   "cell_type": "code",
   "execution_count": 50,
   "metadata": {},
   "outputs": [],
   "source": [
    "massive_list_strings = [str(i) for i in massive_list]"
   ]
  },
  {
   "cell_type": "code",
   "execution_count": 51,
   "metadata": {},
   "outputs": [
    {
     "data": {
      "text/plain": [
       "['https://www.macys.com/shop/product/viktor-rolf-flowerbomb-midnight-eau-de-parfum-spray-3.4-oz.?ID=8349194&CategoryID=30087#fn=sp%3D2%26spc%3D1450%26ruleId%3D22%7CBOOST%20SAVED%20SET%7CBOOST%20ATTRIBUTE%26searchPass%3DmatchNone%26slotId%3D103',\n",
       " 'https://www.macys.com/shop/product/viktor-rolf-flowerbomb-midnight-eau-de-parfum-spray-3.4-oz.?ID=8349194&CategoryID=30087#fn=sp%3D2%26spc%3D1450%26ruleId%3D22%7CBOOST%20SAVED%20SET%7CBOOST%20ATTRIBUTE%26searchPass%3DmatchNone%26slotId%3D103',\n",
       " 'https://www.macys.com/shop/similar-products/Pageindex,Productsperpage/2,120?productId=8349194&imageId=11777540&CategoryID=30087&modelId=pros&cm_sp=MLT_RESP-_-pros-_-11777540_8349194&lid=more_like_this-pros-11777540-8349194',\n",
       " 'https://www.macys.com/shop/product/dolce-gabbana-the-only-one-3-pc.-gift-set?ID=8483087&CategoryID=30087#fn=sp%3D2%26spc%3D1450%26ruleId%3D22%7CBOOST%20SAVED%20SET%7CBOOST%20ATTRIBUTE%26searchPass%3DmatchNone%26slotId%3D104',\n",
       " 'https://www.macys.com/shop/product/dolce-gabbana-the-only-one-3-pc.-gift-set?ID=8483087&CategoryID=30087#fn=sp%3D2%26spc%3D1450%26ruleId%3D22%7CBOOST%20SAVED%20SET%7CBOOST%20ATTRIBUTE%26searchPass%3DmatchNone%26slotId%3D104',\n",
       " 'https://www.macys.com/shop/similar-products/Pageindex,Productsperpage/2,120?productId=8483087&imageId=12650172&CategoryID=30087&modelId=pros&cm_sp=MLT_RESP-_-pros-_-12650172_8483087&lid=more_like_this-pros-12650172-8483087',\n",
       " 'https://www.macys.com/shop/product/cartier-2-pc.-carat-discovery-set?ID=6857277&CategoryID=30087#fn=sp%3D2%26spc%3D1450%26ruleId%3D22%7CBOOST%20SAVED%20SET%7CBOOST%20ATTRIBUTE%26searchPass%3DmatchNone%26slotId%3D105',\n",
       " 'https://www.macys.com/shop/product/cartier-2-pc.-carat-discovery-set?ID=6857277&CategoryID=30087#fn=sp%3D2%26spc%3D1450%26ruleId%3D22%7CBOOST%20SAVED%20SET%7CBOOST%20ATTRIBUTE%26searchPass%3DmatchNone%26slotId%3D105',\n",
       " 'https://www.macys.com/shop/similar-products/Pageindex,Productsperpage/2,120?productId=6857277&imageId=10459658&CategoryID=30087&modelId=pros&cm_sp=MLT_RESP-_-pros-_-10459658_6857277&lid=more_like_this-pros-10459658-6857277',\n",
       " 'https://www.macys.com/shop/product/mugler-3-pc.-alien-gift-set?ID=8312007&CategoryID=30087#fn=sp%3D2%26spc%3D1450%26ruleId%3D22%7CBOOST%20SAVED%20SET%7CBOOST%20ATTRIBUTE%26searchPass%3DmatchNone%26slotId%3D106']"
      ]
     },
     "execution_count": 51,
     "metadata": {},
     "output_type": "execute_result"
    }
   ],
   "source": [
    "massive_list_strings[1500:1510]"
   ]
  },
  {
   "cell_type": "code",
   "execution_count": 52,
   "metadata": {
    "scrolled": true
   },
   "outputs": [
    {
     "name": "stdout",
     "output_type": "stream",
     "text": [
      "https://www.macys.com/shop/product/lancome-la-vie-est-belle-eau-de-parfum-1.7-oz?ID=712782&CategoryID=30087#fn=sp%3D2%26spc%3D1450%26ruleId%3D22%7CBOOST%20SAVED%20SET%7CBOOST%20ATTRIBUTE%26searchPass%3DmatchNone%26slotId%3D1\n",
      "https://www.macys.com/shop/product/lancome-la-vie-est-belle-eau-de-parfum-1.7-oz?ID=712782&CategoryID=30087#fn=sp%3D2%26spc%3D1450%26ruleId%3D22%7CBOOST%20SAVED%20SET%7CBOOST%20ATTRIBUTE%26searchPass%3DmatchNone%26slotId%3D1\n",
      "https://www.macys.com/shop/product/tory-burch-signature-eau-de-parfum-spray-3.4-oz?ID=1877012&CategoryID=30087#fn=sp%3D2%26spc%3D1450%26ruleId%3D22%7CBOOST%20SAVED%20SET%7CBOOST%20ATTRIBUTE%26searchPass%3DmatchNone%26slotId%3D2\n",
      "https://www.macys.com/shop/product/tory-burch-signature-eau-de-parfum-spray-3.4-oz?ID=1877012&CategoryID=30087#fn=sp%3D2%26spc%3D1450%26ruleId%3D22%7CBOOST%20SAVED%20SET%7CBOOST%20ATTRIBUTE%26searchPass%3DmatchNone%26slotId%3D2\n",
      "https://www.macys.com/shop/product/issey-miyake-leau-dissey-pure-eau-de-parfum-3-oz?ID=2823737&CategoryID=30087#fn=sp%3D2%26spc%3D1450%26ruleId%3D22%7CBOOST%20SAVED%20SET%7CBOOST%20ATTRIBUTE%26searchPass%3DmatchNone%26slotId%3D3\n",
      "https://www.macys.com/shop/product/issey-miyake-leau-dissey-pure-eau-de-parfum-3-oz?ID=2823737&CategoryID=30087#fn=sp%3D2%26spc%3D1450%26ruleId%3D22%7CBOOST%20SAVED%20SET%7CBOOST%20ATTRIBUTE%26searchPass%3DmatchNone%26slotId%3D3\n",
      "https://www.macys.com/shop/product/calvin-klein-eternity-for-men-eau-de-toilette-spray-3.4-oz.?ID=356&CategoryID=30087#fn=sp%3D2%26spc%3D1450%26ruleId%3D22%7CBOOST%20SAVED%20SET%7CBOOST%20ATTRIBUTE%26searchPass%3DmatchNone%26slotId%3D4\n",
      "https://www.macys.com/shop/product/calvin-klein-eternity-for-men-eau-de-toilette-spray-3.4-oz.?ID=356&CategoryID=30087#fn=sp%3D2%26spc%3D1450%26ruleId%3D22%7CBOOST%20SAVED%20SET%7CBOOST%20ATTRIBUTE%26searchPass%3DmatchNone%26slotId%3D4\n",
      "https://www.macys.com/shop/product/marc-jacobs-decadence-eau-de-parfum-3.4-oz?ID=2388507&CategoryID=30087#fn=sp%3D2%26spc%3D1450%26ruleId%3D22%7CBOOST%20SAVED%20SET%7CBOOST%20ATTRIBUTE%26searchPass%3DmatchNone%26slotId%3D5\n",
      "https://www.macys.com/shop/product/marc-jacobs-decadence-eau-de-parfum-3.4-oz?ID=2388507&CategoryID=30087#fn=sp%3D2%26spc%3D1450%26ruleId%3D22%7CBOOST%20SAVED%20SET%7CBOOST%20ATTRIBUTE%26searchPass%3DmatchNone%26slotId%3D5\n",
      "https://www.macys.com/shop/product/marc-jacobs-decadence-eau-so-decadent-eau-de-toilette-spray-3.4-oz.?ID=4891156&CategoryID=30087#fn=sp%3D2%26spc%3D1450%26ruleId%3D22%7CBOOST%20SAVED%20SET%7CBOOST%20ATTRIBUTE%26searchPass%3DmatchNone%26slotId%3D6\n",
      "https://www.macys.com/shop/product/marc-jacobs-decadence-eau-so-decadent-eau-de-toilette-spray-3.4-oz.?ID=4891156&CategoryID=30087#fn=sp%3D2%26spc%3D1450%26ruleId%3D22%7CBOOST%20SAVED%20SET%7CBOOST%20ATTRIBUTE%26searchPass%3DmatchNone%26slotId%3D6\n",
      "https://www.macys.com/shop/product/donna-karan-3-pc.-cashmere-mist-purse-spray-gift-set?ID=9381478&CategoryID=30087#fn=sp%3D2%26spc%3D1450%26ruleId%3D22%7CBOOST%20SAVED%20SET%7CBOOST%20ATTRIBUTE%26searchPass%3DmatchNone%26slotId%3D7\n",
      "https://www.macys.com/shop/product/donna-karan-3-pc.-cashmere-mist-purse-spray-gift-set?ID=9381478&CategoryID=30087#fn=sp%3D2%26spc%3D1450%26ruleId%3D22%7CBOOST%20SAVED%20SET%7CBOOST%20ATTRIBUTE%26searchPass%3DmatchNone%26slotId%3D7\n",
      "https://www.macys.com/shop/product/coach-floral-eau-de-parfum-spray-3-oz.?ID=5641588&CategoryID=30087#fn=sp%3D2%26spc%3D1450%26ruleId%3D22%7CBOOST%20SAVED%20SET%7CBOOST%20ATTRIBUTE%26searchPass%3DmatchNone%26slotId%3D8\n",
      "https://www.macys.com/shop/product/coach-floral-eau-de-parfum-spray-3-oz.?ID=5641588&CategoryID=30087#fn=sp%3D2%26spc%3D1450%26ruleId%3D22%7CBOOST%20SAVED%20SET%7CBOOST%20ATTRIBUTE%26searchPass%3DmatchNone%26slotId%3D8\n",
      "https://www.macys.com/shop/product/versace-2-pc.-bright-crystal-eau-de-toilette-gift-set?ID=9387070&CategoryID=30087#fn=sp%3D2%26spc%3D1450%26ruleId%3D22%7CBOOST%20SAVED%20SET%7CBOOST%20ATTRIBUTE%26searchPass%3DmatchNone%26slotId%3D9\n",
      "https://www.macys.com/shop/product/versace-2-pc.-bright-crystal-eau-de-toilette-gift-set?ID=9387070&CategoryID=30087#fn=sp%3D2%26spc%3D1450%26ruleId%3D22%7CBOOST%20SAVED%20SET%7CBOOST%20ATTRIBUTE%26searchPass%3DmatchNone%26slotId%3D9\n",
      "https://www.macys.com/shop/product/mac-shadescents-perfume-candy-yum-yum?ID=4375395&CategoryID=30087#fn=sp%3D2%26spc%3D1450%26ruleId%3D22%7CBOOST%20SAVED%20SET%7CBOOST%20ATTRIBUTE%26searchPass%3DmatchNone%26slotId%3D10\n",
      "https://www.macys.com/shop/product/mac-shadescents-perfume-candy-yum-yum?ID=4375395&CategoryID=30087#fn=sp%3D2%26spc%3D1450%26ruleId%3D22%7CBOOST%20SAVED%20SET%7CBOOST%20ATTRIBUTE%26searchPass%3DmatchNone%26slotId%3D10\n",
      "https://www.macys.com/shop/product/chanel-chance-eau-tendre-eau-de-toilette-1.7-oz?ID=458661&CategoryID=30087#fn=sp%3D2%26spc%3D1450%26ruleId%3D22%7CBOOST%20SAVED%20SET%7CBOOST%20ATTRIBUTE%26searchPass%3DmatchNone%26slotId%3D11\n",
      "https://www.macys.com/shop/product/chanel-chance-eau-tendre-eau-de-toilette-1.7-oz?ID=458661&CategoryID=30087#fn=sp%3D2%26spc%3D1450%26ruleId%3D22%7CBOOST%20SAVED%20SET%7CBOOST%20ATTRIBUTE%26searchPass%3DmatchNone%26slotId%3D11\n",
      "https://www.macys.com/shop/product/chanel-chance-eau-de-parfum-spray-3.4-oz?ID=185450&CategoryID=30087#fn=sp%3D2%26spc%3D1450%26ruleId%3D22%7CBOOST%20SAVED%20SET%7CBOOST%20ATTRIBUTE%26searchPass%3DmatchNone%26slotId%3D12\n",
      "https://www.macys.com/shop/product/chanel-chance-eau-de-parfum-spray-3.4-oz?ID=185450&CategoryID=30087#fn=sp%3D2%26spc%3D1450%26ruleId%3D22%7CBOOST%20SAVED%20SET%7CBOOST%20ATTRIBUTE%26searchPass%3DmatchNone%26slotId%3D12\n",
      "https://www.macys.com/shop/product/lancome-3-pc.-tresor-mothers-day-gift-set?ID=8763225&CategoryID=30087#fn=sp%3D2%26spc%3D1450%26ruleId%3D22%7CBOOST%20SAVED%20SET%7CBOOST%20ATTRIBUTE%26searchPass%3DmatchNone%26slotId%3D13\n",
      "https://www.macys.com/shop/product/lancome-3-pc.-tresor-mothers-day-gift-set?ID=8763225&CategoryID=30087#fn=sp%3D2%26spc%3D1450%26ruleId%3D22%7CBOOST%20SAVED%20SET%7CBOOST%20ATTRIBUTE%26searchPass%3DmatchNone%26slotId%3D13\n",
      "https://www.macys.com/shop/product/michael-kors-collection-midnight-shimmer-eau-de-parfum-3.4-oz?ID=2816860&CategoryID=30087#fn=sp%3D2%26spc%3D1450%26ruleId%3D22%7CBOOST%20SAVED%20SET%7CBOOST%20ATTRIBUTE%26searchPass%3DmatchNone%26slotId%3D14\n",
      "https://www.macys.com/shop/product/michael-kors-collection-midnight-shimmer-eau-de-parfum-3.4-oz?ID=2816860&CategoryID=30087#fn=sp%3D2%26spc%3D1450%26ruleId%3D22%7CBOOST%20SAVED%20SET%7CBOOST%20ATTRIBUTE%26searchPass%3DmatchNone%26slotId%3D14\n",
      "https://www.macys.com/shop/product/michael-kors-twilight-shimmer-limited-edition-eau-de-parfum-spray-3.4-oz.?ID=6465743&CategoryID=30087#fn=sp%3D2%26spc%3D1450%26ruleId%3D22%7CBOOST%20SAVED%20SET%7CBOOST%20ATTRIBUTE%26searchPass%3DmatchNone%26slotId%3D15\n",
      "https://www.macys.com/shop/product/michael-kors-twilight-shimmer-limited-edition-eau-de-parfum-spray-3.4-oz.?ID=6465743&CategoryID=30087#fn=sp%3D2%26spc%3D1450%26ruleId%3D22%7CBOOST%20SAVED%20SET%7CBOOST%20ATTRIBUTE%26searchPass%3DmatchNone%26slotId%3D15\n",
      "https://www.macys.com/shop/product/michael-kors-sexy-amber-eau-de-parfum-spray-3.4-oz?ID=886389&CategoryID=30087#fn=sp%3D2%26spc%3D1450%26ruleId%3D22%7CBOOST%20SAVED%20SET%7CBOOST%20ATTRIBUTE%26searchPass%3DmatchNone%26slotId%3D16\n",
      "https://www.macys.com/shop/product/michael-kors-sexy-amber-eau-de-parfum-spray-3.4-oz?ID=886389&CategoryID=30087#fn=sp%3D2%26spc%3D1450%26ruleId%3D22%7CBOOST%20SAVED%20SET%7CBOOST%20ATTRIBUTE%26searchPass%3DmatchNone%26slotId%3D16\n",
      "https://www.macys.com/shop/product/michael-kors-wonderlust-eau-de-parfum-spray-3.4-oz?ID=2894349&CategoryID=30087#fn=sp%3D2%26spc%3D1450%26ruleId%3D22%7CBOOST%20SAVED%20SET%7CBOOST%20ATTRIBUTE%26searchPass%3DmatchNone%26slotId%3D17\n",
      "https://www.macys.com/shop/product/michael-kors-wonderlust-eau-de-parfum-spray-3.4-oz?ID=2894349&CategoryID=30087#fn=sp%3D2%26spc%3D1450%26ruleId%3D22%7CBOOST%20SAVED%20SET%7CBOOST%20ATTRIBUTE%26searchPass%3DmatchNone%26slotId%3D17\n",
      "https://www.macys.com/shop/product/issey-miyake-3-pc.-leau-dissey-eau-de-toilette-gift-set?ID=8875563&CategoryID=30087#fn=sp%3D2%26spc%3D1450%26ruleId%3D22%7CBOOST%20SAVED%20SET%7CBOOST%20ATTRIBUTE%26searchPass%3DmatchNone%26slotId%3D18\n",
      "https://www.macys.com/shop/product/issey-miyake-3-pc.-leau-dissey-eau-de-toilette-gift-set?ID=8875563&CategoryID=30087#fn=sp%3D2%26spc%3D1450%26ruleId%3D22%7CBOOST%20SAVED%20SET%7CBOOST%20ATTRIBUTE%26searchPass%3DmatchNone%26slotId%3D18\n",
      "https://www.macys.com/shop/product/narciso-rodriguez-for-her-fleur-musc-eau-de-parfum-3-pc.-gift-set?ID=8483076&CategoryID=30087#fn=sp%3D2%26spc%3D1450%26ruleId%3D22%7CBOOST%20SAVED%20SET%7CBOOST%20ATTRIBUTE%26searchPass%3DmatchNone%26slotId%3D19\n",
      "https://www.macys.com/shop/product/narciso-rodriguez-for-her-fleur-musc-eau-de-parfum-3-pc.-gift-set?ID=8483076&CategoryID=30087#fn=sp%3D2%26spc%3D1450%26ruleId%3D22%7CBOOST%20SAVED%20SET%7CBOOST%20ATTRIBUTE%26searchPass%3DmatchNone%26slotId%3D19\n",
      "https://www.macys.com/shop/product/calvin-klein-3-pc.-endless-euphoria-for-women-eau-de-parfum-gift-set?ID=8286800&CategoryID=30087#fn=sp%3D2%26spc%3D1450%26ruleId%3D22%7CBOOST%20SAVED%20SET%7CBOOST%20ATTRIBUTE%26searchPass%3DmatchNone%26slotId%3D20\n",
      "https://www.macys.com/shop/product/calvin-klein-3-pc.-endless-euphoria-for-women-eau-de-parfum-gift-set?ID=8286800&CategoryID=30087#fn=sp%3D2%26spc%3D1450%26ruleId%3D22%7CBOOST%20SAVED%20SET%7CBOOST%20ATTRIBUTE%26searchPass%3DmatchNone%26slotId%3D20\n",
      "https://www.macys.com/shop/product/tom-ford-ombre-leather-eau-de-parfum-spray-3.4-oz.?ID=6545567&CategoryID=30087#fn=sp%3D2%26spc%3D1450%26ruleId%3D22%7CBOOST%20SAVED%20SET%7CBOOST%20ATTRIBUTE%26searchPass%3DmatchNone%26slotId%3D21\n",
      "https://www.macys.com/shop/product/tom-ford-ombre-leather-eau-de-parfum-spray-3.4-oz.?ID=6545567&CategoryID=30087#fn=sp%3D2%26spc%3D1450%26ruleId%3D22%7CBOOST%20SAVED%20SET%7CBOOST%20ATTRIBUTE%26searchPass%3DmatchNone%26slotId%3D21\n",
      "https://www.macys.com/shop/product/lancome-tresor-eau-de-parfum-3.4-oz?ID=7251&CategoryID=30087#fn=sp%3D2%26spc%3D1450%26ruleId%3D22%7CBOOST%20SAVED%20SET%7CBOOST%20ATTRIBUTE%26searchPass%3DmatchNone%26slotId%3D22\n",
      "https://www.macys.com/shop/product/lancome-tresor-eau-de-parfum-3.4-oz?ID=7251&CategoryID=30087#fn=sp%3D2%26spc%3D1450%26ruleId%3D22%7CBOOST%20SAVED%20SET%7CBOOST%20ATTRIBUTE%26searchPass%3DmatchNone%26slotId%3D22\n",
      "https://www.macys.com/shop/product/lancome-miracle-eau-de-parfum-3.4-fl-oz?ID=45281&CategoryID=30087#fn=sp%3D2%26spc%3D1450%26ruleId%3D22%7CBOOST%20SAVED%20SET%7CBOOST%20ATTRIBUTE%26searchPass%3DmatchNone%26slotId%3D23\n",
      "https://www.macys.com/shop/product/lancome-miracle-eau-de-parfum-3.4-fl-oz?ID=45281&CategoryID=30087#fn=sp%3D2%26spc%3D1450%26ruleId%3D22%7CBOOST%20SAVED%20SET%7CBOOST%20ATTRIBUTE%26searchPass%3DmatchNone%26slotId%3D23\n",
      "https://www.macys.com/shop/product/marc-jacobs-3-pc.-daisy-gift-set?ID=8157226&CategoryID=30087#fn=sp%3D2%26spc%3D1450%26ruleId%3D22%7CBOOST%20SAVED%20SET%7CBOOST%20ATTRIBUTE%26searchPass%3DmatchNone%26slotId%3D24\n",
      "https://www.macys.com/shop/product/marc-jacobs-3-pc.-daisy-gift-set?ID=8157226&CategoryID=30087#fn=sp%3D2%26spc%3D1450%26ruleId%3D22%7CBOOST%20SAVED%20SET%7CBOOST%20ATTRIBUTE%26searchPass%3DmatchNone%26slotId%3D24\n",
      "https://www.macys.com/shop/product/dolce-gabbana-light-blue-sun-pour-femme-eau-de-toilette-3.3-oz.?ID=8483092&CategoryID=30087#fn=sp%3D2%26spc%3D1450%26ruleId%3D22%7CBOOST%20SAVED%20SET%7CBOOST%20ATTRIBUTE%26searchPass%3DmatchNone%26slotId%3D25\n",
      "https://www.macys.com/shop/product/dolce-gabbana-light-blue-sun-pour-femme-eau-de-toilette-3.3-oz.?ID=8483092&CategoryID=30087#fn=sp%3D2%26spc%3D1450%26ruleId%3D22%7CBOOST%20SAVED%20SET%7CBOOST%20ATTRIBUTE%26searchPass%3DmatchNone%26slotId%3D25\n",
      "https://www.macys.com/shop/product/oscar-de-la-renta-bella-rosa-eau-de-parfum-1.7-oz.?ID=8074868&CategoryID=30087#fn=sp%3D2%26spc%3D1450%26ruleId%3D22%7CBOOST%20SAVED%20SET%7CBOOST%20ATTRIBUTE%26searchPass%3DmatchNone%26slotId%3D26\n",
      "https://www.macys.com/shop/product/oscar-de-la-renta-bella-rosa-eau-de-parfum-1.7-oz.?ID=8074868&CategoryID=30087#fn=sp%3D2%26spc%3D1450%26ruleId%3D22%7CBOOST%20SAVED%20SET%7CBOOST%20ATTRIBUTE%26searchPass%3DmatchNone%26slotId%3D26\n",
      "https://www.macys.com/shop/product/jo-malone-london-3-pc.-fresh-vibrant-gift-set?ID=9978816&CategoryID=30087#fn=sp%3D2%26spc%3D1450%26ruleId%3D22%7CBOOST%20SAVED%20SET%7CBOOST%20ATTRIBUTE%26searchPass%3DmatchNone%26slotId%3D27\n",
      "https://www.macys.com/shop/product/jo-malone-london-3-pc.-fresh-vibrant-gift-set?ID=9978816&CategoryID=30087#fn=sp%3D2%26spc%3D1450%26ruleId%3D22%7CBOOST%20SAVED%20SET%7CBOOST%20ATTRIBUTE%26searchPass%3DmatchNone%26slotId%3D27\n",
      "https://www.macys.com/shop/product/giorgio-armani-si-fiori-eau-de-parfum-spray-3.4-oz.?ID=8244865&CategoryID=30087#fn=sp%3D2%26spc%3D1450%26ruleId%3D22%7CBOOST%20SAVED%20SET%7CBOOST%20ATTRIBUTE%26searchPass%3DmatchNone%26slotId%3D28\n",
      "https://www.macys.com/shop/product/giorgio-armani-si-fiori-eau-de-parfum-spray-3.4-oz.?ID=8244865&CategoryID=30087#fn=sp%3D2%26spc%3D1450%26ruleId%3D22%7CBOOST%20SAVED%20SET%7CBOOST%20ATTRIBUTE%26searchPass%3DmatchNone%26slotId%3D28\n",
      "https://www.macys.com/shop/product/nanette-lepore-3-pc.-beautiful-times-gift-set?ID=8225981&CategoryID=30087#fn=sp%3D2%26spc%3D1450%26ruleId%3D22%7CBOOST%20SAVED%20SET%7CBOOST%20ATTRIBUTE%26searchPass%3DmatchNone%26slotId%3D29\n",
      "https://www.macys.com/shop/product/nanette-lepore-3-pc.-beautiful-times-gift-set?ID=8225981&CategoryID=30087#fn=sp%3D2%26spc%3D1450%26ruleId%3D22%7CBOOST%20SAVED%20SET%7CBOOST%20ATTRIBUTE%26searchPass%3DmatchNone%26slotId%3D29\n",
      "https://www.macys.com/shop/product/versace-3-pc.-dylan-blue-pour-femme-gift-set?ID=8074873&CategoryID=30087#fn=sp%3D2%26spc%3D1450%26ruleId%3D22%7CBOOST%20SAVED%20SET%7CBOOST%20ATTRIBUTE%26searchPass%3DmatchNone%26slotId%3D30\n",
      "https://www.macys.com/shop/product/versace-3-pc.-dylan-blue-pour-femme-gift-set?ID=8074873&CategoryID=30087#fn=sp%3D2%26spc%3D1450%26ruleId%3D22%7CBOOST%20SAVED%20SET%7CBOOST%20ATTRIBUTE%26searchPass%3DmatchNone%26slotId%3D30\n",
      "https://www.macys.com/shop/product/estee-lauder-3-pc.-beautiful-romantic-favorites-gift-set?ID=7268040&CategoryID=30087#fn=sp%3D2%26spc%3D1450%26ruleId%3D22%7CBOOST%20SAVED%20SET%7CBOOST%20ATTRIBUTE%26searchPass%3DmatchNone%26slotId%3D31\n",
      "https://www.macys.com/shop/product/estee-lauder-3-pc.-beautiful-romantic-favorites-gift-set?ID=7268040&CategoryID=30087#fn=sp%3D2%26spc%3D1450%26ruleId%3D22%7CBOOST%20SAVED%20SET%7CBOOST%20ATTRIBUTE%26searchPass%3DmatchNone%26slotId%3D31\n",
      "https://www.macys.com/shop/product/michael-kors-4-pc.-signature-gift-set?ID=9092459&CategoryID=30087#fn=sp%3D2%26spc%3D1450%26ruleId%3D22%7CBOOST%20SAVED%20SET%7CBOOST%20ATTRIBUTE%26searchPass%3DmatchNone%26slotId%3D32\n",
      "https://www.macys.com/shop/product/michael-kors-4-pc.-signature-gift-set?ID=9092459&CategoryID=30087#fn=sp%3D2%26spc%3D1450%26ruleId%3D22%7CBOOST%20SAVED%20SET%7CBOOST%20ATTRIBUTE%26searchPass%3DmatchNone%26slotId%3D32\n",
      "https://www.macys.com/shop/product/elizabeth-arden-white-tea-wild-rose-eau-de-toilette-spray-3.3-oz.?ID=8156528&CategoryID=30087#fn=sp%3D2%26spc%3D1450%26ruleId%3D22%7CBOOST%20SAVED%20SET%7CBOOST%20ATTRIBUTE%26searchPass%3DmatchNone%26slotId%3D33\n",
      "https://www.macys.com/shop/product/elizabeth-arden-white-tea-wild-rose-eau-de-toilette-spray-3.3-oz.?ID=8156528&CategoryID=30087#fn=sp%3D2%26spc%3D1450%26ruleId%3D22%7CBOOST%20SAVED%20SET%7CBOOST%20ATTRIBUTE%26searchPass%3DmatchNone%26slotId%3D33\n",
      "https://www.macys.com/shop/product/chanel-gabrielle-chanel-eau-de-parfum-spray-3.4-oz.?ID=4817008&CategoryID=30087#fn=sp%3D2%26spc%3D1450%26ruleId%3D22%7CBOOST%20SAVED%20SET%7CBOOST%20ATTRIBUTE%26searchPass%3DmatchNone%26slotId%3D34\n",
      "https://www.macys.com/shop/product/chanel-gabrielle-chanel-eau-de-parfum-spray-3.4-oz.?ID=4817008&CategoryID=30087#fn=sp%3D2%26spc%3D1450%26ruleId%3D22%7CBOOST%20SAVED%20SET%7CBOOST%20ATTRIBUTE%26searchPass%3DmatchNone%26slotId%3D34\n",
      "https://www.macys.com/shop/product/chanel-allure-parfum-.25-oz?ID=74668&CategoryID=30087#fn=sp%3D2%26spc%3D1450%26ruleId%3D22%7CBOOST%20SAVED%20SET%7CBOOST%20ATTRIBUTE%26searchPass%3DmatchNone%26slotId%3D35\n",
      "https://www.macys.com/shop/product/chanel-allure-parfum-.25-oz?ID=74668&CategoryID=30087#fn=sp%3D2%26spc%3D1450%26ruleId%3D22%7CBOOST%20SAVED%20SET%7CBOOST%20ATTRIBUTE%26searchPass%3DmatchNone%26slotId%3D35\n",
      "https://www.macys.com/shop/product/jimmy-choo-floral-eau-de-toilette-4-pc-gift-set?ID=8313428&CategoryID=30087#fn=sp%3D2%26spc%3D1450%26ruleId%3D22%7CBOOST%20SAVED%20SET%7CBOOST%20ATTRIBUTE%26searchPass%3DmatchNone%26slotId%3D36\n",
      "https://www.macys.com/shop/product/jimmy-choo-floral-eau-de-toilette-4-pc-gift-set?ID=8313428&CategoryID=30087#fn=sp%3D2%26spc%3D1450%26ruleId%3D22%7CBOOST%20SAVED%20SET%7CBOOST%20ATTRIBUTE%26searchPass%3DmatchNone%26slotId%3D36\n",
      "https://www.macys.com/shop/product/juicy-couture-viva-la-juicy-eau-de-parfum-3.4-oz?ID=338208&CategoryID=30087#fn=sp%3D2%26spc%3D1450%26ruleId%3D22%7CBOOST%20SAVED%20SET%7CBOOST%20ATTRIBUTE%26searchPass%3DmatchNone%26slotId%3D37\n",
      "https://www.macys.com/shop/product/juicy-couture-viva-la-juicy-eau-de-parfum-3.4-oz?ID=338208&CategoryID=30087#fn=sp%3D2%26spc%3D1450%26ruleId%3D22%7CBOOST%20SAVED%20SET%7CBOOST%20ATTRIBUTE%26searchPass%3DmatchNone%26slotId%3D37\n",
      "https://www.macys.com/shop/product/narciso-rodriguez-3-pc.-for-her-deluxe-mini-gift-set?ID=9434962&CategoryID=30087#fn=sp%3D2%26spc%3D1450%26ruleId%3D22%7CBOOST%20SAVED%20SET%7CBOOST%20ATTRIBUTE%26searchPass%3DmatchNone%26slotId%3D38\n",
      "https://www.macys.com/shop/product/narciso-rodriguez-3-pc.-for-her-deluxe-mini-gift-set?ID=9434962&CategoryID=30087#fn=sp%3D2%26spc%3D1450%26ruleId%3D22%7CBOOST%20SAVED%20SET%7CBOOST%20ATTRIBUTE%26searchPass%3DmatchNone%26slotId%3D38\n",
      "https://www.macys.com/shop/product/guerlain-mon-guerlain-bloom-of-rose-eau-de-toilette-3.3-oz.?ID=8423241&CategoryID=30087#fn=sp%3D2%26spc%3D1450%26ruleId%3D22%7CBOOST%20SAVED%20SET%7CBOOST%20ATTRIBUTE%26searchPass%3DmatchNone%26slotId%3D39\n",
      "https://www.macys.com/shop/product/guerlain-mon-guerlain-bloom-of-rose-eau-de-toilette-3.3-oz.?ID=8423241&CategoryID=30087#fn=sp%3D2%26spc%3D1450%26ruleId%3D22%7CBOOST%20SAVED%20SET%7CBOOST%20ATTRIBUTE%26searchPass%3DmatchNone%26slotId%3D39\n",
      "https://www.macys.com/shop/product/jimmy-choo-leau-4-pc-gift-set?ID=6640346&CategoryID=30087#fn=sp%3D2%26spc%3D1450%26ruleId%3D22%7CBOOST%20SAVED%20SET%7CBOOST%20ATTRIBUTE%26searchPass%3DmatchNone%26slotId%3D40\n",
      "https://www.macys.com/shop/product/jimmy-choo-leau-4-pc-gift-set?ID=6640346&CategoryID=30087#fn=sp%3D2%26spc%3D1450%26ruleId%3D22%7CBOOST%20SAVED%20SET%7CBOOST%20ATTRIBUTE%26searchPass%3DmatchNone%26slotId%3D40\n",
      "https://www.macys.com/shop/product/marc-jacobs-3-pc.-daisy-dream-gift-set?ID=8157228&CategoryID=30087#fn=sp%3D2%26spc%3D1450%26ruleId%3D22%7CBOOST%20SAVED%20SET%7CBOOST%20ATTRIBUTE%26searchPass%3DmatchNone%26slotId%3D41\n",
      "https://www.macys.com/shop/product/marc-jacobs-3-pc.-daisy-dream-gift-set?ID=8157228&CategoryID=30087#fn=sp%3D2%26spc%3D1450%26ruleId%3D22%7CBOOST%20SAVED%20SET%7CBOOST%20ATTRIBUTE%26searchPass%3DmatchNone%26slotId%3D41\n",
      "https://www.macys.com/shop/product/created-for-macys-5-pc.-the-scents-of-spring-fragrance-gift-set-for-her?ID=8470818&CategoryID=30087#fn=sp%3D2%26spc%3D1450%26ruleId%3D22%7CBOOST%20SAVED%20SET%7CBOOST%20ATTRIBUTE%26searchPass%3DmatchNone%26slotId%3D42\n",
      "https://www.macys.com/shop/product/created-for-macys-5-pc.-the-scents-of-spring-fragrance-gift-set-for-her?ID=8470818&CategoryID=30087#fn=sp%3D2%26spc%3D1450%26ruleId%3D22%7CBOOST%20SAVED%20SET%7CBOOST%20ATTRIBUTE%26searchPass%3DmatchNone%26slotId%3D42\n",
      "https://www.macys.com/shop/product/lancome-la-vie-est-belle-en-rose-eau-de-toilette-1.7-oz.-first-at-macys?ID=8432596&CategoryID=30087#fn=sp%3D2%26spc%3D1450%26ruleId%3D22%7CBOOST%20SAVED%20SET%7CBOOST%20ATTRIBUTE%26searchPass%3DmatchNone%26slotId%3D43\n",
      "https://www.macys.com/shop/product/lancome-la-vie-est-belle-en-rose-eau-de-toilette-1.7-oz.-first-at-macys?ID=8432596&CategoryID=30087#fn=sp%3D2%26spc%3D1450%26ruleId%3D22%7CBOOST%20SAVED%20SET%7CBOOST%20ATTRIBUTE%26searchPass%3DmatchNone%26slotId%3D43\n",
      "https://www.macys.com/shop/product/gucci-2-pc.-bloom-nettare-di-fiori-gift-set?ID=6989131&CategoryID=30087#fn=sp%3D2%26spc%3D1450%26ruleId%3D22%7CBOOST%20SAVED%20SET%7CBOOST%20ATTRIBUTE%26searchPass%3DmatchNone%26slotId%3D44\n",
      "https://www.macys.com/shop/product/gucci-2-pc.-bloom-nettare-di-fiori-gift-set?ID=6989131&CategoryID=30087#fn=sp%3D2%26spc%3D1450%26ruleId%3D22%7CBOOST%20SAVED%20SET%7CBOOST%20ATTRIBUTE%26searchPass%3DmatchNone%26slotId%3D44\n",
      "https://www.macys.com/shop/product/donna-karan-cashmere-mist-eau-de-parfum-spray-3.4-oz?ID=166324&CategoryID=30087#fn=sp%3D2%26spc%3D1450%26ruleId%3D22%7CBOOST%20SAVED%20SET%7CBOOST%20ATTRIBUTE%26searchPass%3DmatchNone%26slotId%3D45\n",
      "https://www.macys.com/shop/product/donna-karan-cashmere-mist-eau-de-parfum-spray-3.4-oz?ID=166324&CategoryID=30087#fn=sp%3D2%26spc%3D1450%26ruleId%3D22%7CBOOST%20SAVED%20SET%7CBOOST%20ATTRIBUTE%26searchPass%3DmatchNone%26slotId%3D45\n",
      "https://www.macys.com/shop/product/kilian-princess-eau-de-parfum-spray-3.4-oz.?ID=9381646&CategoryID=30087#fn=sp%3D2%26spc%3D1450%26ruleId%3D22%7CBOOST%20SAVED%20SET%7CBOOST%20ATTRIBUTE%26searchPass%3DmatchNone%26slotId%3D46\n",
      "https://www.macys.com/shop/product/kilian-princess-eau-de-parfum-spray-3.4-oz.?ID=9381646&CategoryID=30087#fn=sp%3D2%26spc%3D1450%26ruleId%3D22%7CBOOST%20SAVED%20SET%7CBOOST%20ATTRIBUTE%26searchPass%3DmatchNone%26slotId%3D46\n",
      "https://www.macys.com/shop/product/versace-bright-crystal-eau-de-toilette-spray-3-oz.?ID=346887&CategoryID=30087#fn=sp%3D2%26spc%3D1450%26ruleId%3D22%7CBOOST%20SAVED%20SET%7CBOOST%20ATTRIBUTE%26searchPass%3DmatchNone%26slotId%3D47\n",
      "https://www.macys.com/shop/product/versace-bright-crystal-eau-de-toilette-spray-3-oz.?ID=346887&CategoryID=30087#fn=sp%3D2%26spc%3D1450%26ruleId%3D22%7CBOOST%20SAVED%20SET%7CBOOST%20ATTRIBUTE%26searchPass%3DmatchNone%26slotId%3D47\n",
      "https://www.macys.com/shop/product/coach-floral-blush-eau-de-parfum-spray-3-oz.?ID=8425583&CategoryID=30087#fn=sp%3D2%26spc%3D1450%26ruleId%3D22%7CBOOST%20SAVED%20SET%7CBOOST%20ATTRIBUTE%26searchPass%3DmatchNone%26slotId%3D48\n",
      "https://www.macys.com/shop/product/coach-floral-blush-eau-de-parfum-spray-3-oz.?ID=8425583&CategoryID=30087#fn=sp%3D2%26spc%3D1450%26ruleId%3D22%7CBOOST%20SAVED%20SET%7CBOOST%20ATTRIBUTE%26searchPass%3DmatchNone%26slotId%3D48\n",
      "https://www.macys.com/shop/product/dolce-gabbana-3-pc.-light-blue-eau-de-toilette-gift-set?ID=6606565&CategoryID=30087#fn=sp%3D2%26spc%3D1450%26ruleId%3D22%7CBOOST%20SAVED%20SET%7CBOOST%20ATTRIBUTE%26searchPass%3DmatchNone%26slotId%3D49\n",
      "https://www.macys.com/shop/product/dolce-gabbana-3-pc.-light-blue-eau-de-toilette-gift-set?ID=6606565&CategoryID=30087#fn=sp%3D2%26spc%3D1450%26ruleId%3D22%7CBOOST%20SAVED%20SET%7CBOOST%20ATTRIBUTE%26searchPass%3DmatchNone%26slotId%3D49\n",
      "https://www.macys.com/shop/product/created-for-macys-5-pc.-the-scents-of-spring-fragrance-gift-set-for-her?ID=8470819&CategoryID=30087#fn=sp%3D2%26spc%3D1450%26ruleId%3D22%7CBOOST%20SAVED%20SET%7CBOOST%20ATTRIBUTE%26searchPass%3DmatchNone%26slotId%3D50\n",
      "https://www.macys.com/shop/product/created-for-macys-5-pc.-the-scents-of-spring-fragrance-gift-set-for-her?ID=8470819&CategoryID=30087#fn=sp%3D2%26spc%3D1450%26ruleId%3D22%7CBOOST%20SAVED%20SET%7CBOOST%20ATTRIBUTE%26searchPass%3DmatchNone%26slotId%3D50\n",
      "https://www.macys.com/shop/product/juicy-couture-viva-la-juicy-gold-couture-eau-de-parfum-spray-1-oz.?ID=6865925&CategoryID=30087#fn=sp%3D2%26spc%3D1450%26ruleId%3D22%7CBOOST%20SAVED%20SET%7CBOOST%20ATTRIBUTE%26searchPass%3DmatchNone%26slotId%3D51\n",
      "https://www.macys.com/shop/product/juicy-couture-viva-la-juicy-gold-couture-eau-de-parfum-spray-1-oz.?ID=6865925&CategoryID=30087#fn=sp%3D2%26spc%3D1450%26ruleId%3D22%7CBOOST%20SAVED%20SET%7CBOOST%20ATTRIBUTE%26searchPass%3DmatchNone%26slotId%3D51\n",
      "https://www.macys.com/shop/product/burberry-her-blossom-eau-de-toilette-3.3-oz.?ID=9559447&CategoryID=30087#fn=sp%3D2%26spc%3D1450%26ruleId%3D22%7CBOOST%20SAVED%20SET%7CBOOST%20ATTRIBUTE%26searchPass%3DmatchNone%26slotId%3D52\n",
      "https://www.macys.com/shop/product/burberry-her-blossom-eau-de-toilette-3.3-oz.?ID=9559447&CategoryID=30087#fn=sp%3D2%26spc%3D1450%26ruleId%3D22%7CBOOST%20SAVED%20SET%7CBOOST%20ATTRIBUTE%26searchPass%3DmatchNone%26slotId%3D52\n",
      "https://www.macys.com/shop/product/burberry-her-eau-de-parfum-spray-3.3-oz.?ID=6794728&CategoryID=30087#fn=sp%3D2%26spc%3D1450%26ruleId%3D22%7CBOOST%20SAVED%20SET%7CBOOST%20ATTRIBUTE%26searchPass%3DmatchNone%26slotId%3D53\n",
      "https://www.macys.com/shop/product/burberry-her-eau-de-parfum-spray-3.3-oz.?ID=6794728&CategoryID=30087#fn=sp%3D2%26spc%3D1450%26ruleId%3D22%7CBOOST%20SAVED%20SET%7CBOOST%20ATTRIBUTE%26searchPass%3DmatchNone%26slotId%3D53\n",
      "https://www.macys.com/shop/product/prada-candy-eau-de-parfum-spray-2.7-oz.?ID=724310&CategoryID=30087#fn=sp%3D2%26spc%3D1450%26ruleId%3D22%7CBOOST%20SAVED%20SET%7CBOOST%20ATTRIBUTE%26searchPass%3DmatchNone%26slotId%3D54\n",
      "https://www.macys.com/shop/product/prada-candy-eau-de-parfum-spray-2.7-oz.?ID=724310&CategoryID=30087#fn=sp%3D2%26spc%3D1450%26ruleId%3D22%7CBOOST%20SAVED%20SET%7CBOOST%20ATTRIBUTE%26searchPass%3DmatchNone%26slotId%3D54\n",
      "https://www.macys.com/shop/product/narciso-rodriguez-3-pc.-for-her-pure-musc-eau-de-parfum-gift-set?ID=8854748&CategoryID=30087#fn=sp%3D2%26spc%3D1450%26ruleId%3D22%7CBOOST%20SAVED%20SET%7CBOOST%20ATTRIBUTE%26searchPass%3DmatchNone%26slotId%3D55\n",
      "https://www.macys.com/shop/product/narciso-rodriguez-3-pc.-for-her-pure-musc-eau-de-parfum-gift-set?ID=8854748&CategoryID=30087#fn=sp%3D2%26spc%3D1450%26ruleId%3D22%7CBOOST%20SAVED%20SET%7CBOOST%20ATTRIBUTE%26searchPass%3DmatchNone%26slotId%3D55\n",
      "https://www.macys.com/shop/product/versace-3-pc.-dylan-blue-pour-femme-eau-de-parfum-gift-set?ID=9362242&CategoryID=30087#fn=sp%3D2%26spc%3D1450%26ruleId%3D22%7CBOOST%20SAVED%20SET%7CBOOST%20ATTRIBUTE%26searchPass%3DmatchNone%26slotId%3D56\n",
      "https://www.macys.com/shop/product/versace-3-pc.-dylan-blue-pour-femme-eau-de-parfum-gift-set?ID=9362242&CategoryID=30087#fn=sp%3D2%26spc%3D1450%26ruleId%3D22%7CBOOST%20SAVED%20SET%7CBOOST%20ATTRIBUTE%26searchPass%3DmatchNone%26slotId%3D56\n",
      "https://www.macys.com/shop/product/hugo-boss-boss-the-scent-for-her-eau-de-parfum-spray-3.3-oz.-created-for-macys?ID=6741347&CategoryID=30087#fn=sp%3D2%26spc%3D1450%26ruleId%3D22%7CBOOST%20SAVED%20SET%7CBOOST%20ATTRIBUTE%26searchPass%3DmatchNone%26slotId%3D57\n",
      "https://www.macys.com/shop/product/hugo-boss-boss-the-scent-for-her-eau-de-parfum-spray-3.3-oz.-created-for-macys?ID=6741347&CategoryID=30087#fn=sp%3D2%26spc%3D1450%26ruleId%3D22%7CBOOST%20SAVED%20SET%7CBOOST%20ATTRIBUTE%26searchPass%3DmatchNone%26slotId%3D57\n",
      "https://www.macys.com/shop/product/estee-lauder-3-pc.-modern-muse-gift-set?ID=8510664&CategoryID=30087#fn=sp%3D2%26spc%3D1450%26ruleId%3D22%7CBOOST%20SAVED%20SET%7CBOOST%20ATTRIBUTE%26searchPass%3DmatchNone%26slotId%3D58\n",
      "https://www.macys.com/shop/product/estee-lauder-3-pc.-modern-muse-gift-set?ID=8510664&CategoryID=30087#fn=sp%3D2%26spc%3D1450%26ruleId%3D22%7CBOOST%20SAVED%20SET%7CBOOST%20ATTRIBUTE%26searchPass%3DmatchNone%26slotId%3D58\n",
      "https://www.macys.com/shop/product/estee-lauder-white-linen-parfum-spray-3-oz.?ID=75114&CategoryID=30087#fn=sp%3D2%26spc%3D1450%26ruleId%3D22%7CBOOST%20SAVED%20SET%7CBOOST%20ATTRIBUTE%26searchPass%3DmatchNone%26slotId%3D59\n",
      "https://www.macys.com/shop/product/estee-lauder-white-linen-parfum-spray-3-oz.?ID=75114&CategoryID=30087#fn=sp%3D2%26spc%3D1450%26ruleId%3D22%7CBOOST%20SAVED%20SET%7CBOOST%20ATTRIBUTE%26searchPass%3DmatchNone%26slotId%3D59\n",
      "https://www.macys.com/shop/product/chanel-chance-eau-tendre-eau-de-parfum-spray-1.7-oz.?ID=8024913&CategoryID=30087#fn=sp%3D2%26spc%3D1450%26ruleId%3D22%7CBOOST%20SAVED%20SET%7CBOOST%20ATTRIBUTE%26searchPass%3DmatchNone%26slotId%3D60\n",
      "https://www.macys.com/shop/product/chanel-chance-eau-tendre-eau-de-parfum-spray-1.7-oz.?ID=8024913&CategoryID=30087#fn=sp%3D2%26spc%3D1450%26ruleId%3D22%7CBOOST%20SAVED%20SET%7CBOOST%20ATTRIBUTE%26searchPass%3DmatchNone%26slotId%3D60\n",
      "https://www.macys.com/shop/product/estee-lauder-beautiful-belle-refreshing-body-lotion-6.7-oz.?ID=6567854&CategoryID=30087#fn=sp%3D2%26spc%3D1450%26ruleId%3D22%7CBOOST%20SAVED%20SET%7CBOOST%20ATTRIBUTE%26searchPass%3DmatchNone%26slotId%3D61\n",
      "https://www.macys.com/shop/product/estee-lauder-beautiful-belle-refreshing-body-lotion-6.7-oz.?ID=6567854&CategoryID=30087#fn=sp%3D2%26spc%3D1450%26ruleId%3D22%7CBOOST%20SAVED%20SET%7CBOOST%20ATTRIBUTE%26searchPass%3DmatchNone%26slotId%3D61\n",
      "https://www.macys.com/shop/product/kenzo-world-eau-de-parfum-spray-2.5-oz.?ID=4465425&CategoryID=30087#fn=sp%3D2%26spc%3D1450%26ruleId%3D22%7CBOOST%20SAVED%20SET%7CBOOST%20ATTRIBUTE%26searchPass%3DmatchNone%26slotId%3D62\n",
      "https://www.macys.com/shop/product/kenzo-world-eau-de-parfum-spray-2.5-oz.?ID=4465425&CategoryID=30087#fn=sp%3D2%26spc%3D1450%26ruleId%3D22%7CBOOST%20SAVED%20SET%7CBOOST%20ATTRIBUTE%26searchPass%3DmatchNone%26slotId%3D62\n",
      "https://www.macys.com/shop/product/tom-ford-noir-pour-femme-eau-de-parfum-3.4-oz?ID=2284952&CategoryID=30087#fn=sp%3D2%26spc%3D1450%26ruleId%3D22%7CBOOST%20SAVED%20SET%7CBOOST%20ATTRIBUTE%26searchPass%3DmatchNone%26slotId%3D63\n",
      "https://www.macys.com/shop/product/tom-ford-noir-pour-femme-eau-de-parfum-3.4-oz?ID=2284952&CategoryID=30087#fn=sp%3D2%26spc%3D1450%26ruleId%3D22%7CBOOST%20SAVED%20SET%7CBOOST%20ATTRIBUTE%26searchPass%3DmatchNone%26slotId%3D63\n",
      "https://www.macys.com/shop/product/versace-eros-pour-femme-eau-de-toilette-3.4-oz?ID=2893479&CategoryID=30087#fn=sp%3D2%26spc%3D1450%26ruleId%3D22%7CBOOST%20SAVED%20SET%7CBOOST%20ATTRIBUTE%26searchPass%3DmatchNone%26slotId%3D64\n",
      "https://www.macys.com/shop/product/versace-eros-pour-femme-eau-de-toilette-3.4-oz?ID=2893479&CategoryID=30087#fn=sp%3D2%26spc%3D1450%26ruleId%3D22%7CBOOST%20SAVED%20SET%7CBOOST%20ATTRIBUTE%26searchPass%3DmatchNone%26slotId%3D64\n",
      "https://www.macys.com/shop/product/viktor-rolf-flowerbomb-nectar-eau-de-parfum-spray-1.7-oz.?ID=5712325&CategoryID=30087#fn=sp%3D2%26spc%3D1450%26ruleId%3D22%7CBOOST%20SAVED%20SET%7CBOOST%20ATTRIBUTE%26searchPass%3DmatchNone%26slotId%3D65\n",
      "https://www.macys.com/shop/product/viktor-rolf-flowerbomb-nectar-eau-de-parfum-spray-1.7-oz.?ID=5712325&CategoryID=30087#fn=sp%3D2%26spc%3D1450%26ruleId%3D22%7CBOOST%20SAVED%20SET%7CBOOST%20ATTRIBUTE%26searchPass%3DmatchNone%26slotId%3D65\n",
      "https://www.macys.com/shop/product/ralph-lauren-4-pc.-romance-gift-set?ID=8073557&CategoryID=30087#fn=sp%3D2%26spc%3D1450%26ruleId%3D22%7CBOOST%20SAVED%20SET%7CBOOST%20ATTRIBUTE%26searchPass%3DmatchNone%26slotId%3D66\n",
      "https://www.macys.com/shop/product/ralph-lauren-4-pc.-romance-gift-set?ID=8073557&CategoryID=30087#fn=sp%3D2%26spc%3D1450%26ruleId%3D22%7CBOOST%20SAVED%20SET%7CBOOST%20ATTRIBUTE%26searchPass%3DmatchNone%26slotId%3D66\n",
      "https://www.macys.com/shop/product/dior-jadore-eau-de-parfum-spray-3.4-oz?ID=20257&CategoryID=30087#fn=sp%3D2%26spc%3D1450%26ruleId%3D22%7CBOOST%20SAVED%20SET%7CBOOST%20ATTRIBUTE%26searchPass%3DmatchNone%26slotId%3D67\n",
      "https://www.macys.com/shop/product/dior-jadore-eau-de-parfum-spray-3.4-oz?ID=20257&CategoryID=30087#fn=sp%3D2%26spc%3D1450%26ruleId%3D22%7CBOOST%20SAVED%20SET%7CBOOST%20ATTRIBUTE%26searchPass%3DmatchNone%26slotId%3D67\n",
      "https://www.macys.com/shop/product/dior-miss-dior-eau-de-parfum-3-pc.-gift-set?ID=8690907&CategoryID=30087#fn=sp%3D2%26spc%3D1450%26ruleId%3D22%7CBOOST%20SAVED%20SET%7CBOOST%20ATTRIBUTE%26searchPass%3DmatchNone%26slotId%3D68\n",
      "https://www.macys.com/shop/product/dior-miss-dior-eau-de-parfum-3-pc.-gift-set?ID=8690907&CategoryID=30087#fn=sp%3D2%26spc%3D1450%26ruleId%3D22%7CBOOST%20SAVED%20SET%7CBOOST%20ATTRIBUTE%26searchPass%3DmatchNone%26slotId%3D68\n",
      "https://www.macys.com/shop/product/tory-burch-2-pc.-azur-rollerball-gift-set?ID=8057292&CategoryID=30087#fn=sp%3D2%26spc%3D1450%26ruleId%3D22%7CBOOST%20SAVED%20SET%7CBOOST%20ATTRIBUTE%26searchPass%3DmatchNone%26slotId%3D69\n",
      "https://www.macys.com/shop/product/tory-burch-2-pc.-azur-rollerball-gift-set?ID=8057292&CategoryID=30087#fn=sp%3D2%26spc%3D1450%26ruleId%3D22%7CBOOST%20SAVED%20SET%7CBOOST%20ATTRIBUTE%26searchPass%3DmatchNone%26slotId%3D69\n",
      "https://www.macys.com/shop/product/juicy-couture-3-pc.-viva-la-juicy-eau-de-parfum-gift-set-a-143-value?ID=8301947&CategoryID=30087#fn=sp%3D2%26spc%3D1450%26ruleId%3D22%7CBOOST%20SAVED%20SET%7CBOOST%20ATTRIBUTE%26searchPass%3DmatchNone%26slotId%3D70\n",
      "https://www.macys.com/shop/product/juicy-couture-3-pc.-viva-la-juicy-eau-de-parfum-gift-set-a-143-value?ID=8301947&CategoryID=30087#fn=sp%3D2%26spc%3D1450%26ruleId%3D22%7CBOOST%20SAVED%20SET%7CBOOST%20ATTRIBUTE%26searchPass%3DmatchNone%26slotId%3D70\n",
      "https://www.macys.com/shop/product/yves-saint-laurent-3-pc.-mon-paris-eau-de-parfum-gift-set-created-for-macys?ID=8774259&CategoryID=30087#fn=sp%3D2%26spc%3D1450%26ruleId%3D22%7CBOOST%20SAVED%20SET%7CBOOST%20ATTRIBUTE%26searchPass%3DmatchNone%26slotId%3D71\n",
      "https://www.macys.com/shop/product/yves-saint-laurent-3-pc.-mon-paris-eau-de-parfum-gift-set-created-for-macys?ID=8774259&CategoryID=30087#fn=sp%3D2%26spc%3D1450%26ruleId%3D22%7CBOOST%20SAVED%20SET%7CBOOST%20ATTRIBUTE%26searchPass%3DmatchNone%26slotId%3D71\n",
      "https://www.macys.com/shop/product/burberry-my-burberry-blush-eau-de-parfum-spray-3-oz.?ID=4814700&CategoryID=30087#fn=sp%3D2%26spc%3D1450%26ruleId%3D22%7CBOOST%20SAVED%20SET%7CBOOST%20ATTRIBUTE%26searchPass%3DmatchNone%26slotId%3D72\n",
      "https://www.macys.com/shop/product/burberry-my-burberry-blush-eau-de-parfum-spray-3-oz.?ID=4814700&CategoryID=30087#fn=sp%3D2%26spc%3D1450%26ruleId%3D22%7CBOOST%20SAVED%20SET%7CBOOST%20ATTRIBUTE%26searchPass%3DmatchNone%26slotId%3D72\n",
      "https://www.macys.com/shop/product/mugler-alien-luxury-4-pc.-gift-set?ID=8425461&CategoryID=30087#fn=sp%3D2%26spc%3D1450%26ruleId%3D22%7CBOOST%20SAVED%20SET%7CBOOST%20ATTRIBUTE%26searchPass%3DmatchNone%26slotId%3D73\n",
      "https://www.macys.com/shop/product/mugler-alien-luxury-4-pc.-gift-set?ID=8425461&CategoryID=30087#fn=sp%3D2%26spc%3D1450%26ruleId%3D22%7CBOOST%20SAVED%20SET%7CBOOST%20ATTRIBUTE%26searchPass%3DmatchNone%26slotId%3D73\n",
      "https://www.macys.com/shop/product/narciso-rodriguez-for-her-eau-de-toilette-rollerball-0.25-oz.?ID=2910484&CategoryID=30087#fn=sp%3D2%26spc%3D1450%26ruleId%3D22%7CBOOST%20SAVED%20SET%7CBOOST%20ATTRIBUTE%26searchPass%3DmatchNone%26slotId%3D74\n",
      "https://www.macys.com/shop/product/narciso-rodriguez-for-her-eau-de-toilette-rollerball-0.25-oz.?ID=2910484&CategoryID=30087#fn=sp%3D2%26spc%3D1450%26ruleId%3D22%7CBOOST%20SAVED%20SET%7CBOOST%20ATTRIBUTE%26searchPass%3DmatchNone%26slotId%3D74\n",
      "https://www.macys.com/shop/product/versace-bright-crystal-travel-spray-0.3-oz.?ID=7342873&CategoryID=30087#fn=sp%3D2%26spc%3D1450%26ruleId%3D22%7CBOOST%20SAVED%20SET%7CBOOST%20ATTRIBUTE%26searchPass%3DmatchNone%26slotId%3D75\n",
      "https://www.macys.com/shop/product/versace-bright-crystal-travel-spray-0.3-oz.?ID=7342873&CategoryID=30087#fn=sp%3D2%26spc%3D1450%26ruleId%3D22%7CBOOST%20SAVED%20SET%7CBOOST%20ATTRIBUTE%26searchPass%3DmatchNone%26slotId%3D75\n",
      "https://www.macys.com/shop/product/prada-candy-eau-de-parfum-3-pc.-gift-set?ID=7133290&CategoryID=30087#fn=sp%3D2%26spc%3D1450%26ruleId%3D22%7CBOOST%20SAVED%20SET%7CBOOST%20ATTRIBUTE%26searchPass%3DmatchNone%26slotId%3D76\n",
      "https://www.macys.com/shop/product/prada-candy-eau-de-parfum-3-pc.-gift-set?ID=7133290&CategoryID=30087#fn=sp%3D2%26spc%3D1450%26ruleId%3D22%7CBOOST%20SAVED%20SET%7CBOOST%20ATTRIBUTE%26searchPass%3DmatchNone%26slotId%3D76\n",
      "https://www.macys.com/shop/product/narciso-rodriguez-narciso-eau-de-parfum-rollerball-0.25-oz.?ID=2982515&CategoryID=30087#fn=sp%3D2%26spc%3D1450%26ruleId%3D22%7CBOOST%20SAVED%20SET%7CBOOST%20ATTRIBUTE%26searchPass%3DmatchNone%26slotId%3D77\n",
      "https://www.macys.com/shop/product/narciso-rodriguez-narciso-eau-de-parfum-rollerball-0.25-oz.?ID=2982515&CategoryID=30087#fn=sp%3D2%26spc%3D1450%26ruleId%3D22%7CBOOST%20SAVED%20SET%7CBOOST%20ATTRIBUTE%26searchPass%3DmatchNone%26slotId%3D77\n",
      "https://www.macys.com/shop/product/marc-jacobs-3-pc.-daisy-gift-set?ID=8267292&CategoryID=30087#fn=sp%3D2%26spc%3D1450%26ruleId%3D22%7CBOOST%20SAVED%20SET%7CBOOST%20ATTRIBUTE%26searchPass%3DmatchNone%26slotId%3D78\n",
      "https://www.macys.com/shop/product/marc-jacobs-3-pc.-daisy-gift-set?ID=8267292&CategoryID=30087#fn=sp%3D2%26spc%3D1450%26ruleId%3D22%7CBOOST%20SAVED%20SET%7CBOOST%20ATTRIBUTE%26searchPass%3DmatchNone%26slotId%3D78\n",
      "https://www.macys.com/shop/product/estee-lauder-youth-dew-eau-de-parfum-spray-2.25-oz?ID=75127&CategoryID=30087#fn=sp%3D2%26spc%3D1450%26ruleId%3D22%7CBOOST%20SAVED%20SET%7CBOOST%20ATTRIBUTE%26searchPass%3DmatchNone%26slotId%3D79\n",
      "https://www.macys.com/shop/product/estee-lauder-youth-dew-eau-de-parfum-spray-2.25-oz?ID=75127&CategoryID=30087#fn=sp%3D2%26spc%3D1450%26ruleId%3D22%7CBOOST%20SAVED%20SET%7CBOOST%20ATTRIBUTE%26searchPass%3DmatchNone%26slotId%3D79\n",
      "https://www.macys.com/shop/product/issey-miyake-leau-dissey-eau-de-toilette-rollerball-0.25-oz?ID=1008634&CategoryID=30087#fn=sp%3D2%26spc%3D1450%26ruleId%3D22%7CBOOST%20SAVED%20SET%7CBOOST%20ATTRIBUTE%26searchPass%3DmatchNone%26slotId%3D80\n",
      "https://www.macys.com/shop/product/issey-miyake-leau-dissey-eau-de-toilette-rollerball-0.25-oz?ID=1008634&CategoryID=30087#fn=sp%3D2%26spc%3D1450%26ruleId%3D22%7CBOOST%20SAVED%20SET%7CBOOST%20ATTRIBUTE%26searchPass%3DmatchNone%26slotId%3D80\n",
      "https://www.macys.com/shop/product/donna-karan-cashmere-mist-deodorant-1.7-oz?ID=92782&CategoryID=30087#fn=sp%3D2%26spc%3D1450%26ruleId%3D22%7CBOOST%20SAVED%20SET%7CBOOST%20ATTRIBUTE%26searchPass%3DmatchNone%26slotId%3D81\n",
      "https://www.macys.com/shop/product/donna-karan-cashmere-mist-deodorant-1.7-oz?ID=92782&CategoryID=30087#fn=sp%3D2%26spc%3D1450%26ruleId%3D22%7CBOOST%20SAVED%20SET%7CBOOST%20ATTRIBUTE%26searchPass%3DmatchNone%26slotId%3D81\n",
      "https://www.macys.com/shop/product/giorgio-armani-si-passione-eau-de-parfum-spray-3.4-oz.?ID=5712784&CategoryID=30087#fn=sp%3D2%26spc%3D1450%26ruleId%3D22%7CBOOST%20SAVED%20SET%7CBOOST%20ATTRIBUTE%26searchPass%3DmatchNone%26slotId%3D82\n",
      "https://www.macys.com/shop/product/giorgio-armani-si-passione-eau-de-parfum-spray-3.4-oz.?ID=5712784&CategoryID=30087#fn=sp%3D2%26spc%3D1450%26ruleId%3D22%7CBOOST%20SAVED%20SET%7CBOOST%20ATTRIBUTE%26searchPass%3DmatchNone%26slotId%3D82\n",
      "https://www.macys.com/shop/product/jennifer-aniston-eau-de-parfum-spray-2.9-oz.?ID=8930371&CategoryID=30087#fn=sp%3D2%26spc%3D1450%26ruleId%3D22%7CBOOST%20SAVED%20SET%7CBOOST%20ATTRIBUTE%26searchPass%3DmatchNone%26slotId%3D83\n",
      "https://www.macys.com/shop/product/jennifer-aniston-eau-de-parfum-spray-2.9-oz.?ID=8930371&CategoryID=30087#fn=sp%3D2%26spc%3D1450%26ruleId%3D22%7CBOOST%20SAVED%20SET%7CBOOST%20ATTRIBUTE%26searchPass%3DmatchNone%26slotId%3D83\n",
      "https://www.macys.com/shop/product/yves-saint-laurent-mon-paris-floral-eau-de-parfum-spray-3-oz.?ID=8456704&CategoryID=30087#fn=sp%3D2%26spc%3D1450%26ruleId%3D22%7CBOOST%20SAVED%20SET%7CBOOST%20ATTRIBUTE%26searchPass%3DmatchNone%26slotId%3D84\n",
      "https://www.macys.com/shop/product/yves-saint-laurent-mon-paris-floral-eau-de-parfum-spray-3-oz.?ID=8456704&CategoryID=30087#fn=sp%3D2%26spc%3D1450%26ruleId%3D22%7CBOOST%20SAVED%20SET%7CBOOST%20ATTRIBUTE%26searchPass%3DmatchNone%26slotId%3D84\n",
      "https://www.macys.com/shop/product/lancome-3-pc.-la-vie-est-belle-mothers-day-gift-set?ID=8763224&CategoryID=30087#fn=sp%3D2%26spc%3D1450%26ruleId%3D22%7CBOOST%20SAVED%20SET%7CBOOST%20ATTRIBUTE%26searchPass%3DmatchNone%26slotId%3D85\n",
      "https://www.macys.com/shop/product/lancome-3-pc.-la-vie-est-belle-mothers-day-gift-set?ID=8763224&CategoryID=30087#fn=sp%3D2%26spc%3D1450%26ruleId%3D22%7CBOOST%20SAVED%20SET%7CBOOST%20ATTRIBUTE%26searchPass%3DmatchNone%26slotId%3D85\n",
      "https://www.macys.com/shop/product/giorgio-armani-si-eau-de-parfum-spray-3.4-oz?ID=1495789&CategoryID=30087#fn=sp%3D2%26spc%3D1450%26ruleId%3D22%7CBOOST%20SAVED%20SET%7CBOOST%20ATTRIBUTE%26searchPass%3DmatchNone%26slotId%3D86\n",
      "https://www.macys.com/shop/product/giorgio-armani-si-eau-de-parfum-spray-3.4-oz?ID=1495789&CategoryID=30087#fn=sp%3D2%26spc%3D1450%26ruleId%3D22%7CBOOST%20SAVED%20SET%7CBOOST%20ATTRIBUTE%26searchPass%3DmatchNone%26slotId%3D86\n",
      "https://www.macys.com/shop/product/dior-addict-eau-de-parfum-3.4-oz.?ID=88928&CategoryID=30087#fn=sp%3D2%26spc%3D1450%26ruleId%3D22%7CBOOST%20SAVED%20SET%7CBOOST%20ATTRIBUTE%26searchPass%3DmatchNone%26slotId%3D87\n",
      "https://www.macys.com/shop/product/dior-addict-eau-de-parfum-3.4-oz.?ID=88928&CategoryID=30087#fn=sp%3D2%26spc%3D1450%26ruleId%3D22%7CBOOST%20SAVED%20SET%7CBOOST%20ATTRIBUTE%26searchPass%3DmatchNone%26slotId%3D87\n",
      "https://www.macys.com/shop/product/gucci-guilty-pour-femme-eau-de-parfum-3.3-oz.?ID=7996939&CategoryID=30087#fn=sp%3D2%26spc%3D1450%26ruleId%3D22%7CBOOST%20SAVED%20SET%7CBOOST%20ATTRIBUTE%26searchPass%3DmatchNone%26slotId%3D88\n",
      "https://www.macys.com/shop/product/gucci-guilty-pour-femme-eau-de-parfum-3.3-oz.?ID=7996939&CategoryID=30087#fn=sp%3D2%26spc%3D1450%26ruleId%3D22%7CBOOST%20SAVED%20SET%7CBOOST%20ATTRIBUTE%26searchPass%3DmatchNone%26slotId%3D88\n",
      "https://www.macys.com/shop/product/marc-jacobs-3-pc.-daisy-dream-gift-set?ID=8267293&CategoryID=30087#fn=sp%3D2%26spc%3D1450%26ruleId%3D22%7CBOOST%20SAVED%20SET%7CBOOST%20ATTRIBUTE%26searchPass%3DmatchNone%26slotId%3D89\n",
      "https://www.macys.com/shop/product/marc-jacobs-3-pc.-daisy-dream-gift-set?ID=8267293&CategoryID=30087#fn=sp%3D2%26spc%3D1450%26ruleId%3D22%7CBOOST%20SAVED%20SET%7CBOOST%20ATTRIBUTE%26searchPass%3DmatchNone%26slotId%3D89\n",
      "https://www.macys.com/shop/product/jason-wu-velvet-rouge-eau-de-parfum-3-oz.?ID=8279636&CategoryID=30087#fn=sp%3D2%26spc%3D1450%26ruleId%3D22%7CBOOST%20SAVED%20SET%7CBOOST%20ATTRIBUTE%26searchPass%3DmatchNone%26slotId%3D90\n",
      "https://www.macys.com/shop/product/jason-wu-velvet-rouge-eau-de-parfum-3-oz.?ID=8279636&CategoryID=30087#fn=sp%3D2%26spc%3D1450%26ruleId%3D22%7CBOOST%20SAVED%20SET%7CBOOST%20ATTRIBUTE%26searchPass%3DmatchNone%26slotId%3D90\n",
      "https://www.macys.com/shop/product/givenchy-linterdit-eau-de-parfum-80-ml?ID=8315801&CategoryID=30087#fn=sp%3D2%26spc%3D1450%26ruleId%3D22%7CBOOST%20SAVED%20SET%7CBOOST%20ATTRIBUTE%26searchPass%3DmatchNone%26slotId%3D91\n",
      "https://www.macys.com/shop/product/givenchy-linterdit-eau-de-parfum-80-ml?ID=8315801&CategoryID=30087#fn=sp%3D2%26spc%3D1450%26ruleId%3D22%7CBOOST%20SAVED%20SET%7CBOOST%20ATTRIBUTE%26searchPass%3DmatchNone%26slotId%3D91\n",
      "https://www.macys.com/shop/product/givenchy-2-pc.-very-irresistible-eau-de-parfum-gift-set?ID=7651669&CategoryID=30087#fn=sp%3D2%26spc%3D1450%26ruleId%3D22%7CBOOST%20SAVED%20SET%7CBOOST%20ATTRIBUTE%26searchPass%3DmatchNone%26slotId%3D92\n",
      "https://www.macys.com/shop/product/givenchy-2-pc.-very-irresistible-eau-de-parfum-gift-set?ID=7651669&CategoryID=30087#fn=sp%3D2%26spc%3D1450%26ruleId%3D22%7CBOOST%20SAVED%20SET%7CBOOST%20ATTRIBUTE%26searchPass%3DmatchNone%26slotId%3D92\n",
      "https://www.macys.com/shop/product/jean-paul-gaultier-classique-eau-de-toilette-natural-spray-3.3-oz.?ID=2210&CategoryID=30087#fn=sp%3D2%26spc%3D1450%26ruleId%3D22%7CBOOST%20SAVED%20SET%7CBOOST%20ATTRIBUTE%26searchPass%3DmatchNone%26slotId%3D93\n",
      "https://www.macys.com/shop/product/jean-paul-gaultier-classique-eau-de-toilette-natural-spray-3.3-oz.?ID=2210&CategoryID=30087#fn=sp%3D2%26spc%3D1450%26ruleId%3D22%7CBOOST%20SAVED%20SET%7CBOOST%20ATTRIBUTE%26searchPass%3DmatchNone%26slotId%3D93\n",
      "https://www.macys.com/shop/product/dolce-gabbana-dolce-peony-eau-de-parfum-2.5-oz.?ID=8298666&CategoryID=30087#fn=sp%3D2%26spc%3D1450%26ruleId%3D22%7CBOOST%20SAVED%20SET%7CBOOST%20ATTRIBUTE%26searchPass%3DmatchNone%26slotId%3D94\n",
      "https://www.macys.com/shop/product/dolce-gabbana-dolce-peony-eau-de-parfum-2.5-oz.?ID=8298666&CategoryID=30087#fn=sp%3D2%26spc%3D1450%26ruleId%3D22%7CBOOST%20SAVED%20SET%7CBOOST%20ATTRIBUTE%26searchPass%3DmatchNone%26slotId%3D94\n",
      "https://www.macys.com/shop/product/tory-burch-love-relentlessly-eau-de-parfum-spray-3.4-oz?ID=4358279&CategoryID=30087#fn=sp%3D2%26spc%3D1450%26ruleId%3D22%7CBOOST%20SAVED%20SET%7CBOOST%20ATTRIBUTE%26searchPass%3DmatchNone%26slotId%3D95\n",
      "https://www.macys.com/shop/product/tory-burch-love-relentlessly-eau-de-parfum-spray-3.4-oz?ID=4358279&CategoryID=30087#fn=sp%3D2%26spc%3D1450%26ruleId%3D22%7CBOOST%20SAVED%20SET%7CBOOST%20ATTRIBUTE%26searchPass%3DmatchNone%26slotId%3D95\n",
      "https://www.macys.com/shop/product/issey-miyake-leau-dissey-eau-de-toilette-1.7-oz?ID=2214&CategoryID=30087#fn=sp%3D2%26spc%3D1450%26ruleId%3D22%7CBOOST%20SAVED%20SET%7CBOOST%20ATTRIBUTE%26searchPass%3DmatchNone%26slotId%3D96\n",
      "https://www.macys.com/shop/product/issey-miyake-leau-dissey-eau-de-toilette-1.7-oz?ID=2214&CategoryID=30087#fn=sp%3D2%26spc%3D1450%26ruleId%3D22%7CBOOST%20SAVED%20SET%7CBOOST%20ATTRIBUTE%26searchPass%3DmatchNone%26slotId%3D96\n",
      "https://www.macys.com/shop/product/kensie-4-pc.-womens-collection-gift-set?ID=5724014&CategoryID=30087#fn=sp%3D2%26spc%3D1450%26ruleId%3D22%7CBOOST%20SAVED%20SET%7CBOOST%20ATTRIBUTE%26searchPass%3DmatchNone%26slotId%3D97\n",
      "https://www.macys.com/shop/product/kensie-4-pc.-womens-collection-gift-set?ID=5724014&CategoryID=30087#fn=sp%3D2%26spc%3D1450%26ruleId%3D22%7CBOOST%20SAVED%20SET%7CBOOST%20ATTRIBUTE%26searchPass%3DmatchNone%26slotId%3D97\n",
      "https://www.macys.com/shop/product/estee-lauder-beautiful-eau-de-parfum-spray-3.4-oz.?ID=384047&CategoryID=30087#fn=sp%3D2%26spc%3D1450%26ruleId%3D22%7CBOOST%20SAVED%20SET%7CBOOST%20ATTRIBUTE%26searchPass%3DmatchNone%26slotId%3D98\n",
      "https://www.macys.com/shop/product/estee-lauder-beautiful-eau-de-parfum-spray-3.4-oz.?ID=384047&CategoryID=30087#fn=sp%3D2%26spc%3D1450%26ruleId%3D22%7CBOOST%20SAVED%20SET%7CBOOST%20ATTRIBUTE%26searchPass%3DmatchNone%26slotId%3D98\n",
      "https://www.macys.com/shop/product/dolce-gabbana-the-one-eau-de-parfum-rollerball-.20-oz?ID=823992&CategoryID=30087#fn=sp%3D2%26spc%3D1450%26ruleId%3D22%7CBOOST%20SAVED%20SET%7CBOOST%20ATTRIBUTE%26searchPass%3DmatchNone%26slotId%3D99\n",
      "https://www.macys.com/shop/product/dolce-gabbana-the-one-eau-de-parfum-rollerball-.20-oz?ID=823992&CategoryID=30087#fn=sp%3D2%26spc%3D1450%26ruleId%3D22%7CBOOST%20SAVED%20SET%7CBOOST%20ATTRIBUTE%26searchPass%3DmatchNone%26slotId%3D99\n",
      "https://www.macys.com/shop/product/dolce-gabbana-light-blue-eau-de-toilette-rollerball-0.25-oz.?ID=2604432&CategoryID=30087#fn=sp%3D2%26spc%3D1450%26ruleId%3D22%7CBOOST%20SAVED%20SET%7CBOOST%20ATTRIBUTE%26searchPass%3DmatchNone%26slotId%3D100\n",
      "https://www.macys.com/shop/product/dolce-gabbana-light-blue-eau-de-toilette-rollerball-0.25-oz.?ID=2604432&CategoryID=30087#fn=sp%3D2%26spc%3D1450%26ruleId%3D22%7CBOOST%20SAVED%20SET%7CBOOST%20ATTRIBUTE%26searchPass%3DmatchNone%26slotId%3D100\n",
      "https://www.macys.com/shop/product/juicy-couture-oui-eau-de-parfum-spray-3.4-oz.?ID=6428439&CategoryID=30087#fn=sp%3D2%26spc%3D1450%26ruleId%3D22%7CBOOST%20SAVED%20SET%7CBOOST%20ATTRIBUTE%26searchPass%3DmatchNone%26slotId%3D101\n",
      "https://www.macys.com/shop/product/juicy-couture-oui-eau-de-parfum-spray-3.4-oz.?ID=6428439&CategoryID=30087#fn=sp%3D2%26spc%3D1450%26ruleId%3D22%7CBOOST%20SAVED%20SET%7CBOOST%20ATTRIBUTE%26searchPass%3DmatchNone%26slotId%3D101\n",
      "https://www.macys.com/shop/product/viktor-rolf-flowerbomb-purse-spray-0.25-oz.?ID=2496702&CategoryID=30087#fn=sp%3D2%26spc%3D1450%26ruleId%3D22%7CBOOST%20SAVED%20SET%7CBOOST%20ATTRIBUTE%26searchPass%3DmatchNone%26slotId%3D102\n",
      "https://www.macys.com/shop/product/viktor-rolf-flowerbomb-purse-spray-0.25-oz.?ID=2496702&CategoryID=30087#fn=sp%3D2%26spc%3D1450%26ruleId%3D22%7CBOOST%20SAVED%20SET%7CBOOST%20ATTRIBUTE%26searchPass%3DmatchNone%26slotId%3D102\n",
      "https://www.macys.com/shop/product/viktor-rolf-flowerbomb-midnight-eau-de-parfum-spray-3.4-oz.?ID=8349194&CategoryID=30087#fn=sp%3D2%26spc%3D1450%26ruleId%3D22%7CBOOST%20SAVED%20SET%7CBOOST%20ATTRIBUTE%26searchPass%3DmatchNone%26slotId%3D103\n",
      "https://www.macys.com/shop/product/viktor-rolf-flowerbomb-midnight-eau-de-parfum-spray-3.4-oz.?ID=8349194&CategoryID=30087#fn=sp%3D2%26spc%3D1450%26ruleId%3D22%7CBOOST%20SAVED%20SET%7CBOOST%20ATTRIBUTE%26searchPass%3DmatchNone%26slotId%3D103\n",
      "https://www.macys.com/shop/product/dolce-gabbana-the-only-one-3-pc.-gift-set?ID=8483087&CategoryID=30087#fn=sp%3D2%26spc%3D1450%26ruleId%3D22%7CBOOST%20SAVED%20SET%7CBOOST%20ATTRIBUTE%26searchPass%3DmatchNone%26slotId%3D104\n",
      "https://www.macys.com/shop/product/dolce-gabbana-the-only-one-3-pc.-gift-set?ID=8483087&CategoryID=30087#fn=sp%3D2%26spc%3D1450%26ruleId%3D22%7CBOOST%20SAVED%20SET%7CBOOST%20ATTRIBUTE%26searchPass%3DmatchNone%26slotId%3D104\n",
      "https://www.macys.com/shop/product/cartier-2-pc.-carat-discovery-set?ID=6857277&CategoryID=30087#fn=sp%3D2%26spc%3D1450%26ruleId%3D22%7CBOOST%20SAVED%20SET%7CBOOST%20ATTRIBUTE%26searchPass%3DmatchNone%26slotId%3D105\n",
      "https://www.macys.com/shop/product/cartier-2-pc.-carat-discovery-set?ID=6857277&CategoryID=30087#fn=sp%3D2%26spc%3D1450%26ruleId%3D22%7CBOOST%20SAVED%20SET%7CBOOST%20ATTRIBUTE%26searchPass%3DmatchNone%26slotId%3D105\n",
      "https://www.macys.com/shop/product/mugler-3-pc.-alien-gift-set?ID=8312007&CategoryID=30087#fn=sp%3D2%26spc%3D1450%26ruleId%3D22%7CBOOST%20SAVED%20SET%7CBOOST%20ATTRIBUTE%26searchPass%3DmatchNone%26slotId%3D106\n",
      "https://www.macys.com/shop/product/mugler-3-pc.-alien-gift-set?ID=8312007&CategoryID=30087#fn=sp%3D2%26spc%3D1450%26ruleId%3D22%7CBOOST%20SAVED%20SET%7CBOOST%20ATTRIBUTE%26searchPass%3DmatchNone%26slotId%3D106\n",
      "https://www.macys.com/shop/product/ralph-lauren-blue-eau-de-toilette-spray-4.2-oz.?ID=104702&CategoryID=30087#fn=sp%3D2%26spc%3D1450%26ruleId%3D22%7CBOOST%20SAVED%20SET%7CBOOST%20ATTRIBUTE%26searchPass%3DmatchNone%26slotId%3D107\n",
      "https://www.macys.com/shop/product/ralph-lauren-blue-eau-de-toilette-spray-4.2-oz.?ID=104702&CategoryID=30087#fn=sp%3D2%26spc%3D1450%26ruleId%3D22%7CBOOST%20SAVED%20SET%7CBOOST%20ATTRIBUTE%26searchPass%3DmatchNone%26slotId%3D107\n",
      "https://www.macys.com/shop/product/elizabeth-arden-red-door-eau-de-toilette-3.3-oz.?ID=211&CategoryID=30087#fn=sp%3D2%26spc%3D1450%26ruleId%3D22%7CBOOST%20SAVED%20SET%7CBOOST%20ATTRIBUTE%26searchPass%3DmatchNone%26slotId%3D108\n",
      "https://www.macys.com/shop/product/elizabeth-arden-red-door-eau-de-toilette-3.3-oz.?ID=211&CategoryID=30087#fn=sp%3D2%26spc%3D1450%26ruleId%3D22%7CBOOST%20SAVED%20SET%7CBOOST%20ATTRIBUTE%26searchPass%3DmatchNone%26slotId%3D108\n",
      "https://www.macys.com/shop/product/clinique-happy-heart-perfume-spray-3.4-fl-oz?ID=92350&CategoryID=30087#fn=sp%3D2%26spc%3D1450%26ruleId%3D22%7CBOOST%20SAVED%20SET%7CBOOST%20ATTRIBUTE%26searchPass%3DmatchNone%26slotId%3D109\n",
      "https://www.macys.com/shop/product/clinique-happy-heart-perfume-spray-3.4-fl-oz?ID=92350&CategoryID=30087#fn=sp%3D2%26spc%3D1450%26ruleId%3D22%7CBOOST%20SAVED%20SET%7CBOOST%20ATTRIBUTE%26searchPass%3DmatchNone%26slotId%3D109\n",
      "https://www.macys.com/shop/product/dolce-gabbana-light-blue-eau-de-toilette-spray-1.6-oz.?ID=77353&CategoryID=30087#fn=sp%3D2%26spc%3D1450%26ruleId%3D22%7CBOOST%20SAVED%20SET%7CBOOST%20ATTRIBUTE%26searchPass%3DmatchNone%26slotId%3D110\n",
      "https://www.macys.com/shop/product/dolce-gabbana-light-blue-eau-de-toilette-spray-1.6-oz.?ID=77353&CategoryID=30087#fn=sp%3D2%26spc%3D1450%26ruleId%3D22%7CBOOST%20SAVED%20SET%7CBOOST%20ATTRIBUTE%26searchPass%3DmatchNone%26slotId%3D110\n",
      "https://www.macys.com/shop/product/bottega-veneta-illusione-eau-de-parfum-1.6-oz.?ID=9559559&CategoryID=30087#fn=sp%3D2%26spc%3D1450%26ruleId%3D22%7CBOOST%20SAVED%20SET%7CBOOST%20ATTRIBUTE%26searchPass%3DmatchNone%26slotId%3D111\n",
      "https://www.macys.com/shop/product/bottega-veneta-illusione-eau-de-parfum-1.6-oz.?ID=9559559&CategoryID=30087#fn=sp%3D2%26spc%3D1450%26ruleId%3D22%7CBOOST%20SAVED%20SET%7CBOOST%20ATTRIBUTE%26searchPass%3DmatchNone%26slotId%3D111\n",
      "https://www.macys.com/shop/product/coach-eau-de-toilette-spray-3-oz.?ID=4801593&CategoryID=30087#fn=sp%3D2%26spc%3D1450%26ruleId%3D22%7CBOOST%20SAVED%20SET%7CBOOST%20ATTRIBUTE%26searchPass%3DmatchNone%26slotId%3D112\n",
      "https://www.macys.com/shop/product/coach-eau-de-toilette-spray-3-oz.?ID=4801593&CategoryID=30087#fn=sp%3D2%26spc%3D1450%26ruleId%3D22%7CBOOST%20SAVED%20SET%7CBOOST%20ATTRIBUTE%26searchPass%3DmatchNone%26slotId%3D112\n",
      "https://www.macys.com/shop/product/carolina-herrera-good-girl-eau-de-parfum-spray-1-oz.?ID=5809218&CategoryID=30087#fn=sp%3D2%26spc%3D1450%26ruleId%3D22%7CBOOST%20SAVED%20SET%7CBOOST%20ATTRIBUTE%26searchPass%3DmatchNone%26slotId%3D113\n",
      "https://www.macys.com/shop/product/carolina-herrera-good-girl-eau-de-parfum-spray-1-oz.?ID=5809218&CategoryID=30087#fn=sp%3D2%26spc%3D1450%26ruleId%3D22%7CBOOST%20SAVED%20SET%7CBOOST%20ATTRIBUTE%26searchPass%3DmatchNone%26slotId%3D113\n",
      "https://www.macys.com/shop/product/estee-lauder-2-pc.-beautiful-belle-gift-set?ID=6893775&CategoryID=30087#fn=sp%3D2%26spc%3D1450%26ruleId%3D22%7CBOOST%20SAVED%20SET%7CBOOST%20ATTRIBUTE%26searchPass%3DmatchNone%26slotId%3D114\n",
      "https://www.macys.com/shop/product/estee-lauder-2-pc.-beautiful-belle-gift-set?ID=6893775&CategoryID=30087#fn=sp%3D2%26spc%3D1450%26ruleId%3D22%7CBOOST%20SAVED%20SET%7CBOOST%20ATTRIBUTE%26searchPass%3DmatchNone%26slotId%3D114\n",
      "https://www.macys.com/shop/product/tiffany-co.-signature-eau-de-parfum-2-pc-gift-set?ID=8276993&CategoryID=30087#fn=sp%3D2%26spc%3D1450%26ruleId%3D22%7CBOOST%20SAVED%20SET%7CBOOST%20ATTRIBUTE%26searchPass%3DmatchNone%26slotId%3D115\n",
      "https://www.macys.com/shop/product/tiffany-co.-signature-eau-de-parfum-2-pc-gift-set?ID=8276993&CategoryID=30087#fn=sp%3D2%26spc%3D1450%26ruleId%3D22%7CBOOST%20SAVED%20SET%7CBOOST%20ATTRIBUTE%26searchPass%3DmatchNone%26slotId%3D115\n",
      "https://www.macys.com/shop/product/jimmy-choo-2-pc.-fever-eau-de-parfum-gift-set?ID=8425560&CategoryID=30087#fn=sp%3D2%26spc%3D1450%26ruleId%3D22%7CBOOST%20SAVED%20SET%7CBOOST%20ATTRIBUTE%26searchPass%3DmatchNone%26slotId%3D116\n",
      "https://www.macys.com/shop/product/jimmy-choo-2-pc.-fever-eau-de-parfum-gift-set?ID=8425560&CategoryID=30087#fn=sp%3D2%26spc%3D1450%26ruleId%3D22%7CBOOST%20SAVED%20SET%7CBOOST%20ATTRIBUTE%26searchPass%3DmatchNone%26slotId%3D116\n",
      "https://www.macys.com/shop/product/juicy-couture-viva-la-juicy-la-fleur-eau-de-toilette-spray-2.5-oz.?ID=5831945&CategoryID=30087#fn=sp%3D2%26spc%3D1450%26ruleId%3D22%7CBOOST%20SAVED%20SET%7CBOOST%20ATTRIBUTE%26searchPass%3DmatchNone%26slotId%3D117\n",
      "https://www.macys.com/shop/product/juicy-couture-viva-la-juicy-la-fleur-eau-de-toilette-spray-2.5-oz.?ID=5831945&CategoryID=30087#fn=sp%3D2%26spc%3D1450%26ruleId%3D22%7CBOOST%20SAVED%20SET%7CBOOST%20ATTRIBUTE%26searchPass%3DmatchNone%26slotId%3D117\n",
      "https://www.macys.com/shop/product/created-for-macys-11-pc.-the-scents-of-spring-fragrance-sampler-set-for-her?ID=8470820&CategoryID=30087#fn=sp%3D2%26spc%3D1450%26ruleId%3D22%7CBOOST%20SAVED%20SET%7CBOOST%20ATTRIBUTE%26searchPass%3DmatchNone%26slotId%3D118\n",
      "https://www.macys.com/shop/product/created-for-macys-11-pc.-the-scents-of-spring-fragrance-sampler-set-for-her?ID=8470820&CategoryID=30087#fn=sp%3D2%26spc%3D1450%26ruleId%3D22%7CBOOST%20SAVED%20SET%7CBOOST%20ATTRIBUTE%26searchPass%3DmatchNone%26slotId%3D118\n",
      "https://www.macys.com/shop/product/prada-candy-night-eau-de-parfum-spray-2.7-oz.?ID=8483852&CategoryID=30087#fn=sp%3D2%26spc%3D1450%26ruleId%3D22%7CBOOST%20SAVED%20SET%7CBOOST%20ATTRIBUTE%26searchPass%3DmatchNone%26slotId%3D119\n",
      "https://www.macys.com/shop/product/prada-candy-night-eau-de-parfum-spray-2.7-oz.?ID=8483852&CategoryID=30087#fn=sp%3D2%26spc%3D1450%26ruleId%3D22%7CBOOST%20SAVED%20SET%7CBOOST%20ATTRIBUTE%26searchPass%3DmatchNone%26slotId%3D119\n",
      "https://www.macys.com/shop/product/gucci-memoire-dune-odeur-eau-de-parfum-2-oz.?ID=9569335&CategoryID=30087#fn=sp%3D2%26spc%3D1450%26ruleId%3D22%7CBOOST%20SAVED%20SET%7CBOOST%20ATTRIBUTE%26searchPass%3DmatchNone%26slotId%3D120\n",
      "https://www.macys.com/shop/product/gucci-memoire-dune-odeur-eau-de-parfum-2-oz.?ID=9569335&CategoryID=30087#fn=sp%3D2%26spc%3D1450%26ruleId%3D22%7CBOOST%20SAVED%20SET%7CBOOST%20ATTRIBUTE%26searchPass%3DmatchNone%26slotId%3D120\n",
      "https://www.macys.com/shop/product/marc-jacobs-eau-de-parfum-3.4-oz?ID=78520&CategoryID=30087#fn=sp%3D2%26spc%3D1450%26ruleId%3D22%7CBOOST%20SAVED%20SET%7CBOOST%20ATTRIBUTE%26searchPass%3DmatchNone%26slotId%3D121\n",
      "https://www.macys.com/shop/product/marc-jacobs-eau-de-parfum-3.4-oz?ID=78520&CategoryID=30087#fn=sp%3D2%26spc%3D1450%26ruleId%3D22%7CBOOST%20SAVED%20SET%7CBOOST%20ATTRIBUTE%26searchPass%3DmatchNone%26slotId%3D121\n",
      "https://www.macys.com/shop/product/mugler-3-pc.-angel-gift-set?ID=6606388&CategoryID=30087#fn=sp%3D2%26spc%3D1450%26ruleId%3D22%7CBOOST%20SAVED%20SET%7CBOOST%20ATTRIBUTE%26searchPass%3DmatchNone%26slotId%3D122\n",
      "https://www.macys.com/shop/product/mugler-3-pc.-angel-gift-set?ID=6606388&CategoryID=30087#fn=sp%3D2%26spc%3D1450%26ruleId%3D22%7CBOOST%20SAVED%20SET%7CBOOST%20ATTRIBUTE%26searchPass%3DmatchNone%26slotId%3D122\n",
      "https://www.macys.com/shop/product/chanel-chance-eau-fraiche-eau-de-toilette-spray-5-oz?ID=780749&CategoryID=30087#fn=sp%3D2%26spc%3D1450%26ruleId%3D22%7CBOOST%20SAVED%20SET%7CBOOST%20ATTRIBUTE%26searchPass%3DmatchNone%26slotId%3D123\n",
      "https://www.macys.com/shop/product/chanel-chance-eau-fraiche-eau-de-toilette-spray-5-oz?ID=780749&CategoryID=30087#fn=sp%3D2%26spc%3D1450%26ruleId%3D22%7CBOOST%20SAVED%20SET%7CBOOST%20ATTRIBUTE%26searchPass%3DmatchNone%26slotId%3D123\n"
     ]
    }
   ],
   "source": [
    "#testing out the syntax to get the list of perfume urls\n",
    "for link in massive_list_strings:\n",
    "    if link[:31] == 'https://www.macys.com/shop/prod':\n",
    "        print(link)"
   ]
  },
  {
   "cell_type": "code",
   "execution_count": 53,
   "metadata": {
    "scrolled": true
   },
   "outputs": [],
   "source": [
    "perf_links_ls = []\n",
    "for link in massive_list_strings:\n",
    "    if link[0:31] == 'https://www.macys.com/shop/prod':\n",
    "        perf_links_ls.append(link)"
   ]
  },
  {
   "cell_type": "code",
   "execution_count": 54,
   "metadata": {
    "scrolled": true
   },
   "outputs": [
    {
     "data": {
      "text/plain": [
       "246"
      ]
     },
     "execution_count": 54,
     "metadata": {},
     "output_type": "execute_result"
    }
   ],
   "source": [
    "len(perf_links_ls)"
   ]
  },
  {
   "cell_type": "code",
   "execution_count": 55,
   "metadata": {},
   "outputs": [
    {
     "data": {
      "text/plain": [
       "123"
      ]
     },
     "execution_count": 55,
     "metadata": {},
     "output_type": "execute_result"
    }
   ],
   "source": [
    "s = set(perf_links_ls)\n",
    "len(s)"
   ]
  },
  {
   "cell_type": "code",
   "execution_count": 56,
   "metadata": {},
   "outputs": [],
   "source": [
    "s = list(s)"
   ]
  },
  {
   "cell_type": "code",
   "execution_count": 57,
   "metadata": {},
   "outputs": [
    {
     "data": {
      "text/plain": [
       "['https://www.macys.com/shop/product/donna-karan-3-pc.-cashmere-mist-purse-spray-gift-set?ID=9381478&CategoryID=30087#fn=sp%3D2%26spc%3D1450%26ruleId%3D22%7CBOOST%20SAVED%20SET%7CBOOST%20ATTRIBUTE%26searchPass%3DmatchNone%26slotId%3D7',\n",
       " 'https://www.macys.com/shop/product/prada-candy-night-eau-de-parfum-spray-2.7-oz.?ID=8483852&CategoryID=30087#fn=sp%3D2%26spc%3D1450%26ruleId%3D22%7CBOOST%20SAVED%20SET%7CBOOST%20ATTRIBUTE%26searchPass%3DmatchNone%26slotId%3D119',\n",
       " 'https://www.macys.com/shop/product/chanel-chance-eau-tendre-eau-de-parfum-spray-1.7-oz.?ID=8024913&CategoryID=30087#fn=sp%3D2%26spc%3D1450%26ruleId%3D22%7CBOOST%20SAVED%20SET%7CBOOST%20ATTRIBUTE%26searchPass%3DmatchNone%26slotId%3D60',\n",
       " 'https://www.macys.com/shop/product/estee-lauder-2-pc.-beautiful-belle-gift-set?ID=6893775&CategoryID=30087#fn=sp%3D2%26spc%3D1450%26ruleId%3D22%7CBOOST%20SAVED%20SET%7CBOOST%20ATTRIBUTE%26searchPass%3DmatchNone%26slotId%3D114',\n",
       " 'https://www.macys.com/shop/product/tom-ford-noir-pour-femme-eau-de-parfum-3.4-oz?ID=2284952&CategoryID=30087#fn=sp%3D2%26spc%3D1450%26ruleId%3D22%7CBOOST%20SAVED%20SET%7CBOOST%20ATTRIBUTE%26searchPass%3DmatchNone%26slotId%3D63',\n",
       " 'https://www.macys.com/shop/product/dolce-gabbana-light-blue-eau-de-toilette-spray-1.6-oz.?ID=77353&CategoryID=30087#fn=sp%3D2%26spc%3D1450%26ruleId%3D22%7CBOOST%20SAVED%20SET%7CBOOST%20ATTRIBUTE%26searchPass%3DmatchNone%26slotId%3D110',\n",
       " 'https://www.macys.com/shop/product/jennifer-aniston-eau-de-parfum-spray-2.9-oz.?ID=8930371&CategoryID=30087#fn=sp%3D2%26spc%3D1450%26ruleId%3D22%7CBOOST%20SAVED%20SET%7CBOOST%20ATTRIBUTE%26searchPass%3DmatchNone%26slotId%3D83',\n",
       " 'https://www.macys.com/shop/product/coach-eau-de-toilette-spray-3-oz.?ID=4801593&CategoryID=30087#fn=sp%3D2%26spc%3D1450%26ruleId%3D22%7CBOOST%20SAVED%20SET%7CBOOST%20ATTRIBUTE%26searchPass%3DmatchNone%26slotId%3D112',\n",
       " 'https://www.macys.com/shop/product/givenchy-linterdit-eau-de-parfum-80-ml?ID=8315801&CategoryID=30087#fn=sp%3D2%26spc%3D1450%26ruleId%3D22%7CBOOST%20SAVED%20SET%7CBOOST%20ATTRIBUTE%26searchPass%3DmatchNone%26slotId%3D91',\n",
       " 'https://www.macys.com/shop/product/donna-karan-cashmere-mist-eau-de-parfum-spray-3.4-oz?ID=166324&CategoryID=30087#fn=sp%3D2%26spc%3D1450%26ruleId%3D22%7CBOOST%20SAVED%20SET%7CBOOST%20ATTRIBUTE%26searchPass%3DmatchNone%26slotId%3D45',\n",
       " 'https://www.macys.com/shop/product/prada-candy-eau-de-parfum-3-pc.-gift-set?ID=7133290&CategoryID=30087#fn=sp%3D2%26spc%3D1450%26ruleId%3D22%7CBOOST%20SAVED%20SET%7CBOOST%20ATTRIBUTE%26searchPass%3DmatchNone%26slotId%3D76',\n",
       " 'https://www.macys.com/shop/product/yves-saint-laurent-mon-paris-floral-eau-de-parfum-spray-3-oz.?ID=8456704&CategoryID=30087#fn=sp%3D2%26spc%3D1450%26ruleId%3D22%7CBOOST%20SAVED%20SET%7CBOOST%20ATTRIBUTE%26searchPass%3DmatchNone%26slotId%3D84',\n",
       " 'https://www.macys.com/shop/product/estee-lauder-beautiful-eau-de-parfum-spray-3.4-oz.?ID=384047&CategoryID=30087#fn=sp%3D2%26spc%3D1450%26ruleId%3D22%7CBOOST%20SAVED%20SET%7CBOOST%20ATTRIBUTE%26searchPass%3DmatchNone%26slotId%3D98',\n",
       " 'https://www.macys.com/shop/product/juicy-couture-viva-la-juicy-la-fleur-eau-de-toilette-spray-2.5-oz.?ID=5831945&CategoryID=30087#fn=sp%3D2%26spc%3D1450%26ruleId%3D22%7CBOOST%20SAVED%20SET%7CBOOST%20ATTRIBUTE%26searchPass%3DmatchNone%26slotId%3D117',\n",
       " 'https://www.macys.com/shop/product/mugler-alien-luxury-4-pc.-gift-set?ID=8425461&CategoryID=30087#fn=sp%3D2%26spc%3D1450%26ruleId%3D22%7CBOOST%20SAVED%20SET%7CBOOST%20ATTRIBUTE%26searchPass%3DmatchNone%26slotId%3D73',\n",
       " 'https://www.macys.com/shop/product/cartier-2-pc.-carat-discovery-set?ID=6857277&CategoryID=30087#fn=sp%3D2%26spc%3D1450%26ruleId%3D22%7CBOOST%20SAVED%20SET%7CBOOST%20ATTRIBUTE%26searchPass%3DmatchNone%26slotId%3D105',\n",
       " 'https://www.macys.com/shop/product/created-for-macys-11-pc.-the-scents-of-spring-fragrance-sampler-set-for-her?ID=8470820&CategoryID=30087#fn=sp%3D2%26spc%3D1450%26ruleId%3D22%7CBOOST%20SAVED%20SET%7CBOOST%20ATTRIBUTE%26searchPass%3DmatchNone%26slotId%3D118',\n",
       " 'https://www.macys.com/shop/product/giorgio-armani-si-eau-de-parfum-spray-3.4-oz?ID=1495789&CategoryID=30087#fn=sp%3D2%26spc%3D1450%26ruleId%3D22%7CBOOST%20SAVED%20SET%7CBOOST%20ATTRIBUTE%26searchPass%3DmatchNone%26slotId%3D86',\n",
       " 'https://www.macys.com/shop/product/tory-burch-signature-eau-de-parfum-spray-3.4-oz?ID=1877012&CategoryID=30087#fn=sp%3D2%26spc%3D1450%26ruleId%3D22%7CBOOST%20SAVED%20SET%7CBOOST%20ATTRIBUTE%26searchPass%3DmatchNone%26slotId%3D2',\n",
       " 'https://www.macys.com/shop/product/jimmy-choo-leau-4-pc-gift-set?ID=6640346&CategoryID=30087#fn=sp%3D2%26spc%3D1450%26ruleId%3D22%7CBOOST%20SAVED%20SET%7CBOOST%20ATTRIBUTE%26searchPass%3DmatchNone%26slotId%3D40',\n",
       " 'https://www.macys.com/shop/product/michael-kors-wonderlust-eau-de-parfum-spray-3.4-oz?ID=2894349&CategoryID=30087#fn=sp%3D2%26spc%3D1450%26ruleId%3D22%7CBOOST%20SAVED%20SET%7CBOOST%20ATTRIBUTE%26searchPass%3DmatchNone%26slotId%3D17',\n",
       " 'https://www.macys.com/shop/product/tom-ford-ombre-leather-eau-de-parfum-spray-3.4-oz.?ID=6545567&CategoryID=30087#fn=sp%3D2%26spc%3D1450%26ruleId%3D22%7CBOOST%20SAVED%20SET%7CBOOST%20ATTRIBUTE%26searchPass%3DmatchNone%26slotId%3D21',\n",
       " 'https://www.macys.com/shop/product/ralph-lauren-4-pc.-romance-gift-set?ID=8073557&CategoryID=30087#fn=sp%3D2%26spc%3D1450%26ruleId%3D22%7CBOOST%20SAVED%20SET%7CBOOST%20ATTRIBUTE%26searchPass%3DmatchNone%26slotId%3D66',\n",
       " 'https://www.macys.com/shop/product/dior-miss-dior-eau-de-parfum-3-pc.-gift-set?ID=8690907&CategoryID=30087#fn=sp%3D2%26spc%3D1450%26ruleId%3D22%7CBOOST%20SAVED%20SET%7CBOOST%20ATTRIBUTE%26searchPass%3DmatchNone%26slotId%3D68',\n",
       " 'https://www.macys.com/shop/product/tory-burch-2-pc.-azur-rollerball-gift-set?ID=8057292&CategoryID=30087#fn=sp%3D2%26spc%3D1450%26ruleId%3D22%7CBOOST%20SAVED%20SET%7CBOOST%20ATTRIBUTE%26searchPass%3DmatchNone%26slotId%3D69',\n",
       " 'https://www.macys.com/shop/product/burberry-her-blossom-eau-de-toilette-3.3-oz.?ID=9559447&CategoryID=30087#fn=sp%3D2%26spc%3D1450%26ruleId%3D22%7CBOOST%20SAVED%20SET%7CBOOST%20ATTRIBUTE%26searchPass%3DmatchNone%26slotId%3D52',\n",
       " 'https://www.macys.com/shop/product/marc-jacobs-3-pc.-daisy-gift-set?ID=8267292&CategoryID=30087#fn=sp%3D2%26spc%3D1450%26ruleId%3D22%7CBOOST%20SAVED%20SET%7CBOOST%20ATTRIBUTE%26searchPass%3DmatchNone%26slotId%3D78',\n",
       " 'https://www.macys.com/shop/product/bottega-veneta-illusione-eau-de-parfum-1.6-oz.?ID=9559559&CategoryID=30087#fn=sp%3D2%26spc%3D1450%26ruleId%3D22%7CBOOST%20SAVED%20SET%7CBOOST%20ATTRIBUTE%26searchPass%3DmatchNone%26slotId%3D111',\n",
       " 'https://www.macys.com/shop/product/chanel-chance-eau-de-parfum-spray-3.4-oz?ID=185450&CategoryID=30087#fn=sp%3D2%26spc%3D1450%26ruleId%3D22%7CBOOST%20SAVED%20SET%7CBOOST%20ATTRIBUTE%26searchPass%3DmatchNone%26slotId%3D12',\n",
       " 'https://www.macys.com/shop/product/versace-bright-crystal-eau-de-toilette-spray-3-oz.?ID=346887&CategoryID=30087#fn=sp%3D2%26spc%3D1450%26ruleId%3D22%7CBOOST%20SAVED%20SET%7CBOOST%20ATTRIBUTE%26searchPass%3DmatchNone%26slotId%3D47',\n",
       " 'https://www.macys.com/shop/product/gucci-guilty-pour-femme-eau-de-parfum-3.3-oz.?ID=7996939&CategoryID=30087#fn=sp%3D2%26spc%3D1450%26ruleId%3D22%7CBOOST%20SAVED%20SET%7CBOOST%20ATTRIBUTE%26searchPass%3DmatchNone%26slotId%3D88',\n",
       " 'https://www.macys.com/shop/product/estee-lauder-youth-dew-eau-de-parfum-spray-2.25-oz?ID=75127&CategoryID=30087#fn=sp%3D2%26spc%3D1450%26ruleId%3D22%7CBOOST%20SAVED%20SET%7CBOOST%20ATTRIBUTE%26searchPass%3DmatchNone%26slotId%3D79',\n",
       " 'https://www.macys.com/shop/product/mac-shadescents-perfume-candy-yum-yum?ID=4375395&CategoryID=30087#fn=sp%3D2%26spc%3D1450%26ruleId%3D22%7CBOOST%20SAVED%20SET%7CBOOST%20ATTRIBUTE%26searchPass%3DmatchNone%26slotId%3D10',\n",
       " 'https://www.macys.com/shop/product/calvin-klein-eternity-for-men-eau-de-toilette-spray-3.4-oz.?ID=356&CategoryID=30087#fn=sp%3D2%26spc%3D1450%26ruleId%3D22%7CBOOST%20SAVED%20SET%7CBOOST%20ATTRIBUTE%26searchPass%3DmatchNone%26slotId%3D4',\n",
       " 'https://www.macys.com/shop/product/estee-lauder-white-linen-parfum-spray-3-oz.?ID=75114&CategoryID=30087#fn=sp%3D2%26spc%3D1450%26ruleId%3D22%7CBOOST%20SAVED%20SET%7CBOOST%20ATTRIBUTE%26searchPass%3DmatchNone%26slotId%3D59',\n",
       " 'https://www.macys.com/shop/product/oscar-de-la-renta-bella-rosa-eau-de-parfum-1.7-oz.?ID=8074868&CategoryID=30087#fn=sp%3D2%26spc%3D1450%26ruleId%3D22%7CBOOST%20SAVED%20SET%7CBOOST%20ATTRIBUTE%26searchPass%3DmatchNone%26slotId%3D26',\n",
       " 'https://www.macys.com/shop/product/michael-kors-4-pc.-signature-gift-set?ID=9092459&CategoryID=30087#fn=sp%3D2%26spc%3D1450%26ruleId%3D22%7CBOOST%20SAVED%20SET%7CBOOST%20ATTRIBUTE%26searchPass%3DmatchNone%26slotId%3D32',\n",
       " 'https://www.macys.com/shop/product/jean-paul-gaultier-classique-eau-de-toilette-natural-spray-3.3-oz.?ID=2210&CategoryID=30087#fn=sp%3D2%26spc%3D1450%26ruleId%3D22%7CBOOST%20SAVED%20SET%7CBOOST%20ATTRIBUTE%26searchPass%3DmatchNone%26slotId%3D93',\n",
       " 'https://www.macys.com/shop/product/estee-lauder-beautiful-belle-refreshing-body-lotion-6.7-oz.?ID=6567854&CategoryID=30087#fn=sp%3D2%26spc%3D1450%26ruleId%3D22%7CBOOST%20SAVED%20SET%7CBOOST%20ATTRIBUTE%26searchPass%3DmatchNone%26slotId%3D61',\n",
       " 'https://www.macys.com/shop/product/mugler-3-pc.-angel-gift-set?ID=6606388&CategoryID=30087#fn=sp%3D2%26spc%3D1450%26ruleId%3D22%7CBOOST%20SAVED%20SET%7CBOOST%20ATTRIBUTE%26searchPass%3DmatchNone%26slotId%3D122',\n",
       " 'https://www.macys.com/shop/product/issey-miyake-leau-dissey-eau-de-toilette-1.7-oz?ID=2214&CategoryID=30087#fn=sp%3D2%26spc%3D1450%26ruleId%3D22%7CBOOST%20SAVED%20SET%7CBOOST%20ATTRIBUTE%26searchPass%3DmatchNone%26slotId%3D96',\n",
       " 'https://www.macys.com/shop/product/michael-kors-twilight-shimmer-limited-edition-eau-de-parfum-spray-3.4-oz.?ID=6465743&CategoryID=30087#fn=sp%3D2%26spc%3D1450%26ruleId%3D22%7CBOOST%20SAVED%20SET%7CBOOST%20ATTRIBUTE%26searchPass%3DmatchNone%26slotId%3D15',\n",
       " 'https://www.macys.com/shop/product/juicy-couture-oui-eau-de-parfum-spray-3.4-oz.?ID=6428439&CategoryID=30087#fn=sp%3D2%26spc%3D1450%26ruleId%3D22%7CBOOST%20SAVED%20SET%7CBOOST%20ATTRIBUTE%26searchPass%3DmatchNone%26slotId%3D101',\n",
       " 'https://www.macys.com/shop/product/clinique-happy-heart-perfume-spray-3.4-fl-oz?ID=92350&CategoryID=30087#fn=sp%3D2%26spc%3D1450%26ruleId%3D22%7CBOOST%20SAVED%20SET%7CBOOST%20ATTRIBUTE%26searchPass%3DmatchNone%26slotId%3D109',\n",
       " 'https://www.macys.com/shop/product/prada-candy-eau-de-parfum-spray-2.7-oz.?ID=724310&CategoryID=30087#fn=sp%3D2%26spc%3D1450%26ruleId%3D22%7CBOOST%20SAVED%20SET%7CBOOST%20ATTRIBUTE%26searchPass%3DmatchNone%26slotId%3D54',\n",
       " 'https://www.macys.com/shop/product/gucci-2-pc.-bloom-nettare-di-fiori-gift-set?ID=6989131&CategoryID=30087#fn=sp%3D2%26spc%3D1450%26ruleId%3D22%7CBOOST%20SAVED%20SET%7CBOOST%20ATTRIBUTE%26searchPass%3DmatchNone%26slotId%3D44',\n",
       " 'https://www.macys.com/shop/product/chanel-chance-eau-tendre-eau-de-toilette-1.7-oz?ID=458661&CategoryID=30087#fn=sp%3D2%26spc%3D1450%26ruleId%3D22%7CBOOST%20SAVED%20SET%7CBOOST%20ATTRIBUTE%26searchPass%3DmatchNone%26slotId%3D11',\n",
       " 'https://www.macys.com/shop/product/dolce-gabbana-dolce-peony-eau-de-parfum-2.5-oz.?ID=8298666&CategoryID=30087#fn=sp%3D2%26spc%3D1450%26ruleId%3D22%7CBOOST%20SAVED%20SET%7CBOOST%20ATTRIBUTE%26searchPass%3DmatchNone%26slotId%3D94',\n",
       " 'https://www.macys.com/shop/product/juicy-couture-3-pc.-viva-la-juicy-eau-de-parfum-gift-set-a-143-value?ID=8301947&CategoryID=30087#fn=sp%3D2%26spc%3D1450%26ruleId%3D22%7CBOOST%20SAVED%20SET%7CBOOST%20ATTRIBUTE%26searchPass%3DmatchNone%26slotId%3D70',\n",
       " 'https://www.macys.com/shop/product/versace-bright-crystal-travel-spray-0.3-oz.?ID=7342873&CategoryID=30087#fn=sp%3D2%26spc%3D1450%26ruleId%3D22%7CBOOST%20SAVED%20SET%7CBOOST%20ATTRIBUTE%26searchPass%3DmatchNone%26slotId%3D75',\n",
       " 'https://www.macys.com/shop/product/dior-addict-eau-de-parfum-3.4-oz.?ID=88928&CategoryID=30087#fn=sp%3D2%26spc%3D1450%26ruleId%3D22%7CBOOST%20SAVED%20SET%7CBOOST%20ATTRIBUTE%26searchPass%3DmatchNone%26slotId%3D87',\n",
       " 'https://www.macys.com/shop/product/michael-kors-sexy-amber-eau-de-parfum-spray-3.4-oz?ID=886389&CategoryID=30087#fn=sp%3D2%26spc%3D1450%26ruleId%3D22%7CBOOST%20SAVED%20SET%7CBOOST%20ATTRIBUTE%26searchPass%3DmatchNone%26slotId%3D16',\n",
       " 'https://www.macys.com/shop/product/viktor-rolf-flowerbomb-midnight-eau-de-parfum-spray-3.4-oz.?ID=8349194&CategoryID=30087#fn=sp%3D2%26spc%3D1450%26ruleId%3D22%7CBOOST%20SAVED%20SET%7CBOOST%20ATTRIBUTE%26searchPass%3DmatchNone%26slotId%3D103',\n",
       " 'https://www.macys.com/shop/product/kensie-4-pc.-womens-collection-gift-set?ID=5724014&CategoryID=30087#fn=sp%3D2%26spc%3D1450%26ruleId%3D22%7CBOOST%20SAVED%20SET%7CBOOST%20ATTRIBUTE%26searchPass%3DmatchNone%26slotId%3D97',\n",
       " 'https://www.macys.com/shop/product/marc-jacobs-eau-de-parfum-3.4-oz?ID=78520&CategoryID=30087#fn=sp%3D2%26spc%3D1450%26ruleId%3D22%7CBOOST%20SAVED%20SET%7CBOOST%20ATTRIBUTE%26searchPass%3DmatchNone%26slotId%3D121',\n",
       " 'https://www.macys.com/shop/product/marc-jacobs-decadence-eau-so-decadent-eau-de-toilette-spray-3.4-oz.?ID=4891156&CategoryID=30087#fn=sp%3D2%26spc%3D1450%26ruleId%3D22%7CBOOST%20SAVED%20SET%7CBOOST%20ATTRIBUTE%26searchPass%3DmatchNone%26slotId%3D6',\n",
       " 'https://www.macys.com/shop/product/marc-jacobs-3-pc.-daisy-dream-gift-set?ID=8157228&CategoryID=30087#fn=sp%3D2%26spc%3D1450%26ruleId%3D22%7CBOOST%20SAVED%20SET%7CBOOST%20ATTRIBUTE%26searchPass%3DmatchNone%26slotId%3D41',\n",
       " 'https://www.macys.com/shop/product/lancome-3-pc.-tresor-mothers-day-gift-set?ID=8763225&CategoryID=30087#fn=sp%3D2%26spc%3D1450%26ruleId%3D22%7CBOOST%20SAVED%20SET%7CBOOST%20ATTRIBUTE%26searchPass%3DmatchNone%26slotId%3D13',\n",
       " 'https://www.macys.com/shop/product/dolce-gabbana-the-one-eau-de-parfum-rollerball-.20-oz?ID=823992&CategoryID=30087#fn=sp%3D2%26spc%3D1450%26ruleId%3D22%7CBOOST%20SAVED%20SET%7CBOOST%20ATTRIBUTE%26searchPass%3DmatchNone%26slotId%3D99',\n",
       " 'https://www.macys.com/shop/product/guerlain-mon-guerlain-bloom-of-rose-eau-de-toilette-3.3-oz.?ID=8423241&CategoryID=30087#fn=sp%3D2%26spc%3D1450%26ruleId%3D22%7CBOOST%20SAVED%20SET%7CBOOST%20ATTRIBUTE%26searchPass%3DmatchNone%26slotId%3D39',\n",
       " 'https://www.macys.com/shop/product/dolce-gabbana-light-blue-eau-de-toilette-rollerball-0.25-oz.?ID=2604432&CategoryID=30087#fn=sp%3D2%26spc%3D1450%26ruleId%3D22%7CBOOST%20SAVED%20SET%7CBOOST%20ATTRIBUTE%26searchPass%3DmatchNone%26slotId%3D100',\n",
       " 'https://www.macys.com/shop/product/juicy-couture-viva-la-juicy-gold-couture-eau-de-parfum-spray-1-oz.?ID=6865925&CategoryID=30087#fn=sp%3D2%26spc%3D1450%26ruleId%3D22%7CBOOST%20SAVED%20SET%7CBOOST%20ATTRIBUTE%26searchPass%3DmatchNone%26slotId%3D51',\n",
       " 'https://www.macys.com/shop/product/lancome-la-vie-est-belle-en-rose-eau-de-toilette-1.7-oz.-first-at-macys?ID=8432596&CategoryID=30087#fn=sp%3D2%26spc%3D1450%26ruleId%3D22%7CBOOST%20SAVED%20SET%7CBOOST%20ATTRIBUTE%26searchPass%3DmatchNone%26slotId%3D43',\n",
       " 'https://www.macys.com/shop/product/lancome-3-pc.-la-vie-est-belle-mothers-day-gift-set?ID=8763224&CategoryID=30087#fn=sp%3D2%26spc%3D1450%26ruleId%3D22%7CBOOST%20SAVED%20SET%7CBOOST%20ATTRIBUTE%26searchPass%3DmatchNone%26slotId%3D85',\n",
       " 'https://www.macys.com/shop/product/dior-jadore-eau-de-parfum-spray-3.4-oz?ID=20257&CategoryID=30087#fn=sp%3D2%26spc%3D1450%26ruleId%3D22%7CBOOST%20SAVED%20SET%7CBOOST%20ATTRIBUTE%26searchPass%3DmatchNone%26slotId%3D67',\n",
       " 'https://www.macys.com/shop/product/estee-lauder-3-pc.-beautiful-romantic-favorites-gift-set?ID=7268040&CategoryID=30087#fn=sp%3D2%26spc%3D1450%26ruleId%3D22%7CBOOST%20SAVED%20SET%7CBOOST%20ATTRIBUTE%26searchPass%3DmatchNone%26slotId%3D31',\n",
       " 'https://www.macys.com/shop/product/narciso-rodriguez-3-pc.-for-her-pure-musc-eau-de-parfum-gift-set?ID=8854748&CategoryID=30087#fn=sp%3D2%26spc%3D1450%26ruleId%3D22%7CBOOST%20SAVED%20SET%7CBOOST%20ATTRIBUTE%26searchPass%3DmatchNone%26slotId%3D55',\n",
       " 'https://www.macys.com/shop/product/michael-kors-collection-midnight-shimmer-eau-de-parfum-3.4-oz?ID=2816860&CategoryID=30087#fn=sp%3D2%26spc%3D1450%26ruleId%3D22%7CBOOST%20SAVED%20SET%7CBOOST%20ATTRIBUTE%26searchPass%3DmatchNone%26slotId%3D14',\n",
       " 'https://www.macys.com/shop/product/coach-floral-blush-eau-de-parfum-spray-3-oz.?ID=8425583&CategoryID=30087#fn=sp%3D2%26spc%3D1450%26ruleId%3D22%7CBOOST%20SAVED%20SET%7CBOOST%20ATTRIBUTE%26searchPass%3DmatchNone%26slotId%3D48',\n",
       " 'https://www.macys.com/shop/product/hugo-boss-boss-the-scent-for-her-eau-de-parfum-spray-3.3-oz.-created-for-macys?ID=6741347&CategoryID=30087#fn=sp%3D2%26spc%3D1450%26ruleId%3D22%7CBOOST%20SAVED%20SET%7CBOOST%20ATTRIBUTE%26searchPass%3DmatchNone%26slotId%3D57',\n",
       " 'https://www.macys.com/shop/product/dolce-gabbana-light-blue-sun-pour-femme-eau-de-toilette-3.3-oz.?ID=8483092&CategoryID=30087#fn=sp%3D2%26spc%3D1450%26ruleId%3D22%7CBOOST%20SAVED%20SET%7CBOOST%20ATTRIBUTE%26searchPass%3DmatchNone%26slotId%3D25',\n",
       " 'https://www.macys.com/shop/product/narciso-rodriguez-3-pc.-for-her-deluxe-mini-gift-set?ID=9434962&CategoryID=30087#fn=sp%3D2%26spc%3D1450%26ruleId%3D22%7CBOOST%20SAVED%20SET%7CBOOST%20ATTRIBUTE%26searchPass%3DmatchNone%26slotId%3D38',\n",
       " 'https://www.macys.com/shop/product/mugler-3-pc.-alien-gift-set?ID=8312007&CategoryID=30087#fn=sp%3D2%26spc%3D1450%26ruleId%3D22%7CBOOST%20SAVED%20SET%7CBOOST%20ATTRIBUTE%26searchPass%3DmatchNone%26slotId%3D106',\n",
       " 'https://www.macys.com/shop/product/versace-eros-pour-femme-eau-de-toilette-3.4-oz?ID=2893479&CategoryID=30087#fn=sp%3D2%26spc%3D1450%26ruleId%3D22%7CBOOST%20SAVED%20SET%7CBOOST%20ATTRIBUTE%26searchPass%3DmatchNone%26slotId%3D64',\n",
       " 'https://www.macys.com/shop/product/coach-floral-eau-de-parfum-spray-3-oz.?ID=5641588&CategoryID=30087#fn=sp%3D2%26spc%3D1450%26ruleId%3D22%7CBOOST%20SAVED%20SET%7CBOOST%20ATTRIBUTE%26searchPass%3DmatchNone%26slotId%3D8',\n",
       " 'https://www.macys.com/shop/product/yves-saint-laurent-3-pc.-mon-paris-eau-de-parfum-gift-set-created-for-macys?ID=8774259&CategoryID=30087#fn=sp%3D2%26spc%3D1450%26ruleId%3D22%7CBOOST%20SAVED%20SET%7CBOOST%20ATTRIBUTE%26searchPass%3DmatchNone%26slotId%3D71',\n",
       " 'https://www.macys.com/shop/product/donna-karan-cashmere-mist-deodorant-1.7-oz?ID=92782&CategoryID=30087#fn=sp%3D2%26spc%3D1450%26ruleId%3D22%7CBOOST%20SAVED%20SET%7CBOOST%20ATTRIBUTE%26searchPass%3DmatchNone%26slotId%3D81',\n",
       " 'https://www.macys.com/shop/product/tory-burch-love-relentlessly-eau-de-parfum-spray-3.4-oz?ID=4358279&CategoryID=30087#fn=sp%3D2%26spc%3D1450%26ruleId%3D22%7CBOOST%20SAVED%20SET%7CBOOST%20ATTRIBUTE%26searchPass%3DmatchNone%26slotId%3D95',\n",
       " 'https://www.macys.com/shop/product/ralph-lauren-blue-eau-de-toilette-spray-4.2-oz.?ID=104702&CategoryID=30087#fn=sp%3D2%26spc%3D1450%26ruleId%3D22%7CBOOST%20SAVED%20SET%7CBOOST%20ATTRIBUTE%26searchPass%3DmatchNone%26slotId%3D107',\n",
       " 'https://www.macys.com/shop/product/givenchy-2-pc.-very-irresistible-eau-de-parfum-gift-set?ID=7651669&CategoryID=30087#fn=sp%3D2%26spc%3D1450%26ruleId%3D22%7CBOOST%20SAVED%20SET%7CBOOST%20ATTRIBUTE%26searchPass%3DmatchNone%26slotId%3D92',\n",
       " 'https://www.macys.com/shop/product/chanel-allure-parfum-.25-oz?ID=74668&CategoryID=30087#fn=sp%3D2%26spc%3D1450%26ruleId%3D22%7CBOOST%20SAVED%20SET%7CBOOST%20ATTRIBUTE%26searchPass%3DmatchNone%26slotId%3D35',\n",
       " 'https://www.macys.com/shop/product/viktor-rolf-flowerbomb-nectar-eau-de-parfum-spray-1.7-oz.?ID=5712325&CategoryID=30087#fn=sp%3D2%26spc%3D1450%26ruleId%3D22%7CBOOST%20SAVED%20SET%7CBOOST%20ATTRIBUTE%26searchPass%3DmatchNone%26slotId%3D65',\n",
       " 'https://www.macys.com/shop/product/issey-miyake-leau-dissey-eau-de-toilette-rollerball-0.25-oz?ID=1008634&CategoryID=30087#fn=sp%3D2%26spc%3D1450%26ruleId%3D22%7CBOOST%20SAVED%20SET%7CBOOST%20ATTRIBUTE%26searchPass%3DmatchNone%26slotId%3D80',\n",
       " 'https://www.macys.com/shop/product/versace-3-pc.-dylan-blue-pour-femme-eau-de-parfum-gift-set?ID=9362242&CategoryID=30087#fn=sp%3D2%26spc%3D1450%26ruleId%3D22%7CBOOST%20SAVED%20SET%7CBOOST%20ATTRIBUTE%26searchPass%3DmatchNone%26slotId%3D56',\n",
       " 'https://www.macys.com/shop/product/lancome-la-vie-est-belle-eau-de-parfum-1.7-oz?ID=712782&CategoryID=30087#fn=sp%3D2%26spc%3D1450%26ruleId%3D22%7CBOOST%20SAVED%20SET%7CBOOST%20ATTRIBUTE%26searchPass%3DmatchNone%26slotId%3D1',\n",
       " 'https://www.macys.com/shop/product/burberry-her-eau-de-parfum-spray-3.3-oz.?ID=6794728&CategoryID=30087#fn=sp%3D2%26spc%3D1450%26ruleId%3D22%7CBOOST%20SAVED%20SET%7CBOOST%20ATTRIBUTE%26searchPass%3DmatchNone%26slotId%3D53',\n",
       " 'https://www.macys.com/shop/product/giorgio-armani-si-fiori-eau-de-parfum-spray-3.4-oz.?ID=8244865&CategoryID=30087#fn=sp%3D2%26spc%3D1450%26ruleId%3D22%7CBOOST%20SAVED%20SET%7CBOOST%20ATTRIBUTE%26searchPass%3DmatchNone%26slotId%3D28',\n",
       " 'https://www.macys.com/shop/product/nanette-lepore-3-pc.-beautiful-times-gift-set?ID=8225981&CategoryID=30087#fn=sp%3D2%26spc%3D1450%26ruleId%3D22%7CBOOST%20SAVED%20SET%7CBOOST%20ATTRIBUTE%26searchPass%3DmatchNone%26slotId%3D29',\n",
       " 'https://www.macys.com/shop/product/elizabeth-arden-white-tea-wild-rose-eau-de-toilette-spray-3.3-oz.?ID=8156528&CategoryID=30087#fn=sp%3D2%26spc%3D1450%26ruleId%3D22%7CBOOST%20SAVED%20SET%7CBOOST%20ATTRIBUTE%26searchPass%3DmatchNone%26slotId%3D33',\n",
       " 'https://www.macys.com/shop/product/issey-miyake-3-pc.-leau-dissey-eau-de-toilette-gift-set?ID=8875563&CategoryID=30087#fn=sp%3D2%26spc%3D1450%26ruleId%3D22%7CBOOST%20SAVED%20SET%7CBOOST%20ATTRIBUTE%26searchPass%3DmatchNone%26slotId%3D18',\n",
       " 'https://www.macys.com/shop/product/estee-lauder-3-pc.-modern-muse-gift-set?ID=8510664&CategoryID=30087#fn=sp%3D2%26spc%3D1450%26ruleId%3D22%7CBOOST%20SAVED%20SET%7CBOOST%20ATTRIBUTE%26searchPass%3DmatchNone%26slotId%3D58',\n",
       " 'https://www.macys.com/shop/product/dolce-gabbana-the-only-one-3-pc.-gift-set?ID=8483087&CategoryID=30087#fn=sp%3D2%26spc%3D1450%26ruleId%3D22%7CBOOST%20SAVED%20SET%7CBOOST%20ATTRIBUTE%26searchPass%3DmatchNone%26slotId%3D104',\n",
       " 'https://www.macys.com/shop/product/marc-jacobs-3-pc.-daisy-gift-set?ID=8157226&CategoryID=30087#fn=sp%3D2%26spc%3D1450%26ruleId%3D22%7CBOOST%20SAVED%20SET%7CBOOST%20ATTRIBUTE%26searchPass%3DmatchNone%26slotId%3D24',\n",
       " 'https://www.macys.com/shop/product/carolina-herrera-good-girl-eau-de-parfum-spray-1-oz.?ID=5809218&CategoryID=30087#fn=sp%3D2%26spc%3D1450%26ruleId%3D22%7CBOOST%20SAVED%20SET%7CBOOST%20ATTRIBUTE%26searchPass%3DmatchNone%26slotId%3D113',\n",
       " 'https://www.macys.com/shop/product/jason-wu-velvet-rouge-eau-de-parfum-3-oz.?ID=8279636&CategoryID=30087#fn=sp%3D2%26spc%3D1450%26ruleId%3D22%7CBOOST%20SAVED%20SET%7CBOOST%20ATTRIBUTE%26searchPass%3DmatchNone%26slotId%3D90',\n",
       " 'https://www.macys.com/shop/product/created-for-macys-5-pc.-the-scents-of-spring-fragrance-gift-set-for-her?ID=8470818&CategoryID=30087#fn=sp%3D2%26spc%3D1450%26ruleId%3D22%7CBOOST%20SAVED%20SET%7CBOOST%20ATTRIBUTE%26searchPass%3DmatchNone%26slotId%3D42',\n",
       " 'https://www.macys.com/shop/product/jo-malone-london-3-pc.-fresh-vibrant-gift-set?ID=9978816&CategoryID=30087#fn=sp%3D2%26spc%3D1450%26ruleId%3D22%7CBOOST%20SAVED%20SET%7CBOOST%20ATTRIBUTE%26searchPass%3DmatchNone%26slotId%3D27',\n",
       " 'https://www.macys.com/shop/product/burberry-my-burberry-blush-eau-de-parfum-spray-3-oz.?ID=4814700&CategoryID=30087#fn=sp%3D2%26spc%3D1450%26ruleId%3D22%7CBOOST%20SAVED%20SET%7CBOOST%20ATTRIBUTE%26searchPass%3DmatchNone%26slotId%3D72',\n",
       " 'https://www.macys.com/shop/product/chanel-gabrielle-chanel-eau-de-parfum-spray-3.4-oz.?ID=4817008&CategoryID=30087#fn=sp%3D2%26spc%3D1450%26ruleId%3D22%7CBOOST%20SAVED%20SET%7CBOOST%20ATTRIBUTE%26searchPass%3DmatchNone%26slotId%3D34',\n",
       " 'https://www.macys.com/shop/product/marc-jacobs-decadence-eau-de-parfum-3.4-oz?ID=2388507&CategoryID=30087#fn=sp%3D2%26spc%3D1450%26ruleId%3D22%7CBOOST%20SAVED%20SET%7CBOOST%20ATTRIBUTE%26searchPass%3DmatchNone%26slotId%3D5',\n",
       " 'https://www.macys.com/shop/product/dolce-gabbana-3-pc.-light-blue-eau-de-toilette-gift-set?ID=6606565&CategoryID=30087#fn=sp%3D2%26spc%3D1450%26ruleId%3D22%7CBOOST%20SAVED%20SET%7CBOOST%20ATTRIBUTE%26searchPass%3DmatchNone%26slotId%3D49',\n",
       " 'https://www.macys.com/shop/product/jimmy-choo-floral-eau-de-toilette-4-pc-gift-set?ID=8313428&CategoryID=30087#fn=sp%3D2%26spc%3D1450%26ruleId%3D22%7CBOOST%20SAVED%20SET%7CBOOST%20ATTRIBUTE%26searchPass%3DmatchNone%26slotId%3D36',\n",
       " 'https://www.macys.com/shop/product/created-for-macys-5-pc.-the-scents-of-spring-fragrance-gift-set-for-her?ID=8470819&CategoryID=30087#fn=sp%3D2%26spc%3D1450%26ruleId%3D22%7CBOOST%20SAVED%20SET%7CBOOST%20ATTRIBUTE%26searchPass%3DmatchNone%26slotId%3D50',\n",
       " 'https://www.macys.com/shop/product/gucci-memoire-dune-odeur-eau-de-parfum-2-oz.?ID=9569335&CategoryID=30087#fn=sp%3D2%26spc%3D1450%26ruleId%3D22%7CBOOST%20SAVED%20SET%7CBOOST%20ATTRIBUTE%26searchPass%3DmatchNone%26slotId%3D120',\n",
       " 'https://www.macys.com/shop/product/viktor-rolf-flowerbomb-purse-spray-0.25-oz.?ID=2496702&CategoryID=30087#fn=sp%3D2%26spc%3D1450%26ruleId%3D22%7CBOOST%20SAVED%20SET%7CBOOST%20ATTRIBUTE%26searchPass%3DmatchNone%26slotId%3D102',\n",
       " 'https://www.macys.com/shop/product/versace-2-pc.-bright-crystal-eau-de-toilette-gift-set?ID=9387070&CategoryID=30087#fn=sp%3D2%26spc%3D1450%26ruleId%3D22%7CBOOST%20SAVED%20SET%7CBOOST%20ATTRIBUTE%26searchPass%3DmatchNone%26slotId%3D9',\n",
       " 'https://www.macys.com/shop/product/narciso-rodriguez-for-her-eau-de-toilette-rollerball-0.25-oz.?ID=2910484&CategoryID=30087#fn=sp%3D2%26spc%3D1450%26ruleId%3D22%7CBOOST%20SAVED%20SET%7CBOOST%20ATTRIBUTE%26searchPass%3DmatchNone%26slotId%3D74',\n",
       " 'https://www.macys.com/shop/product/narciso-rodriguez-narciso-eau-de-parfum-rollerball-0.25-oz.?ID=2982515&CategoryID=30087#fn=sp%3D2%26spc%3D1450%26ruleId%3D22%7CBOOST%20SAVED%20SET%7CBOOST%20ATTRIBUTE%26searchPass%3DmatchNone%26slotId%3D77',\n",
       " 'https://www.macys.com/shop/product/calvin-klein-3-pc.-endless-euphoria-for-women-eau-de-parfum-gift-set?ID=8286800&CategoryID=30087#fn=sp%3D2%26spc%3D1450%26ruleId%3D22%7CBOOST%20SAVED%20SET%7CBOOST%20ATTRIBUTE%26searchPass%3DmatchNone%26slotId%3D20',\n",
       " 'https://www.macys.com/shop/product/kilian-princess-eau-de-parfum-spray-3.4-oz.?ID=9381646&CategoryID=30087#fn=sp%3D2%26spc%3D1450%26ruleId%3D22%7CBOOST%20SAVED%20SET%7CBOOST%20ATTRIBUTE%26searchPass%3DmatchNone%26slotId%3D46',\n",
       " 'https://www.macys.com/shop/product/kenzo-world-eau-de-parfum-spray-2.5-oz.?ID=4465425&CategoryID=30087#fn=sp%3D2%26spc%3D1450%26ruleId%3D22%7CBOOST%20SAVED%20SET%7CBOOST%20ATTRIBUTE%26searchPass%3DmatchNone%26slotId%3D62',\n",
       " 'https://www.macys.com/shop/product/marc-jacobs-3-pc.-daisy-dream-gift-set?ID=8267293&CategoryID=30087#fn=sp%3D2%26spc%3D1450%26ruleId%3D22%7CBOOST%20SAVED%20SET%7CBOOST%20ATTRIBUTE%26searchPass%3DmatchNone%26slotId%3D89',\n",
       " 'https://www.macys.com/shop/product/jimmy-choo-2-pc.-fever-eau-de-parfum-gift-set?ID=8425560&CategoryID=30087#fn=sp%3D2%26spc%3D1450%26ruleId%3D22%7CBOOST%20SAVED%20SET%7CBOOST%20ATTRIBUTE%26searchPass%3DmatchNone%26slotId%3D116',\n",
       " 'https://www.macys.com/shop/product/lancome-tresor-eau-de-parfum-3.4-oz?ID=7251&CategoryID=30087#fn=sp%3D2%26spc%3D1450%26ruleId%3D22%7CBOOST%20SAVED%20SET%7CBOOST%20ATTRIBUTE%26searchPass%3DmatchNone%26slotId%3D22',\n",
       " 'https://www.macys.com/shop/product/giorgio-armani-si-passione-eau-de-parfum-spray-3.4-oz.?ID=5712784&CategoryID=30087#fn=sp%3D2%26spc%3D1450%26ruleId%3D22%7CBOOST%20SAVED%20SET%7CBOOST%20ATTRIBUTE%26searchPass%3DmatchNone%26slotId%3D82',\n",
       " 'https://www.macys.com/shop/product/versace-3-pc.-dylan-blue-pour-femme-gift-set?ID=8074873&CategoryID=30087#fn=sp%3D2%26spc%3D1450%26ruleId%3D22%7CBOOST%20SAVED%20SET%7CBOOST%20ATTRIBUTE%26searchPass%3DmatchNone%26slotId%3D30',\n",
       " 'https://www.macys.com/shop/product/juicy-couture-viva-la-juicy-eau-de-parfum-3.4-oz?ID=338208&CategoryID=30087#fn=sp%3D2%26spc%3D1450%26ruleId%3D22%7CBOOST%20SAVED%20SET%7CBOOST%20ATTRIBUTE%26searchPass%3DmatchNone%26slotId%3D37',\n",
       " 'https://www.macys.com/shop/product/elizabeth-arden-red-door-eau-de-toilette-3.3-oz.?ID=211&CategoryID=30087#fn=sp%3D2%26spc%3D1450%26ruleId%3D22%7CBOOST%20SAVED%20SET%7CBOOST%20ATTRIBUTE%26searchPass%3DmatchNone%26slotId%3D108',\n",
       " 'https://www.macys.com/shop/product/chanel-chance-eau-fraiche-eau-de-toilette-spray-5-oz?ID=780749&CategoryID=30087#fn=sp%3D2%26spc%3D1450%26ruleId%3D22%7CBOOST%20SAVED%20SET%7CBOOST%20ATTRIBUTE%26searchPass%3DmatchNone%26slotId%3D123',\n",
       " 'https://www.macys.com/shop/product/issey-miyake-leau-dissey-pure-eau-de-parfum-3-oz?ID=2823737&CategoryID=30087#fn=sp%3D2%26spc%3D1450%26ruleId%3D22%7CBOOST%20SAVED%20SET%7CBOOST%20ATTRIBUTE%26searchPass%3DmatchNone%26slotId%3D3',\n",
       " 'https://www.macys.com/shop/product/narciso-rodriguez-for-her-fleur-musc-eau-de-parfum-3-pc.-gift-set?ID=8483076&CategoryID=30087#fn=sp%3D2%26spc%3D1450%26ruleId%3D22%7CBOOST%20SAVED%20SET%7CBOOST%20ATTRIBUTE%26searchPass%3DmatchNone%26slotId%3D19',\n",
       " 'https://www.macys.com/shop/product/tiffany-co.-signature-eau-de-parfum-2-pc-gift-set?ID=8276993&CategoryID=30087#fn=sp%3D2%26spc%3D1450%26ruleId%3D22%7CBOOST%20SAVED%20SET%7CBOOST%20ATTRIBUTE%26searchPass%3DmatchNone%26slotId%3D115',\n",
       " 'https://www.macys.com/shop/product/lancome-miracle-eau-de-parfum-3.4-fl-oz?ID=45281&CategoryID=30087#fn=sp%3D2%26spc%3D1450%26ruleId%3D22%7CBOOST%20SAVED%20SET%7CBOOST%20ATTRIBUTE%26searchPass%3DmatchNone%26slotId%3D23']"
      ]
     },
     "execution_count": 57,
     "metadata": {},
     "output_type": "execute_result"
    }
   ],
   "source": [
    "s"
   ]
  },
  {
   "cell_type": "code",
   "execution_count": 58,
   "metadata": {},
   "outputs": [],
   "source": [
    "def get_perfume_links(url):\n",
    "    \"\"\"\n",
    "    \n",
    "    \"\"\"\n",
    "    driver = webdriver.Chrome()\n",
    "    driver.get(url)\n",
    "    soup_selenium = BeautifulSoup(driver.page_source)\n",
    "    \n",
    "    all_links_ls = []\n",
    "    for a in driver.find_elements_by_xpath('.//a'):\n",
    "        all_links_ls.append(a.get_attribute('href'))\n",
    "    \n",
    "    #make sure all elements in the list are strings\n",
    "    all_links_ls = [str(i) for i in all_links_ls]\n",
    "    \n",
    "    #testing out the syntax to get the list of perfume urls\n",
    "    #global page_links\n",
    "    page_links = []\n",
    "    for link in all_links_ls:\n",
    "        if link[:31] == 'https://www.macys.com/shop/prod':\n",
    "            page_links.append(link)\n",
    "    \n",
    "    #remove dups\n",
    "    page_links = set(page_links)\n",
    "    page_links = list(page_links)\n",
    "\n",
    "    driver.quit()\n",
    "    \n",
    "    return page_links"
   ]
  },
  {
   "cell_type": "code",
   "execution_count": 59,
   "metadata": {},
   "outputs": [],
   "source": [
    "#z = get_perfume_links(url)"
   ]
  },
  {
   "cell_type": "code",
   "execution_count": 61,
   "metadata": {},
   "outputs": [],
   "source": [
    "#page_links"
   ]
  },
  {
   "cell_type": "code",
   "execution_count": null,
   "metadata": {},
   "outputs": [],
   "source": [
    "#len(page_links)"
   ]
  },
  {
   "cell_type": "code",
   "execution_count": 62,
   "metadata": {},
   "outputs": [],
   "source": [
    "complete_perfume_ls = []\n",
    "for url in perfume_ls:\n",
    "    each_page = get_perfume_links(url)\n",
    "    \n",
    "    #Note: page_links is a global variable defined in get_perf func.\n",
    "    complete_perfume_ls.append(each_page)"
   ]
  },
  {
   "cell_type": "code",
   "execution_count": 64,
   "metadata": {},
   "outputs": [
    {
     "data": {
      "text/plain": [
       "13"
      ]
     },
     "execution_count": 64,
     "metadata": {},
     "output_type": "execute_result"
    }
   ],
   "source": [
    "#list of lists\n",
    "len(complete_perfume_ls)"
   ]
  },
  {
   "cell_type": "code",
   "execution_count": 70,
   "metadata": {
    "scrolled": true
   },
   "outputs": [
    {
     "data": {
      "text/plain": [
       "122"
      ]
     },
     "execution_count": 70,
     "metadata": {},
     "output_type": "execute_result"
    }
   ],
   "source": [
    "len(complete_perfume_ls[5])"
   ]
  },
  {
   "cell_type": "code",
   "execution_count": 66,
   "metadata": {},
   "outputs": [
    {
     "data": {
      "text/plain": [
       "'https://www.macys.com/shop/product/donna-karan-3-pc.-cashmere-mist-purse-spray-gift-set?ID=9381478&CategoryID=30087#fn=sp%3D2%26spc%3D1450%26ruleId%3D22%7CBOOST%20SAVED%20SET%7CBOOST%20ATTRIBUTE%26searchPass%3DmatchNone%26slotId%3D7'"
      ]
     },
     "execution_count": 66,
     "metadata": {},
     "output_type": "execute_result"
    }
   ],
   "source": [
    "complete_perfume_ls[1][0]"
   ]
  },
  {
   "cell_type": "code",
   "execution_count": 82,
   "metadata": {},
   "outputs": [
    {
     "name": "stdout",
     "output_type": "stream",
     "text": [
      "123\n",
      "123\n",
      "123\n",
      "123\n",
      "123\n",
      "122\n",
      "123\n",
      "123\n",
      "123\n",
      "123\n",
      "123\n",
      "122\n",
      "12\n"
     ]
    }
   ],
   "source": [
    "numbers = 0\n",
    "for i in range(13):\n",
    "    print(len(complete_perfume_ls[i]))"
   ]
  },
  {
   "cell_type": "code",
   "execution_count": 77,
   "metadata": {},
   "outputs": [
    {
     "data": {
      "text/plain": [
       "1486"
      ]
     },
     "execution_count": 77,
     "metadata": {},
     "output_type": "execute_result"
    }
   ],
   "source": [
    "numbers"
   ]
  },
  {
   "cell_type": "code",
   "execution_count": 78,
   "metadata": {},
   "outputs": [
    {
     "data": {
      "text/plain": [
       "['https://www.macys.com/shop/product/tiffany-co.-tiffany-eau-de-parfum-spray-1.7-oz.?ID=4862799&CategoryID=30087#fn=sp%3D13%26spc%3D1450%26ruleId%3D22%7CBOOST%20SAVED%20SET%7CBOOST%20ATTRIBUTE%26searchPass%3DmatchNone%26slotId%3D5',\n",
       " 'https://www.macys.com/shop/product/catherine-malandrino-romance-de-provence-eau-de-parfum-purse-spray-0.2-oz?ID=2878614&CategoryID=30087#fn=sp%3D13%26spc%3D1450%26ruleId%3D22%7CBOOST%20SAVED%20SET%7CBOOST%20ATTRIBUTE%26searchPass%3DmatchNone%26slotId%3D8',\n",
       " 'https://www.macys.com/shop/product/elie-tahari-eau-de-parfum-purse-spray-0.33-oz?ID=8470788&CategoryID=30087#fn=sp%3D13%26spc%3D1450%26ruleId%3D22%7CBOOST%20SAVED%20SET%7CBOOST%20ATTRIBUTE%26searchPass%3DmatchNone%26slotId%3D2',\n",
       " 'https://www.macys.com/shop/product/clean-fragrance-classic-blossom-fragrance-spray-1-oz.?ID=9541055&CategoryID=30087#fn=sp%3D13%26spc%3D1450%26ruleId%3D22%7CBOOST%20SAVED%20SET%7CBOOST%20ATTRIBUTE%26searchPass%3DmatchNone%26slotId%3D10',\n",
       " 'https://www.macys.com/shop/product/melted-element-queensland-soy-candle-11-oz.?ID=8789985&CategoryID=30087#fn=sp%3D13%26spc%3D1450%26ruleId%3D22%7CBOOST%20SAVED%20SET%7CBOOST%20ATTRIBUTE%26searchPass%3DmatchNone%26slotId%3D11',\n",
       " 'https://www.macys.com/shop/product/clean-fragrance-classic-cool-cotton-fragrance-spray-1-oz.?ID=9541053&CategoryID=30087#fn=sp%3D13%26spc%3D1450%26ruleId%3D22%7CBOOST%20SAVED%20SET%7CBOOST%20ATTRIBUTE%26searchPass%3DmatchNone%26slotId%3D1',\n",
       " 'https://www.macys.com/shop/product/yuni-pocket-savasana-aroma-concentrate-0.33-fl.-oz.?ID=5508593&CategoryID=30087#fn=sp%3D13%26spc%3D1450%26ruleId%3D22%7CBOOST%20SAVED%20SET%7CBOOST%20ATTRIBUTE%26searchPass%3DmatchNone%26slotId%3D3',\n",
       " 'https://www.macys.com/shop/product/catherine-malandrino-style-de-paris-travel-spray-0.3-oz?ID=1961217&CategoryID=30087#fn=sp%3D13%26spc%3D1450%26ruleId%3D22%7CBOOST%20SAVED%20SET%7CBOOST%20ATTRIBUTE%26searchPass%3DmatchNone%26slotId%3D12',\n",
       " 'https://www.macys.com/shop/product/rituals-mens-the-ritual-of-samurai-shave-foam-6.7-oz.?ID=9531454&CategoryID=30087#fn=sp%3D13%26spc%3D1450%26ruleId%3D22%7CBOOST%20SAVED%20SET%7CBOOST%20ATTRIBUTE%26searchPass%3DmatchNone%26slotId%3D7',\n",
       " 'https://www.macys.com/shop/product/reisfields-nyc-hand-poured-signature-collection-luxury-candle-no.-3-10-oz.?ID=8897085&CategoryID=30087#fn=sp%3D13%26spc%3D1450%26ruleId%3D22%7CBOOST%20SAVED%20SET%7CBOOST%20ATTRIBUTE%26searchPass%3DmatchNone%26slotId%3D6',\n",
       " 'https://www.macys.com/shop/product/way-of-will-4-pc.-activate-essential-oils-set?ID=8470620&CategoryID=30087#fn=sp%3D13%26spc%3D1450%26ruleId%3D22%7CBOOST%20SAVED%20SET%7CBOOST%20ATTRIBUTE%26searchPass%3DmatchNone%26slotId%3D9',\n",
       " 'https://www.macys.com/shop/product/tiffany-co.-sheer-eau-de-toilette-1.7-oz.-first-at-macys?ID=8053723&CategoryID=30087#fn=sp%3D13%26spc%3D1450%26ruleId%3D22%7CBOOST%20SAVED%20SET%7CBOOST%20ATTRIBUTE%26searchPass%3DmatchNone%26slotId%3D4']"
      ]
     },
     "execution_count": 78,
     "metadata": {},
     "output_type": "execute_result"
    }
   ],
   "source": [
    "complete_perfume_ls[12]"
   ]
  },
  {
   "cell_type": "code",
   "execution_count": 79,
   "metadata": {},
   "outputs": [],
   "source": [
    "response = requests.get('https://www.macys.com/shop/product/tiffany-co.-sheer-eau-de-toilette-1.7-oz.-first-at-macys?ID=8053723&CategoryID=30087#fn=sp%3D13%26spc%3D1450%26ruleId%3D22%7CBOOST%20SAVED%20SET%7CBOOST%20ATTRIBUTE%26searchPass%3DmatchNone%26slotId%3D4')"
   ]
  },
  {
   "cell_type": "code",
   "execution_count": 80,
   "metadata": {},
   "outputs": [
    {
     "data": {
      "text/plain": [
       "302"
      ]
     },
     "execution_count": 80,
     "metadata": {},
     "output_type": "execute_result"
    }
   ],
   "source": [
    "response.status_code # status code = 200 => OK"
   ]
  },
  {
   "cell_type": "code",
   "execution_count": 81,
   "metadata": {},
   "outputs": [
    {
     "data": {
      "text/plain": [
       "['https://www.macys.com/shop/makeup-and-perfume/perfume/Productsperpage/120?id=30087',\n",
       " 'https://www.macys.com/shop/makeup-and-perfume/perfume/Pageindex,Productsperpage/2,120?id=30087',\n",
       " 'https://www.macys.com/shop/makeup-and-perfume/perfume/Pageindex,Productsperpage/3,120?id=30087',\n",
       " 'https://www.macys.com/shop/makeup-and-perfume/perfume/Pageindex,Productsperpage/4,120?id=30087',\n",
       " 'https://www.macys.com/shop/makeup-and-perfume/perfume/Pageindex,Productsperpage/5,120?id=30087',\n",
       " 'https://www.macys.com/shop/makeup-and-perfume/perfume/Pageindex,Productsperpage/6,120?id=30087',\n",
       " 'https://www.macys.com/shop/makeup-and-perfume/perfume/Pageindex,Productsperpage/7,120?id=30087',\n",
       " 'https://www.macys.com/shop/makeup-and-perfume/perfume/Pageindex,Productsperpage/8,120?id=30087',\n",
       " 'https://www.macys.com/shop/makeup-and-perfume/perfume/Pageindex,Productsperpage/9,120?id=30087',\n",
       " 'https://www.macys.com/shop/makeup-and-perfume/perfume/Pageindex,Productsperpage/10,120?id=30087',\n",
       " 'https://www.macys.com/shop/makeup-and-perfume/perfume/Pageindex,Productsperpage/11,120?id=30087',\n",
       " 'https://www.macys.com/shop/makeup-and-perfume/perfume/Pageindex,Productsperpage/12,120?id=30087',\n",
       " 'https://www.macys.com/shop/makeup-and-perfume/perfume/Pageindex,Productsperpage/13,120?id=30087']"
      ]
     },
     "execution_count": 81,
     "metadata": {},
     "output_type": "execute_result"
    }
   ],
   "source": [
    "perfume_ls"
   ]
  },
  {
   "cell_type": "code",
   "execution_count": 83,
   "metadata": {},
   "outputs": [],
   "source": [
    "perfume_flat_list = [item for sublist in complete_perfume_ls for item in sublist]"
   ]
  },
  {
   "cell_type": "code",
   "execution_count": 85,
   "metadata": {},
   "outputs": [
    {
     "data": {
      "text/plain": [
       "1486"
      ]
     },
     "execution_count": 85,
     "metadata": {},
     "output_type": "execute_result"
    }
   ],
   "source": [
    "len(perfume_flat_list)"
   ]
  },
  {
   "cell_type": "code",
   "execution_count": 88,
   "metadata": {},
   "outputs": [],
   "source": [
    "perfume_flat_list = set(perfume_flat_list)"
   ]
  },
  {
   "cell_type": "code",
   "execution_count": 89,
   "metadata": {},
   "outputs": [],
   "source": [
    "perfume_flat_list = list(perfume_flat_list)"
   ]
  },
  {
   "cell_type": "code",
   "execution_count": 90,
   "metadata": {},
   "outputs": [
    {
     "data": {
      "text/plain": [
       "1486"
      ]
     },
     "execution_count": 90,
     "metadata": {},
     "output_type": "execute_result"
    }
   ],
   "source": [
    "len(perfume_flat_list)"
   ]
  },
  {
   "cell_type": "code",
   "execution_count": 97,
   "metadata": {},
   "outputs": [
    {
     "data": {
      "text/plain": [
       "'https://www.macys.com/shop/product/'"
      ]
     },
     "execution_count": 97,
     "metadata": {},
     "output_type": "execute_result"
    }
   ],
   "source": [
    "z = 'https://www.macys.com/shop/product/'\n",
    "z[0:35]"
   ]
  },
  {
   "cell_type": "code",
   "execution_count": 98,
   "metadata": {},
   "outputs": [
    {
     "name": "stdout",
     "output_type": "stream",
     "text": [
      "1486\n"
     ]
    }
   ],
   "source": [
    "num = 0\n",
    "for link in perfume_flat_list:\n",
    "    if link[0:35] == 'https://www.macys.com/shop/product/':\n",
    "        num+=1\n",
    "print(num)"
   ]
  },
  {
   "cell_type": "code",
   "execution_count": 99,
   "metadata": {},
   "outputs": [],
   "source": [
    "import pickle"
   ]
  },
  {
   "cell_type": "code",
   "execution_count": 100,
   "metadata": {},
   "outputs": [],
   "source": [
    "with open('perfume_flat_list.pkl', 'wb') as f:\n",
    "    pickle.dump(perfume_flat_list, f)"
   ]
  },
  {
   "cell_type": "code",
   "execution_count": 101,
   "metadata": {},
   "outputs": [
    {
     "data": {
      "text/plain": [
       "'https://www.macys.com/shop/product/pour-le-monde-empower-100-certified-natural-eau-de-parfum-1.7-oz?ID=2854150&CategoryID=30087#fn=sp%3D12%26spc%3D1450%26ruleId%3D22%7CBOOST%20SAVED%20SET%7CBOOST%20ATTRIBUTE%26searchPass%3DmatchNone%26slotId%3D76'"
      ]
     },
     "execution_count": 101,
     "metadata": {},
     "output_type": "execute_result"
    }
   ],
   "source": [
    "perfume_flat_list[0]"
   ]
  },
  {
   "cell_type": "code",
   "execution_count": 249,
   "metadata": {},
   "outputs": [],
   "source": [
    "df_perfume = pd.DataFrame(columns=['description', 'designer', 'frag_name', 'price'])"
   ]
  },
  {
   "cell_type": "code",
   "execution_count": 250,
   "metadata": {},
   "outputs": [
    {
     "data": {
      "text/html": [
       "<div>\n",
       "<style scoped>\n",
       "    .dataframe tbody tr th:only-of-type {\n",
       "        vertical-align: middle;\n",
       "    }\n",
       "\n",
       "    .dataframe tbody tr th {\n",
       "        vertical-align: top;\n",
       "    }\n",
       "\n",
       "    .dataframe thead th {\n",
       "        text-align: right;\n",
       "    }\n",
       "</style>\n",
       "<table border=\"1\" class=\"dataframe\">\n",
       "  <thead>\n",
       "    <tr style=\"text-align: right;\">\n",
       "      <th></th>\n",
       "      <th>description</th>\n",
       "      <th>designer</th>\n",
       "      <th>frag_name</th>\n",
       "      <th>price</th>\n",
       "    </tr>\n",
       "  </thead>\n",
       "  <tbody>\n",
       "  </tbody>\n",
       "</table>\n",
       "</div>"
      ],
      "text/plain": [
       "Empty DataFrame\n",
       "Columns: [description, designer, frag_name, price]\n",
       "Index: []"
      ]
     },
     "execution_count": 250,
     "metadata": {},
     "output_type": "execute_result"
    }
   ],
   "source": [
    "df_perfume"
   ]
  },
  {
   "cell_type": "code",
   "execution_count": 112,
   "metadata": {},
   "outputs": [],
   "source": [
    "driver = webdriver.Chrome()\n",
    "driver.get(url)\n",
    "soup_selenium = BeautifulSoup(driver.page_source)"
   ]
  },
  {
   "cell_type": "code",
   "execution_count": 117,
   "metadata": {},
   "outputs": [
    {
     "data": {
      "text/plain": [
       "[<div class=\"accordion-body\" data-el=\"product-details\"><div><p class=\"c-m-v-1\" data-auto=\"product-description\" itemprop=\"description\">\n",
       "     Sporty. Invigorating. Refreshing. Men and women can't get enough of it!\n",
       " </p>\n",
       " <ul class=\"\" data-auto=\"product-description-bullets\">\n",
       " <li>Pour le Monde's classic Eau de Parfums are the only certified 100% natural fine fragrances available</li>\n",
       " <li>Category: Citrus/Unisex</li>\n",
       " <li>Mood: Sporty, Energized, Clean</li>\n",
       " <li>Top notes: Exquisite citruses from all over the world! Lemon, lime, bergamot, orange, mandarin grapefruit to name a few!</li>\n",
       " <li>Middle notes: Spearmint (when the body heats up, it really comes out!), cassis, basil, lemongrass, orange flower)</li>\n",
       " <li>Base notes: Cedar wood, benzoin (naturally derived), patchouli (just a drop!)</li>\n",
       " <li>Purchase supports Guiding Eyes for the Blind providing service dogs that \"Empower\" independence for the visually impaired.</li>\n",
       " <li>How to wear Pour le Monde: Since Pour le Monde's Parfums do not contain any chemical extenders, we suggest you use our scents very liberally. Spray on neck, wrists (don't rub together!) and hair for a longer lasting scent.</li>\n",
       " <li>What's even better is that our natural fragrances work with your body chemistry and beautifully develop into your own singular scent. So you smell like you, and not like everyone else.</li>\n",
       " <li>Certified by:Natural Products Association, PETA's Cruelty free and Vegan, Leaping Bunny, BCorp, 1% for the Planet</li>\n",
       " <li>Made free of: Phthalates, Petrochemicals, Synthetic fragrances and dyes, Chemical sunscreens, Synthetic alcohol, Animal testing and Animal by-products, Synthetic musks, Chemical Extenders</li>\n",
       " <li>Web ID: 2854150</li>\n",
       " </ul>\n",
       " </div></div>, <div class=\"accordion-body\">\n",
       " <div data-el=\"price-details\"><div>\n",
       " <div class=\"pr-tiers\">\n",
       " <span class=\"pr\" data-auto=\"main-price\"> $82.00</span>\n",
       " </div>\n",
       " </div></div>\n",
       " </div>, <div class=\"accordion-body\">\n",
       " <div data-el=\"special-offers\"><div><div class=\"spl-offers-cont c-m-v-1\" data-auto=\"special-offers\">\n",
       " <div class=\"p-promo collapsed\">\n",
       " <div class=\"grid-x\">\n",
       " <div class=\"cell small-11 medium-12\">\n",
       " <div>\n",
       " <div class=\"badge-title c-m-v-1 c-no-bold\" data-auto=\"badge-title\">Free ship at $49</div>\n",
       " </div>\n",
       " <div class=\"c-legal offer-desc\" data-auto=\"offer-description\">Enjoy free shipping &amp; free returns with your $49 Beauty purchase.</div>\n",
       " </div>\n",
       " </div>\n",
       " <div class=\"grid-x\">\n",
       " <div class=\"promo-cont cell small-11 medium-12\">\n",
       " </div>\n",
       " </div>\n",
       " </div>\n",
       " </div>\n",
       " </div></div>\n",
       " </div>, <div class=\"accordion-body\">\n",
       " <ul class=\"c-m-v-1\" data-auto=\"shipping-returns-bullets\">\n",
       " <li><span>This item qualifies for Free Shipping with minimum purchase!\n",
       "                                                  <a data-auto=\"exclusions-details-link\" href=\"/m/campaign/free-shipping/free-shipping-everyday?LinkType=Homepage&amp;cm_re=2.2.16.1--HOMEPAGE_INCLUDE_1--CATEGORY%20-%205125%20-%20:details\" id=\"shipRetDetLink\">exclusions &amp; details</a>\n",
       " </span>\n",
       " </li>\n",
       " <li>Currently, we are only able to deliver this item to most areas within the 48 contiguous states. We cannot deliver this item to Alaska, Hawaii, US Territories or APO/FPO addresses.</li>\n",
       " <li>For complete details, read our <a data-auto=\"shipping-policy-link\" href=\"https://customerservice.macys.com/app/answers/detail/a_id/260/theme/popup\" id=\"mShipPolicyLink\" rel=\"noopener noreferrer\" target=\"_blank\"> Shipping</a> and <a data-auto=\"return-policy-link\" href=\"https://customerservice.macys.com/app/answers/detail/a_id/140/theme/popup\" id=\"mReturnPolicyLink\" rel=\"noopener noreferrer\" target=\"_blank\">Return</a> policies.\n",
       "              </li>\n",
       " </ul>\n",
       " </div>, <div class=\"accordion-body\">\n",
       " <div data-el=\"macys-love-gallery-mobile\"><div><div class=\"mlg-load-cont c-m-v-3\">\n",
       " <div data-crl8-container-id=\"other\" data-crl8-filter=\"productId:2854150\"></div>\n",
       " </div>\n",
       " </div></div>\n",
       " </div>, <div class=\"accordion-body\">\n",
       " <div data-el=\"reviews-summary\"><div> <div class=\"rev-cnt-header\">\n",
       " <h5 class=\"rev-lbl btm-sec-header bold\">Reviews\n",
       " \t    \t<a class=\"rev-link\" href=\"javascript:void(0);\">Read All 3 Reviews</a>\n",
       " </h5>\n",
       " </div>\n",
       " <div class=\"rev-summary-body\">\n",
       " <div class=\"r\">\n",
       " <div class=\"p-rev-recmd-csg\">\n",
       " <span class=\"grey-star\">\n",
       " </span>\n",
       " <span class=\"black-star\" style=\"width: 100%\">\n",
       " </span>\n",
       " </div>\n",
       " </div>\n",
       " <div class=\"r-desc\">\n",
       " <span class=\"descr-row\">\n",
       " <strong class=\"overall-r\">5</strong> Average Rating from <strong class=\"rev-counter\">3 Reviews</strong>\n",
       " </span>\n",
       " <span class=\"descr-row\">\n",
       " <strong class=\"overall-r\">100%</strong> of reviewers recommended this product\n",
       " \t        </span>\n",
       " </div>\n",
       " <button class=\"btn secondary wr-btn expanded\" role=\"button\">Write a review</button>\n",
       " </div>\n",
       " </div></div>\n",
       " </div>, <div class=\"accordion-body\">\n",
       " <ul>\n",
       " <li><a href=\"/shop/womens-clothing?id=118\">Womens Clothing</a></li>\n",
       " <li><a href=\"/shop/mens-clothing?id=1\">Mens Clothing</a></li>\n",
       " <li><a href=\"/shop/kids-clothes?id=5991\">Kids Clothing</a></li>\n",
       " <li><a href=\"/shop/for-the-home?id=22672\">For The Home</a></li>\n",
       " <li><a href=\"/shop/shoes?id=13247\">Shoes</a></li>\n",
       " <li><a href=\"/shop/handbags-accessories?id=26846\">Handbags &amp; Accessories</a></li>\n",
       " <li><a href=\"/shop/makeup-and-perfume?id=669\">Beauty</a></li>\n",
       " <li><a href=\"/shop/furniture?id=29391\">Furniture</a></li>\n",
       " <li><a href=\"/shop/bed-bath?id=7495\">Bed &amp; Bath</a></li>\n",
       " <li><a href=\"/shop/jewelry-watches?id=544\">Jewelry</a></li>\n",
       " <li><a href=\"/shop/jewelry-watches/watches?id=23930\">Watches</a></li>\n",
       " <li><a href=\"/shop/junior-clothing?id=16904\">Juniors</a></li>\n",
       " <li><a href=\"/shop/plus-size-clothing?id=32147\">Plus Size Clothing</a></li>\n",
       " <li><a href=\"/shop/petite-clothing?id=18579\">Petite Clothing</a></li>\n",
       " <li><a href=\"/shop/kids-clothes/baby-products?id=187458\">Baby Products</a></li>\n",
       " <li><a href=\"/shop/sale?id=3536\">Sale &amp; Clearance</a></li>\n",
       " </ul>\n",
       " </div>]"
      ]
     },
     "execution_count": 117,
     "metadata": {},
     "output_type": "execute_result"
    }
   ],
   "source": [
    "col = soup_selenium.find_all(attrs={'accordion-body'})\n",
    "col"
   ]
  },
  {
   "cell_type": "code",
   "execution_count": 162,
   "metadata": {
    "scrolled": true
   },
   "outputs": [
    {
     "data": {
      "text/plain": [
       "'Pour Le Monde'"
      ]
     },
     "execution_count": 162,
     "metadata": {},
     "output_type": "execute_result"
    }
   ],
   "source": [
    "soup_selenium.find_all(attrs={'c-reverse-link'})[0].get_text().strip()"
   ]
  },
  {
   "cell_type": "code",
   "execution_count": 163,
   "metadata": {
    "scrolled": true
   },
   "outputs": [
    {
     "data": {
      "text/plain": [
       "'EMPOWER 100% Certified Natural Eau de Parfum, 1.7 oz'"
      ]
     },
     "execution_count": 163,
     "metadata": {},
     "output_type": "execute_result"
    }
   ],
   "source": [
    "soup_selenium.find_all(attrs={'p-name h3'})[0].get_text().strip()"
   ]
  },
  {
   "cell_type": "code",
   "execution_count": 168,
   "metadata": {},
   "outputs": [
    {
     "data": {
      "text/plain": [
       "82.0"
      ]
     },
     "execution_count": 168,
     "metadata": {},
     "output_type": "execute_result"
    }
   ],
   "source": [
    "float(soup_selenium.find_all(attrs={'price'})[0].get_text().strip()[1:])"
   ]
  },
  {
   "cell_type": "code",
   "execution_count": 131,
   "metadata": {},
   "outputs": [
    {
     "data": {
      "text/plain": [
       "\"Sporty. Invigorating. Refreshing. Men and women can't get enough of it!\""
      ]
     },
     "execution_count": 131,
     "metadata": {},
     "output_type": "execute_result"
    }
   ],
   "source": [
    "col[0].find(attrs={'c-m-v-1'}).get_text().strip()"
   ]
  },
  {
   "cell_type": "code",
   "execution_count": 178,
   "metadata": {},
   "outputs": [
    {
     "data": {
      "text/plain": [
       "'Pour le Monde\\'s classic Eau de Parfums are the only certified 100% natural fine fragrances available Category: Citrus/Unisex Mood: Sporty, Energized, Clean Top notes: Exquisite citruses from all over the world! Lemon, lime, bergamot, orange, mandarin grapefruit to name a few! Middle notes: Spearmint (when the body heats up, it really comes out!), cassis, basil, lemongrass, orange flower) Base notes: Cedar wood, benzoin (naturally derived), patchouli (just a drop!) Purchase supports Guiding Eyes for the Blind providing service dogs that \"Empower\" independence for the visually impaired. How to wear Pour le Monde: Since Pour le Monde\\'s Parfums do not contain any chemical extenders, we suggest you use our scents very liberally. Spray on neck, wrists (don\\'t rub together!) and hair for a longer lasting scent. What\\'s even better is that our natural fragrances work with your body chemistry and beautifully develop into your own singular scent. So you smell like you, and not like everyone else. Certified by:Natural Products Association, PETA\\'s Cruelty free and Vegan, Leaping Bunny, BCorp, 1% for the Planet Made free of: Phthalates, Petrochemicals, Synthetic fragrances and dyes, Chemical sunscreens, Synthetic alcohol, Animal testing and Animal by-products, Synthetic musks, Chemical Extenders Web ID: 2854150'"
      ]
     },
     "execution_count": 178,
     "metadata": {},
     "output_type": "execute_result"
    }
   ],
   "source": [
    "' '.join([i.get_text() for i in col[0].find_all('li')])"
   ]
  },
  {
   "cell_type": "code",
   "execution_count": 120,
   "metadata": {
    "scrolled": true
   },
   "outputs": [
    {
     "data": {
      "text/plain": [
       "['',\n",
       " \"    Sporty. Invigorating. Refreshing. Men and women can't get enough of it!\",\n",
       " '',\n",
       " '',\n",
       " \"Pour le Monde's classic Eau de Parfums are the only certified 100% natural fine fragrances available\",\n",
       " 'Category: Citrus/Unisex',\n",
       " 'Mood: Sporty, Energized, Clean',\n",
       " 'Top notes: Exquisite citruses from all over the world! Lemon, lime, bergamot, orange, mandarin grapefruit to name a few!',\n",
       " 'Middle notes: Spearmint (when the body heats up, it really comes out!), cassis, basil, lemongrass, orange flower)',\n",
       " 'Base notes: Cedar wood, benzoin (naturally derived), patchouli (just a drop!)',\n",
       " 'Purchase supports Guiding Eyes for the Blind providing service dogs that \"Empower\" independence for the visually impaired.',\n",
       " \"How to wear Pour le Monde: Since Pour le Monde's Parfums do not contain any chemical extenders, we suggest you use our scents very liberally. Spray on neck, wrists (don't rub together!) and hair for a longer lasting scent.\",\n",
       " \"What's even better is that our natural fragrances work with your body chemistry and beautifully develop into your own singular scent. So you smell like you, and not like everyone else.\",\n",
       " \"Certified by:Natural Products Association, PETA's Cruelty free and Vegan, Leaping Bunny, BCorp, 1% for the Planet\",\n",
       " 'Made free of: Phthalates, Petrochemicals, Synthetic fragrances and dyes, Chemical sunscreens, Synthetic alcohol, Animal testing and Animal by-products, Synthetic musks, Chemical Extenders',\n",
       " 'Web ID: 2854150',\n",
       " '',\n",
       " '']"
      ]
     },
     "execution_count": 120,
     "metadata": {},
     "output_type": "execute_result"
    }
   ],
   "source": [
    "col[0].get_text().split('\\n')"
   ]
  },
  {
   "cell_type": "code",
   "execution_count": 284,
   "metadata": {},
   "outputs": [],
   "source": [
    "url2 = 'https://www.macys.com/shop/product/chanel-coco-mademoiselle-eau-de-parfum-intense-spray-6.8-oz.?ID=8387031&CategoryID=30087#fn=sp%3D4%26spc%3D1450%26ruleId%3D22%7CBOOST%20SAVED%20SET%7CBOOST%20ATTRIBUTE%26searchPass%3DmatchNone%26slotId%3D122'"
   ]
  },
  {
   "cell_type": "code",
   "execution_count": 285,
   "metadata": {},
   "outputs": [],
   "source": [
    "driver = webdriver.Chrome()\n",
    "driver.get(url2)\n",
    "soup_selenium = BeautifulSoup(driver.page_source)"
   ]
  },
  {
   "cell_type": "code",
   "execution_count": 286,
   "metadata": {},
   "outputs": [
    {
     "data": {
      "text/plain": [
       "[<div class=\"accordion-body\" data-el=\"product-details\"><div><p class=\"c-m-v-1\" data-auto=\"product-description\" itemprop=\"description\">\n",
       "     An intense new facet of the COCO MADEMOISELLE personality emerges to forge a powerful, deep, addictive fragrance that is irresistible in every way. An extreme, luminous and deep concentration of patchouli infuses COCO MADEMOISELLE Eau de Parfum Intense with a voluptuous dimension. The warm, soft and feminine amber accord (an intoxicating blend of tonka bean and vanilla from Madagascar) wraps the scent in sensuality. The Eau de Parfum Intense comes in a spray bottle for effortless application on skin or clothing.\n",
       " </p>\n",
       " <ul class=\"\" data-auto=\"product-description-bullets\">\n",
       " <li>Web ID: 8387031</li>\n",
       " </ul>\n",
       " </div></div>, <div class=\"accordion-body\">\n",
       " <div data-el=\"price-details\"><div>\n",
       " <div class=\"pr-tiers\">\n",
       " <span class=\"pr\" data-auto=\"main-price\"> $225.00</span>\n",
       " </div>\n",
       " </div></div>\n",
       " </div>, <div class=\"accordion-body\">\n",
       " <div data-el=\"special-offers\">\n",
       " <div class=\"spl-offers-cont c-m-v-1\" data-auto=\"special-offers\">\n",
       " </div>\n",
       " </div>\n",
       " </div>, <div class=\"accordion-body\">\n",
       " <ul class=\"c-m-v-1\" data-auto=\"shipping-returns-bullets\">\n",
       " <li>Currently, we are only able to deliver this item to most areas within the 48 contiguous states. We cannot deliver this item to Alaska, Hawaii, US Territories or APO/FPO addresses.</li>\n",
       " <li>For complete details, read our <a data-auto=\"shipping-policy-link\" href=\"https://customerservice.macys.com/app/answers/detail/a_id/260/theme/popup\" id=\"mShipPolicyLink\" rel=\"noopener noreferrer\" target=\"_blank\"> Shipping</a> and <a data-auto=\"return-policy-link\" href=\"https://customerservice.macys.com/app/answers/detail/a_id/140/theme/popup\" id=\"mReturnPolicyLink\" rel=\"noopener noreferrer\" target=\"_blank\">Return</a> policies.\n",
       "              </li>\n",
       " </ul>\n",
       " </div>, <div class=\"accordion-body\">\n",
       " <div data-el=\"reviews-summary\"><div> <div class=\"rev-cnt-header\">\n",
       " <h5 class=\"rev-lbl btm-sec-header bold\">Reviews\n",
       " \t    \t<a class=\"rev-link\" href=\"javascript:void(0);\">Read All 43 Reviews</a>\n",
       " </h5>\n",
       " </div>\n",
       " <div class=\"rev-summary-body\">\n",
       " <div class=\"r\">\n",
       " <div class=\"p-rev-recmd-csg\">\n",
       " <span class=\"grey-star\">\n",
       " </span>\n",
       " <span class=\"black-star\" style=\"width: 88%\">\n",
       " </span>\n",
       " </div>\n",
       " </div>\n",
       " <div class=\"r-desc\">\n",
       " <span class=\"descr-row\">\n",
       " <strong class=\"overall-r\">4.3953</strong> Average Rating from <strong class=\"rev-counter\">43 Reviews</strong>\n",
       " </span>\n",
       " <span class=\"descr-row\">\n",
       " <strong class=\"overall-r\">88%</strong> of reviewers recommended this product\n",
       " \t        </span>\n",
       " </div>\n",
       " <button class=\"btn secondary wr-btn expanded\" role=\"button\">Write a review</button>\n",
       " </div>\n",
       " </div></div>\n",
       " </div>, <div class=\"accordion-body\">\n",
       " <ul>\n",
       " <li><a href=\"/shop/womens-clothing?id=118\">Womens Clothing</a></li>\n",
       " <li><a href=\"/shop/mens-clothing?id=1\">Mens Clothing</a></li>\n",
       " <li><a href=\"/shop/kids-clothes?id=5991\">Kids Clothing</a></li>\n",
       " <li><a href=\"/shop/for-the-home?id=22672\">For The Home</a></li>\n",
       " <li><a href=\"/shop/shoes?id=13247\">Shoes</a></li>\n",
       " <li><a href=\"/shop/handbags-accessories?id=26846\">Handbags &amp; Accessories</a></li>\n",
       " <li><a href=\"/shop/makeup-and-perfume?id=669\">Beauty</a></li>\n",
       " <li><a href=\"/shop/furniture?id=29391\">Furniture</a></li>\n",
       " <li><a href=\"/shop/bed-bath?id=7495\">Bed &amp; Bath</a></li>\n",
       " <li><a href=\"/shop/jewelry-watches?id=544\">Jewelry</a></li>\n",
       " <li><a href=\"/shop/jewelry-watches/watches?id=23930\">Watches</a></li>\n",
       " <li><a href=\"/shop/junior-clothing?id=16904\">Juniors</a></li>\n",
       " <li><a href=\"/shop/plus-size-clothing?id=32147\">Plus Size Clothing</a></li>\n",
       " <li><a href=\"/shop/petite-clothing?id=18579\">Petite Clothing</a></li>\n",
       " <li><a href=\"/shop/kids-clothes/baby-products?id=187458\">Baby Products</a></li>\n",
       " <li><a href=\"/shop/sale?id=3536\">Sale &amp; Clearance</a></li>\n",
       " </ul>\n",
       " </div>]"
      ]
     },
     "execution_count": 286,
     "metadata": {},
     "output_type": "execute_result"
    }
   ],
   "source": [
    "collection = soup_selenium.find_all(attrs={'accordion-body'})\n",
    "collection"
   ]
  },
  {
   "cell_type": "code",
   "execution_count": 287,
   "metadata": {},
   "outputs": [
    {
     "data": {
      "text/plain": [
       "225.0"
      ]
     },
     "execution_count": 287,
     "metadata": {},
     "output_type": "execute_result"
    }
   ],
   "source": [
    "price_perf = float(soup_selenium.find_all(attrs={'price'})[0].get_text().strip()[1:])\n",
    "price_perf"
   ]
  },
  {
   "cell_type": "code",
   "execution_count": 288,
   "metadata": {},
   "outputs": [
    {
     "data": {
      "text/plain": [
       "['',\n",
       " '    An intense new facet of the COCO MADEMOISELLE personality emerges to forge a powerful, deep, addictive fragrance that is irresistible in every way. An extreme, luminous and deep concentration of patchouli infuses COCO MADEMOISELLE Eau de Parfum Intense with a voluptuous dimension. The warm, soft and feminine amber accord (an intoxicating blend of tonka bean and vanilla from Madagascar) wraps the scent in sensuality. The Eau de Parfum Intense comes in a spray bottle for effortless application on skin or clothing.',\n",
       " '',\n",
       " '',\n",
       " 'Web ID: 8387031',\n",
       " '',\n",
       " '']"
      ]
     },
     "execution_count": 288,
     "metadata": {},
     "output_type": "execute_result"
    }
   ],
   "source": [
    "desc_scrape = collection[0].get_text().split('\\n')\n",
    "desc_scrape"
   ]
  },
  {
   "cell_type": "code",
   "execution_count": 289,
   "metadata": {},
   "outputs": [],
   "source": [
    "#get rid of blank values\n",
    "desc_scrape = list(filter(None, desc_scrape))\n",
    "#get rid of white space\n",
    "desc_scrape = [val.strip() for val in desc_scrape]\n",
    "#get rid of product ID\n",
    "desc_scrape = desc_scrape[:-1]\n",
    "#convert list of strings into a single string\n",
    "desc_scrape = \" \".join(desc_scrape)"
   ]
  },
  {
   "cell_type": "code",
   "execution_count": 290,
   "metadata": {
    "scrolled": true
   },
   "outputs": [
    {
     "data": {
      "text/plain": [
       "'An intense new facet of the COCO MADEMOISELLE personality emerges to forge a powerful, deep, addictive fragrance that is irresistible in every way. An extreme, luminous and deep concentration of patchouli infuses COCO MADEMOISELLE Eau de Parfum Intense with a voluptuous dimension. The warm, soft and feminine amber accord (an intoxicating blend of tonka bean and vanilla from Madagascar) wraps the scent in sensuality. The Eau de Parfum Intense comes in a spray bottle for effortless application on skin or clothing.'"
      ]
     },
     "execution_count": 290,
     "metadata": {},
     "output_type": "execute_result"
    }
   ],
   "source": [
    "desc_scrape"
   ]
  },
  {
   "cell_type": "code",
   "execution_count": 291,
   "metadata": {},
   "outputs": [
    {
     "data": {
      "text/plain": [
       "'CHANEL'"
      ]
     },
     "execution_count": 291,
     "metadata": {},
     "output_type": "execute_result"
    }
   ],
   "source": [
    "designer_perf = soup_selenium.find_all(attrs={'c-reverse-link'})[0].get_text().strip()\n",
    "designer_perf"
   ]
  },
  {
   "cell_type": "code",
   "execution_count": 293,
   "metadata": {},
   "outputs": [
    {
     "data": {
      "text/plain": [
       "'Eau de Parfum Intense Spray, 6.8-oz.'"
      ]
     },
     "execution_count": 293,
     "metadata": {},
     "output_type": "execute_result"
    }
   ],
   "source": [
    "#trial for coco\n",
    "perf_name = soup_selenium.find_all(attrs={'p-name'})[0].get_text().strip()\n",
    "perf_name"
   ]
  },
  {
   "cell_type": "code",
   "execution_count": 292,
   "metadata": {},
   "outputs": [
    {
     "ename": "IndexError",
     "evalue": "list index out of range",
     "output_type": "error",
     "traceback": [
      "\u001b[0;31m---------------------------------------------------------------------------\u001b[0m",
      "\u001b[0;31mIndexError\u001b[0m                                Traceback (most recent call last)",
      "\u001b[0;32m<ipython-input-292-65b648e21252>\u001b[0m in \u001b[0;36m<module>\u001b[0;34m\u001b[0m\n\u001b[0;32m----> 1\u001b[0;31m \u001b[0mperf_name\u001b[0m \u001b[0;34m=\u001b[0m \u001b[0msoup_selenium\u001b[0m\u001b[0;34m.\u001b[0m\u001b[0mfind_all\u001b[0m\u001b[0;34m(\u001b[0m\u001b[0mattrs\u001b[0m\u001b[0;34m=\u001b[0m\u001b[0;34m{\u001b[0m\u001b[0;34m'p-name h3'\u001b[0m\u001b[0;34m}\u001b[0m\u001b[0;34m)\u001b[0m\u001b[0;34m[\u001b[0m\u001b[0;36m0\u001b[0m\u001b[0;34m]\u001b[0m\u001b[0;34m.\u001b[0m\u001b[0mget_text\u001b[0m\u001b[0;34m(\u001b[0m\u001b[0;34m)\u001b[0m\u001b[0;34m.\u001b[0m\u001b[0mstrip\u001b[0m\u001b[0;34m(\u001b[0m\u001b[0;34m)\u001b[0m\u001b[0;34m\u001b[0m\u001b[0;34m\u001b[0m\u001b[0m\n\u001b[0m\u001b[1;32m      2\u001b[0m \u001b[0mperf_name\u001b[0m\u001b[0;34m\u001b[0m\u001b[0;34m\u001b[0m\u001b[0m\n",
      "\u001b[0;31mIndexError\u001b[0m: list index out of range"
     ]
    }
   ],
   "source": [
    "perf_name = soup_selenium.find_all(attrs={'p-name h3'})[0].get_text().strip()\n",
    "perf_name"
   ]
  },
  {
   "cell_type": "code",
   "execution_count": 243,
   "metadata": {},
   "outputs": [
    {
     "data": {
      "text/plain": [
       "Index(['description', 'designer', 'frag_name', 'price'], dtype='object')"
      ]
     },
     "execution_count": 243,
     "metadata": {},
     "output_type": "execute_result"
    }
   ],
   "source": [
    "df_perfume.columns"
   ]
  },
  {
   "cell_type": "code",
   "execution_count": 251,
   "metadata": {},
   "outputs": [],
   "source": [
    "df_perfume = df_perfume.append({'description':desc_scrape, \n",
    "                                'designer':designer_perf, \n",
    "                                'frag_name':perf_name, \n",
    "                                'price':price_perf},\n",
    "                              ignore_index=True)"
   ]
  },
  {
   "cell_type": "code",
   "execution_count": 259,
   "metadata": {},
   "outputs": [
    {
     "name": "stdout",
     "output_type": "stream",
     "text": [
      "<class 'str'> Opulent and full-bodied, Flowerbomb is a floral explosion, a profusion of flowers that makes everything more positive. This Holiday, experience the iconic Flowerbomb in a new luxurious format: the 5 oz Eau de Parfum spray. Just $ 215, (a $248 value)\n"
     ]
    }
   ],
   "source": [
    "print(type(df_perfume.iloc[0][0]), df_perfume.iloc[0][0])"
   ]
  },
  {
   "cell_type": "markdown",
   "metadata": {},
   "source": [
    "## Got the 2 examples to work, now let's automate for the 1400+ perfumes"
   ]
  },
  {
   "cell_type": "code",
   "execution_count": 270,
   "metadata": {
    "scrolled": true
   },
   "outputs": [],
   "source": [
    "url1 = 'https://www.macys.com/shop/product/carolina-herrera-good-girl-dot-drama-collector-eau-de-parfum-2.7-oz.?ID=8483717&CategoryID=30087#fn=sp%3D1%26spc%3D1450%26ruleId%3D22%7CBOOST%20SAVED%20SET%7CBOOST%20ATTRIBUTE%26searchPass%3DmatchNone%26slotId%3D29'"
   ]
  },
  {
   "cell_type": "code",
   "execution_count": 271,
   "metadata": {
    "scrolled": true
   },
   "outputs": [
    {
     "data": {
      "text/plain": [
       "'https://www.macys.com/shop/product/flowerbomb-eau-de-parfum-spray-5-oz.?ID=1722146&CategoryID=30087&cm_kws=1722146'"
      ]
     },
     "execution_count": 271,
     "metadata": {},
     "output_type": "execute_result"
    }
   ],
   "source": [
    "url2"
   ]
  },
  {
   "cell_type": "code",
   "execution_count": 272,
   "metadata": {},
   "outputs": [],
   "source": [
    "ls_two = [url1,url2]"
   ]
  },
  {
   "cell_type": "code",
   "execution_count": 274,
   "metadata": {},
   "outputs": [],
   "source": [
    "for i in ls_two:\n",
    "    driver = webdriver.Chrome()\n",
    "    driver.get(i)\n",
    "    soup_selenium = BeautifulSoup(driver.page_source)\n",
    "    driver.close()\n"
   ]
  },
  {
   "cell_type": "code",
   "execution_count": 294,
   "metadata": {},
   "outputs": [],
   "source": [
    "df_perfume = pd.DataFrame(columns=['description', 'designer', 'frag_name', 'price'])"
   ]
  },
  {
   "cell_type": "code",
   "execution_count": 295,
   "metadata": {
    "scrolled": true
   },
   "outputs": [
    {
     "data": {
      "text/html": [
       "<div>\n",
       "<style scoped>\n",
       "    .dataframe tbody tr th:only-of-type {\n",
       "        vertical-align: middle;\n",
       "    }\n",
       "\n",
       "    .dataframe tbody tr th {\n",
       "        vertical-align: top;\n",
       "    }\n",
       "\n",
       "    .dataframe thead th {\n",
       "        text-align: right;\n",
       "    }\n",
       "</style>\n",
       "<table border=\"1\" class=\"dataframe\">\n",
       "  <thead>\n",
       "    <tr style=\"text-align: right;\">\n",
       "      <th></th>\n",
       "      <th>description</th>\n",
       "      <th>designer</th>\n",
       "      <th>frag_name</th>\n",
       "      <th>price</th>\n",
       "    </tr>\n",
       "  </thead>\n",
       "  <tbody>\n",
       "  </tbody>\n",
       "</table>\n",
       "</div>"
      ],
      "text/plain": [
       "Empty DataFrame\n",
       "Columns: [description, designer, frag_name, price]\n",
       "Index: []"
      ]
     },
     "execution_count": 295,
     "metadata": {},
     "output_type": "execute_result"
    }
   ],
   "source": [
    "df_perfume"
   ]
  },
  {
   "cell_type": "code",
   "execution_count": 281,
   "metadata": {},
   "outputs": [
    {
     "data": {
      "text/plain": [
       "['https://www.macys.com/shop/product/pour-le-monde-empower-100-certified-natural-eau-de-parfum-1.7-oz?ID=2854150&CategoryID=30087#fn=sp%3D12%26spc%3D1450%26ruleId%3D22%7CBOOST%20SAVED%20SET%7CBOOST%20ATTRIBUTE%26searchPass%3DmatchNone%26slotId%3D76',\n",
       " 'https://www.macys.com/shop/product/clean-fragrance-endless-summer-limited-edition-eau-de-toilette-2-oz.?ID=9346217&CategoryID=30087#fn=sp%3D4%26spc%3D1450%26ruleId%3D22%7CBOOST%20SAVED%20SET%7CBOOST%20ATTRIBUTE%26searchPass%3DmatchNone%26slotId%3D97',\n",
       " 'https://www.macys.com/shop/product/chanel-coco-mademoiselle-eau-de-parfum-intense-spray-6.8-oz.?ID=8387031&CategoryID=30087#fn=sp%3D4%26spc%3D1450%26ruleId%3D22%7CBOOST%20SAVED%20SET%7CBOOST%20ATTRIBUTE%26searchPass%3DmatchNone%26slotId%3D122',\n",
       " 'https://www.macys.com/shop/product/gucci-bamboo-eau-de-parfum-rollerball-0.25-oz?ID=3060393&CategoryID=30087#fn=sp%3D10%26spc%3D1450%26ruleId%3D22%7CBOOST%20SAVED%20SET%7CBOOST%20ATTRIBUTE%26searchPass%3DmatchNone%26slotId%3D92',\n",
       " 'https://www.macys.com/shop/product/kilian-boys-eau-de-parfum-spray-1-oz.?ID=9381645&CategoryID=30087#fn=sp%3D6%26spc%3D1450%26ruleId%3D22%7CBOOST%20SAVED%20SET%7CBOOST%20ATTRIBUTE%26searchPass%3DmatchNone%26slotId%3D90']"
      ]
     },
     "execution_count": 281,
     "metadata": {},
     "output_type": "execute_result"
    }
   ],
   "source": [
    "perfume_flat_list[0:5]"
   ]
  },
  {
   "cell_type": "code",
   "execution_count": 296,
   "metadata": {},
   "outputs": [],
   "source": [
    "for ea_url in perfume_flat_list[]:\n",
    "    \n",
    "    driver = webdriver.Chrome()\n",
    "    driver.get(ea_url)\n",
    "    soup_selenium = BeautifulSoup(driver.page_source)\n",
    "    \n",
    "    #get all the HTML from ea_link\n",
    "    collection = soup_selenium.find_all(attrs={'accordion-body'})\n",
    "    \n",
    "    \n",
    "    #get perfume description / clean a bit\n",
    "    desc_scrape = collection[0].get_text().split('\\n')\n",
    "    #get rid of blank values\n",
    "    desc_scrape = list(filter(None, desc_scrape))\n",
    "    #get rid of white space\n",
    "    desc_scrape = [val.strip() for val in desc_scrape]\n",
    "    #get rid of product ID\n",
    "    desc_scrape = desc_scrape[:-1]\n",
    "    #convert list of strings into a single string\n",
    "    desc_scrape = \" \".join(desc_scrape)\n",
    "    \n",
    "    \n",
    "    #get designer name of perfume\n",
    "    designer_perf = soup_selenium.find_all(attrs={'c-reverse-link'})[0].get_text().strip()\n",
    "\n",
    "    \n",
    "    #get name of perfume bottle\n",
    "    perf_name = soup_selenium.find_all(attrs={'p-name'})[0].get_text().strip()\n",
    "    \n",
    "    \n",
    "    #get perfume price\n",
    "    price_perf = float(soup_selenium.find_all(attrs={'price'})[0].get_text().strip()[1:])\n",
    "\n",
    "    \n",
    "    #append the DF\n",
    "    df_perfume = df_perfume.append({'description':desc_scrape, \n",
    "                                    'designer':designer_perf, \n",
    "                                    'frag_name':perf_name, \n",
    "                                    'price':price_perf}, \n",
    "                                   ignore_index=True)\n",
    "    \n",
    "    driver.close()\n"
   ]
  },
  {
   "cell_type": "code",
   "execution_count": 297,
   "metadata": {},
   "outputs": [
    {
     "data": {
      "text/html": [
       "<div>\n",
       "<style scoped>\n",
       "    .dataframe tbody tr th:only-of-type {\n",
       "        vertical-align: middle;\n",
       "    }\n",
       "\n",
       "    .dataframe tbody tr th {\n",
       "        vertical-align: top;\n",
       "    }\n",
       "\n",
       "    .dataframe thead th {\n",
       "        text-align: right;\n",
       "    }\n",
       "</style>\n",
       "<table border=\"1\" class=\"dataframe\">\n",
       "  <thead>\n",
       "    <tr style=\"text-align: right;\">\n",
       "      <th></th>\n",
       "      <th>description</th>\n",
       "      <th>designer</th>\n",
       "      <th>frag_name</th>\n",
       "      <th>price</th>\n",
       "    </tr>\n",
       "  </thead>\n",
       "  <tbody>\n",
       "    <tr>\n",
       "      <th>0</th>\n",
       "      <td>Sporty. Invigorating. Refreshing. Men and wome...</td>\n",
       "      <td>Pour Le Monde</td>\n",
       "      <td>EMPOWER 100% Certified Natural Eau de Parfum, ...</td>\n",
       "      <td>82.0</td>\n",
       "    </tr>\n",
       "    <tr>\n",
       "      <th>1</th>\n",
       "      <td>This fragrance evokes both the joyful feeling ...</td>\n",
       "      <td>CLEAN Fragrance</td>\n",
       "      <td>Endless Summer Limited Edition Eau de Toilette...</td>\n",
       "      <td>68.0</td>\n",
       "    </tr>\n",
       "    <tr>\n",
       "      <th>2</th>\n",
       "      <td>An intense new facet of the COCO MADEMOISELLE ...</td>\n",
       "      <td>CHANEL</td>\n",
       "      <td>Eau de Parfum Intense Spray, 6.8-oz.</td>\n",
       "      <td>225.0</td>\n",
       "    </tr>\n",
       "    <tr>\n",
       "      <th>3</th>\n",
       "      <td>Gucci Bamboo emanates the Gucci woman's divers...</td>\n",
       "      <td>Gucci</td>\n",
       "      <td>Bamboo Eau de Parfum Rollerball, 0.25 oz</td>\n",
       "      <td>34.0</td>\n",
       "    </tr>\n",
       "    <tr>\n",
       "      <th>4</th>\n",
       "      <td>Bad Boys are no good but good Boys are no fun....</td>\n",
       "      <td>Kilian</td>\n",
       "      <td>Boys Eau de Parfum Spray, 1-oz.</td>\n",
       "      <td>75.0</td>\n",
       "    </tr>\n",
       "  </tbody>\n",
       "</table>\n",
       "</div>"
      ],
      "text/plain": [
       "                                         description         designer  \\\n",
       "0  Sporty. Invigorating. Refreshing. Men and wome...    Pour Le Monde   \n",
       "1  This fragrance evokes both the joyful feeling ...  CLEAN Fragrance   \n",
       "2  An intense new facet of the COCO MADEMOISELLE ...           CHANEL   \n",
       "3  Gucci Bamboo emanates the Gucci woman's divers...            Gucci   \n",
       "4  Bad Boys are no good but good Boys are no fun....           Kilian   \n",
       "\n",
       "                                           frag_name  price  \n",
       "0  EMPOWER 100% Certified Natural Eau de Parfum, ...   82.0  \n",
       "1  Endless Summer Limited Edition Eau de Toilette...   68.0  \n",
       "2               Eau de Parfum Intense Spray, 6.8-oz.  225.0  \n",
       "3           Bamboo Eau de Parfum Rollerball, 0.25 oz   34.0  \n",
       "4                    Boys Eau de Parfum Spray, 1-oz.   75.0  "
      ]
     },
     "execution_count": 297,
     "metadata": {},
     "output_type": "execute_result"
    }
   ],
   "source": [
    "df_perfume"
   ]
  },
  {
   "cell_type": "code",
   "execution_count": null,
   "metadata": {},
   "outputs": [],
   "source": []
  }
 ],
 "metadata": {
  "kernelspec": {
   "display_name": "metis",
   "language": "python",
   "name": "metis"
  },
  "language_info": {
   "codemirror_mode": {
    "name": "ipython",
    "version": 3
   },
   "file_extension": ".py",
   "mimetype": "text/x-python",
   "name": "python",
   "nbconvert_exporter": "python",
   "pygments_lexer": "ipython3",
   "version": "3.6.9"
  }
 },
 "nbformat": 4,
 "nbformat_minor": 2
}
